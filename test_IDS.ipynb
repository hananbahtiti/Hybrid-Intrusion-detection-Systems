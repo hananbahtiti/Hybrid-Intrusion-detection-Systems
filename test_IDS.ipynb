{
  "cells": [
    {
      "cell_type": "markdown",
      "metadata": {
        "id": "view-in-github",
        "colab_type": "text"
      },
      "source": [
        "<a href=\"https://colab.research.google.com/github/hananbahtiti/Hybrid-Intrusion-detection-Systems/blob/main/test_IDS.ipynb\" target=\"_parent\"><img src=\"https://colab.research.google.com/assets/colab-badge.svg\" alt=\"Open In Colab\"/></a>"
      ]
    },
    {
      "cell_type": "markdown",
      "metadata": {
        "id": "-R23crxHS0Gg"
      },
      "source": [
        "#test"
      ]
    },
    {
      "cell_type": "code",
      "execution_count": null,
      "metadata": {
        "colab": {
          "base_uri": "https://localhost:8080/"
        },
        "collapsed": true,
        "id": "a-xG5NbQvh0w",
        "outputId": "6fee09c6-d46b-4ba7-fbee-40892101de94"
      },
      "outputs": [
        {
          "name": "stderr",
          "output_type": "stream",
          "text": [
            "<ipython-input-1-a00de975ac58>:16: DeprecationWarning: load_dataset is deprecated and will be removed in a future version.\n",
            "  df1 = kagglehub.load_dataset( KaggleDatasetAdapter.PANDAS,\n"
          ]
        },
        {
          "name": "stdout",
          "output_type": "stream",
          "text": [
            "Downloading from https://www.kaggle.com/api/v1/datasets/download/mrwellsdavid/unsw-nb15?dataset_version_number=1&file_name=UNSW_NB15_testing-set.csv...\n"
          ]
        },
        {
          "name": "stderr",
          "output_type": "stream",
          "text": [
            "100%|██████████| 8.07M/8.07M [00:00<00:00, 37.0MB/s]"
          ]
        },
        {
          "name": "stdout",
          "output_type": "stream",
          "text": [
            "Extracting zip of UNSW_NB15_testing-set.csv...\n"
          ]
        },
        {
          "name": "stderr",
          "output_type": "stream",
          "text": [
            "\n",
            "<ipython-input-1-a00de975ac58>:18: DeprecationWarning: load_dataset is deprecated and will be removed in a future version.\n",
            "  df2 = kagglehub.load_dataset( KaggleDatasetAdapter.PANDAS,\n"
          ]
        },
        {
          "name": "stdout",
          "output_type": "stream",
          "text": [
            "Downloading from https://www.kaggle.com/api/v1/datasets/download/mrwellsdavid/unsw-nb15?dataset_version_number=1&file_name=UNSW_NB15_training-set.csv...\n"
          ]
        },
        {
          "name": "stderr",
          "output_type": "stream",
          "text": [
            "100%|██████████| 3.84M/3.84M [00:00<00:00, 155MB/s]"
          ]
        },
        {
          "name": "stdout",
          "output_type": "stream",
          "text": [
            "Extracting zip of UNSW_NB15_training-set.csv...\n"
          ]
        },
        {
          "name": "stderr",
          "output_type": "stream",
          "text": [
            "\n"
          ]
        },
        {
          "name": "stdout",
          "output_type": "stream",
          "text": [
            "The folder has been created: /content/\n"
          ]
        }
      ],
      "source": [
        "# Install dependencies as needed:\n",
        "# !pip install kagglehub[pandas-datasets]\n",
        "import kagglehub\n",
        "from kagglehub import KaggleDatasetAdapter\n",
        "import os\n",
        "import pandas as pd\n",
        "\n",
        "# Set the path to the file you'd like to load\n",
        "# The file_path variable was empty. It should point to a specific file within the dataset.\n",
        "# Replace 'UNSW_NB15_training-set.csv' with the desired file name if needed.\n",
        "file_path1 = \"UNSW_NB15_testing-set.csv\"\n",
        "file_path2 = \"UNSW_NB15_training-set.csv\"\n",
        "\n",
        "\n",
        "# Load the latest version\n",
        "df1 = kagglehub.load_dataset( KaggleDatasetAdapter.PANDAS,\n",
        "  \"mrwellsdavid/unsw-nb15\", file_path1)\n",
        "df2 = kagglehub.load_dataset( KaggleDatasetAdapter.PANDAS,\n",
        "  \"mrwellsdavid/unsw-nb15\", file_path2)\n",
        "\n",
        "#df1 = df1.info()\n",
        "#df2 = df2.info()\n",
        "\n",
        "\n",
        "#Create folder\n",
        "folder_name = '/content/'\n",
        "os.makedirs(folder_name, exist_ok=True)\n",
        "print(f\"The folder has been created: {folder_name}\")\n",
        "\n",
        "# Save the DataFrames to CSV files first\n",
        "df1.to_csv(f'{folder_name}{file_path1}', index=False) # Save df1 to a CSV\n",
        "df2.to_csv(f'{folder_name}{file_path2}', index=False) # Save df2 to a CSV\n",
        "\n",
        "# Now, load the CSV files using pd.read_csv\n",
        "df1 = pd.read_csv(f'{folder_name}{file_path1}') # Read from the saved CSV\n",
        "df2 = pd.read_csv(f'{folder_name}{file_path2}') # Read from the saved CSV\n",
        "\n",
        "# Concatenate them vertically (stack rows)\n",
        "df_combined = pd.concat([df1, df2], ignore_index=True)\n",
        "\n",
        "# Save to a new CSV (optional)\n",
        "df_combined.to_csv(f'{folder_name}UNSW_NB15.csv', index=False)"
      ]
    },
    {
      "cell_type": "code",
      "execution_count": null,
      "metadata": {
        "colab": {
          "base_uri": "https://localhost:8080/",
          "height": 938
        },
        "id": "eJcJ14tSGM53",
        "outputId": "79695f0f-bcd0-44aa-95f5-e3154ba73769"
      },
      "outputs": [
        {
          "name": "stdout",
          "output_type": "stream",
          "text": [
            "<class 'pandas.core.frame.DataFrame'>\n",
            "RangeIndex: 257673 entries, 0 to 257672\n",
            "Data columns (total 45 columns):\n",
            " #   Column             Non-Null Count   Dtype  \n",
            "---  ------             --------------   -----  \n",
            " 0   id                 257673 non-null  int64  \n",
            " 1   dur                257673 non-null  float64\n",
            " 2   proto              257673 non-null  object \n",
            " 3   service            257673 non-null  object \n",
            " 4   state              257673 non-null  object \n",
            " 5   spkts              257673 non-null  int64  \n",
            " 6   dpkts              257673 non-null  int64  \n",
            " 7   sbytes             257673 non-null  int64  \n",
            " 8   dbytes             257673 non-null  int64  \n",
            " 9   rate               257673 non-null  float64\n",
            " 10  sttl               257673 non-null  int64  \n",
            " 11  dttl               257673 non-null  int64  \n",
            " 12  sload              257673 non-null  float64\n",
            " 13  dload              257673 non-null  float64\n",
            " 14  sloss              257673 non-null  int64  \n",
            " 15  dloss              257673 non-null  int64  \n",
            " 16  sinpkt             257673 non-null  float64\n",
            " 17  dinpkt             257673 non-null  float64\n",
            " 18  sjit               257673 non-null  float64\n",
            " 19  djit               257673 non-null  float64\n",
            " 20  swin               257673 non-null  int64  \n",
            " 21  stcpb              257673 non-null  int64  \n",
            " 22  dtcpb              257673 non-null  int64  \n",
            " 23  dwin               257673 non-null  int64  \n",
            " 24  tcprtt             257673 non-null  float64\n",
            " 25  synack             257673 non-null  float64\n",
            " 26  ackdat             257673 non-null  float64\n",
            " 27  smean              257673 non-null  int64  \n",
            " 28  dmean              257673 non-null  int64  \n",
            " 29  trans_depth        257673 non-null  int64  \n",
            " 30  response_body_len  257673 non-null  int64  \n",
            " 31  ct_srv_src         257673 non-null  int64  \n",
            " 32  ct_state_ttl       257673 non-null  int64  \n",
            " 33  ct_dst_ltm         257673 non-null  int64  \n",
            " 34  ct_src_dport_ltm   257673 non-null  int64  \n",
            " 35  ct_dst_sport_ltm   257673 non-null  int64  \n",
            " 36  ct_dst_src_ltm     257673 non-null  int64  \n",
            " 37  is_ftp_login       257673 non-null  int64  \n",
            " 38  ct_ftp_cmd         257673 non-null  int64  \n",
            " 39  ct_flw_http_mthd   257673 non-null  int64  \n",
            " 40  ct_src_ltm         257673 non-null  int64  \n",
            " 41  ct_srv_dst         257673 non-null  int64  \n",
            " 42  is_sm_ips_ports    257673 non-null  int64  \n",
            " 43  attack_cat         257673 non-null  object \n",
            " 44  label              257673 non-null  int64  \n",
            "dtypes: float64(11), int64(30), object(4)\n",
            "memory usage: 88.5+ MB\n"
          ]
        },
        {
          "data": {
            "application/vnd.google.colaboratory.intrinsic+json": {
              "type": "string"
            },
            "text/plain": [
              "'tcp'"
            ]
          },
          "execution_count": 4,
          "metadata": {},
          "output_type": "execute_result"
        }
      ],
      "source": [
        "file = '/content/UNSW_NB15.csv'\n",
        "df = pd.read_csv(file)\n",
        "df.info()\n",
        "df['proto'][0]"
      ]
    },
    {
      "cell_type": "code",
      "execution_count": null,
      "metadata": {
        "colab": {
          "base_uri": "https://localhost:8080/",
          "height": 687
        },
        "id": "HsRZnV74o1fE",
        "outputId": "e97fe631-0afd-457d-a03a-8bdbeecc579b"
      },
      "outputs": [
        {
          "name": "stdout",
          "output_type": "stream",
          "text": [
            "\n",
            "🔁 فك ترميز العمود: 'attack_cat'\n",
            "✅ تم فك الترميز للعمود 'attack_cat'\n",
            "\n",
            "🔁 فك ترميز العمود: 'state'\n",
            "✅ تم فك الترميز للعمود 'state'\n"
          ]
        },
        {
          "name": "stderr",
          "output_type": "stream",
          "text": [
            "/usr/local/lib/python3.11/dist-packages/sklearn/base.py:380: InconsistentVersionWarning: Trying to unpickle estimator LabelEncoder from version 1.2.2 when using version 1.6.1. This might lead to breaking code or invalid results. Use at your own risk. For more info please refer to:\n",
            "https://scikit-learn.org/stable/model_persistence.html#security-maintainability-limitations\n",
            "  warnings.warn(\n",
            "/usr/local/lib/python3.11/dist-packages/sklearn/base.py:380: InconsistentVersionWarning: Trying to unpickle estimator LabelEncoder from version 1.2.2 when using version 1.6.1. This might lead to breaking code or invalid results. Use at your own risk. For more info please refer to:\n",
            "https://scikit-learn.org/stable/model_persistence.html#security-maintainability-limitations\n",
            "  warnings.warn(\n"
          ]
        },
        {
          "name": "stdout",
          "output_type": "stream",
          "text": [
            "\n",
            "✅ تم حفظ البيانات بعد فك الترميز في: /content/drive/MyDrive/hybrid_IDS/encoder/network/dataset/bin_data_decoded.csv\n"
          ]
        },
        {
          "data": {
            "application/vnd.google.colaboratory.intrinsic+json": {
              "type": "dataframe",
              "variable_name": "df"
            },
            "text/html": [
              "\n",
              "  <div id=\"df-893c8983-113e-401b-a9d7-83963d047319\" class=\"colab-df-container\">\n",
              "    <div>\n",
              "<style scoped>\n",
              "    .dataframe tbody tr th:only-of-type {\n",
              "        vertical-align: middle;\n",
              "    }\n",
              "\n",
              "    .dataframe tbody tr th {\n",
              "        vertical-align: top;\n",
              "    }\n",
              "\n",
              "    .dataframe thead th {\n",
              "        text-align: right;\n",
              "    }\n",
              "</style>\n",
              "<table border=\"1\" class=\"dataframe\">\n",
              "  <thead>\n",
              "    <tr style=\"text-align: right;\">\n",
              "      <th></th>\n",
              "      <th>ct_src_dport_ltm</th>\n",
              "      <th>rate</th>\n",
              "      <th>dwin</th>\n",
              "      <th>dload</th>\n",
              "      <th>swin</th>\n",
              "      <th>ct_dst_sport_ltm</th>\n",
              "      <th>state</th>\n",
              "      <th>ct_state_ttl</th>\n",
              "      <th>id</th>\n",
              "      <th>attack_cat</th>\n",
              "      <th>sttl</th>\n",
              "      <th>label</th>\n",
              "    </tr>\n",
              "  </thead>\n",
              "  <tbody>\n",
              "    <tr>\n",
              "      <th>0</th>\n",
              "      <td>1</td>\n",
              "      <td>74.087490</td>\n",
              "      <td>255</td>\n",
              "      <td>8495.365234</td>\n",
              "      <td>255</td>\n",
              "      <td>1</td>\n",
              "      <td>FIN</td>\n",
              "      <td>0</td>\n",
              "      <td>1</td>\n",
              "      <td>Normal</td>\n",
              "      <td>252</td>\n",
              "      <td>0</td>\n",
              "    </tr>\n",
              "    <tr>\n",
              "      <th>1</th>\n",
              "      <td>1</td>\n",
              "      <td>78.473372</td>\n",
              "      <td>255</td>\n",
              "      <td>503571.312500</td>\n",
              "      <td>255</td>\n",
              "      <td>1</td>\n",
              "      <td>FIN</td>\n",
              "      <td>1</td>\n",
              "      <td>2</td>\n",
              "      <td>Normal</td>\n",
              "      <td>62</td>\n",
              "      <td>0</td>\n",
              "    </tr>\n",
              "    <tr>\n",
              "      <th>2</th>\n",
              "      <td>1</td>\n",
              "      <td>14.170161</td>\n",
              "      <td>255</td>\n",
              "      <td>60929.230470</td>\n",
              "      <td>255</td>\n",
              "      <td>1</td>\n",
              "      <td>FIN</td>\n",
              "      <td>1</td>\n",
              "      <td>3</td>\n",
              "      <td>Normal</td>\n",
              "      <td>62</td>\n",
              "      <td>0</td>\n",
              "    </tr>\n",
              "    <tr>\n",
              "      <th>3</th>\n",
              "      <td>1</td>\n",
              "      <td>13.677108</td>\n",
              "      <td>255</td>\n",
              "      <td>3358.622070</td>\n",
              "      <td>255</td>\n",
              "      <td>1</td>\n",
              "      <td>FIN</td>\n",
              "      <td>1</td>\n",
              "      <td>4</td>\n",
              "      <td>Normal</td>\n",
              "      <td>62</td>\n",
              "      <td>0</td>\n",
              "    </tr>\n",
              "    <tr>\n",
              "      <th>4</th>\n",
              "      <td>2</td>\n",
              "      <td>33.373826</td>\n",
              "      <td>255</td>\n",
              "      <td>3987.059814</td>\n",
              "      <td>255</td>\n",
              "      <td>1</td>\n",
              "      <td>FIN</td>\n",
              "      <td>1</td>\n",
              "      <td>5</td>\n",
              "      <td>Normal</td>\n",
              "      <td>254</td>\n",
              "      <td>0</td>\n",
              "    </tr>\n",
              "    <tr>\n",
              "      <th>...</th>\n",
              "      <td>...</td>\n",
              "      <td>...</td>\n",
              "      <td>...</td>\n",
              "      <td>...</td>\n",
              "      <td>...</td>\n",
              "      <td>...</td>\n",
              "      <td>...</td>\n",
              "      <td>...</td>\n",
              "      <td>...</td>\n",
              "      <td>...</td>\n",
              "      <td>...</td>\n",
              "      <td>...</td>\n",
              "    </tr>\n",
              "    <tr>\n",
              "      <th>257668</th>\n",
              "      <td>1</td>\n",
              "      <td>200000.005100</td>\n",
              "      <td>0</td>\n",
              "      <td>0.000000</td>\n",
              "      <td>0</td>\n",
              "      <td>1</td>\n",
              "      <td>INT</td>\n",
              "      <td>2</td>\n",
              "      <td>82328</td>\n",
              "      <td>Normal</td>\n",
              "      <td>254</td>\n",
              "      <td>0</td>\n",
              "    </tr>\n",
              "    <tr>\n",
              "      <th>257669</th>\n",
              "      <td>1</td>\n",
              "      <td>24.410067</td>\n",
              "      <td>255</td>\n",
              "      <td>2242.109863</td>\n",
              "      <td>255</td>\n",
              "      <td>1</td>\n",
              "      <td>FIN</td>\n",
              "      <td>1</td>\n",
              "      <td>82329</td>\n",
              "      <td>Normal</td>\n",
              "      <td>254</td>\n",
              "      <td>0</td>\n",
              "    </tr>\n",
              "    <tr>\n",
              "      <th>257670</th>\n",
              "      <td>1</td>\n",
              "      <td>0.000000</td>\n",
              "      <td>0</td>\n",
              "      <td>0.000000</td>\n",
              "      <td>0</td>\n",
              "      <td>1</td>\n",
              "      <td>INT</td>\n",
              "      <td>2</td>\n",
              "      <td>82330</td>\n",
              "      <td>Normal</td>\n",
              "      <td>0</td>\n",
              "      <td>0</td>\n",
              "    </tr>\n",
              "    <tr>\n",
              "      <th>257671</th>\n",
              "      <td>1</td>\n",
              "      <td>0.000000</td>\n",
              "      <td>0</td>\n",
              "      <td>0.000000</td>\n",
              "      <td>0</td>\n",
              "      <td>1</td>\n",
              "      <td>INT</td>\n",
              "      <td>2</td>\n",
              "      <td>82331</td>\n",
              "      <td>Normal</td>\n",
              "      <td>0</td>\n",
              "      <td>0</td>\n",
              "    </tr>\n",
              "    <tr>\n",
              "      <th>257672</th>\n",
              "      <td>1</td>\n",
              "      <td>111111.107200</td>\n",
              "      <td>0</td>\n",
              "      <td>0.000000</td>\n",
              "      <td>0</td>\n",
              "      <td>1</td>\n",
              "      <td>INT</td>\n",
              "      <td>2</td>\n",
              "      <td>82332</td>\n",
              "      <td>Normal</td>\n",
              "      <td>254</td>\n",
              "      <td>0</td>\n",
              "    </tr>\n",
              "  </tbody>\n",
              "</table>\n",
              "<p>257673 rows × 12 columns</p>\n",
              "</div>\n",
              "    <div class=\"colab-df-buttons\">\n",
              "\n",
              "  <div class=\"colab-df-container\">\n",
              "    <button class=\"colab-df-convert\" onclick=\"convertToInteractive('df-893c8983-113e-401b-a9d7-83963d047319')\"\n",
              "            title=\"Convert this dataframe to an interactive table.\"\n",
              "            style=\"display:none;\">\n",
              "\n",
              "  <svg xmlns=\"http://www.w3.org/2000/svg\" height=\"24px\" viewBox=\"0 -960 960 960\">\n",
              "    <path d=\"M120-120v-720h720v720H120Zm60-500h600v-160H180v160Zm220 220h160v-160H400v160Zm0 220h160v-160H400v160ZM180-400h160v-160H180v160Zm440 0h160v-160H620v160ZM180-180h160v-160H180v160Zm440 0h160v-160H620v160Z\"/>\n",
              "  </svg>\n",
              "    </button>\n",
              "\n",
              "  <style>\n",
              "    .colab-df-container {\n",
              "      display:flex;\n",
              "      gap: 12px;\n",
              "    }\n",
              "\n",
              "    .colab-df-convert {\n",
              "      background-color: #E8F0FE;\n",
              "      border: none;\n",
              "      border-radius: 50%;\n",
              "      cursor: pointer;\n",
              "      display: none;\n",
              "      fill: #1967D2;\n",
              "      height: 32px;\n",
              "      padding: 0 0 0 0;\n",
              "      width: 32px;\n",
              "    }\n",
              "\n",
              "    .colab-df-convert:hover {\n",
              "      background-color: #E2EBFA;\n",
              "      box-shadow: 0px 1px 2px rgba(60, 64, 67, 0.3), 0px 1px 3px 1px rgba(60, 64, 67, 0.15);\n",
              "      fill: #174EA6;\n",
              "    }\n",
              "\n",
              "    .colab-df-buttons div {\n",
              "      margin-bottom: 4px;\n",
              "    }\n",
              "\n",
              "    [theme=dark] .colab-df-convert {\n",
              "      background-color: #3B4455;\n",
              "      fill: #D2E3FC;\n",
              "    }\n",
              "\n",
              "    [theme=dark] .colab-df-convert:hover {\n",
              "      background-color: #434B5C;\n",
              "      box-shadow: 0px 1px 3px 1px rgba(0, 0, 0, 0.15);\n",
              "      filter: drop-shadow(0px 1px 2px rgba(0, 0, 0, 0.3));\n",
              "      fill: #FFFFFF;\n",
              "    }\n",
              "  </style>\n",
              "\n",
              "    <script>\n",
              "      const buttonEl =\n",
              "        document.querySelector('#df-893c8983-113e-401b-a9d7-83963d047319 button.colab-df-convert');\n",
              "      buttonEl.style.display =\n",
              "        google.colab.kernel.accessAllowed ? 'block' : 'none';\n",
              "\n",
              "      async function convertToInteractive(key) {\n",
              "        const element = document.querySelector('#df-893c8983-113e-401b-a9d7-83963d047319');\n",
              "        const dataTable =\n",
              "          await google.colab.kernel.invokeFunction('convertToInteractive',\n",
              "                                                    [key], {});\n",
              "        if (!dataTable) return;\n",
              "\n",
              "        const docLinkHtml = 'Like what you see? Visit the ' +\n",
              "          '<a target=\"_blank\" href=https://colab.research.google.com/notebooks/data_table.ipynb>data table notebook</a>'\n",
              "          + ' to learn more about interactive tables.';\n",
              "        element.innerHTML = '';\n",
              "        dataTable['output_type'] = 'display_data';\n",
              "        await google.colab.output.renderOutput(dataTable, element);\n",
              "        const docLink = document.createElement('div');\n",
              "        docLink.innerHTML = docLinkHtml;\n",
              "        element.appendChild(docLink);\n",
              "      }\n",
              "    </script>\n",
              "  </div>\n",
              "\n",
              "\n",
              "    <div id=\"df-6db6f2e5-7c0e-4909-9827-9457b125bc84\">\n",
              "      <button class=\"colab-df-quickchart\" onclick=\"quickchart('df-6db6f2e5-7c0e-4909-9827-9457b125bc84')\"\n",
              "                title=\"Suggest charts\"\n",
              "                style=\"display:none;\">\n",
              "\n",
              "<svg xmlns=\"http://www.w3.org/2000/svg\" height=\"24px\"viewBox=\"0 0 24 24\"\n",
              "     width=\"24px\">\n",
              "    <g>\n",
              "        <path d=\"M19 3H5c-1.1 0-2 .9-2 2v14c0 1.1.9 2 2 2h14c1.1 0 2-.9 2-2V5c0-1.1-.9-2-2-2zM9 17H7v-7h2v7zm4 0h-2V7h2v10zm4 0h-2v-4h2v4z\"/>\n",
              "    </g>\n",
              "</svg>\n",
              "      </button>\n",
              "\n",
              "<style>\n",
              "  .colab-df-quickchart {\n",
              "      --bg-color: #E8F0FE;\n",
              "      --fill-color: #1967D2;\n",
              "      --hover-bg-color: #E2EBFA;\n",
              "      --hover-fill-color: #174EA6;\n",
              "      --disabled-fill-color: #AAA;\n",
              "      --disabled-bg-color: #DDD;\n",
              "  }\n",
              "\n",
              "  [theme=dark] .colab-df-quickchart {\n",
              "      --bg-color: #3B4455;\n",
              "      --fill-color: #D2E3FC;\n",
              "      --hover-bg-color: #434B5C;\n",
              "      --hover-fill-color: #FFFFFF;\n",
              "      --disabled-bg-color: #3B4455;\n",
              "      --disabled-fill-color: #666;\n",
              "  }\n",
              "\n",
              "  .colab-df-quickchart {\n",
              "    background-color: var(--bg-color);\n",
              "    border: none;\n",
              "    border-radius: 50%;\n",
              "    cursor: pointer;\n",
              "    display: none;\n",
              "    fill: var(--fill-color);\n",
              "    height: 32px;\n",
              "    padding: 0;\n",
              "    width: 32px;\n",
              "  }\n",
              "\n",
              "  .colab-df-quickchart:hover {\n",
              "    background-color: var(--hover-bg-color);\n",
              "    box-shadow: 0 1px 2px rgba(60, 64, 67, 0.3), 0 1px 3px 1px rgba(60, 64, 67, 0.15);\n",
              "    fill: var(--button-hover-fill-color);\n",
              "  }\n",
              "\n",
              "  .colab-df-quickchart-complete:disabled,\n",
              "  .colab-df-quickchart-complete:disabled:hover {\n",
              "    background-color: var(--disabled-bg-color);\n",
              "    fill: var(--disabled-fill-color);\n",
              "    box-shadow: none;\n",
              "  }\n",
              "\n",
              "  .colab-df-spinner {\n",
              "    border: 2px solid var(--fill-color);\n",
              "    border-color: transparent;\n",
              "    border-bottom-color: var(--fill-color);\n",
              "    animation:\n",
              "      spin 1s steps(1) infinite;\n",
              "  }\n",
              "\n",
              "  @keyframes spin {\n",
              "    0% {\n",
              "      border-color: transparent;\n",
              "      border-bottom-color: var(--fill-color);\n",
              "      border-left-color: var(--fill-color);\n",
              "    }\n",
              "    20% {\n",
              "      border-color: transparent;\n",
              "      border-left-color: var(--fill-color);\n",
              "      border-top-color: var(--fill-color);\n",
              "    }\n",
              "    30% {\n",
              "      border-color: transparent;\n",
              "      border-left-color: var(--fill-color);\n",
              "      border-top-color: var(--fill-color);\n",
              "      border-right-color: var(--fill-color);\n",
              "    }\n",
              "    40% {\n",
              "      border-color: transparent;\n",
              "      border-right-color: var(--fill-color);\n",
              "      border-top-color: var(--fill-color);\n",
              "    }\n",
              "    60% {\n",
              "      border-color: transparent;\n",
              "      border-right-color: var(--fill-color);\n",
              "    }\n",
              "    80% {\n",
              "      border-color: transparent;\n",
              "      border-right-color: var(--fill-color);\n",
              "      border-bottom-color: var(--fill-color);\n",
              "    }\n",
              "    90% {\n",
              "      border-color: transparent;\n",
              "      border-bottom-color: var(--fill-color);\n",
              "    }\n",
              "  }\n",
              "</style>\n",
              "\n",
              "      <script>\n",
              "        async function quickchart(key) {\n",
              "          const quickchartButtonEl =\n",
              "            document.querySelector('#' + key + ' button');\n",
              "          quickchartButtonEl.disabled = true;  // To prevent multiple clicks.\n",
              "          quickchartButtonEl.classList.add('colab-df-spinner');\n",
              "          try {\n",
              "            const charts = await google.colab.kernel.invokeFunction(\n",
              "                'suggestCharts', [key], {});\n",
              "          } catch (error) {\n",
              "            console.error('Error during call to suggestCharts:', error);\n",
              "          }\n",
              "          quickchartButtonEl.classList.remove('colab-df-spinner');\n",
              "          quickchartButtonEl.classList.add('colab-df-quickchart-complete');\n",
              "        }\n",
              "        (() => {\n",
              "          let quickchartButtonEl =\n",
              "            document.querySelector('#df-6db6f2e5-7c0e-4909-9827-9457b125bc84 button');\n",
              "          quickchartButtonEl.style.display =\n",
              "            google.colab.kernel.accessAllowed ? 'block' : 'none';\n",
              "        })();\n",
              "      </script>\n",
              "    </div>\n",
              "\n",
              "  <div id=\"id_4cae5dc2-b784-4fc0-8647-2919855d90ce\">\n",
              "    <style>\n",
              "      .colab-df-generate {\n",
              "        background-color: #E8F0FE;\n",
              "        border: none;\n",
              "        border-radius: 50%;\n",
              "        cursor: pointer;\n",
              "        display: none;\n",
              "        fill: #1967D2;\n",
              "        height: 32px;\n",
              "        padding: 0 0 0 0;\n",
              "        width: 32px;\n",
              "      }\n",
              "\n",
              "      .colab-df-generate:hover {\n",
              "        background-color: #E2EBFA;\n",
              "        box-shadow: 0px 1px 2px rgba(60, 64, 67, 0.3), 0px 1px 3px 1px rgba(60, 64, 67, 0.15);\n",
              "        fill: #174EA6;\n",
              "      }\n",
              "\n",
              "      [theme=dark] .colab-df-generate {\n",
              "        background-color: #3B4455;\n",
              "        fill: #D2E3FC;\n",
              "      }\n",
              "\n",
              "      [theme=dark] .colab-df-generate:hover {\n",
              "        background-color: #434B5C;\n",
              "        box-shadow: 0px 1px 3px 1px rgba(0, 0, 0, 0.15);\n",
              "        filter: drop-shadow(0px 1px 2px rgba(0, 0, 0, 0.3));\n",
              "        fill: #FFFFFF;\n",
              "      }\n",
              "    </style>\n",
              "    <button class=\"colab-df-generate\" onclick=\"generateWithVariable('df')\"\n",
              "            title=\"Generate code using this dataframe.\"\n",
              "            style=\"display:none;\">\n",
              "\n",
              "  <svg xmlns=\"http://www.w3.org/2000/svg\" height=\"24px\"viewBox=\"0 0 24 24\"\n",
              "       width=\"24px\">\n",
              "    <path d=\"M7,19H8.4L18.45,9,17,7.55,7,17.6ZM5,21V16.75L18.45,3.32a2,2,0,0,1,2.83,0l1.4,1.43a1.91,1.91,0,0,1,.58,1.4,1.91,1.91,0,0,1-.58,1.4L9.25,21ZM18.45,9,17,7.55Zm-12,3A5.31,5.31,0,0,0,4.9,8.1,5.31,5.31,0,0,0,1,6.5,5.31,5.31,0,0,0,4.9,4.9,5.31,5.31,0,0,0,6.5,1,5.31,5.31,0,0,0,8.1,4.9,5.31,5.31,0,0,0,12,6.5,5.46,5.46,0,0,0,6.5,12Z\"/>\n",
              "  </svg>\n",
              "    </button>\n",
              "    <script>\n",
              "      (() => {\n",
              "      const buttonEl =\n",
              "        document.querySelector('#id_4cae5dc2-b784-4fc0-8647-2919855d90ce button.colab-df-generate');\n",
              "      buttonEl.style.display =\n",
              "        google.colab.kernel.accessAllowed ? 'block' : 'none';\n",
              "\n",
              "      buttonEl.onclick = () => {\n",
              "        google.colab.notebook.generateWithVariable('df');\n",
              "      }\n",
              "      })();\n",
              "    </script>\n",
              "  </div>\n",
              "\n",
              "    </div>\n",
              "  </div>\n"
            ],
            "text/plain": [
              "        ct_src_dport_ltm           rate  dwin          dload  swin  \\\n",
              "0                      1      74.087490   255    8495.365234   255   \n",
              "1                      1      78.473372   255  503571.312500   255   \n",
              "2                      1      14.170161   255   60929.230470   255   \n",
              "3                      1      13.677108   255    3358.622070   255   \n",
              "4                      2      33.373826   255    3987.059814   255   \n",
              "...                  ...            ...   ...            ...   ...   \n",
              "257668                 1  200000.005100     0       0.000000     0   \n",
              "257669                 1      24.410067   255    2242.109863   255   \n",
              "257670                 1       0.000000     0       0.000000     0   \n",
              "257671                 1       0.000000     0       0.000000     0   \n",
              "257672                 1  111111.107200     0       0.000000     0   \n",
              "\n",
              "        ct_dst_sport_ltm state  ct_state_ttl     id attack_cat  sttl  label  \n",
              "0                      1   FIN             0      1     Normal   252      0  \n",
              "1                      1   FIN             1      2     Normal    62      0  \n",
              "2                      1   FIN             1      3     Normal    62      0  \n",
              "3                      1   FIN             1      4     Normal    62      0  \n",
              "4                      1   FIN             1      5     Normal   254      0  \n",
              "...                  ...   ...           ...    ...        ...   ...    ...  \n",
              "257668                 1   INT             2  82328     Normal   254      0  \n",
              "257669                 1   FIN             1  82329     Normal   254      0  \n",
              "257670                 1   INT             2  82330     Normal     0      0  \n",
              "257671                 1   INT             2  82331     Normal     0      0  \n",
              "257672                 1   INT             2  82332     Normal   254      0  \n",
              "\n",
              "[257673 rows x 12 columns]"
            ]
          },
          "execution_count": 89,
          "metadata": {},
          "output_type": "execute_result"
        }
      ],
      "source": [
        "import pandas as pd\n",
        "import joblib\n",
        "import os\n",
        "\n",
        "def decode_columns(file_path, columns: list, encoder_dir='encoders', output_path=None):\n",
        "    try:\n",
        "        # قراءة البيانات المشفرة\n",
        "        df = pd.read_csv(file_path)\n",
        "\n",
        "        # التحقق المسبق من وجود جميع ملفات الـ encoder\n",
        "        missing_encoders = []\n",
        "        for column in columns:\n",
        "            encoder_path = os.path.join(encoder_dir, f\"{column}__encoder.pkl\")\n",
        "            if not os.path.exists(encoder_path):\n",
        "                missing_encoders.append((column, encoder_path))\n",
        "\n",
        "        if missing_encoders:\n",
        "            print(\"\\n❌ لم يتم العثور على ملفات encoder التالية:\")\n",
        "            for column, path in missing_encoders:\n",
        "                print(f\" - العمود: '{column}' → الملف المفقود: {path}\")\n",
        "            print(\"\\n⛔️ تم إيقاف العملية بسبب نقص الملفات.\")\n",
        "            return None\n",
        "\n",
        "        # فك الترميز للأعمدة المطلوبة\n",
        "        for column in columns:\n",
        "            encoder_path = os.path.join(encoder_dir, f\"{column}__encoder.pkl\")\n",
        "            if column in df.columns:\n",
        "                print(f\"\\n🔁 فك ترميز العمود: '{column}'\")\n",
        "                encoder = joblib.load(encoder_path)\n",
        "                df[column] = encoder.inverse_transform(df[column])\n",
        "                print(f\"✅ تم فك الترميز للعمود '{column}'\")\n",
        "            else:\n",
        "                print(f\"❌ العمود '{column}' غير موجود في الملف.\")\n",
        "\n",
        "        # حفظ الملف الناتج\n",
        "        output_path = output_path or file_path.replace(\".csv\", \"_decoded.csv\")\n",
        "        df.to_csv(output_path, index=False)\n",
        "        print(f\"\\n✅ تم حفظ البيانات بعد فك الترميز في: {output_path}\")\n",
        "        return df\n",
        "\n",
        "    except Exception as e:\n",
        "        print(f\"\\n❌ حدث خطأ أثناء فك الترميز: {e}\")\n",
        "\n",
        "\n",
        "file = '/content/drive/MyDrive/hybrid_IDS/encoder/network/dataset/bin_data.csv'\n",
        "folder_dataset = '/content/drive/MyDrive/hybrid_IDS/encoder/network/dataset'\n",
        "\n",
        "df = decode_columns(\n",
        "    file_path=file,\n",
        "    columns=['attack_cat', 'state' ],\n",
        "    encoder_dir=folder_dataset)\n",
        "df\n"
      ]
    },
    {
      "cell_type": "code",
      "execution_count": null,
      "metadata": {
        "colab": {
          "base_uri": "https://localhost:8080/"
        },
        "collapsed": true,
        "id": "gxYBEQlXffoL",
        "outputId": "f3664e52-de58-4da1-ed19-08b339fa16b6"
      },
      "outputs": [
        {
          "name": "stdout",
          "output_type": "stream",
          "text": [
            "📦 Loading Autoencoder model...\n",
            "✅ Model and weights loaded successfully!\n",
            "📦 Loading encoders...\n",
            "📄 Reading data from: /content/UNSW_NB15.csv\n"
          ]
        },
        {
          "name": "stderr",
          "output_type": "stream",
          "text": [
            "/usr/local/lib/python3.11/dist-packages/sklearn/base.py:380: InconsistentVersionWarning: Trying to unpickle estimator LabelEncoder from version 1.2.2 when using version 1.6.1. This might lead to breaking code or invalid results. Use at your own risk. For more info please refer to:\n",
            "https://scikit-learn.org/stable/model_persistence.html#security-maintainability-limitations\n",
            "  warnings.warn(\n"
          ]
        },
        {
          "name": "stdout",
          "output_type": "stream",
          "text": [
            "⚠️ Column 'attack_cat' is not encoded. Encoding now...\n",
            "⚠️ Column 'state' is not encoded. Encoding now...\n",
            "⚙️ Scaling features...\n",
            "\n",
            "🔽 Row 0\n",
            "   Attack Category: Normal\n",
            "   MSE: 0.154162\n",
            "   Result: 🟢 NORMAL\n",
            "\n",
            "🔽 Row 15\n",
            "   Attack Category: Normal\n",
            "   MSE: 0.109151\n",
            "   Result: 🟢 NORMAL\n",
            "\n",
            "🔽 Row 2679\n",
            "   Attack Category: Normal\n",
            "   MSE: 0.509156\n",
            "   Result: 🟢 NORMAL\n",
            "\n",
            "🔽 Row 10\n",
            "   Attack Category: Normal\n",
            "   MSE: 0.076784\n",
            "   Result: 🟢 NORMAL\n",
            "\n",
            "🔽 Row 333\n",
            "   Attack Category: Normal\n",
            "   MSE: 0.769921\n",
            "   Result: 🟢 NORMAL\n",
            "\n",
            "🔽 Row 555\n",
            "   Attack Category: Normal\n",
            "   MSE: 1.119074\n",
            "   Result: 🟢 NORMAL\n",
            "\n",
            "🔽 Row 23\n",
            "   Attack Category: Normal\n",
            "   MSE: 0.076679\n",
            "   Result: 🟢 NORMAL\n",
            "\n",
            "🔽 Row 24\n",
            "   Attack Category: Normal\n",
            "   MSE: 0.077690\n",
            "   Result: 🟢 NORMAL\n",
            "\n",
            "🔽 Row 54233\n",
            "   Attack Category: Fuzzers\n",
            "   MSE: 0.001191\n",
            "   Result: 🔴 ATTACK\n",
            "\n",
            "🔽 Row 54240\n",
            "   Attack Category: DoS\n",
            "   MSE: 0.076445\n",
            "   Result: 🟢 NORMAL\n",
            "\n",
            "🔽 Row 54244\n",
            "   Attack Category: Exploits\n",
            "   MSE: 0.109549\n",
            "   Result: 🟢 NORMAL\n",
            "\n",
            "🔽 Row 72122\n",
            "   Attack Category: Exploits\n",
            "   MSE: 0.057101\n",
            "   Result: 🔴 ATTACK\n",
            "    row_index attack_cat       mse  result\n",
            "0           0     Normal  0.154162  NORMAL\n",
            "1          15     Normal  0.109151  NORMAL\n",
            "2        2679     Normal  0.509156  NORMAL\n",
            "3          10     Normal  0.076784  NORMAL\n",
            "4         333     Normal  0.769921  NORMAL\n",
            "5         555     Normal  1.119074  NORMAL\n",
            "6          23     Normal  0.076679  NORMAL\n",
            "7          24     Normal  0.077690  NORMAL\n",
            "8       54233    Fuzzers  0.001191  ATTACK\n",
            "9       54240        DoS  0.076445  NORMAL\n",
            "10      54244   Exploits  0.109549  NORMAL\n",
            "11      72122   Exploits  0.057101  ATTACK\n"
          ]
        }
      ],
      "source": [
        "import pandas as pd  # For handling tabular data\n",
        "import joblib  # For loading pre-saved encoders from .pkl files\n",
        "import numpy as np  # For numerical computations\n",
        "from tensorflow.keras.models import model_from_json  # To load the Keras model architecture from JSON\n",
        "from sklearn.preprocessing import StandardScaler  # For scaling the input features\n",
        "\n",
        "def predict_with_autoencoder(csv_file_path, config_path, weights_path, attack_cat_path, state_path, row_indices, threshold=0.02):\n",
        "    \"\"\"\n",
        "    Uses a trained Autoencoder model to predict whether specified rows in a CSV file\n",
        "    represent normal behavior or attacks based on reconstruction error.\n",
        "\n",
        "    Args:\n",
        "        csv_file_path (str): Path to the CSV file containing the data.\n",
        "        config_path (str): Path to the JSON file describing the Autoencoder architecture.\n",
        "        weights_path (str): Path to the H5 file with trained model weights.\n",
        "        attack_cat_path (str): Path to the saved LabelEncoder for the 'attack_cat' column.\n",
        "        state_path (str): Path to the saved LabelEncoder for the 'state' column.\n",
        "        row_indices (list of int): Row indices to analyze.\n",
        "        threshold (float): MSE threshold to determine if a row is an attack or normal.\n",
        "\n",
        "    Returns:\n",
        "        results (list of dict): Each entry contains the row index, decoded attack category, MSE, and prediction.\n",
        "    \"\"\"\n",
        "\n",
        "    # Load the Autoencoder model architecture\n",
        "    print(\"📦 Loading Autoencoder model...\")\n",
        "    with open(config_path, 'r') as f:\n",
        "        model_json = f.read()\n",
        "    autoencoder = model_from_json(model_json)\n",
        "\n",
        "    # Load the trained weights\n",
        "    autoencoder.load_weights(weights_path)\n",
        "    print(\"✅ Model and weights loaded successfully!\")\n",
        "\n",
        "    # Load label encoders for 'attack_cat' and 'state'\n",
        "    print(\"📦 Loading encoders...\")\n",
        "    attack_cat_encoder = joblib.load(attack_cat_path)\n",
        "    state_encoder = joblib.load(state_path)\n",
        "\n",
        "    # Read the dataset\n",
        "    print(f\"📄 Reading data from: {csv_file_path}\")\n",
        "    df = pd.read_csv(csv_file_path)\n",
        "\n",
        "    # Encode 'attack_cat' column if not already numeric\n",
        "    if not np.issubdtype(df['attack_cat'].dtype, np.number):\n",
        "        print(\"⚠️ Column 'attack_cat' is not encoded. Encoding now...\")\n",
        "        df['attack_cat'] = attack_cat_encoder.transform(df['attack_cat'])\n",
        "\n",
        "    # Encode 'state' column if present and not already numeric\n",
        "    if 'state' in df.columns and not np.issubdtype(df['state'].dtype, np.number):\n",
        "        print(\"⚠️ Column 'state' is not encoded. Encoding now...\")\n",
        "        df['state'] = state_encoder.transform(df['state'])\n",
        "\n",
        "    # Define the features used for prediction\n",
        "    features = ['ct_src_dport_ltm', 'rate', 'dwin', 'dload', 'swin',\n",
        "                'ct_dst_sport_ltm', 'ct_state_ttl', 'id',\n",
        "                'attack_cat', 'sttl', 'label']\n",
        "\n",
        "    # Scale the features\n",
        "    print(\"⚙️ Scaling features...\")\n",
        "    scaler = StandardScaler()\n",
        "    scaler.fit(df[features])\n",
        "\n",
        "    results = []  # To store results for each row\n",
        "\n",
        "    # Make predictions for the specified rows\n",
        "    for row_index in row_indices:\n",
        "        input_row = df.iloc[[row_index]].copy()  # Extract the row as a DataFrame\n",
        "        input_scaled = scaler.transform(input_row[features])  # Scale the input row\n",
        "\n",
        "        # Predict using Autoencoder and calculate reconstruction error (MSE)\n",
        "        reconstructed = autoencoder.predict(input_scaled, verbose=0)\n",
        "        mse = np.mean(np.power(input_scaled - reconstructed, 2), axis=1)[0]\n",
        "\n",
        "        # Try decoding the attack category to readable format\n",
        "        try:\n",
        "            attack_cat_label = attack_cat_encoder.inverse_transform(\n",
        "                [int(input_row['attack_cat'].values[0])])[0]\n",
        "        except:\n",
        "            attack_cat_label = input_row['attack_cat'].values[0]  # Use raw value if decoding fails\n",
        "\n",
        "        # Determine the result based on threshold\n",
        "        result = \"NORMAL\" if mse > threshold else \"ATTACK\"\n",
        "\n",
        "        # Print detailed output\n",
        "        print(f\"\\n🔽 Row {row_index}\")\n",
        "        print(f\"   Attack Category: {attack_cat_label}\")\n",
        "        print(f\"   MSE: {mse:.6f}\")\n",
        "        print(f\"   Result: {'🔴 ATTACK' if result == 'ATTACK' else '🟢 NORMAL'}\")\n",
        "\n",
        "        # Save the result for this row\n",
        "        results.append({\n",
        "            'row_index': row_index,\n",
        "            'attack_cat': attack_cat_label,\n",
        "            'mse': mse,\n",
        "            'result': result\n",
        "        })\n",
        "\n",
        "    return results\n",
        "\n",
        "\n",
        "# Call the function to make predictions on selected rows\n",
        "results = predict_with_autoencoder(\n",
        "    csv_file_path='/content/UNSW_NB15.csv',  # Path to dataset\n",
        "    config_path='/content/drive/MyDrive/hybrid_IDS/encoder/network/model/autoencoder_model/config.json',\n",
        "    weights_path='/content/drive/MyDrive/hybrid_IDS/encoder/network/model/autoencoder_model/model.weights.h5',\n",
        "    attack_cat_path='/content/drive/MyDrive/hybrid_IDS/encoder/network/dataset/attack_cat__encoder.pkl',\n",
        "    state_path='/content/drive/MyDrive/hybrid_IDS/encoder/network/dataset/state__encoder.pkl',\n",
        "    row_indices=[0, 15, 2679, 10, 333, 555, 23, 24, 54233, 54240, 54244, 72122],  # Indices of rows to analyze\n",
        "    threshold=0.075  # Threshold for classifying as attack\n",
        ")\n",
        "\n",
        "# Display the prediction results as a table\n",
        "import pandas as pd\n",
        "\n",
        "# Convert the list of dictionaries to a DataFrame\n",
        "df_results = pd.DataFrame(results)\n",
        "\n",
        "# Print the resulting table\n",
        "print(df_results)\n"
      ]
    },
    {
      "cell_type": "markdown",
      "metadata": {
        "id": "6T-1nK7GfeJ7"
      },
      "source": [
        "#final"
      ]
    },
    {
      "cell_type": "code",
      "execution_count": 2,
      "metadata": {
        "colab": {
          "base_uri": "https://localhost:8080/"
        },
        "collapsed": true,
        "id": "TC_lBhjt2eay",
        "outputId": "dd07ef84-cf39-485f-d296-8abe30c217ff"
      },
      "outputs": [
        {
          "output_type": "stream",
          "name": "stdout",
          "text": [
            "Collecting fastapi\n",
            "  Downloading fastapi-0.115.12-py3-none-any.whl.metadata (27 kB)\n",
            "Collecting uvicorn\n",
            "  Downloading uvicorn-0.34.2-py3-none-any.whl.metadata (6.5 kB)\n",
            "Requirement already satisfied: pandas in /usr/local/lib/python3.11/dist-packages (2.2.2)\n",
            "Requirement already satisfied: numpy in /usr/local/lib/python3.11/dist-packages (2.0.2)\n",
            "Requirement already satisfied: joblib in /usr/local/lib/python3.11/dist-packages (1.5.0)\n",
            "Requirement already satisfied: tensorflow in /usr/local/lib/python3.11/dist-packages (2.18.0)\n",
            "Requirement already satisfied: scikit-learn in /usr/local/lib/python3.11/dist-packages (1.6.1)\n",
            "Collecting starlette<0.47.0,>=0.40.0 (from fastapi)\n",
            "  Downloading starlette-0.46.2-py3-none-any.whl.metadata (6.2 kB)\n",
            "Requirement already satisfied: pydantic!=1.8,!=1.8.1,!=2.0.0,!=2.0.1,!=2.1.0,<3.0.0,>=1.7.4 in /usr/local/lib/python3.11/dist-packages (from fastapi) (2.11.4)\n",
            "Requirement already satisfied: typing-extensions>=4.8.0 in /usr/local/lib/python3.11/dist-packages (from fastapi) (4.13.2)\n",
            "Requirement already satisfied: click>=7.0 in /usr/local/lib/python3.11/dist-packages (from uvicorn) (8.1.8)\n",
            "Requirement already satisfied: h11>=0.8 in /usr/local/lib/python3.11/dist-packages (from uvicorn) (0.16.0)\n",
            "Requirement already satisfied: python-dateutil>=2.8.2 in /usr/local/lib/python3.11/dist-packages (from pandas) (2.9.0.post0)\n",
            "Requirement already satisfied: pytz>=2020.1 in /usr/local/lib/python3.11/dist-packages (from pandas) (2025.2)\n",
            "Requirement already satisfied: tzdata>=2022.7 in /usr/local/lib/python3.11/dist-packages (from pandas) (2025.2)\n",
            "Requirement already satisfied: absl-py>=1.0.0 in /usr/local/lib/python3.11/dist-packages (from tensorflow) (1.4.0)\n",
            "Requirement already satisfied: astunparse>=1.6.0 in /usr/local/lib/python3.11/dist-packages (from tensorflow) (1.6.3)\n",
            "Requirement already satisfied: flatbuffers>=24.3.25 in /usr/local/lib/python3.11/dist-packages (from tensorflow) (25.2.10)\n",
            "Requirement already satisfied: gast!=0.5.0,!=0.5.1,!=0.5.2,>=0.2.1 in /usr/local/lib/python3.11/dist-packages (from tensorflow) (0.6.0)\n",
            "Requirement already satisfied: google-pasta>=0.1.1 in /usr/local/lib/python3.11/dist-packages (from tensorflow) (0.2.0)\n",
            "Requirement already satisfied: libclang>=13.0.0 in /usr/local/lib/python3.11/dist-packages (from tensorflow) (18.1.1)\n",
            "Requirement already satisfied: opt-einsum>=2.3.2 in /usr/local/lib/python3.11/dist-packages (from tensorflow) (3.4.0)\n",
            "Requirement already satisfied: packaging in /usr/local/lib/python3.11/dist-packages (from tensorflow) (24.2)\n",
            "Requirement already satisfied: protobuf!=4.21.0,!=4.21.1,!=4.21.2,!=4.21.3,!=4.21.4,!=4.21.5,<6.0.0dev,>=3.20.3 in /usr/local/lib/python3.11/dist-packages (from tensorflow) (5.29.4)\n",
            "Requirement already satisfied: requests<3,>=2.21.0 in /usr/local/lib/python3.11/dist-packages (from tensorflow) (2.32.3)\n",
            "Requirement already satisfied: setuptools in /usr/local/lib/python3.11/dist-packages (from tensorflow) (75.2.0)\n",
            "Requirement already satisfied: six>=1.12.0 in /usr/local/lib/python3.11/dist-packages (from tensorflow) (1.17.0)\n",
            "Requirement already satisfied: termcolor>=1.1.0 in /usr/local/lib/python3.11/dist-packages (from tensorflow) (3.1.0)\n",
            "Requirement already satisfied: wrapt>=1.11.0 in /usr/local/lib/python3.11/dist-packages (from tensorflow) (1.17.2)\n",
            "Requirement already satisfied: grpcio<2.0,>=1.24.3 in /usr/local/lib/python3.11/dist-packages (from tensorflow) (1.71.0)\n",
            "Requirement already satisfied: tensorboard<2.19,>=2.18 in /usr/local/lib/python3.11/dist-packages (from tensorflow) (2.18.0)\n",
            "Requirement already satisfied: keras>=3.5.0 in /usr/local/lib/python3.11/dist-packages (from tensorflow) (3.8.0)\n",
            "Requirement already satisfied: h5py>=3.11.0 in /usr/local/lib/python3.11/dist-packages (from tensorflow) (3.13.0)\n",
            "Requirement already satisfied: ml-dtypes<0.5.0,>=0.4.0 in /usr/local/lib/python3.11/dist-packages (from tensorflow) (0.4.1)\n",
            "Requirement already satisfied: tensorflow-io-gcs-filesystem>=0.23.1 in /usr/local/lib/python3.11/dist-packages (from tensorflow) (0.37.1)\n",
            "Requirement already satisfied: scipy>=1.6.0 in /usr/local/lib/python3.11/dist-packages (from scikit-learn) (1.15.3)\n",
            "Requirement already satisfied: threadpoolctl>=3.1.0 in /usr/local/lib/python3.11/dist-packages (from scikit-learn) (3.6.0)\n",
            "Requirement already satisfied: wheel<1.0,>=0.23.0 in /usr/local/lib/python3.11/dist-packages (from astunparse>=1.6.0->tensorflow) (0.45.1)\n",
            "Requirement already satisfied: rich in /usr/local/lib/python3.11/dist-packages (from keras>=3.5.0->tensorflow) (13.9.4)\n",
            "Requirement already satisfied: namex in /usr/local/lib/python3.11/dist-packages (from keras>=3.5.0->tensorflow) (0.0.9)\n",
            "Requirement already satisfied: optree in /usr/local/lib/python3.11/dist-packages (from keras>=3.5.0->tensorflow) (0.15.0)\n",
            "Requirement already satisfied: annotated-types>=0.6.0 in /usr/local/lib/python3.11/dist-packages (from pydantic!=1.8,!=1.8.1,!=2.0.0,!=2.0.1,!=2.1.0,<3.0.0,>=1.7.4->fastapi) (0.7.0)\n",
            "Requirement already satisfied: pydantic-core==2.33.2 in /usr/local/lib/python3.11/dist-packages (from pydantic!=1.8,!=1.8.1,!=2.0.0,!=2.0.1,!=2.1.0,<3.0.0,>=1.7.4->fastapi) (2.33.2)\n",
            "Requirement already satisfied: typing-inspection>=0.4.0 in /usr/local/lib/python3.11/dist-packages (from pydantic!=1.8,!=1.8.1,!=2.0.0,!=2.0.1,!=2.1.0,<3.0.0,>=1.7.4->fastapi) (0.4.0)\n",
            "Requirement already satisfied: charset-normalizer<4,>=2 in /usr/local/lib/python3.11/dist-packages (from requests<3,>=2.21.0->tensorflow) (3.4.2)\n",
            "Requirement already satisfied: idna<4,>=2.5 in /usr/local/lib/python3.11/dist-packages (from requests<3,>=2.21.0->tensorflow) (3.10)\n",
            "Requirement already satisfied: urllib3<3,>=1.21.1 in /usr/local/lib/python3.11/dist-packages (from requests<3,>=2.21.0->tensorflow) (2.4.0)\n",
            "Requirement already satisfied: certifi>=2017.4.17 in /usr/local/lib/python3.11/dist-packages (from requests<3,>=2.21.0->tensorflow) (2025.4.26)\n",
            "Requirement already satisfied: anyio<5,>=3.6.2 in /usr/local/lib/python3.11/dist-packages (from starlette<0.47.0,>=0.40.0->fastapi) (4.9.0)\n",
            "Requirement already satisfied: markdown>=2.6.8 in /usr/local/lib/python3.11/dist-packages (from tensorboard<2.19,>=2.18->tensorflow) (3.8)\n",
            "Requirement already satisfied: tensorboard-data-server<0.8.0,>=0.7.0 in /usr/local/lib/python3.11/dist-packages (from tensorboard<2.19,>=2.18->tensorflow) (0.7.2)\n",
            "Requirement already satisfied: werkzeug>=1.0.1 in /usr/local/lib/python3.11/dist-packages (from tensorboard<2.19,>=2.18->tensorflow) (3.1.3)\n",
            "Requirement already satisfied: sniffio>=1.1 in /usr/local/lib/python3.11/dist-packages (from anyio<5,>=3.6.2->starlette<0.47.0,>=0.40.0->fastapi) (1.3.1)\n",
            "Requirement already satisfied: MarkupSafe>=2.1.1 in /usr/local/lib/python3.11/dist-packages (from werkzeug>=1.0.1->tensorboard<2.19,>=2.18->tensorflow) (3.0.2)\n",
            "Requirement already satisfied: markdown-it-py>=2.2.0 in /usr/local/lib/python3.11/dist-packages (from rich->keras>=3.5.0->tensorflow) (3.0.0)\n",
            "Requirement already satisfied: pygments<3.0.0,>=2.13.0 in /usr/local/lib/python3.11/dist-packages (from rich->keras>=3.5.0->tensorflow) (2.19.1)\n",
            "Requirement already satisfied: mdurl~=0.1 in /usr/local/lib/python3.11/dist-packages (from markdown-it-py>=2.2.0->rich->keras>=3.5.0->tensorflow) (0.1.2)\n",
            "Downloading fastapi-0.115.12-py3-none-any.whl (95 kB)\n",
            "\u001b[2K   \u001b[90m━━━━━━━━━━━━━━━━━━━━━━━━━━━━━━━━━━━━━━━━\u001b[0m \u001b[32m95.2/95.2 kB\u001b[0m \u001b[31m4.0 MB/s\u001b[0m eta \u001b[36m0:00:00\u001b[0m\n",
            "\u001b[?25hDownloading uvicorn-0.34.2-py3-none-any.whl (62 kB)\n",
            "\u001b[2K   \u001b[90m━━━━━━━━━━━━━━━━━━━━━━━━━━━━━━━━━━━━━━━━\u001b[0m \u001b[32m62.5/62.5 kB\u001b[0m \u001b[31m4.5 MB/s\u001b[0m eta \u001b[36m0:00:00\u001b[0m\n",
            "\u001b[?25hDownloading starlette-0.46.2-py3-none-any.whl (72 kB)\n",
            "\u001b[2K   \u001b[90m━━━━━━━━━━━━━━━━━━━━━━━━━━━━━━━━━━━━━━━━\u001b[0m \u001b[32m72.0/72.0 kB\u001b[0m \u001b[31m5.7 MB/s\u001b[0m eta \u001b[36m0:00:00\u001b[0m\n",
            "\u001b[?25hInstalling collected packages: uvicorn, starlette, fastapi\n",
            "Successfully installed fastapi-0.115.12 starlette-0.46.2 uvicorn-0.34.2\n"
          ]
        }
      ],
      "source": [
        "pip install fastapi uvicorn pandas numpy joblib tensorflow scikit-learn\n"
      ]
    },
    {
      "cell_type": "code",
      "execution_count": 1,
      "metadata": {
        "colab": {
          "base_uri": "https://localhost:8080/"
        },
        "collapsed": true,
        "id": "4XC5tXEc4hiv",
        "outputId": "2d904dd1-ccdd-4378-d971-5a90446e1ad7"
      },
      "outputs": [
        {
          "output_type": "stream",
          "name": "stdout",
          "text": [
            "Requirement already satisfied: fastapi in /usr/local/lib/python3.11/dist-packages (0.115.12)\n",
            "Requirement already satisfied: nest-asyncio in /usr/local/lib/python3.11/dist-packages (1.6.0)\n",
            "Requirement already satisfied: pyngrok in /usr/local/lib/python3.11/dist-packages (7.2.8)\n",
            "Requirement already satisfied: uvicorn in /usr/local/lib/python3.11/dist-packages (0.34.2)\n",
            "Requirement already satisfied: pandas in /usr/local/lib/python3.11/dist-packages (2.2.2)\n",
            "Requirement already satisfied: joblib in /usr/local/lib/python3.11/dist-packages (1.5.0)\n",
            "Requirement already satisfied: tensorflow in /usr/local/lib/python3.11/dist-packages (2.18.0)\n",
            "Requirement already satisfied: scikit-learn in /usr/local/lib/python3.11/dist-packages (1.6.1)\n",
            "Requirement already satisfied: starlette<0.47.0,>=0.40.0 in /usr/local/lib/python3.11/dist-packages (from fastapi) (0.46.2)\n",
            "Requirement already satisfied: pydantic!=1.8,!=1.8.1,!=2.0.0,!=2.0.1,!=2.1.0,<3.0.0,>=1.7.4 in /usr/local/lib/python3.11/dist-packages (from fastapi) (2.11.4)\n",
            "Requirement already satisfied: typing-extensions>=4.8.0 in /usr/local/lib/python3.11/dist-packages (from fastapi) (4.13.2)\n",
            "Requirement already satisfied: PyYAML>=5.1 in /usr/local/lib/python3.11/dist-packages (from pyngrok) (6.0.2)\n",
            "Requirement already satisfied: click>=7.0 in /usr/local/lib/python3.11/dist-packages (from uvicorn) (8.1.8)\n",
            "Requirement already satisfied: h11>=0.8 in /usr/local/lib/python3.11/dist-packages (from uvicorn) (0.16.0)\n",
            "Requirement already satisfied: numpy>=1.23.2 in /usr/local/lib/python3.11/dist-packages (from pandas) (2.0.2)\n",
            "Requirement already satisfied: python-dateutil>=2.8.2 in /usr/local/lib/python3.11/dist-packages (from pandas) (2.9.0.post0)\n",
            "Requirement already satisfied: pytz>=2020.1 in /usr/local/lib/python3.11/dist-packages (from pandas) (2025.2)\n",
            "Requirement already satisfied: tzdata>=2022.7 in /usr/local/lib/python3.11/dist-packages (from pandas) (2025.2)\n",
            "Requirement already satisfied: absl-py>=1.0.0 in /usr/local/lib/python3.11/dist-packages (from tensorflow) (1.4.0)\n",
            "Requirement already satisfied: astunparse>=1.6.0 in /usr/local/lib/python3.11/dist-packages (from tensorflow) (1.6.3)\n",
            "Requirement already satisfied: flatbuffers>=24.3.25 in /usr/local/lib/python3.11/dist-packages (from tensorflow) (25.2.10)\n",
            "Requirement already satisfied: gast!=0.5.0,!=0.5.1,!=0.5.2,>=0.2.1 in /usr/local/lib/python3.11/dist-packages (from tensorflow) (0.6.0)\n",
            "Requirement already satisfied: google-pasta>=0.1.1 in /usr/local/lib/python3.11/dist-packages (from tensorflow) (0.2.0)\n",
            "Requirement already satisfied: libclang>=13.0.0 in /usr/local/lib/python3.11/dist-packages (from tensorflow) (18.1.1)\n",
            "Requirement already satisfied: opt-einsum>=2.3.2 in /usr/local/lib/python3.11/dist-packages (from tensorflow) (3.4.0)\n",
            "Requirement already satisfied: packaging in /usr/local/lib/python3.11/dist-packages (from tensorflow) (24.2)\n",
            "Requirement already satisfied: protobuf!=4.21.0,!=4.21.1,!=4.21.2,!=4.21.3,!=4.21.4,!=4.21.5,<6.0.0dev,>=3.20.3 in /usr/local/lib/python3.11/dist-packages (from tensorflow) (5.29.4)\n",
            "Requirement already satisfied: requests<3,>=2.21.0 in /usr/local/lib/python3.11/dist-packages (from tensorflow) (2.32.3)\n",
            "Requirement already satisfied: setuptools in /usr/local/lib/python3.11/dist-packages (from tensorflow) (75.2.0)\n",
            "Requirement already satisfied: six>=1.12.0 in /usr/local/lib/python3.11/dist-packages (from tensorflow) (1.17.0)\n",
            "Requirement already satisfied: termcolor>=1.1.0 in /usr/local/lib/python3.11/dist-packages (from tensorflow) (3.1.0)\n",
            "Requirement already satisfied: wrapt>=1.11.0 in /usr/local/lib/python3.11/dist-packages (from tensorflow) (1.17.2)\n",
            "Requirement already satisfied: grpcio<2.0,>=1.24.3 in /usr/local/lib/python3.11/dist-packages (from tensorflow) (1.71.0)\n",
            "Requirement already satisfied: tensorboard<2.19,>=2.18 in /usr/local/lib/python3.11/dist-packages (from tensorflow) (2.18.0)\n",
            "Requirement already satisfied: keras>=3.5.0 in /usr/local/lib/python3.11/dist-packages (from tensorflow) (3.8.0)\n",
            "Requirement already satisfied: h5py>=3.11.0 in /usr/local/lib/python3.11/dist-packages (from tensorflow) (3.13.0)\n",
            "Requirement already satisfied: ml-dtypes<0.5.0,>=0.4.0 in /usr/local/lib/python3.11/dist-packages (from tensorflow) (0.4.1)\n",
            "Requirement already satisfied: tensorflow-io-gcs-filesystem>=0.23.1 in /usr/local/lib/python3.11/dist-packages (from tensorflow) (0.37.1)\n",
            "Requirement already satisfied: scipy>=1.6.0 in /usr/local/lib/python3.11/dist-packages (from scikit-learn) (1.15.3)\n",
            "Requirement already satisfied: threadpoolctl>=3.1.0 in /usr/local/lib/python3.11/dist-packages (from scikit-learn) (3.6.0)\n",
            "Requirement already satisfied: wheel<1.0,>=0.23.0 in /usr/local/lib/python3.11/dist-packages (from astunparse>=1.6.0->tensorflow) (0.45.1)\n",
            "Requirement already satisfied: rich in /usr/local/lib/python3.11/dist-packages (from keras>=3.5.0->tensorflow) (13.9.4)\n",
            "Requirement already satisfied: namex in /usr/local/lib/python3.11/dist-packages (from keras>=3.5.0->tensorflow) (0.0.9)\n",
            "Requirement already satisfied: optree in /usr/local/lib/python3.11/dist-packages (from keras>=3.5.0->tensorflow) (0.15.0)\n",
            "Requirement already satisfied: annotated-types>=0.6.0 in /usr/local/lib/python3.11/dist-packages (from pydantic!=1.8,!=1.8.1,!=2.0.0,!=2.0.1,!=2.1.0,<3.0.0,>=1.7.4->fastapi) (0.7.0)\n",
            "Requirement already satisfied: pydantic-core==2.33.2 in /usr/local/lib/python3.11/dist-packages (from pydantic!=1.8,!=1.8.1,!=2.0.0,!=2.0.1,!=2.1.0,<3.0.0,>=1.7.4->fastapi) (2.33.2)\n",
            "Requirement already satisfied: typing-inspection>=0.4.0 in /usr/local/lib/python3.11/dist-packages (from pydantic!=1.8,!=1.8.1,!=2.0.0,!=2.0.1,!=2.1.0,<3.0.0,>=1.7.4->fastapi) (0.4.0)\n",
            "Requirement already satisfied: charset-normalizer<4,>=2 in /usr/local/lib/python3.11/dist-packages (from requests<3,>=2.21.0->tensorflow) (3.4.2)\n",
            "Requirement already satisfied: idna<4,>=2.5 in /usr/local/lib/python3.11/dist-packages (from requests<3,>=2.21.0->tensorflow) (3.10)\n",
            "Requirement already satisfied: urllib3<3,>=1.21.1 in /usr/local/lib/python3.11/dist-packages (from requests<3,>=2.21.0->tensorflow) (2.4.0)\n",
            "Requirement already satisfied: certifi>=2017.4.17 in /usr/local/lib/python3.11/dist-packages (from requests<3,>=2.21.0->tensorflow) (2025.4.26)\n",
            "Requirement already satisfied: anyio<5,>=3.6.2 in /usr/local/lib/python3.11/dist-packages (from starlette<0.47.0,>=0.40.0->fastapi) (4.9.0)\n",
            "Requirement already satisfied: markdown>=2.6.8 in /usr/local/lib/python3.11/dist-packages (from tensorboard<2.19,>=2.18->tensorflow) (3.8)\n",
            "Requirement already satisfied: tensorboard-data-server<0.8.0,>=0.7.0 in /usr/local/lib/python3.11/dist-packages (from tensorboard<2.19,>=2.18->tensorflow) (0.7.2)\n",
            "Requirement already satisfied: werkzeug>=1.0.1 in /usr/local/lib/python3.11/dist-packages (from tensorboard<2.19,>=2.18->tensorflow) (3.1.3)\n",
            "Requirement already satisfied: sniffio>=1.1 in /usr/local/lib/python3.11/dist-packages (from anyio<5,>=3.6.2->starlette<0.47.0,>=0.40.0->fastapi) (1.3.1)\n",
            "Requirement already satisfied: MarkupSafe>=2.1.1 in /usr/local/lib/python3.11/dist-packages (from werkzeug>=1.0.1->tensorboard<2.19,>=2.18->tensorflow) (3.0.2)\n",
            "Requirement already satisfied: markdown-it-py>=2.2.0 in /usr/local/lib/python3.11/dist-packages (from rich->keras>=3.5.0->tensorflow) (3.0.0)\n",
            "Requirement already satisfied: pygments<3.0.0,>=2.13.0 in /usr/local/lib/python3.11/dist-packages (from rich->keras>=3.5.0->tensorflow) (2.19.1)\n",
            "Requirement already satisfied: mdurl~=0.1 in /usr/local/lib/python3.11/dist-packages (from markdown-it-py>=2.2.0->rich->keras>=3.5.0->tensorflow) (0.1.2)\n"
          ]
        }
      ],
      "source": [
        "# ✅ تثبيت الأدوات المطلوبة\n",
        "!pip install fastapi nest-asyncio pyngrok uvicorn pandas joblib tensorflow scikit-learn\n",
        "\n",
        "# ✅ استيراد الأدوات المطلوبة\n",
        "import nest_asyncio\n",
        "from pyngrok import ngrok\n",
        "import uvicorn\n",
        "\n",
        "# ✅ تفعيل دعم FastAPI في Jupyter/Colab\n",
        "nest_asyncio.apply()\n"
      ]
    },
    {
      "cell_type": "code",
      "execution_count": 2,
      "metadata": {
        "colab": {
          "base_uri": "https://localhost:8080/"
        },
        "collapsed": true,
        "id": "8Vjmv5As66QS",
        "outputId": "d69817b2-235c-4cdc-c222-fab7663df915"
      },
      "outputs": [
        {
          "output_type": "stream",
          "name": "stdout",
          "text": [
            "✅ تم إغلاق جميع أنفاق ngrok بنجاح.\n"
          ]
        }
      ],
      "source": [
        "from pyngrok import ngrok\n",
        "\n",
        "# 🛑 إغلاق كل الأنفاق المفتوحة\n",
        "ngrok.kill()\n",
        "\n",
        "print(\"✅ تم إغلاق جميع أنفاق ngrok بنجاح.\")\n"
      ]
    },
    {
      "cell_type": "code",
      "execution_count": 3,
      "metadata": {
        "colab": {
          "base_uri": "https://localhost:8080/"
        },
        "id": "tbVOQR_96N1S",
        "outputId": "e29b0e92-1bf7-4899-c88e-a940270f9eec"
      },
      "outputs": [
        {
          "output_type": "stream",
          "name": "stdout",
          "text": [
            "Authtoken saved to configuration file: /root/.config/ngrok/ngrok.yml\n"
          ]
        }
      ],
      "source": [
        "!ngrok config add-authtoken 2qQrN9gFJc8Y3hkv9w0V1z2GgYS_2krBsBuvXn8MUHsHf2CUt"
      ]
    },
    {
      "cell_type": "code",
      "execution_count": null,
      "metadata": {
        "colab": {
          "base_uri": "https://localhost:8080/"
        },
        "collapsed": true,
        "id": "6nt8IjUR5bd1",
        "outputId": "5ff56831-652a-4f89-a47a-848629b6e532"
      },
      "outputs": [
        {
          "metadata": {
            "tags": null
          },
          "name": "stdout",
          "output_type": "stream",
          "text": [
            "🌐 رابط الواجهة: NgrokTunnel: \"https://ef0e-35-237-1-119.ngrok-free.app\" -> \"http://localhost:8000\"/docs\n"
          ]
        },
        {
          "metadata": {
            "tags": null
          },
          "name": "stderr",
          "output_type": "stream",
          "text": [
            "INFO:     Started server process [11861]\n",
            "INFO:     Waiting for application startup.\n",
            "INFO:     Application startup complete.\n",
            "INFO:     Uvicorn running on http://0.0.0.0:8000 (Press CTRL+C to quit)\n"
          ]
        },
        {
          "metadata": {
            "tags": null
          },
          "name": "stdout",
          "output_type": "stream",
          "text": [
            "📦 تحميل النموذج...\n",
            "📄 Reading data from: /content/drive/MyDrive/hybrid_IDS/encoder/network_v.csv\n",
            "📦 Loading Autoencoder model...\n",
            "✅ Model and weights loaded successfully!\n",
            "📦 Loading encoders...\n",
            "📄 Reading data from: /content/drive/MyDrive/hybrid_IDS/encoder/network_v.csv\n",
            "⚠️ Column 'attack_cat' is not encoded. Encoding now...\n",
            "⚠️ Column 'state' is not encoded. Encoding now...\n",
            "⚙️ Scaling features...\n"
          ]
        },
        {
          "metadata": {
            "tags": null
          },
          "name": "stderr",
          "output_type": "stream",
          "text": [
            "/usr/local/lib/python3.11/dist-packages/sklearn/base.py:380: InconsistentVersionWarning: Trying to unpickle estimator LabelEncoder from version 1.2.2 when using version 1.6.1. This might lead to breaking code or invalid results. Use at your own risk. For more info please refer to:\n",
            "https://scikit-learn.org/stable/model_persistence.html#security-maintainability-limitations\n",
            "  warnings.warn(\n"
          ]
        },
        {
          "metadata": {
            "tags": null
          },
          "name": "stdout",
          "output_type": "stream",
          "text": [
            "\n",
            "🔽 Row 0\n",
            "   Attack Category: Normal\n",
            "   MSE: 0.933262\n",
            "   Result: 🟢 NORMAL\n",
            "📦 Loading Autoencoder model...\n",
            "✅ Model and weights loaded successfully!\n",
            "📦 Loading encoders...\n",
            "📄 Reading data from: /content/drive/MyDrive/hybrid_IDS/encoder/network_v.csv\n",
            "⚠️ Column 'attack_cat' is not encoded. Encoding now...\n",
            "⚠️ Column 'state' is not encoded. Encoding now...\n",
            "⚙️ Scaling features...\n"
          ]
        },
        {
          "metadata": {
            "tags": null
          },
          "name": "stderr",
          "output_type": "stream",
          "text": [
            "/usr/local/lib/python3.11/dist-packages/sklearn/base.py:380: InconsistentVersionWarning: Trying to unpickle estimator LabelEncoder from version 1.2.2 when using version 1.6.1. This might lead to breaking code or invalid results. Use at your own risk. For more info please refer to:\n",
            "https://scikit-learn.org/stable/model_persistence.html#security-maintainability-limitations\n",
            "  warnings.warn(\n"
          ]
        },
        {
          "metadata": {
            "tags": null
          },
          "name": "stdout",
          "output_type": "stream",
          "text": [
            "\n",
            "🔽 Row 1\n",
            "   Attack Category: Reconnaissance\n",
            "   MSE: 0.793920\n",
            "   Result: 🟢 NORMAL\n",
            "📦 Loading Autoencoder model...\n",
            "✅ Model and weights loaded successfully!\n",
            "📦 Loading encoders...\n",
            "📄 Reading data from: /content/drive/MyDrive/hybrid_IDS/encoder/network_v.csv\n",
            "⚠️ Column 'attack_cat' is not encoded. Encoding now...\n",
            "⚠️ Column 'state' is not encoded. Encoding now...\n",
            "⚙️ Scaling features...\n"
          ]
        },
        {
          "metadata": {
            "tags": null
          },
          "name": "stderr",
          "output_type": "stream",
          "text": [
            "/usr/local/lib/python3.11/dist-packages/sklearn/base.py:380: InconsistentVersionWarning: Trying to unpickle estimator LabelEncoder from version 1.2.2 when using version 1.6.1. This might lead to breaking code or invalid results. Use at your own risk. For more info please refer to:\n",
            "https://scikit-learn.org/stable/model_persistence.html#security-maintainability-limitations\n",
            "  warnings.warn(\n"
          ]
        },
        {
          "metadata": {
            "tags": null
          },
          "name": "stdout",
          "output_type": "stream",
          "text": [
            "\n",
            "🔽 Row 2\n",
            "   Attack Category: DoS\n",
            "   MSE: 0.985740\n",
            "   Result: 🟢 NORMAL\n",
            "📦 Loading Autoencoder model...\n",
            "✅ Model and weights loaded successfully!\n",
            "📦 Loading encoders...\n",
            "📄 Reading data from: /content/drive/MyDrive/hybrid_IDS/encoder/network_v.csv\n",
            "⚠️ Column 'attack_cat' is not encoded. Encoding now...\n",
            "⚠️ Column 'state' is not encoded. Encoding now...\n",
            "⚙️ Scaling features...\n"
          ]
        },
        {
          "metadata": {
            "tags": null
          },
          "name": "stderr",
          "output_type": "stream",
          "text": [
            "/usr/local/lib/python3.11/dist-packages/sklearn/base.py:380: InconsistentVersionWarning: Trying to unpickle estimator LabelEncoder from version 1.2.2 when using version 1.6.1. This might lead to breaking code or invalid results. Use at your own risk. For more info please refer to:\n",
            "https://scikit-learn.org/stable/model_persistence.html#security-maintainability-limitations\n",
            "  warnings.warn(\n"
          ]
        },
        {
          "metadata": {
            "tags": null
          },
          "name": "stdout",
          "output_type": "stream",
          "text": [
            "\n",
            "🔽 Row 3\n",
            "   Attack Category: Normal\n",
            "   MSE: 0.759206\n",
            "   Result: 🟢 NORMAL\n",
            "📦 Loading Autoencoder model...\n",
            "✅ Model and weights loaded successfully!\n",
            "📦 Loading encoders...\n",
            "📄 Reading data from: /content/drive/MyDrive/hybrid_IDS/encoder/network_v.csv\n",
            "⚠️ Column 'attack_cat' is not encoded. Encoding now...\n",
            "⚠️ Column 'state' is not encoded. Encoding now...\n",
            "⚙️ Scaling features...\n"
          ]
        },
        {
          "metadata": {
            "tags": null
          },
          "name": "stderr",
          "output_type": "stream",
          "text": [
            "/usr/local/lib/python3.11/dist-packages/sklearn/base.py:380: InconsistentVersionWarning: Trying to unpickle estimator LabelEncoder from version 1.2.2 when using version 1.6.1. This might lead to breaking code or invalid results. Use at your own risk. For more info please refer to:\n",
            "https://scikit-learn.org/stable/model_persistence.html#security-maintainability-limitations\n",
            "  warnings.warn(\n",
            "WARNING:tensorflow:5 out of the last 5 calls to <function TensorFlowTrainer.make_predict_function.<locals>.one_step_on_data_distributed at 0x7dd97c023e20> triggered tf.function retracing. Tracing is expensive and the excessive number of tracings could be due to (1) creating @tf.function repeatedly in a loop, (2) passing tensors with different shapes, (3) passing Python objects instead of tensors. For (1), please define your @tf.function outside of the loop. For (2), @tf.function has reduce_retracing=True option that can avoid unnecessary retracing. For (3), please refer to https://www.tensorflow.org/guide/function#controlling_retracing and https://www.tensorflow.org/api_docs/python/tf/function for  more details.\n",
            "/usr/local/lib/python3.11/dist-packages/sklearn/base.py:380: InconsistentVersionWarning: Trying to unpickle estimator LabelEncoder from version 1.2.2 when using version 1.6.1. This might lead to breaking code or invalid results. Use at your own risk. For more info please refer to:\n",
            "https://scikit-learn.org/stable/model_persistence.html#security-maintainability-limitations\n",
            "  warnings.warn(\n"
          ]
        },
        {
          "metadata": {
            "tags": null
          },
          "name": "stdout",
          "output_type": "stream",
          "text": [
            "\n",
            "🔽 Row 4\n",
            "   Attack Category: Worms\n",
            "   MSE: 1.062906\n",
            "   Result: 🟢 NORMAL\n",
            "📦 Loading Autoencoder model...\n",
            "✅ Model and weights loaded successfully!\n",
            "📦 Loading encoders...\n",
            "📄 Reading data from: /content/drive/MyDrive/hybrid_IDS/encoder/network_v.csv\n",
            "⚠️ Column 'attack_cat' is not encoded. Encoding now...\n",
            "⚠️ Column 'state' is not encoded. Encoding now...\n",
            "⚙️ Scaling features...\n"
          ]
        },
        {
          "metadata": {
            "tags": null
          },
          "name": "stderr",
          "output_type": "stream",
          "text": [
            "WARNING:tensorflow:6 out of the last 6 calls to <function TensorFlowTrainer.make_predict_function.<locals>.one_step_on_data_distributed at 0x7dd97c0a0400> triggered tf.function retracing. Tracing is expensive and the excessive number of tracings could be due to (1) creating @tf.function repeatedly in a loop, (2) passing tensors with different shapes, (3) passing Python objects instead of tensors. For (1), please define your @tf.function outside of the loop. For (2), @tf.function has reduce_retracing=True option that can avoid unnecessary retracing. For (3), please refer to https://www.tensorflow.org/guide/function#controlling_retracing and https://www.tensorflow.org/api_docs/python/tf/function for  more details.\n",
            "/usr/local/lib/python3.11/dist-packages/sklearn/base.py:380: InconsistentVersionWarning: Trying to unpickle estimator LabelEncoder from version 1.2.2 when using version 1.6.1. This might lead to breaking code or invalid results. Use at your own risk. For more info please refer to:\n",
            "https://scikit-learn.org/stable/model_persistence.html#security-maintainability-limitations\n",
            "  warnings.warn(\n"
          ]
        },
        {
          "metadata": {
            "tags": null
          },
          "name": "stdout",
          "output_type": "stream",
          "text": [
            "\n",
            "🔽 Row 5\n",
            "   Attack Category: DoS\n",
            "   MSE: 3.823621\n",
            "   Result: 🟢 NORMAL\n",
            "📦 Loading Autoencoder model...\n",
            "✅ Model and weights loaded successfully!\n",
            "📦 Loading encoders...\n",
            "📄 Reading data from: /content/drive/MyDrive/hybrid_IDS/encoder/network_v.csv\n",
            "⚠️ Column 'attack_cat' is not encoded. Encoding now...\n",
            "⚠️ Column 'state' is not encoded. Encoding now...\n",
            "⚙️ Scaling features...\n",
            "\n",
            "🔽 Row 6\n",
            "   Attack Category: Normal\n",
            "   MSE: 0.396471\n",
            "   Result: 🟢 NORMAL\n",
            "📦 Loading Autoencoder model...\n",
            "✅ Model and weights loaded successfully!\n",
            "📦 Loading encoders...\n",
            "📄 Reading data from: /content/drive/MyDrive/hybrid_IDS/encoder/network_v.csv\n",
            "⚠️ Column 'attack_cat' is not encoded. Encoding now...\n",
            "⚠️ Column 'state' is not encoded. Encoding now...\n",
            "⚙️ Scaling features...\n"
          ]
        },
        {
          "metadata": {
            "tags": null
          },
          "name": "stderr",
          "output_type": "stream",
          "text": [
            "/usr/local/lib/python3.11/dist-packages/sklearn/base.py:380: InconsistentVersionWarning: Trying to unpickle estimator LabelEncoder from version 1.2.2 when using version 1.6.1. This might lead to breaking code or invalid results. Use at your own risk. For more info please refer to:\n",
            "https://scikit-learn.org/stable/model_persistence.html#security-maintainability-limitations\n",
            "  warnings.warn(\n"
          ]
        },
        {
          "metadata": {
            "tags": null
          },
          "name": "stdout",
          "output_type": "stream",
          "text": [
            "\n",
            "🔽 Row 7\n",
            "   Attack Category: Reconnaissance\n",
            "   MSE: 0.445360\n",
            "   Result: 🟢 NORMAL\n",
            "📦 Loading Autoencoder model...\n",
            "✅ Model and weights loaded successfully!\n",
            "📦 Loading encoders...\n",
            "📄 Reading data from: /content/drive/MyDrive/hybrid_IDS/encoder/network_v.csv\n",
            "⚠️ Column 'attack_cat' is not encoded. Encoding now...\n",
            "⚠️ Column 'state' is not encoded. Encoding now...\n",
            "⚙️ Scaling features...\n"
          ]
        },
        {
          "metadata": {
            "tags": null
          },
          "name": "stderr",
          "output_type": "stream",
          "text": [
            "/usr/local/lib/python3.11/dist-packages/sklearn/base.py:380: InconsistentVersionWarning: Trying to unpickle estimator LabelEncoder from version 1.2.2 when using version 1.6.1. This might lead to breaking code or invalid results. Use at your own risk. For more info please refer to:\n",
            "https://scikit-learn.org/stable/model_persistence.html#security-maintainability-limitations\n",
            "  warnings.warn(\n"
          ]
        },
        {
          "metadata": {
            "tags": null
          },
          "name": "stdout",
          "output_type": "stream",
          "text": [
            "\n",
            "🔽 Row 8\n",
            "   Attack Category: Normal\n",
            "   MSE: 0.375904\n",
            "   Result: 🟢 NORMAL\n",
            "📦 Loading Autoencoder model...\n",
            "✅ Model and weights loaded successfully!\n",
            "📦 Loading encoders...\n",
            "📄 Reading data from: /content/drive/MyDrive/hybrid_IDS/encoder/network_v.csv\n",
            "⚠️ Column 'attack_cat' is not encoded. Encoding now...\n",
            "⚠️ Column 'state' is not encoded. Encoding now...\n",
            "⚙️ Scaling features...\n"
          ]
        },
        {
          "metadata": {
            "tags": null
          },
          "name": "stderr",
          "output_type": "stream",
          "text": [
            "/usr/local/lib/python3.11/dist-packages/sklearn/base.py:380: InconsistentVersionWarning: Trying to unpickle estimator LabelEncoder from version 1.2.2 when using version 1.6.1. This might lead to breaking code or invalid results. Use at your own risk. For more info please refer to:\n",
            "https://scikit-learn.org/stable/model_persistence.html#security-maintainability-limitations\n",
            "  warnings.warn(\n"
          ]
        },
        {
          "metadata": {
            "tags": null
          },
          "name": "stdout",
          "output_type": "stream",
          "text": [
            "\n",
            "🔽 Row 9\n",
            "   Attack Category: Normal\n",
            "   MSE: 0.154491\n",
            "   Result: 🟢 NORMAL\n",
            "📦 Loading Autoencoder model...\n",
            "✅ Model and weights loaded successfully!\n",
            "📦 Loading encoders...\n",
            "📄 Reading data from: /content/drive/MyDrive/hybrid_IDS/encoder/network_v.csv\n",
            "⚠️ Column 'attack_cat' is not encoded. Encoding now...\n",
            "⚠️ Column 'state' is not encoded. Encoding now...\n",
            "⚙️ Scaling features...\n"
          ]
        },
        {
          "metadata": {
            "tags": null
          },
          "name": "stderr",
          "output_type": "stream",
          "text": [
            "/usr/local/lib/python3.11/dist-packages/sklearn/base.py:380: InconsistentVersionWarning: Trying to unpickle estimator LabelEncoder from version 1.2.2 when using version 1.6.1. This might lead to breaking code or invalid results. Use at your own risk. For more info please refer to:\n",
            "https://scikit-learn.org/stable/model_persistence.html#security-maintainability-limitations\n",
            "  warnings.warn(\n"
          ]
        },
        {
          "metadata": {
            "tags": null
          },
          "name": "stdout",
          "output_type": "stream",
          "text": [
            "\n",
            "🔽 Row 10\n",
            "   Attack Category: Fuzzers\n",
            "   MSE: 0.311782\n",
            "   Result: 🟢 NORMAL\n",
            "📦 Loading Autoencoder model...\n",
            "✅ Model and weights loaded successfully!\n",
            "📦 Loading encoders...\n",
            "📄 Reading data from: /content/drive/MyDrive/hybrid_IDS/encoder/network_v.csv\n",
            "⚠️ Column 'attack_cat' is not encoded. Encoding now...\n",
            "⚠️ Column 'state' is not encoded. Encoding now...\n",
            "⚙️ Scaling features...\n"
          ]
        },
        {
          "metadata": {
            "tags": null
          },
          "name": "stderr",
          "output_type": "stream",
          "text": [
            "/usr/local/lib/python3.11/dist-packages/sklearn/base.py:380: InconsistentVersionWarning: Trying to unpickle estimator LabelEncoder from version 1.2.2 when using version 1.6.1. This might lead to breaking code or invalid results. Use at your own risk. For more info please refer to:\n",
            "https://scikit-learn.org/stable/model_persistence.html#security-maintainability-limitations\n",
            "  warnings.warn(\n"
          ]
        },
        {
          "metadata": {
            "tags": null
          },
          "name": "stdout",
          "output_type": "stream",
          "text": [
            "\n",
            "🔽 Row 11\n",
            "   Attack Category: Normal\n",
            "   MSE: 0.389698\n",
            "   Result: 🟢 NORMAL\n",
            "📦 Loading Autoencoder model...\n",
            "✅ Model and weights loaded successfully!\n",
            "📦 Loading encoders...\n",
            "📄 Reading data from: /content/drive/MyDrive/hybrid_IDS/encoder/network_v.csv\n",
            "⚠️ Column 'attack_cat' is not encoded. Encoding now...\n",
            "⚠️ Column 'state' is not encoded. Encoding now...\n",
            "⚙️ Scaling features...\n"
          ]
        },
        {
          "metadata": {
            "tags": null
          },
          "name": "stderr",
          "output_type": "stream",
          "text": [
            "/usr/local/lib/python3.11/dist-packages/sklearn/base.py:380: InconsistentVersionWarning: Trying to unpickle estimator LabelEncoder from version 1.2.2 when using version 1.6.1. This might lead to breaking code or invalid results. Use at your own risk. For more info please refer to:\n",
            "https://scikit-learn.org/stable/model_persistence.html#security-maintainability-limitations\n",
            "  warnings.warn(\n"
          ]
        },
        {
          "metadata": {
            "tags": null
          },
          "name": "stdout",
          "output_type": "stream",
          "text": [
            "\n",
            "🔽 Row 12\n",
            "   Attack Category: Normal\n",
            "   MSE: 0.357001\n",
            "   Result: 🟢 NORMAL\n",
            "📦 Loading Autoencoder model...\n",
            "✅ Model and weights loaded successfully!\n",
            "📦 Loading encoders...\n",
            "📄 Reading data from: /content/drive/MyDrive/hybrid_IDS/encoder/network_v.csv\n",
            "⚠️ Column 'attack_cat' is not encoded. Encoding now...\n",
            "⚠️ Column 'state' is not encoded. Encoding now...\n",
            "⚙️ Scaling features...\n"
          ]
        },
        {
          "metadata": {
            "tags": null
          },
          "name": "stderr",
          "output_type": "stream",
          "text": [
            "/usr/local/lib/python3.11/dist-packages/sklearn/base.py:380: InconsistentVersionWarning: Trying to unpickle estimator LabelEncoder from version 1.2.2 when using version 1.6.1. This might lead to breaking code or invalid results. Use at your own risk. For more info please refer to:\n",
            "https://scikit-learn.org/stable/model_persistence.html#security-maintainability-limitations\n",
            "  warnings.warn(\n"
          ]
        },
        {
          "metadata": {
            "tags": null
          },
          "name": "stdout",
          "output_type": "stream",
          "text": [
            "\n",
            "🔽 Row 13\n",
            "   Attack Category: Normal\n",
            "   MSE: 0.180363\n",
            "   Result: 🟢 NORMAL\n",
            "📦 Loading Autoencoder model...\n",
            "✅ Model and weights loaded successfully!\n",
            "📦 Loading encoders...\n",
            "📄 Reading data from: /content/drive/MyDrive/hybrid_IDS/encoder/network_v.csv\n",
            "⚠️ Column 'attack_cat' is not encoded. Encoding now...\n",
            "⚠️ Column 'state' is not encoded. Encoding now...\n",
            "⚙️ Scaling features...\n"
          ]
        },
        {
          "metadata": {
            "tags": null
          },
          "name": "stderr",
          "output_type": "stream",
          "text": [
            "/usr/local/lib/python3.11/dist-packages/sklearn/base.py:380: InconsistentVersionWarning: Trying to unpickle estimator LabelEncoder from version 1.2.2 when using version 1.6.1. This might lead to breaking code or invalid results. Use at your own risk. For more info please refer to:\n",
            "https://scikit-learn.org/stable/model_persistence.html#security-maintainability-limitations\n",
            "  warnings.warn(\n"
          ]
        },
        {
          "metadata": {
            "tags": null
          },
          "name": "stdout",
          "output_type": "stream",
          "text": [
            "\n",
            "🔽 Row 14\n",
            "   Attack Category: Generic\n",
            "   MSE: 0.572207\n",
            "   Result: 🟢 NORMAL\n",
            "📦 Loading Autoencoder model...\n",
            "✅ Model and weights loaded successfully!\n",
            "📦 Loading encoders...\n",
            "📄 Reading data from: /content/drive/MyDrive/hybrid_IDS/encoder/network_v.csv\n",
            "⚠️ Column 'attack_cat' is not encoded. Encoding now...\n",
            "⚠️ Column 'state' is not encoded. Encoding now...\n",
            "⚙️ Scaling features...\n"
          ]
        },
        {
          "metadata": {
            "tags": null
          },
          "name": "stderr",
          "output_type": "stream",
          "text": [
            "/usr/local/lib/python3.11/dist-packages/sklearn/base.py:380: InconsistentVersionWarning: Trying to unpickle estimator LabelEncoder from version 1.2.2 when using version 1.6.1. This might lead to breaking code or invalid results. Use at your own risk. For more info please refer to:\n",
            "https://scikit-learn.org/stable/model_persistence.html#security-maintainability-limitations\n",
            "  warnings.warn(\n"
          ]
        },
        {
          "metadata": {
            "tags": null
          },
          "name": "stdout",
          "output_type": "stream",
          "text": [
            "\n",
            "🔽 Row 15\n",
            "   Attack Category: Normal\n",
            "   MSE: 0.191020\n",
            "   Result: 🟢 NORMAL\n",
            "📦 Loading Autoencoder model...\n",
            "✅ Model and weights loaded successfully!\n",
            "📦 Loading encoders...\n",
            "📄 Reading data from: /content/drive/MyDrive/hybrid_IDS/encoder/network_v.csv\n",
            "⚠️ Column 'attack_cat' is not encoded. Encoding now...\n",
            "⚠️ Column 'state' is not encoded. Encoding now...\n",
            "⚙️ Scaling features...\n"
          ]
        },
        {
          "metadata": {
            "tags": null
          },
          "name": "stderr",
          "output_type": "stream",
          "text": [
            "/usr/local/lib/python3.11/dist-packages/sklearn/base.py:380: InconsistentVersionWarning: Trying to unpickle estimator LabelEncoder from version 1.2.2 when using version 1.6.1. This might lead to breaking code or invalid results. Use at your own risk. For more info please refer to:\n",
            "https://scikit-learn.org/stable/model_persistence.html#security-maintainability-limitations\n",
            "  warnings.warn(\n"
          ]
        },
        {
          "metadata": {
            "tags": null
          },
          "name": "stdout",
          "output_type": "stream",
          "text": [
            "\n",
            "🔽 Row 16\n",
            "   Attack Category: Generic\n",
            "   MSE: 0.538330\n",
            "   Result: 🟢 NORMAL\n",
            "📦 Loading Autoencoder model...\n",
            "✅ Model and weights loaded successfully!\n",
            "📦 Loading encoders...\n"
          ]
        },
        {
          "metadata": {
            "tags": null
          },
          "name": "stderr",
          "output_type": "stream",
          "text": [
            "/usr/local/lib/python3.11/dist-packages/sklearn/base.py:380: InconsistentVersionWarning: Trying to unpickle estimator LabelEncoder from version 1.2.2 when using version 1.6.1. This might lead to breaking code or invalid results. Use at your own risk. For more info please refer to:\n",
            "https://scikit-learn.org/stable/model_persistence.html#security-maintainability-limitations\n",
            "  warnings.warn(\n"
          ]
        },
        {
          "metadata": {
            "tags": null
          },
          "name": "stdout",
          "output_type": "stream",
          "text": [
            "📄 Reading data from: /content/drive/MyDrive/hybrid_IDS/encoder/network_v.csv\n",
            "⚠️ Column 'attack_cat' is not encoded. Encoding now...\n",
            "⚠️ Column 'state' is not encoded. Encoding now...\n",
            "⚙️ Scaling features...\n",
            "\n",
            "🔽 Row 17\n",
            "   Attack Category: Generic\n",
            "   MSE: 2.167812\n",
            "   Result: 🟢 NORMAL\n",
            "📦 Loading Autoencoder model...\n",
            "✅ Model and weights loaded successfully!\n",
            "📦 Loading encoders...\n",
            "📄 Reading data from: /content/drive/MyDrive/hybrid_IDS/encoder/network_v.csv\n",
            "⚠️ Column 'attack_cat' is not encoded. Encoding now...\n",
            "⚠️ Column 'state' is not encoded. Encoding now...\n",
            "⚙️ Scaling features...\n"
          ]
        },
        {
          "metadata": {
            "tags": null
          },
          "name": "stderr",
          "output_type": "stream",
          "text": [
            "/usr/local/lib/python3.11/dist-packages/sklearn/base.py:380: InconsistentVersionWarning: Trying to unpickle estimator LabelEncoder from version 1.2.2 when using version 1.6.1. This might lead to breaking code or invalid results. Use at your own risk. For more info please refer to:\n",
            "https://scikit-learn.org/stable/model_persistence.html#security-maintainability-limitations\n",
            "  warnings.warn(\n"
          ]
        },
        {
          "metadata": {
            "tags": null
          },
          "name": "stdout",
          "output_type": "stream",
          "text": [
            "\n",
            "🔽 Row 18\n",
            "   Attack Category: Analysis\n",
            "   MSE: 0.358345\n",
            "   Result: 🟢 NORMAL\n",
            "📦 Loading Autoencoder model...\n",
            "✅ Model and weights loaded successfully!\n",
            "📦 Loading encoders...\n",
            "📄 Reading data from: /content/drive/MyDrive/hybrid_IDS/encoder/network_v.csv\n",
            "⚠️ Column 'attack_cat' is not encoded. Encoding now...\n",
            "⚠️ Column 'state' is not encoded. Encoding now...\n",
            "⚙️ Scaling features...\n"
          ]
        },
        {
          "metadata": {
            "tags": null
          },
          "name": "stderr",
          "output_type": "stream",
          "text": [
            "/usr/local/lib/python3.11/dist-packages/sklearn/base.py:380: InconsistentVersionWarning: Trying to unpickle estimator LabelEncoder from version 1.2.2 when using version 1.6.1. This might lead to breaking code or invalid results. Use at your own risk. For more info please refer to:\n",
            "https://scikit-learn.org/stable/model_persistence.html#security-maintainability-limitations\n",
            "  warnings.warn(\n"
          ]
        },
        {
          "metadata": {
            "tags": null
          },
          "name": "stdout",
          "output_type": "stream",
          "text": [
            "\n",
            "🔽 Row 19\n",
            "   Attack Category: Worms\n",
            "   MSE: 0.533559\n",
            "   Result: 🟢 NORMAL\n",
            "📦 Loading Autoencoder model...\n",
            "✅ Model and weights loaded successfully!\n",
            "📦 Loading encoders...\n",
            "📄 Reading data from: /content/drive/MyDrive/hybrid_IDS/encoder/network_v.csv\n",
            "⚠️ Column 'attack_cat' is not encoded. Encoding now...\n",
            "⚠️ Column 'state' is not encoded. Encoding now...\n",
            "⚙️ Scaling features...\n"
          ]
        },
        {
          "metadata": {
            "tags": null
          },
          "name": "stderr",
          "output_type": "stream",
          "text": [
            "/usr/local/lib/python3.11/dist-packages/sklearn/base.py:380: InconsistentVersionWarning: Trying to unpickle estimator LabelEncoder from version 1.2.2 when using version 1.6.1. This might lead to breaking code or invalid results. Use at your own risk. For more info please refer to:\n",
            "https://scikit-learn.org/stable/model_persistence.html#security-maintainability-limitations\n",
            "  warnings.warn(\n"
          ]
        },
        {
          "metadata": {
            "tags": null
          },
          "name": "stdout",
          "output_type": "stream",
          "text": [
            "\n",
            "🔽 Row 20\n",
            "   Attack Category: Normal\n",
            "   MSE: 0.352886\n",
            "   Result: 🟢 NORMAL\n",
            "📦 Loading Autoencoder model...\n",
            "✅ Model and weights loaded successfully!\n",
            "📦 Loading encoders...\n",
            "📄 Reading data from: /content/drive/MyDrive/hybrid_IDS/encoder/network_v.csv\n",
            "⚠️ Column 'attack_cat' is not encoded. Encoding now...\n",
            "⚠️ Column 'state' is not encoded. Encoding now...\n",
            "⚙️ Scaling features...\n"
          ]
        },
        {
          "metadata": {
            "tags": null
          },
          "name": "stderr",
          "output_type": "stream",
          "text": [
            "/usr/local/lib/python3.11/dist-packages/sklearn/base.py:380: InconsistentVersionWarning: Trying to unpickle estimator LabelEncoder from version 1.2.2 when using version 1.6.1. This might lead to breaking code or invalid results. Use at your own risk. For more info please refer to:\n",
            "https://scikit-learn.org/stable/model_persistence.html#security-maintainability-limitations\n",
            "  warnings.warn(\n"
          ]
        },
        {
          "metadata": {
            "tags": null
          },
          "name": "stdout",
          "output_type": "stream",
          "text": [
            "\n",
            "🔽 Row 21\n",
            "   Attack Category: Generic\n",
            "   MSE: 0.218436\n",
            "   Result: 🟢 NORMAL\n",
            "📦 Loading Autoencoder model...\n",
            "✅ Model and weights loaded successfully!\n",
            "📦 Loading encoders...\n",
            "📄 Reading data from: /content/drive/MyDrive/hybrid_IDS/encoder/network_v.csv\n",
            "⚠️ Column 'attack_cat' is not encoded. Encoding now...\n",
            "⚠️ Column 'state' is not encoded. Encoding now...\n",
            "⚙️ Scaling features...\n"
          ]
        },
        {
          "metadata": {
            "tags": null
          },
          "name": "stderr",
          "output_type": "stream",
          "text": [
            "/usr/local/lib/python3.11/dist-packages/sklearn/base.py:380: InconsistentVersionWarning: Trying to unpickle estimator LabelEncoder from version 1.2.2 when using version 1.6.1. This might lead to breaking code or invalid results. Use at your own risk. For more info please refer to:\n",
            "https://scikit-learn.org/stable/model_persistence.html#security-maintainability-limitations\n",
            "  warnings.warn(\n"
          ]
        },
        {
          "metadata": {
            "tags": null
          },
          "name": "stdout",
          "output_type": "stream",
          "text": [
            "\n",
            "🔽 Row 22\n",
            "   Attack Category: Normal\n",
            "   MSE: 0.358624\n",
            "   Result: 🟢 NORMAL\n",
            "📦 Loading Autoencoder model...\n",
            "✅ Model and weights loaded successfully!\n",
            "📦 Loading encoders...\n",
            "📄 Reading data from: /content/drive/MyDrive/hybrid_IDS/encoder/network_v.csv\n",
            "⚠️ Column 'attack_cat' is not encoded. Encoding now...\n",
            "⚠️ Column 'state' is not encoded. Encoding now...\n",
            "⚙️ Scaling features...\n"
          ]
        },
        {
          "metadata": {
            "tags": null
          },
          "name": "stderr",
          "output_type": "stream",
          "text": [
            "/usr/local/lib/python3.11/dist-packages/sklearn/base.py:380: InconsistentVersionWarning: Trying to unpickle estimator LabelEncoder from version 1.2.2 when using version 1.6.1. This might lead to breaking code or invalid results. Use at your own risk. For more info please refer to:\n",
            "https://scikit-learn.org/stable/model_persistence.html#security-maintainability-limitations\n",
            "  warnings.warn(\n"
          ]
        },
        {
          "metadata": {
            "tags": null
          },
          "name": "stdout",
          "output_type": "stream",
          "text": [
            "\n",
            "🔽 Row 23\n",
            "   Attack Category: Normal\n",
            "   MSE: 0.227972\n",
            "   Result: 🟢 NORMAL\n",
            "📦 Loading Autoencoder model...\n",
            "✅ Model and weights loaded successfully!\n",
            "📦 Loading encoders...\n",
            "📄 Reading data from: /content/drive/MyDrive/hybrid_IDS/encoder/network_v.csv\n",
            "⚠️ Column 'attack_cat' is not encoded. Encoding now...\n",
            "⚠️ Column 'state' is not encoded. Encoding now...\n",
            "⚙️ Scaling features...\n"
          ]
        },
        {
          "metadata": {
            "tags": null
          },
          "name": "stderr",
          "output_type": "stream",
          "text": [
            "/usr/local/lib/python3.11/dist-packages/sklearn/base.py:380: InconsistentVersionWarning: Trying to unpickle estimator LabelEncoder from version 1.2.2 when using version 1.6.1. This might lead to breaking code or invalid results. Use at your own risk. For more info please refer to:\n",
            "https://scikit-learn.org/stable/model_persistence.html#security-maintainability-limitations\n",
            "  warnings.warn(\n"
          ]
        },
        {
          "metadata": {
            "tags": null
          },
          "name": "stdout",
          "output_type": "stream",
          "text": [
            "\n",
            "🔽 Row 24\n",
            "   Attack Category: Generic\n",
            "   MSE: 0.399794\n",
            "   Result: 🟢 NORMAL\n",
            "📦 Loading Autoencoder model...\n",
            "✅ Model and weights loaded successfully!\n",
            "📦 Loading encoders...\n",
            "📄 Reading data from: /content/drive/MyDrive/hybrid_IDS/encoder/network_v.csv\n",
            "⚠️ Column 'attack_cat' is not encoded. Encoding now...\n",
            "⚠️ Column 'state' is not encoded. Encoding now...\n",
            "⚙️ Scaling features...\n"
          ]
        },
        {
          "metadata": {
            "tags": null
          },
          "name": "stderr",
          "output_type": "stream",
          "text": [
            "/usr/local/lib/python3.11/dist-packages/sklearn/base.py:380: InconsistentVersionWarning: Trying to unpickle estimator LabelEncoder from version 1.2.2 when using version 1.6.1. This might lead to breaking code or invalid results. Use at your own risk. For more info please refer to:\n",
            "https://scikit-learn.org/stable/model_persistence.html#security-maintainability-limitations\n",
            "  warnings.warn(\n"
          ]
        },
        {
          "metadata": {
            "tags": null
          },
          "name": "stdout",
          "output_type": "stream",
          "text": [
            "\n",
            "🔽 Row 25\n",
            "   Attack Category: Reconnaissance\n",
            "   MSE: 0.819887\n",
            "   Result: 🟢 NORMAL\n",
            "📦 Loading Autoencoder model...\n",
            "✅ Model and weights loaded successfully!\n",
            "📦 Loading encoders...\n",
            "📄 Reading data from: /content/drive/MyDrive/hybrid_IDS/encoder/network_v.csv\n",
            "⚠️ Column 'attack_cat' is not encoded. Encoding now...\n",
            "⚠️ Column 'state' is not encoded. Encoding now...\n",
            "⚙️ Scaling features...\n"
          ]
        },
        {
          "metadata": {
            "tags": null
          },
          "name": "stderr",
          "output_type": "stream",
          "text": [
            "/usr/local/lib/python3.11/dist-packages/sklearn/base.py:380: InconsistentVersionWarning: Trying to unpickle estimator LabelEncoder from version 1.2.2 when using version 1.6.1. This might lead to breaking code or invalid results. Use at your own risk. For more info please refer to:\n",
            "https://scikit-learn.org/stable/model_persistence.html#security-maintainability-limitations\n",
            "  warnings.warn(\n"
          ]
        },
        {
          "metadata": {
            "tags": null
          },
          "name": "stdout",
          "output_type": "stream",
          "text": [
            "\n",
            "🔽 Row 26\n",
            "   Attack Category: Reconnaissance\n",
            "   MSE: 0.349406\n",
            "   Result: 🟢 NORMAL\n",
            "📦 Loading Autoencoder model...\n",
            "✅ Model and weights loaded successfully!\n",
            "📦 Loading encoders...\n",
            "📄 Reading data from: /content/drive/MyDrive/hybrid_IDS/encoder/network_v.csv\n",
            "⚠️ Column 'attack_cat' is not encoded. Encoding now...\n",
            "⚠️ Column 'state' is not encoded. Encoding now...\n",
            "⚙️ Scaling features...\n"
          ]
        },
        {
          "metadata": {
            "tags": null
          },
          "name": "stderr",
          "output_type": "stream",
          "text": [
            "/usr/local/lib/python3.11/dist-packages/sklearn/base.py:380: InconsistentVersionWarning: Trying to unpickle estimator LabelEncoder from version 1.2.2 when using version 1.6.1. This might lead to breaking code or invalid results. Use at your own risk. For more info please refer to:\n",
            "https://scikit-learn.org/stable/model_persistence.html#security-maintainability-limitations\n",
            "  warnings.warn(\n"
          ]
        },
        {
          "metadata": {
            "tags": null
          },
          "name": "stdout",
          "output_type": "stream",
          "text": [
            "\n",
            "🔽 Row 27\n",
            "   Attack Category: Reconnaissance\n",
            "   MSE: 0.421090\n",
            "   Result: 🟢 NORMAL\n",
            "📦 Loading Autoencoder model...\n",
            "✅ Model and weights loaded successfully!\n",
            "📦 Loading encoders...\n",
            "📄 Reading data from: /content/drive/MyDrive/hybrid_IDS/encoder/network_v.csv\n",
            "⚠️ Column 'attack_cat' is not encoded. Encoding now...\n",
            "⚠️ Column 'state' is not encoded. Encoding now...\n",
            "⚙️ Scaling features...\n"
          ]
        },
        {
          "metadata": {
            "tags": null
          },
          "name": "stderr",
          "output_type": "stream",
          "text": [
            "/usr/local/lib/python3.11/dist-packages/sklearn/base.py:380: InconsistentVersionWarning: Trying to unpickle estimator LabelEncoder from version 1.2.2 when using version 1.6.1. This might lead to breaking code or invalid results. Use at your own risk. For more info please refer to:\n",
            "https://scikit-learn.org/stable/model_persistence.html#security-maintainability-limitations\n",
            "  warnings.warn(\n"
          ]
        },
        {
          "metadata": {
            "tags": null
          },
          "name": "stdout",
          "output_type": "stream",
          "text": [
            "\n",
            "🔽 Row 28\n",
            "   Attack Category: Normal\n",
            "   MSE: 0.410169\n",
            "   Result: 🟢 NORMAL\n",
            "📦 Loading Autoencoder model...\n",
            "✅ Model and weights loaded successfully!\n",
            "📦 Loading encoders...\n",
            "📄 Reading data from: /content/drive/MyDrive/hybrid_IDS/encoder/network_v.csv\n",
            "⚠️ Column 'attack_cat' is not encoded. Encoding now...\n",
            "⚠️ Column 'state' is not encoded. Encoding now...\n",
            "⚙️ Scaling features...\n"
          ]
        },
        {
          "metadata": {
            "tags": null
          },
          "name": "stderr",
          "output_type": "stream",
          "text": [
            "/usr/local/lib/python3.11/dist-packages/sklearn/base.py:380: InconsistentVersionWarning: Trying to unpickle estimator LabelEncoder from version 1.2.2 when using version 1.6.1. This might lead to breaking code or invalid results. Use at your own risk. For more info please refer to:\n",
            "https://scikit-learn.org/stable/model_persistence.html#security-maintainability-limitations\n",
            "  warnings.warn(\n"
          ]
        },
        {
          "metadata": {
            "tags": null
          },
          "name": "stdout",
          "output_type": "stream",
          "text": [
            "\n",
            "🔽 Row 29\n",
            "   Attack Category: Normal\n",
            "   MSE: 0.311381\n",
            "   Result: 🟢 NORMAL\n",
            "📦 Loading Autoencoder model...\n",
            "✅ Model and weights loaded successfully!\n",
            "📦 Loading encoders...\n",
            "📄 Reading data from: /content/drive/MyDrive/hybrid_IDS/encoder/network_v.csv\n",
            "⚠️ Column 'attack_cat' is not encoded. Encoding now...\n",
            "⚠️ Column 'state' is not encoded. Encoding now...\n",
            "⚙️ Scaling features...\n"
          ]
        },
        {
          "metadata": {
            "tags": null
          },
          "name": "stderr",
          "output_type": "stream",
          "text": [
            "/usr/local/lib/python3.11/dist-packages/sklearn/base.py:380: InconsistentVersionWarning: Trying to unpickle estimator LabelEncoder from version 1.2.2 when using version 1.6.1. This might lead to breaking code or invalid results. Use at your own risk. For more info please refer to:\n",
            "https://scikit-learn.org/stable/model_persistence.html#security-maintainability-limitations\n",
            "  warnings.warn(\n"
          ]
        },
        {
          "metadata": {
            "tags": null
          },
          "name": "stdout",
          "output_type": "stream",
          "text": [
            "\n",
            "🔽 Row 30\n",
            "   Attack Category: Reconnaissance\n",
            "   MSE: 0.481718\n",
            "   Result: 🟢 NORMAL\n",
            "📦 Loading Autoencoder model...\n",
            "✅ Model and weights loaded successfully!\n",
            "📦 Loading encoders...\n",
            "📄 Reading data from: /content/drive/MyDrive/hybrid_IDS/encoder/network_v.csv\n",
            "⚠️ Column 'attack_cat' is not encoded. Encoding now...\n",
            "⚠️ Column 'state' is not encoded. Encoding now...\n",
            "⚙️ Scaling features...\n"
          ]
        },
        {
          "metadata": {
            "tags": null
          },
          "name": "stderr",
          "output_type": "stream",
          "text": [
            "/usr/local/lib/python3.11/dist-packages/sklearn/base.py:380: InconsistentVersionWarning: Trying to unpickle estimator LabelEncoder from version 1.2.2 when using version 1.6.1. This might lead to breaking code or invalid results. Use at your own risk. For more info please refer to:\n",
            "https://scikit-learn.org/stable/model_persistence.html#security-maintainability-limitations\n",
            "  warnings.warn(\n"
          ]
        },
        {
          "metadata": {
            "tags": null
          },
          "name": "stdout",
          "output_type": "stream",
          "text": [
            "\n",
            "🔽 Row 31\n",
            "   Attack Category: Normal\n",
            "   MSE: 0.439072\n",
            "   Result: 🟢 NORMAL\n",
            "📦 Loading Autoencoder model...\n",
            "✅ Model and weights loaded successfully!\n",
            "📦 Loading encoders...\n",
            "📄 Reading data from: /content/drive/MyDrive/hybrid_IDS/encoder/network_v.csv\n",
            "⚠️ Column 'attack_cat' is not encoded. Encoding now...\n",
            "⚠️ Column 'state' is not encoded. Encoding now...\n",
            "⚙️ Scaling features...\n"
          ]
        },
        {
          "metadata": {
            "tags": null
          },
          "name": "stderr",
          "output_type": "stream",
          "text": [
            "/usr/local/lib/python3.11/dist-packages/sklearn/base.py:380: InconsistentVersionWarning: Trying to unpickle estimator LabelEncoder from version 1.2.2 when using version 1.6.1. This might lead to breaking code or invalid results. Use at your own risk. For more info please refer to:\n",
            "https://scikit-learn.org/stable/model_persistence.html#security-maintainability-limitations\n",
            "  warnings.warn(\n"
          ]
        },
        {
          "metadata": {
            "tags": null
          },
          "name": "stdout",
          "output_type": "stream",
          "text": [
            "\n",
            "🔽 Row 32\n",
            "   Attack Category: Backdoor\n",
            "   MSE: 0.719353\n",
            "   Result: 🟢 NORMAL\n",
            "📦 Loading Autoencoder model...\n",
            "✅ Model and weights loaded successfully!\n",
            "📦 Loading encoders...\n",
            "📄 Reading data from: /content/drive/MyDrive/hybrid_IDS/encoder/network_v.csv\n",
            "⚠️ Column 'attack_cat' is not encoded. Encoding now...\n",
            "⚠️ Column 'state' is not encoded. Encoding now...\n",
            "⚙️ Scaling features...\n"
          ]
        },
        {
          "metadata": {
            "tags": null
          },
          "name": "stderr",
          "output_type": "stream",
          "text": [
            "/usr/local/lib/python3.11/dist-packages/sklearn/base.py:380: InconsistentVersionWarning: Trying to unpickle estimator LabelEncoder from version 1.2.2 when using version 1.6.1. This might lead to breaking code or invalid results. Use at your own risk. For more info please refer to:\n",
            "https://scikit-learn.org/stable/model_persistence.html#security-maintainability-limitations\n",
            "  warnings.warn(\n"
          ]
        },
        {
          "metadata": {
            "tags": null
          },
          "name": "stdout",
          "output_type": "stream",
          "text": [
            "\n",
            "🔽 Row 33\n",
            "   Attack Category: Normal\n",
            "   MSE: 0.467700\n",
            "   Result: 🟢 NORMAL\n",
            "📦 Loading Autoencoder model...\n",
            "✅ Model and weights loaded successfully!\n",
            "📦 Loading encoders...\n",
            "📄 Reading data from: /content/drive/MyDrive/hybrid_IDS/encoder/network_v.csv\n",
            "⚠️ Column 'attack_cat' is not encoded. Encoding now...\n",
            "⚠️ Column 'state' is not encoded. Encoding now...\n",
            "⚙️ Scaling features...\n"
          ]
        },
        {
          "metadata": {
            "tags": null
          },
          "name": "stderr",
          "output_type": "stream",
          "text": [
            "/usr/local/lib/python3.11/dist-packages/sklearn/base.py:380: InconsistentVersionWarning: Trying to unpickle estimator LabelEncoder from version 1.2.2 when using version 1.6.1. This might lead to breaking code or invalid results. Use at your own risk. For more info please refer to:\n",
            "https://scikit-learn.org/stable/model_persistence.html#security-maintainability-limitations\n",
            "  warnings.warn(\n"
          ]
        },
        {
          "metadata": {
            "tags": null
          },
          "name": "stdout",
          "output_type": "stream",
          "text": [
            "\n",
            "🔽 Row 34\n",
            "   Attack Category: Shellcode\n",
            "   MSE: 0.470795\n",
            "   Result: 🟢 NORMAL\n",
            "📦 Loading Autoencoder model...\n",
            "✅ Model and weights loaded successfully!\n",
            "📦 Loading encoders...\n",
            "📄 Reading data from: /content/drive/MyDrive/hybrid_IDS/encoder/network_v.csv\n",
            "⚠️ Column 'attack_cat' is not encoded. Encoding now...\n",
            "⚠️ Column 'state' is not encoded. Encoding now...\n",
            "⚙️ Scaling features...\n"
          ]
        },
        {
          "metadata": {
            "tags": null
          },
          "name": "stderr",
          "output_type": "stream",
          "text": [
            "/usr/local/lib/python3.11/dist-packages/sklearn/base.py:380: InconsistentVersionWarning: Trying to unpickle estimator LabelEncoder from version 1.2.2 when using version 1.6.1. This might lead to breaking code or invalid results. Use at your own risk. For more info please refer to:\n",
            "https://scikit-learn.org/stable/model_persistence.html#security-maintainability-limitations\n",
            "  warnings.warn(\n"
          ]
        },
        {
          "metadata": {
            "tags": null
          },
          "name": "stdout",
          "output_type": "stream",
          "text": [
            "\n",
            "🔽 Row 35\n",
            "   Attack Category: Exploits\n",
            "   MSE: 0.430533\n",
            "   Result: 🟢 NORMAL\n",
            "📦 Loading Autoencoder model...\n",
            "✅ Model and weights loaded successfully!\n",
            "📦 Loading encoders...\n",
            "📄 Reading data from: /content/drive/MyDrive/hybrid_IDS/encoder/network_v.csv\n",
            "⚠️ Column 'attack_cat' is not encoded. Encoding now...\n",
            "⚠️ Column 'state' is not encoded. Encoding now...\n",
            "⚙️ Scaling features...\n"
          ]
        },
        {
          "metadata": {
            "tags": null
          },
          "name": "stderr",
          "output_type": "stream",
          "text": [
            "/usr/local/lib/python3.11/dist-packages/sklearn/base.py:380: InconsistentVersionWarning: Trying to unpickle estimator LabelEncoder from version 1.2.2 when using version 1.6.1. This might lead to breaking code or invalid results. Use at your own risk. For more info please refer to:\n",
            "https://scikit-learn.org/stable/model_persistence.html#security-maintainability-limitations\n",
            "  warnings.warn(\n"
          ]
        },
        {
          "metadata": {
            "tags": null
          },
          "name": "stdout",
          "output_type": "stream",
          "text": [
            "\n",
            "🔽 Row 36\n",
            "   Attack Category: Generic\n",
            "   MSE: 0.470785\n",
            "   Result: 🟢 NORMAL\n",
            "📦 Loading Autoencoder model...\n",
            "✅ Model and weights loaded successfully!\n",
            "📦 Loading encoders...\n",
            "📄 Reading data from: /content/drive/MyDrive/hybrid_IDS/encoder/network_v.csv\n",
            "⚠️ Column 'attack_cat' is not encoded. Encoding now...\n",
            "⚠️ Column 'state' is not encoded. Encoding now...\n",
            "⚙️ Scaling features...\n"
          ]
        },
        {
          "metadata": {
            "tags": null
          },
          "name": "stderr",
          "output_type": "stream",
          "text": [
            "/usr/local/lib/python3.11/dist-packages/sklearn/base.py:380: InconsistentVersionWarning: Trying to unpickle estimator LabelEncoder from version 1.2.2 when using version 1.6.1. This might lead to breaking code or invalid results. Use at your own risk. For more info please refer to:\n",
            "https://scikit-learn.org/stable/model_persistence.html#security-maintainability-limitations\n",
            "  warnings.warn(\n"
          ]
        },
        {
          "metadata": {
            "tags": null
          },
          "name": "stdout",
          "output_type": "stream",
          "text": [
            "\n",
            "🔽 Row 37\n",
            "   Attack Category: Normal\n",
            "   MSE: 0.549404\n",
            "   Result: 🟢 NORMAL\n",
            "📦 Loading Autoencoder model...\n",
            "✅ Model and weights loaded successfully!\n",
            "📦 Loading encoders...\n",
            "📄 Reading data from: /content/drive/MyDrive/hybrid_IDS/encoder/network_v.csv\n",
            "⚠️ Column 'attack_cat' is not encoded. Encoding now...\n",
            "⚠️ Column 'state' is not encoded. Encoding now...\n",
            "⚙️ Scaling features...\n"
          ]
        },
        {
          "metadata": {
            "tags": null
          },
          "name": "stderr",
          "output_type": "stream",
          "text": [
            "/usr/local/lib/python3.11/dist-packages/sklearn/base.py:380: InconsistentVersionWarning: Trying to unpickle estimator LabelEncoder from version 1.2.2 when using version 1.6.1. This might lead to breaking code or invalid results. Use at your own risk. For more info please refer to:\n",
            "https://scikit-learn.org/stable/model_persistence.html#security-maintainability-limitations\n",
            "  warnings.warn(\n"
          ]
        },
        {
          "metadata": {
            "tags": null
          },
          "name": "stdout",
          "output_type": "stream",
          "text": [
            "\n",
            "🔽 Row 38\n",
            "   Attack Category: Exploits\n",
            "   MSE: 0.520388\n",
            "   Result: 🟢 NORMAL\n",
            "📦 Loading Autoencoder model...\n",
            "✅ Model and weights loaded successfully!\n",
            "📦 Loading encoders...\n",
            "📄 Reading data from: /content/drive/MyDrive/hybrid_IDS/encoder/network_v.csv\n",
            "⚠️ Column 'attack_cat' is not encoded. Encoding now...\n",
            "⚠️ Column 'state' is not encoded. Encoding now...\n",
            "⚙️ Scaling features...\n"
          ]
        },
        {
          "metadata": {
            "tags": null
          },
          "name": "stderr",
          "output_type": "stream",
          "text": [
            "/usr/local/lib/python3.11/dist-packages/sklearn/base.py:380: InconsistentVersionWarning: Trying to unpickle estimator LabelEncoder from version 1.2.2 when using version 1.6.1. This might lead to breaking code or invalid results. Use at your own risk. For more info please refer to:\n",
            "https://scikit-learn.org/stable/model_persistence.html#security-maintainability-limitations\n",
            "  warnings.warn(\n"
          ]
        },
        {
          "metadata": {
            "tags": null
          },
          "name": "stdout",
          "output_type": "stream",
          "text": [
            "\n",
            "🔽 Row 39\n",
            "   Attack Category: Fuzzers\n",
            "   MSE: 0.349692\n",
            "   Result: 🟢 NORMAL\n",
            "📦 Loading Autoencoder model...\n",
            "✅ Model and weights loaded successfully!\n",
            "📦 Loading encoders...\n",
            "📄 Reading data from: /content/drive/MyDrive/hybrid_IDS/encoder/network_v.csv\n",
            "⚠️ Column 'attack_cat' is not encoded. Encoding now...\n",
            "⚠️ Column 'state' is not encoded. Encoding now...\n",
            "⚙️ Scaling features...\n"
          ]
        },
        {
          "metadata": {
            "tags": null
          },
          "name": "stderr",
          "output_type": "stream",
          "text": [
            "/usr/local/lib/python3.11/dist-packages/sklearn/base.py:380: InconsistentVersionWarning: Trying to unpickle estimator LabelEncoder from version 1.2.2 when using version 1.6.1. This might lead to breaking code or invalid results. Use at your own risk. For more info please refer to:\n",
            "https://scikit-learn.org/stable/model_persistence.html#security-maintainability-limitations\n",
            "  warnings.warn(\n"
          ]
        },
        {
          "metadata": {
            "tags": null
          },
          "name": "stdout",
          "output_type": "stream",
          "text": [
            "\n",
            "🔽 Row 40\n",
            "   Attack Category: Exploits\n",
            "   MSE: 0.541671\n",
            "   Result: 🟢 NORMAL\n",
            "📦 Loading Autoencoder model...\n",
            "✅ Model and weights loaded successfully!\n",
            "📦 Loading encoders...\n",
            "📄 Reading data from: /content/drive/MyDrive/hybrid_IDS/encoder/network_v.csv\n",
            "⚠️ Column 'attack_cat' is not encoded. Encoding now...\n",
            "⚠️ Column 'state' is not encoded. Encoding now...\n",
            "⚙️ Scaling features...\n"
          ]
        },
        {
          "metadata": {
            "tags": null
          },
          "name": "stderr",
          "output_type": "stream",
          "text": [
            "/usr/local/lib/python3.11/dist-packages/sklearn/base.py:380: InconsistentVersionWarning: Trying to unpickle estimator LabelEncoder from version 1.2.2 when using version 1.6.1. This might lead to breaking code or invalid results. Use at your own risk. For more info please refer to:\n",
            "https://scikit-learn.org/stable/model_persistence.html#security-maintainability-limitations\n",
            "  warnings.warn(\n"
          ]
        },
        {
          "metadata": {
            "tags": null
          },
          "name": "stdout",
          "output_type": "stream",
          "text": [
            "\n",
            "🔽 Row 41\n",
            "   Attack Category: Normal\n",
            "   MSE: 0.476342\n",
            "   Result: 🟢 NORMAL\n",
            "INFO:     188.133.25.101:0 - \"GET /predict_all HTTP/1.1\" 200 OK\n",
            "📄 Reading data from: /content/drive/MyDrive/hybrid_IDS/encoder/network_v.csv\n",
            "📦 Loading Autoencoder model...\n",
            "✅ Model and weights loaded successfully!\n",
            "📦 Loading encoders...\n",
            "📄 Reading data from: /content/drive/MyDrive/hybrid_IDS/encoder/network_v.csv\n",
            "⚠️ Column 'attack_cat' is not encoded. Encoding now...\n",
            "⚠️ Column 'state' is not encoded. Encoding now...\n",
            "⚙️ Scaling features...\n"
          ]
        },
        {
          "metadata": {
            "tags": null
          },
          "name": "stderr",
          "output_type": "stream",
          "text": [
            "/usr/local/lib/python3.11/dist-packages/sklearn/base.py:380: InconsistentVersionWarning: Trying to unpickle estimator LabelEncoder from version 1.2.2 when using version 1.6.1. This might lead to breaking code or invalid results. Use at your own risk. For more info please refer to:\n",
            "https://scikit-learn.org/stable/model_persistence.html#security-maintainability-limitations\n",
            "  warnings.warn(\n"
          ]
        },
        {
          "metadata": {
            "tags": null
          },
          "name": "stdout",
          "output_type": "stream",
          "text": [
            "\n",
            "🔽 Row 0\n",
            "   Attack Category: Normal\n",
            "   MSE: 0.933262\n",
            "   Result: 🟢 NORMAL\n",
            "📦 Loading Autoencoder model...\n",
            "✅ Model and weights loaded successfully!\n",
            "📦 Loading encoders...\n",
            "📄 Reading data from: /content/drive/MyDrive/hybrid_IDS/encoder/network_v.csv\n",
            "⚠️ Column 'attack_cat' is not encoded. Encoding now...\n",
            "⚠️ Column 'state' is not encoded. Encoding now...\n",
            "⚙️ Scaling features...\n"
          ]
        },
        {
          "metadata": {
            "tags": null
          },
          "name": "stderr",
          "output_type": "stream",
          "text": [
            "/usr/local/lib/python3.11/dist-packages/sklearn/base.py:380: InconsistentVersionWarning: Trying to unpickle estimator LabelEncoder from version 1.2.2 when using version 1.6.1. This might lead to breaking code or invalid results. Use at your own risk. For more info please refer to:\n",
            "https://scikit-learn.org/stable/model_persistence.html#security-maintainability-limitations\n",
            "  warnings.warn(\n"
          ]
        },
        {
          "metadata": {
            "tags": null
          },
          "name": "stdout",
          "output_type": "stream",
          "text": [
            "\n",
            "🔽 Row 1\n",
            "   Attack Category: Reconnaissance\n",
            "   MSE: 0.793920\n",
            "   Result: 🟢 NORMAL\n",
            "📦 Loading Autoencoder model...\n",
            "✅ Model and weights loaded successfully!\n",
            "📦 Loading encoders...\n",
            "📄 Reading data from: /content/drive/MyDrive/hybrid_IDS/encoder/network_v.csv\n",
            "⚠️ Column 'attack_cat' is not encoded. Encoding now...\n",
            "⚠️ Column 'state' is not encoded. Encoding now...\n",
            "⚙️ Scaling features...\n"
          ]
        },
        {
          "metadata": {
            "tags": null
          },
          "name": "stderr",
          "output_type": "stream",
          "text": [
            "/usr/local/lib/python3.11/dist-packages/sklearn/base.py:380: InconsistentVersionWarning: Trying to unpickle estimator LabelEncoder from version 1.2.2 when using version 1.6.1. This might lead to breaking code or invalid results. Use at your own risk. For more info please refer to:\n",
            "https://scikit-learn.org/stable/model_persistence.html#security-maintainability-limitations\n",
            "  warnings.warn(\n"
          ]
        },
        {
          "metadata": {
            "tags": null
          },
          "name": "stdout",
          "output_type": "stream",
          "text": [
            "\n",
            "🔽 Row 2\n",
            "   Attack Category: DoS\n",
            "   MSE: 0.985740\n",
            "   Result: 🟢 NORMAL\n",
            "📦 Loading Autoencoder model...\n",
            "✅ Model and weights loaded successfully!\n",
            "📦 Loading encoders...\n",
            "📄 Reading data from: /content/drive/MyDrive/hybrid_IDS/encoder/network_v.csv\n",
            "⚠️ Column 'attack_cat' is not encoded. Encoding now...\n",
            "⚠️ Column 'state' is not encoded. Encoding now...\n",
            "⚙️ Scaling features...\n"
          ]
        },
        {
          "metadata": {
            "tags": null
          },
          "name": "stderr",
          "output_type": "stream",
          "text": [
            "/usr/local/lib/python3.11/dist-packages/sklearn/base.py:380: InconsistentVersionWarning: Trying to unpickle estimator LabelEncoder from version 1.2.2 when using version 1.6.1. This might lead to breaking code or invalid results. Use at your own risk. For more info please refer to:\n",
            "https://scikit-learn.org/stable/model_persistence.html#security-maintainability-limitations\n",
            "  warnings.warn(\n"
          ]
        },
        {
          "metadata": {
            "tags": null
          },
          "name": "stdout",
          "output_type": "stream",
          "text": [
            "\n",
            "🔽 Row 3\n",
            "   Attack Category: Normal\n",
            "   MSE: 0.759206\n",
            "   Result: 🟢 NORMAL\n",
            "📦 Loading Autoencoder model...\n",
            "✅ Model and weights loaded successfully!\n",
            "📦 Loading encoders...\n",
            "📄 Reading data from: /content/drive/MyDrive/hybrid_IDS/encoder/network_v.csv\n",
            "⚠️ Column 'attack_cat' is not encoded. Encoding now...\n",
            "⚠️ Column 'state' is not encoded. Encoding now...\n",
            "⚙️ Scaling features...\n"
          ]
        },
        {
          "metadata": {
            "tags": null
          },
          "name": "stderr",
          "output_type": "stream",
          "text": [
            "/usr/local/lib/python3.11/dist-packages/sklearn/base.py:380: InconsistentVersionWarning: Trying to unpickle estimator LabelEncoder from version 1.2.2 when using version 1.6.1. This might lead to breaking code or invalid results. Use at your own risk. For more info please refer to:\n",
            "https://scikit-learn.org/stable/model_persistence.html#security-maintainability-limitations\n",
            "  warnings.warn(\n"
          ]
        },
        {
          "metadata": {
            "tags": null
          },
          "name": "stdout",
          "output_type": "stream",
          "text": [
            "\n",
            "🔽 Row 4\n",
            "   Attack Category: Worms\n",
            "   MSE: 1.062906\n",
            "   Result: 🟢 NORMAL\n",
            "📦 Loading Autoencoder model...\n",
            "✅ Model and weights loaded successfully!\n",
            "📦 Loading encoders...\n",
            "📄 Reading data from: /content/drive/MyDrive/hybrid_IDS/encoder/network_v.csv\n",
            "⚠️ Column 'attack_cat' is not encoded. Encoding now...\n",
            "⚠️ Column 'state' is not encoded. Encoding now...\n",
            "⚙️ Scaling features...\n"
          ]
        },
        {
          "metadata": {
            "tags": null
          },
          "name": "stderr",
          "output_type": "stream",
          "text": [
            "/usr/local/lib/python3.11/dist-packages/sklearn/base.py:380: InconsistentVersionWarning: Trying to unpickle estimator LabelEncoder from version 1.2.2 when using version 1.6.1. This might lead to breaking code or invalid results. Use at your own risk. For more info please refer to:\n",
            "https://scikit-learn.org/stable/model_persistence.html#security-maintainability-limitations\n",
            "  warnings.warn(\n"
          ]
        },
        {
          "metadata": {
            "tags": null
          },
          "name": "stdout",
          "output_type": "stream",
          "text": [
            "\n",
            "🔽 Row 5\n",
            "   Attack Category: DoS\n",
            "   MSE: 3.823621\n",
            "   Result: 🟢 NORMAL\n",
            "📦 Loading Autoencoder model...\n",
            "✅ Model and weights loaded successfully!\n",
            "📦 Loading encoders...\n",
            "📄 Reading data from: /content/drive/MyDrive/hybrid_IDS/encoder/network_v.csv\n",
            "⚠️ Column 'attack_cat' is not encoded. Encoding now...\n",
            "⚠️ Column 'state' is not encoded. Encoding now...\n",
            "⚙️ Scaling features...\n"
          ]
        },
        {
          "metadata": {
            "tags": null
          },
          "name": "stderr",
          "output_type": "stream",
          "text": [
            "/usr/local/lib/python3.11/dist-packages/sklearn/base.py:380: InconsistentVersionWarning: Trying to unpickle estimator LabelEncoder from version 1.2.2 when using version 1.6.1. This might lead to breaking code or invalid results. Use at your own risk. For more info please refer to:\n",
            "https://scikit-learn.org/stable/model_persistence.html#security-maintainability-limitations\n",
            "  warnings.warn(\n"
          ]
        },
        {
          "metadata": {
            "tags": null
          },
          "name": "stdout",
          "output_type": "stream",
          "text": [
            "\n",
            "🔽 Row 6\n",
            "   Attack Category: Normal\n",
            "   MSE: 0.396471\n",
            "   Result: 🟢 NORMAL\n",
            "📦 Loading Autoencoder model...\n",
            "✅ Model and weights loaded successfully!\n",
            "📦 Loading encoders...\n",
            "📄 Reading data from: /content/drive/MyDrive/hybrid_IDS/encoder/network_v.csv\n",
            "⚠️ Column 'attack_cat' is not encoded. Encoding now...\n",
            "⚠️ Column 'state' is not encoded. Encoding now...\n",
            "⚙️ Scaling features...\n"
          ]
        },
        {
          "metadata": {
            "tags": null
          },
          "name": "stderr",
          "output_type": "stream",
          "text": [
            "/usr/local/lib/python3.11/dist-packages/sklearn/base.py:380: InconsistentVersionWarning: Trying to unpickle estimator LabelEncoder from version 1.2.2 when using version 1.6.1. This might lead to breaking code or invalid results. Use at your own risk. For more info please refer to:\n",
            "https://scikit-learn.org/stable/model_persistence.html#security-maintainability-limitations\n",
            "  warnings.warn(\n"
          ]
        },
        {
          "metadata": {
            "tags": null
          },
          "name": "stdout",
          "output_type": "stream",
          "text": [
            "\n",
            "🔽 Row 7\n",
            "   Attack Category: Reconnaissance\n",
            "   MSE: 0.445360\n",
            "   Result: 🟢 NORMAL\n",
            "📦 Loading Autoencoder model...\n",
            "✅ Model and weights loaded successfully!\n",
            "📦 Loading encoders...\n",
            "📄 Reading data from: /content/drive/MyDrive/hybrid_IDS/encoder/network_v.csv\n",
            "⚠️ Column 'attack_cat' is not encoded. Encoding now...\n",
            "⚠️ Column 'state' is not encoded. Encoding now...\n",
            "⚙️ Scaling features...\n"
          ]
        },
        {
          "metadata": {
            "tags": null
          },
          "name": "stderr",
          "output_type": "stream",
          "text": [
            "/usr/local/lib/python3.11/dist-packages/sklearn/base.py:380: InconsistentVersionWarning: Trying to unpickle estimator LabelEncoder from version 1.2.2 when using version 1.6.1. This might lead to breaking code or invalid results. Use at your own risk. For more info please refer to:\n",
            "https://scikit-learn.org/stable/model_persistence.html#security-maintainability-limitations\n",
            "  warnings.warn(\n"
          ]
        },
        {
          "metadata": {
            "tags": null
          },
          "name": "stdout",
          "output_type": "stream",
          "text": [
            "\n",
            "🔽 Row 8\n",
            "   Attack Category: Normal\n",
            "   MSE: 0.375904\n",
            "   Result: 🟢 NORMAL\n",
            "📦 Loading Autoencoder model...\n",
            "✅ Model and weights loaded successfully!\n",
            "📦 Loading encoders...\n",
            "📄 Reading data from: /content/drive/MyDrive/hybrid_IDS/encoder/network_v.csv\n",
            "⚠️ Column 'attack_cat' is not encoded. Encoding now...\n",
            "⚠️ Column 'state' is not encoded. Encoding now...\n",
            "⚙️ Scaling features...\n"
          ]
        },
        {
          "metadata": {
            "tags": null
          },
          "name": "stderr",
          "output_type": "stream",
          "text": [
            "/usr/local/lib/python3.11/dist-packages/sklearn/base.py:380: InconsistentVersionWarning: Trying to unpickle estimator LabelEncoder from version 1.2.2 when using version 1.6.1. This might lead to breaking code or invalid results. Use at your own risk. For more info please refer to:\n",
            "https://scikit-learn.org/stable/model_persistence.html#security-maintainability-limitations\n",
            "  warnings.warn(\n"
          ]
        },
        {
          "metadata": {
            "tags": null
          },
          "name": "stdout",
          "output_type": "stream",
          "text": [
            "\n",
            "🔽 Row 9\n",
            "   Attack Category: Normal\n",
            "   MSE: 0.154491\n",
            "   Result: 🟢 NORMAL\n",
            "📦 Loading Autoencoder model...\n",
            "✅ Model and weights loaded successfully!\n",
            "📦 Loading encoders...\n",
            "📄 Reading data from: /content/drive/MyDrive/hybrid_IDS/encoder/network_v.csv\n",
            "⚠️ Column 'attack_cat' is not encoded. Encoding now...\n",
            "⚠️ Column 'state' is not encoded. Encoding now...\n",
            "⚙️ Scaling features...\n"
          ]
        },
        {
          "metadata": {
            "tags": null
          },
          "name": "stderr",
          "output_type": "stream",
          "text": [
            "/usr/local/lib/python3.11/dist-packages/sklearn/base.py:380: InconsistentVersionWarning: Trying to unpickle estimator LabelEncoder from version 1.2.2 when using version 1.6.1. This might lead to breaking code or invalid results. Use at your own risk. For more info please refer to:\n",
            "https://scikit-learn.org/stable/model_persistence.html#security-maintainability-limitations\n",
            "  warnings.warn(\n"
          ]
        },
        {
          "metadata": {
            "tags": null
          },
          "name": "stdout",
          "output_type": "stream",
          "text": [
            "\n",
            "🔽 Row 10\n",
            "   Attack Category: Fuzzers\n",
            "   MSE: 0.311782\n",
            "   Result: 🟢 NORMAL\n",
            "📦 Loading Autoencoder model...\n",
            "✅ Model and weights loaded successfully!\n",
            "📦 Loading encoders...\n",
            "📄 Reading data from: /content/drive/MyDrive/hybrid_IDS/encoder/network_v.csv\n",
            "⚠️ Column 'attack_cat' is not encoded. Encoding now...\n",
            "⚠️ Column 'state' is not encoded. Encoding now...\n",
            "⚙️ Scaling features...\n"
          ]
        },
        {
          "metadata": {
            "tags": null
          },
          "name": "stderr",
          "output_type": "stream",
          "text": [
            "/usr/local/lib/python3.11/dist-packages/sklearn/base.py:380: InconsistentVersionWarning: Trying to unpickle estimator LabelEncoder from version 1.2.2 when using version 1.6.1. This might lead to breaking code or invalid results. Use at your own risk. For more info please refer to:\n",
            "https://scikit-learn.org/stable/model_persistence.html#security-maintainability-limitations\n",
            "  warnings.warn(\n"
          ]
        },
        {
          "metadata": {
            "tags": null
          },
          "name": "stdout",
          "output_type": "stream",
          "text": [
            "\n",
            "🔽 Row 11\n",
            "   Attack Category: Normal\n",
            "   MSE: 0.389698\n",
            "   Result: 🟢 NORMAL\n",
            "📦 Loading Autoencoder model...\n",
            "✅ Model and weights loaded successfully!\n",
            "📦 Loading encoders...\n",
            "📄 Reading data from: /content/drive/MyDrive/hybrid_IDS/encoder/network_v.csv\n",
            "⚠️ Column 'attack_cat' is not encoded. Encoding now...\n",
            "⚠️ Column 'state' is not encoded. Encoding now...\n",
            "⚙️ Scaling features...\n"
          ]
        },
        {
          "metadata": {
            "tags": null
          },
          "name": "stderr",
          "output_type": "stream",
          "text": [
            "/usr/local/lib/python3.11/dist-packages/sklearn/base.py:380: InconsistentVersionWarning: Trying to unpickle estimator LabelEncoder from version 1.2.2 when using version 1.6.1. This might lead to breaking code or invalid results. Use at your own risk. For more info please refer to:\n",
            "https://scikit-learn.org/stable/model_persistence.html#security-maintainability-limitations\n",
            "  warnings.warn(\n"
          ]
        },
        {
          "metadata": {
            "tags": null
          },
          "name": "stdout",
          "output_type": "stream",
          "text": [
            "\n",
            "🔽 Row 12\n",
            "   Attack Category: Normal\n",
            "   MSE: 0.357001\n",
            "   Result: 🟢 NORMAL\n",
            "📦 Loading Autoencoder model...\n",
            "✅ Model and weights loaded successfully!\n",
            "📦 Loading encoders...\n",
            "📄 Reading data from: /content/drive/MyDrive/hybrid_IDS/encoder/network_v.csv\n",
            "⚠️ Column 'attack_cat' is not encoded. Encoding now...\n",
            "⚠️ Column 'state' is not encoded. Encoding now...\n",
            "⚙️ Scaling features...\n"
          ]
        },
        {
          "metadata": {
            "tags": null
          },
          "name": "stderr",
          "output_type": "stream",
          "text": [
            "/usr/local/lib/python3.11/dist-packages/sklearn/base.py:380: InconsistentVersionWarning: Trying to unpickle estimator LabelEncoder from version 1.2.2 when using version 1.6.1. This might lead to breaking code or invalid results. Use at your own risk. For more info please refer to:\n",
            "https://scikit-learn.org/stable/model_persistence.html#security-maintainability-limitations\n",
            "  warnings.warn(\n"
          ]
        },
        {
          "metadata": {
            "tags": null
          },
          "name": "stdout",
          "output_type": "stream",
          "text": [
            "\n",
            "🔽 Row 13\n",
            "   Attack Category: Normal\n",
            "   MSE: 0.180363\n",
            "   Result: 🟢 NORMAL\n",
            "📦 Loading Autoencoder model...\n",
            "✅ Model and weights loaded successfully!\n",
            "📦 Loading encoders...\n",
            "📄 Reading data from: /content/drive/MyDrive/hybrid_IDS/encoder/network_v.csv\n",
            "⚠️ Column 'attack_cat' is not encoded. Encoding now...\n",
            "⚠️ Column 'state' is not encoded. Encoding now...\n",
            "⚙️ Scaling features...\n"
          ]
        },
        {
          "metadata": {
            "tags": null
          },
          "name": "stderr",
          "output_type": "stream",
          "text": [
            "/usr/local/lib/python3.11/dist-packages/sklearn/base.py:380: InconsistentVersionWarning: Trying to unpickle estimator LabelEncoder from version 1.2.2 when using version 1.6.1. This might lead to breaking code or invalid results. Use at your own risk. For more info please refer to:\n",
            "https://scikit-learn.org/stable/model_persistence.html#security-maintainability-limitations\n",
            "  warnings.warn(\n"
          ]
        },
        {
          "metadata": {
            "tags": null
          },
          "name": "stdout",
          "output_type": "stream",
          "text": [
            "\n",
            "🔽 Row 14\n",
            "   Attack Category: Generic\n",
            "   MSE: 0.572207\n",
            "   Result: 🟢 NORMAL\n",
            "📦 Loading Autoencoder model...\n",
            "✅ Model and weights loaded successfully!\n",
            "📦 Loading encoders...\n",
            "📄 Reading data from: /content/drive/MyDrive/hybrid_IDS/encoder/network_v.csv\n",
            "⚠️ Column 'attack_cat' is not encoded. Encoding now...\n",
            "⚠️ Column 'state' is not encoded. Encoding now...\n",
            "⚙️ Scaling features...\n"
          ]
        },
        {
          "metadata": {
            "tags": null
          },
          "name": "stderr",
          "output_type": "stream",
          "text": [
            "/usr/local/lib/python3.11/dist-packages/sklearn/base.py:380: InconsistentVersionWarning: Trying to unpickle estimator LabelEncoder from version 1.2.2 when using version 1.6.1. This might lead to breaking code or invalid results. Use at your own risk. For more info please refer to:\n",
            "https://scikit-learn.org/stable/model_persistence.html#security-maintainability-limitations\n",
            "  warnings.warn(\n"
          ]
        },
        {
          "metadata": {
            "tags": null
          },
          "name": "stdout",
          "output_type": "stream",
          "text": [
            "\n",
            "🔽 Row 15\n",
            "   Attack Category: Normal\n",
            "   MSE: 0.191020\n",
            "   Result: 🟢 NORMAL\n",
            "📦 Loading Autoencoder model...\n",
            "✅ Model and weights loaded successfully!\n",
            "📦 Loading encoders...\n",
            "📄 Reading data from: /content/drive/MyDrive/hybrid_IDS/encoder/network_v.csv\n",
            "⚠️ Column 'attack_cat' is not encoded. Encoding now...\n",
            "⚠️ Column 'state' is not encoded. Encoding now...\n",
            "⚙️ Scaling features...\n"
          ]
        },
        {
          "metadata": {
            "tags": null
          },
          "name": "stderr",
          "output_type": "stream",
          "text": [
            "/usr/local/lib/python3.11/dist-packages/sklearn/base.py:380: InconsistentVersionWarning: Trying to unpickle estimator LabelEncoder from version 1.2.2 when using version 1.6.1. This might lead to breaking code or invalid results. Use at your own risk. For more info please refer to:\n",
            "https://scikit-learn.org/stable/model_persistence.html#security-maintainability-limitations\n",
            "  warnings.warn(\n"
          ]
        },
        {
          "metadata": {
            "tags": null
          },
          "name": "stdout",
          "output_type": "stream",
          "text": [
            "\n",
            "🔽 Row 16\n",
            "   Attack Category: Generic\n",
            "   MSE: 0.538330\n",
            "   Result: 🟢 NORMAL\n",
            "📦 Loading Autoencoder model...\n",
            "✅ Model and weights loaded successfully!\n",
            "📦 Loading encoders...\n",
            "📄 Reading data from: /content/drive/MyDrive/hybrid_IDS/encoder/network_v.csv\n",
            "⚠️ Column 'attack_cat' is not encoded. Encoding now...\n",
            "⚠️ Column 'state' is not encoded. Encoding now...\n",
            "⚙️ Scaling features...\n"
          ]
        },
        {
          "metadata": {
            "tags": null
          },
          "name": "stderr",
          "output_type": "stream",
          "text": [
            "/usr/local/lib/python3.11/dist-packages/sklearn/base.py:380: InconsistentVersionWarning: Trying to unpickle estimator LabelEncoder from version 1.2.2 when using version 1.6.1. This might lead to breaking code or invalid results. Use at your own risk. For more info please refer to:\n",
            "https://scikit-learn.org/stable/model_persistence.html#security-maintainability-limitations\n",
            "  warnings.warn(\n"
          ]
        },
        {
          "metadata": {
            "tags": null
          },
          "name": "stdout",
          "output_type": "stream",
          "text": [
            "\n",
            "🔽 Row 17\n",
            "   Attack Category: Generic\n",
            "   MSE: 2.167812\n",
            "   Result: 🟢 NORMAL\n",
            "📦 Loading Autoencoder model...\n",
            "✅ Model and weights loaded successfully!\n",
            "📦 Loading encoders...\n",
            "📄 Reading data from: /content/drive/MyDrive/hybrid_IDS/encoder/network_v.csv\n",
            "⚠️ Column 'attack_cat' is not encoded. Encoding now...\n",
            "⚠️ Column 'state' is not encoded. Encoding now...\n",
            "⚙️ Scaling features...\n"
          ]
        },
        {
          "metadata": {
            "tags": null
          },
          "name": "stderr",
          "output_type": "stream",
          "text": [
            "/usr/local/lib/python3.11/dist-packages/sklearn/base.py:380: InconsistentVersionWarning: Trying to unpickle estimator LabelEncoder from version 1.2.2 when using version 1.6.1. This might lead to breaking code or invalid results. Use at your own risk. For more info please refer to:\n",
            "https://scikit-learn.org/stable/model_persistence.html#security-maintainability-limitations\n",
            "  warnings.warn(\n"
          ]
        },
        {
          "metadata": {
            "tags": null
          },
          "name": "stdout",
          "output_type": "stream",
          "text": [
            "\n",
            "🔽 Row 18\n",
            "   Attack Category: Analysis\n",
            "   MSE: 0.358345\n",
            "   Result: 🟢 NORMAL\n",
            "📦 Loading Autoencoder model...\n",
            "✅ Model and weights loaded successfully!\n",
            "📦 Loading encoders...\n",
            "📄 Reading data from: /content/drive/MyDrive/hybrid_IDS/encoder/network_v.csv\n",
            "⚠️ Column 'attack_cat' is not encoded. Encoding now...\n",
            "⚠️ Column 'state' is not encoded. Encoding now...\n",
            "⚙️ Scaling features...\n"
          ]
        },
        {
          "metadata": {
            "tags": null
          },
          "name": "stderr",
          "output_type": "stream",
          "text": [
            "/usr/local/lib/python3.11/dist-packages/sklearn/base.py:380: InconsistentVersionWarning: Trying to unpickle estimator LabelEncoder from version 1.2.2 when using version 1.6.1. This might lead to breaking code or invalid results. Use at your own risk. For more info please refer to:\n",
            "https://scikit-learn.org/stable/model_persistence.html#security-maintainability-limitations\n",
            "  warnings.warn(\n"
          ]
        },
        {
          "metadata": {
            "tags": null
          },
          "name": "stdout",
          "output_type": "stream",
          "text": [
            "\n",
            "🔽 Row 19\n",
            "   Attack Category: Worms\n",
            "   MSE: 0.533559\n",
            "   Result: 🟢 NORMAL\n",
            "📦 Loading Autoencoder model...\n",
            "✅ Model and weights loaded successfully!\n",
            "📦 Loading encoders...\n",
            "📄 Reading data from: /content/drive/MyDrive/hybrid_IDS/encoder/network_v.csv\n",
            "⚠️ Column 'attack_cat' is not encoded. Encoding now...\n",
            "⚠️ Column 'state' is not encoded. Encoding now...\n",
            "⚙️ Scaling features...\n"
          ]
        },
        {
          "metadata": {
            "tags": null
          },
          "name": "stderr",
          "output_type": "stream",
          "text": [
            "/usr/local/lib/python3.11/dist-packages/sklearn/base.py:380: InconsistentVersionWarning: Trying to unpickle estimator LabelEncoder from version 1.2.2 when using version 1.6.1. This might lead to breaking code or invalid results. Use at your own risk. For more info please refer to:\n",
            "https://scikit-learn.org/stable/model_persistence.html#security-maintainability-limitations\n",
            "  warnings.warn(\n"
          ]
        },
        {
          "metadata": {
            "tags": null
          },
          "name": "stdout",
          "output_type": "stream",
          "text": [
            "\n",
            "🔽 Row 20\n",
            "   Attack Category: Normal\n",
            "   MSE: 0.352886\n",
            "   Result: 🟢 NORMAL\n",
            "📦 Loading Autoencoder model...\n",
            "✅ Model and weights loaded successfully!\n",
            "📦 Loading encoders...\n",
            "📄 Reading data from: /content/drive/MyDrive/hybrid_IDS/encoder/network_v.csv\n",
            "⚠️ Column 'attack_cat' is not encoded. Encoding now...\n",
            "⚠️ Column 'state' is not encoded. Encoding now...\n",
            "⚙️ Scaling features...\n"
          ]
        },
        {
          "metadata": {
            "tags": null
          },
          "name": "stderr",
          "output_type": "stream",
          "text": [
            "/usr/local/lib/python3.11/dist-packages/sklearn/base.py:380: InconsistentVersionWarning: Trying to unpickle estimator LabelEncoder from version 1.2.2 when using version 1.6.1. This might lead to breaking code or invalid results. Use at your own risk. For more info please refer to:\n",
            "https://scikit-learn.org/stable/model_persistence.html#security-maintainability-limitations\n",
            "  warnings.warn(\n"
          ]
        },
        {
          "metadata": {
            "tags": null
          },
          "name": "stdout",
          "output_type": "stream",
          "text": [
            "\n",
            "🔽 Row 21\n",
            "   Attack Category: Generic\n",
            "   MSE: 0.218436\n",
            "   Result: 🟢 NORMAL\n",
            "📦 Loading Autoencoder model...\n",
            "✅ Model and weights loaded successfully!\n",
            "📦 Loading encoders...\n",
            "📄 Reading data from: /content/drive/MyDrive/hybrid_IDS/encoder/network_v.csv\n",
            "⚠️ Column 'attack_cat' is not encoded. Encoding now...\n",
            "⚠️ Column 'state' is not encoded. Encoding now...\n",
            "⚙️ Scaling features...\n"
          ]
        },
        {
          "metadata": {
            "tags": null
          },
          "name": "stderr",
          "output_type": "stream",
          "text": [
            "/usr/local/lib/python3.11/dist-packages/sklearn/base.py:380: InconsistentVersionWarning: Trying to unpickle estimator LabelEncoder from version 1.2.2 when using version 1.6.1. This might lead to breaking code or invalid results. Use at your own risk. For more info please refer to:\n",
            "https://scikit-learn.org/stable/model_persistence.html#security-maintainability-limitations\n",
            "  warnings.warn(\n"
          ]
        },
        {
          "metadata": {
            "tags": null
          },
          "name": "stdout",
          "output_type": "stream",
          "text": [
            "\n",
            "🔽 Row 22\n",
            "   Attack Category: Normal\n",
            "   MSE: 0.358624\n",
            "   Result: 🟢 NORMAL\n",
            "📦 Loading Autoencoder model...\n",
            "✅ Model and weights loaded successfully!\n",
            "📦 Loading encoders...\n",
            "📄 Reading data from: /content/drive/MyDrive/hybrid_IDS/encoder/network_v.csv\n",
            "⚠️ Column 'attack_cat' is not encoded. Encoding now...\n",
            "⚠️ Column 'state' is not encoded. Encoding now...\n",
            "⚙️ Scaling features...\n"
          ]
        },
        {
          "metadata": {
            "tags": null
          },
          "name": "stderr",
          "output_type": "stream",
          "text": [
            "/usr/local/lib/python3.11/dist-packages/sklearn/base.py:380: InconsistentVersionWarning: Trying to unpickle estimator LabelEncoder from version 1.2.2 when using version 1.6.1. This might lead to breaking code or invalid results. Use at your own risk. For more info please refer to:\n",
            "https://scikit-learn.org/stable/model_persistence.html#security-maintainability-limitations\n",
            "  warnings.warn(\n"
          ]
        },
        {
          "metadata": {
            "tags": null
          },
          "name": "stdout",
          "output_type": "stream",
          "text": [
            "\n",
            "🔽 Row 23\n",
            "   Attack Category: Normal\n",
            "   MSE: 0.227972\n",
            "   Result: 🟢 NORMAL\n",
            "📦 Loading Autoencoder model...\n",
            "✅ Model and weights loaded successfully!\n",
            "📦 Loading encoders...\n",
            "📄 Reading data from: /content/drive/MyDrive/hybrid_IDS/encoder/network_v.csv\n",
            "⚠️ Column 'attack_cat' is not encoded. Encoding now...\n",
            "⚠️ Column 'state' is not encoded. Encoding now...\n",
            "⚙️ Scaling features...\n"
          ]
        },
        {
          "metadata": {
            "tags": null
          },
          "name": "stderr",
          "output_type": "stream",
          "text": [
            "/usr/local/lib/python3.11/dist-packages/sklearn/base.py:380: InconsistentVersionWarning: Trying to unpickle estimator LabelEncoder from version 1.2.2 when using version 1.6.1. This might lead to breaking code or invalid results. Use at your own risk. For more info please refer to:\n",
            "https://scikit-learn.org/stable/model_persistence.html#security-maintainability-limitations\n",
            "  warnings.warn(\n"
          ]
        },
        {
          "metadata": {
            "tags": null
          },
          "name": "stdout",
          "output_type": "stream",
          "text": [
            "\n",
            "🔽 Row 24\n",
            "   Attack Category: Generic\n",
            "   MSE: 0.399794\n",
            "   Result: 🟢 NORMAL\n",
            "📦 Loading Autoencoder model...\n",
            "✅ Model and weights loaded successfully!\n",
            "📦 Loading encoders...\n",
            "📄 Reading data from: /content/drive/MyDrive/hybrid_IDS/encoder/network_v.csv\n",
            "⚠️ Column 'attack_cat' is not encoded. Encoding now...\n",
            "⚠️ Column 'state' is not encoded. Encoding now...\n",
            "⚙️ Scaling features...\n"
          ]
        },
        {
          "metadata": {
            "tags": null
          },
          "name": "stderr",
          "output_type": "stream",
          "text": [
            "/usr/local/lib/python3.11/dist-packages/sklearn/base.py:380: InconsistentVersionWarning: Trying to unpickle estimator LabelEncoder from version 1.2.2 when using version 1.6.1. This might lead to breaking code or invalid results. Use at your own risk. For more info please refer to:\n",
            "https://scikit-learn.org/stable/model_persistence.html#security-maintainability-limitations\n",
            "  warnings.warn(\n"
          ]
        },
        {
          "metadata": {
            "tags": null
          },
          "name": "stdout",
          "output_type": "stream",
          "text": [
            "\n",
            "🔽 Row 25\n",
            "   Attack Category: Reconnaissance\n",
            "   MSE: 0.819887\n",
            "   Result: 🟢 NORMAL\n",
            "📦 Loading Autoencoder model...\n",
            "✅ Model and weights loaded successfully!\n",
            "📦 Loading encoders...\n",
            "📄 Reading data from: /content/drive/MyDrive/hybrid_IDS/encoder/network_v.csv\n",
            "⚠️ Column 'attack_cat' is not encoded. Encoding now...\n",
            "⚠️ Column 'state' is not encoded. Encoding now...\n",
            "⚙️ Scaling features...\n"
          ]
        },
        {
          "metadata": {
            "tags": null
          },
          "name": "stderr",
          "output_type": "stream",
          "text": [
            "/usr/local/lib/python3.11/dist-packages/sklearn/base.py:380: InconsistentVersionWarning: Trying to unpickle estimator LabelEncoder from version 1.2.2 when using version 1.6.1. This might lead to breaking code or invalid results. Use at your own risk. For more info please refer to:\n",
            "https://scikit-learn.org/stable/model_persistence.html#security-maintainability-limitations\n",
            "  warnings.warn(\n"
          ]
        },
        {
          "metadata": {
            "tags": null
          },
          "name": "stdout",
          "output_type": "stream",
          "text": [
            "\n",
            "🔽 Row 26\n",
            "   Attack Category: Reconnaissance\n",
            "   MSE: 0.349406\n",
            "   Result: 🟢 NORMAL\n",
            "📦 Loading Autoencoder model...\n",
            "✅ Model and weights loaded successfully!\n",
            "📦 Loading encoders...\n",
            "📄 Reading data from: /content/drive/MyDrive/hybrid_IDS/encoder/network_v.csv\n",
            "⚠️ Column 'attack_cat' is not encoded. Encoding now...\n",
            "⚠️ Column 'state' is not encoded. Encoding now...\n",
            "⚙️ Scaling features...\n"
          ]
        },
        {
          "metadata": {
            "tags": null
          },
          "name": "stderr",
          "output_type": "stream",
          "text": [
            "/usr/local/lib/python3.11/dist-packages/sklearn/base.py:380: InconsistentVersionWarning: Trying to unpickle estimator LabelEncoder from version 1.2.2 when using version 1.6.1. This might lead to breaking code or invalid results. Use at your own risk. For more info please refer to:\n",
            "https://scikit-learn.org/stable/model_persistence.html#security-maintainability-limitations\n",
            "  warnings.warn(\n"
          ]
        },
        {
          "metadata": {
            "tags": null
          },
          "name": "stdout",
          "output_type": "stream",
          "text": [
            "\n",
            "🔽 Row 27\n",
            "   Attack Category: Reconnaissance\n",
            "   MSE: 0.421090\n",
            "   Result: 🟢 NORMAL\n",
            "📦 Loading Autoencoder model...\n",
            "✅ Model and weights loaded successfully!\n",
            "📦 Loading encoders...\n",
            "📄 Reading data from: /content/drive/MyDrive/hybrid_IDS/encoder/network_v.csv\n",
            "⚠️ Column 'attack_cat' is not encoded. Encoding now...\n",
            "⚠️ Column 'state' is not encoded. Encoding now...\n",
            "⚙️ Scaling features...\n"
          ]
        },
        {
          "metadata": {
            "tags": null
          },
          "name": "stderr",
          "output_type": "stream",
          "text": [
            "/usr/local/lib/python3.11/dist-packages/sklearn/base.py:380: InconsistentVersionWarning: Trying to unpickle estimator LabelEncoder from version 1.2.2 when using version 1.6.1. This might lead to breaking code or invalid results. Use at your own risk. For more info please refer to:\n",
            "https://scikit-learn.org/stable/model_persistence.html#security-maintainability-limitations\n",
            "  warnings.warn(\n"
          ]
        },
        {
          "metadata": {
            "tags": null
          },
          "name": "stdout",
          "output_type": "stream",
          "text": [
            "\n",
            "🔽 Row 28\n",
            "   Attack Category: Normal\n",
            "   MSE: 0.410169\n",
            "   Result: 🟢 NORMAL\n",
            "📦 Loading Autoencoder model...\n",
            "✅ Model and weights loaded successfully!\n",
            "📦 Loading encoders...\n",
            "📄 Reading data from: /content/drive/MyDrive/hybrid_IDS/encoder/network_v.csv\n",
            "⚠️ Column 'attack_cat' is not encoded. Encoding now...\n",
            "⚠️ Column 'state' is not encoded. Encoding now...\n",
            "⚙️ Scaling features...\n"
          ]
        },
        {
          "metadata": {
            "tags": null
          },
          "name": "stderr",
          "output_type": "stream",
          "text": [
            "/usr/local/lib/python3.11/dist-packages/sklearn/base.py:380: InconsistentVersionWarning: Trying to unpickle estimator LabelEncoder from version 1.2.2 when using version 1.6.1. This might lead to breaking code or invalid results. Use at your own risk. For more info please refer to:\n",
            "https://scikit-learn.org/stable/model_persistence.html#security-maintainability-limitations\n",
            "  warnings.warn(\n"
          ]
        },
        {
          "metadata": {
            "tags": null
          },
          "name": "stdout",
          "output_type": "stream",
          "text": [
            "\n",
            "🔽 Row 29\n",
            "   Attack Category: Normal\n",
            "   MSE: 0.311381\n",
            "   Result: 🟢 NORMAL\n",
            "📦 Loading Autoencoder model...\n",
            "✅ Model and weights loaded successfully!\n",
            "📦 Loading encoders...\n",
            "📄 Reading data from: /content/drive/MyDrive/hybrid_IDS/encoder/network_v.csv\n",
            "⚠️ Column 'attack_cat' is not encoded. Encoding now...\n",
            "⚠️ Column 'state' is not encoded. Encoding now...\n",
            "⚙️ Scaling features...\n"
          ]
        },
        {
          "metadata": {
            "tags": null
          },
          "name": "stderr",
          "output_type": "stream",
          "text": [
            "/usr/local/lib/python3.11/dist-packages/sklearn/base.py:380: InconsistentVersionWarning: Trying to unpickle estimator LabelEncoder from version 1.2.2 when using version 1.6.1. This might lead to breaking code or invalid results. Use at your own risk. For more info please refer to:\n",
            "https://scikit-learn.org/stable/model_persistence.html#security-maintainability-limitations\n",
            "  warnings.warn(\n"
          ]
        },
        {
          "metadata": {
            "tags": null
          },
          "name": "stdout",
          "output_type": "stream",
          "text": [
            "\n",
            "🔽 Row 30\n",
            "   Attack Category: Reconnaissance\n",
            "   MSE: 0.481718\n",
            "   Result: 🟢 NORMAL\n",
            "📦 Loading Autoencoder model...\n",
            "✅ Model and weights loaded successfully!\n",
            "📦 Loading encoders...\n",
            "📄 Reading data from: /content/drive/MyDrive/hybrid_IDS/encoder/network_v.csv\n",
            "⚠️ Column 'attack_cat' is not encoded. Encoding now...\n",
            "⚠️ Column 'state' is not encoded. Encoding now...\n",
            "⚙️ Scaling features...\n"
          ]
        },
        {
          "metadata": {
            "tags": null
          },
          "name": "stderr",
          "output_type": "stream",
          "text": [
            "/usr/local/lib/python3.11/dist-packages/sklearn/base.py:380: InconsistentVersionWarning: Trying to unpickle estimator LabelEncoder from version 1.2.2 when using version 1.6.1. This might lead to breaking code or invalid results. Use at your own risk. For more info please refer to:\n",
            "https://scikit-learn.org/stable/model_persistence.html#security-maintainability-limitations\n",
            "  warnings.warn(\n"
          ]
        },
        {
          "metadata": {
            "tags": null
          },
          "name": "stdout",
          "output_type": "stream",
          "text": [
            "\n",
            "🔽 Row 31\n",
            "   Attack Category: Normal\n",
            "   MSE: 0.439072\n",
            "   Result: 🟢 NORMAL\n",
            "📦 Loading Autoencoder model...\n",
            "✅ Model and weights loaded successfully!\n",
            "📦 Loading encoders...\n",
            "📄 Reading data from: /content/drive/MyDrive/hybrid_IDS/encoder/network_v.csv\n",
            "⚠️ Column 'attack_cat' is not encoded. Encoding now...\n",
            "⚠️ Column 'state' is not encoded. Encoding now...\n",
            "⚙️ Scaling features...\n"
          ]
        },
        {
          "metadata": {
            "tags": null
          },
          "name": "stderr",
          "output_type": "stream",
          "text": [
            "/usr/local/lib/python3.11/dist-packages/sklearn/base.py:380: InconsistentVersionWarning: Trying to unpickle estimator LabelEncoder from version 1.2.2 when using version 1.6.1. This might lead to breaking code or invalid results. Use at your own risk. For more info please refer to:\n",
            "https://scikit-learn.org/stable/model_persistence.html#security-maintainability-limitations\n",
            "  warnings.warn(\n"
          ]
        },
        {
          "metadata": {
            "tags": null
          },
          "name": "stdout",
          "output_type": "stream",
          "text": [
            "\n",
            "🔽 Row 32\n",
            "   Attack Category: Backdoor\n",
            "   MSE: 0.719353\n",
            "   Result: 🟢 NORMAL\n",
            "📦 Loading Autoencoder model...\n",
            "✅ Model and weights loaded successfully!\n",
            "📦 Loading encoders...\n",
            "📄 Reading data from: /content/drive/MyDrive/hybrid_IDS/encoder/network_v.csv\n",
            "⚠️ Column 'attack_cat' is not encoded. Encoding now...\n",
            "⚠️ Column 'state' is not encoded. Encoding now...\n",
            "⚙️ Scaling features...\n"
          ]
        },
        {
          "metadata": {
            "tags": null
          },
          "name": "stderr",
          "output_type": "stream",
          "text": [
            "/usr/local/lib/python3.11/dist-packages/sklearn/base.py:380: InconsistentVersionWarning: Trying to unpickle estimator LabelEncoder from version 1.2.2 when using version 1.6.1. This might lead to breaking code or invalid results. Use at your own risk. For more info please refer to:\n",
            "https://scikit-learn.org/stable/model_persistence.html#security-maintainability-limitations\n",
            "  warnings.warn(\n"
          ]
        },
        {
          "metadata": {
            "tags": null
          },
          "name": "stdout",
          "output_type": "stream",
          "text": [
            "\n",
            "🔽 Row 33\n",
            "   Attack Category: Normal\n",
            "   MSE: 0.467700\n",
            "   Result: 🟢 NORMAL\n",
            "📦 Loading Autoencoder model...\n",
            "✅ Model and weights loaded successfully!\n",
            "📦 Loading encoders...\n",
            "📄 Reading data from: /content/drive/MyDrive/hybrid_IDS/encoder/network_v.csv\n",
            "⚠️ Column 'attack_cat' is not encoded. Encoding now...\n",
            "⚠️ Column 'state' is not encoded. Encoding now...\n",
            "⚙️ Scaling features...\n"
          ]
        },
        {
          "metadata": {
            "tags": null
          },
          "name": "stderr",
          "output_type": "stream",
          "text": [
            "/usr/local/lib/python3.11/dist-packages/sklearn/base.py:380: InconsistentVersionWarning: Trying to unpickle estimator LabelEncoder from version 1.2.2 when using version 1.6.1. This might lead to breaking code or invalid results. Use at your own risk. For more info please refer to:\n",
            "https://scikit-learn.org/stable/model_persistence.html#security-maintainability-limitations\n",
            "  warnings.warn(\n"
          ]
        },
        {
          "metadata": {
            "tags": null
          },
          "name": "stdout",
          "output_type": "stream",
          "text": [
            "\n",
            "🔽 Row 34\n",
            "   Attack Category: Shellcode\n",
            "   MSE: 0.470795\n",
            "   Result: 🟢 NORMAL\n",
            "📦 Loading Autoencoder model...\n",
            "✅ Model and weights loaded successfully!\n",
            "📦 Loading encoders...\n",
            "📄 Reading data from: /content/drive/MyDrive/hybrid_IDS/encoder/network_v.csv\n",
            "⚠️ Column 'attack_cat' is not encoded. Encoding now...\n",
            "⚠️ Column 'state' is not encoded. Encoding now...\n",
            "⚙️ Scaling features...\n"
          ]
        },
        {
          "metadata": {
            "tags": null
          },
          "name": "stderr",
          "output_type": "stream",
          "text": [
            "/usr/local/lib/python3.11/dist-packages/sklearn/base.py:380: InconsistentVersionWarning: Trying to unpickle estimator LabelEncoder from version 1.2.2 when using version 1.6.1. This might lead to breaking code or invalid results. Use at your own risk. For more info please refer to:\n",
            "https://scikit-learn.org/stable/model_persistence.html#security-maintainability-limitations\n",
            "  warnings.warn(\n"
          ]
        },
        {
          "metadata": {
            "tags": null
          },
          "name": "stdout",
          "output_type": "stream",
          "text": [
            "\n",
            "🔽 Row 35\n",
            "   Attack Category: Exploits\n",
            "   MSE: 0.430533\n",
            "   Result: 🟢 NORMAL\n",
            "📦 Loading Autoencoder model...\n",
            "✅ Model and weights loaded successfully!\n",
            "📦 Loading encoders...\n",
            "📄 Reading data from: /content/drive/MyDrive/hybrid_IDS/encoder/network_v.csv\n",
            "⚠️ Column 'attack_cat' is not encoded. Encoding now...\n",
            "⚠️ Column 'state' is not encoded. Encoding now...\n",
            "⚙️ Scaling features...\n"
          ]
        },
        {
          "metadata": {
            "tags": null
          },
          "name": "stderr",
          "output_type": "stream",
          "text": [
            "/usr/local/lib/python3.11/dist-packages/sklearn/base.py:380: InconsistentVersionWarning: Trying to unpickle estimator LabelEncoder from version 1.2.2 when using version 1.6.1. This might lead to breaking code or invalid results. Use at your own risk. For more info please refer to:\n",
            "https://scikit-learn.org/stable/model_persistence.html#security-maintainability-limitations\n",
            "  warnings.warn(\n"
          ]
        },
        {
          "metadata": {
            "tags": null
          },
          "name": "stdout",
          "output_type": "stream",
          "text": [
            "\n",
            "🔽 Row 36\n",
            "   Attack Category: Generic\n",
            "   MSE: 0.470785\n",
            "   Result: 🟢 NORMAL\n",
            "📦 Loading Autoencoder model...\n",
            "✅ Model and weights loaded successfully!\n",
            "📦 Loading encoders...\n",
            "📄 Reading data from: /content/drive/MyDrive/hybrid_IDS/encoder/network_v.csv\n",
            "⚠️ Column 'attack_cat' is not encoded. Encoding now...\n",
            "⚠️ Column 'state' is not encoded. Encoding now...\n",
            "⚙️ Scaling features...\n"
          ]
        },
        {
          "metadata": {
            "tags": null
          },
          "name": "stderr",
          "output_type": "stream",
          "text": [
            "/usr/local/lib/python3.11/dist-packages/sklearn/base.py:380: InconsistentVersionWarning: Trying to unpickle estimator LabelEncoder from version 1.2.2 when using version 1.6.1. This might lead to breaking code or invalid results. Use at your own risk. For more info please refer to:\n",
            "https://scikit-learn.org/stable/model_persistence.html#security-maintainability-limitations\n",
            "  warnings.warn(\n"
          ]
        },
        {
          "metadata": {
            "tags": null
          },
          "name": "stdout",
          "output_type": "stream",
          "text": [
            "\n",
            "🔽 Row 37\n",
            "   Attack Category: Normal\n",
            "   MSE: 0.549404\n",
            "   Result: 🟢 NORMAL\n",
            "📦 Loading Autoencoder model...\n",
            "✅ Model and weights loaded successfully!\n",
            "📦 Loading encoders...\n",
            "📄 Reading data from: /content/drive/MyDrive/hybrid_IDS/encoder/network_v.csv\n",
            "⚠️ Column 'attack_cat' is not encoded. Encoding now...\n",
            "⚠️ Column 'state' is not encoded. Encoding now...\n",
            "⚙️ Scaling features...\n"
          ]
        },
        {
          "metadata": {
            "tags": null
          },
          "name": "stderr",
          "output_type": "stream",
          "text": [
            "/usr/local/lib/python3.11/dist-packages/sklearn/base.py:380: InconsistentVersionWarning: Trying to unpickle estimator LabelEncoder from version 1.2.2 when using version 1.6.1. This might lead to breaking code or invalid results. Use at your own risk. For more info please refer to:\n",
            "https://scikit-learn.org/stable/model_persistence.html#security-maintainability-limitations\n",
            "  warnings.warn(\n"
          ]
        },
        {
          "metadata": {
            "tags": null
          },
          "name": "stdout",
          "output_type": "stream",
          "text": [
            "\n",
            "🔽 Row 38\n",
            "   Attack Category: Exploits\n",
            "   MSE: 0.520388\n",
            "   Result: 🟢 NORMAL\n",
            "📦 Loading Autoencoder model...\n",
            "✅ Model and weights loaded successfully!\n",
            "📦 Loading encoders...\n",
            "📄 Reading data from: /content/drive/MyDrive/hybrid_IDS/encoder/network_v.csv\n",
            "⚠️ Column 'attack_cat' is not encoded. Encoding now...\n",
            "⚠️ Column 'state' is not encoded. Encoding now...\n",
            "⚙️ Scaling features...\n"
          ]
        },
        {
          "metadata": {
            "tags": null
          },
          "name": "stderr",
          "output_type": "stream",
          "text": [
            "/usr/local/lib/python3.11/dist-packages/sklearn/base.py:380: InconsistentVersionWarning: Trying to unpickle estimator LabelEncoder from version 1.2.2 when using version 1.6.1. This might lead to breaking code or invalid results. Use at your own risk. For more info please refer to:\n",
            "https://scikit-learn.org/stable/model_persistence.html#security-maintainability-limitations\n",
            "  warnings.warn(\n"
          ]
        },
        {
          "metadata": {
            "tags": null
          },
          "name": "stdout",
          "output_type": "stream",
          "text": [
            "\n",
            "🔽 Row 39\n",
            "   Attack Category: Fuzzers\n",
            "   MSE: 0.349692\n",
            "   Result: 🟢 NORMAL\n",
            "📦 Loading Autoencoder model...\n",
            "✅ Model and weights loaded successfully!\n",
            "📦 Loading encoders...\n",
            "📄 Reading data from: /content/drive/MyDrive/hybrid_IDS/encoder/network_v.csv\n",
            "⚠️ Column 'attack_cat' is not encoded. Encoding now...\n",
            "⚠️ Column 'state' is not encoded. Encoding now...\n",
            "⚙️ Scaling features...\n"
          ]
        },
        {
          "metadata": {
            "tags": null
          },
          "name": "stderr",
          "output_type": "stream",
          "text": [
            "/usr/local/lib/python3.11/dist-packages/sklearn/base.py:380: InconsistentVersionWarning: Trying to unpickle estimator LabelEncoder from version 1.2.2 when using version 1.6.1. This might lead to breaking code or invalid results. Use at your own risk. For more info please refer to:\n",
            "https://scikit-learn.org/stable/model_persistence.html#security-maintainability-limitations\n",
            "  warnings.warn(\n"
          ]
        },
        {
          "metadata": {
            "tags": null
          },
          "name": "stdout",
          "output_type": "stream",
          "text": [
            "\n",
            "🔽 Row 40\n",
            "   Attack Category: Exploits\n",
            "   MSE: 0.541671\n",
            "   Result: 🟢 NORMAL\n",
            "📦 Loading Autoencoder model...\n",
            "✅ Model and weights loaded successfully!\n",
            "📦 Loading encoders...\n",
            "📄 Reading data from: /content/drive/MyDrive/hybrid_IDS/encoder/network_v.csv\n",
            "⚠️ Column 'attack_cat' is not encoded. Encoding now...\n",
            "⚠️ Column 'state' is not encoded. Encoding now...\n",
            "⚙️ Scaling features...\n"
          ]
        },
        {
          "metadata": {
            "tags": null
          },
          "name": "stderr",
          "output_type": "stream",
          "text": [
            "/usr/local/lib/python3.11/dist-packages/sklearn/base.py:380: InconsistentVersionWarning: Trying to unpickle estimator LabelEncoder from version 1.2.2 when using version 1.6.1. This might lead to breaking code or invalid results. Use at your own risk. For more info please refer to:\n",
            "https://scikit-learn.org/stable/model_persistence.html#security-maintainability-limitations\n",
            "  warnings.warn(\n"
          ]
        },
        {
          "metadata": {
            "tags": null
          },
          "name": "stdout",
          "output_type": "stream",
          "text": [
            "\n",
            "🔽 Row 41\n",
            "   Attack Category: Normal\n",
            "   MSE: 0.476342\n",
            "   Result: 🟢 NORMAL\n",
            "INFO:     188.133.25.101:0 - \"GET /predict_all HTTP/1.1\" 200 OK\n"
          ]
        }
      ],
      "source": [
        "# ✅ تشغيل FastAPI مع ngrok\n",
        "public_url = ngrok.connect(8000)\n",
        "print(f\"🌐 رابط الواجهة: {public_url}/docs\")\n",
        "\n",
        "# ✅ تشغيل السيرفر\n",
        "uvicorn.run(\"app:app\", host=\"0.0.0.0\", port=8000)\n"
      ]
    },
    {
      "cell_type": "code",
      "execution_count": 12,
      "metadata": {
        "id": "E9gBdTO6_FBx",
        "colab": {
          "base_uri": "https://localhost:8080/",
          "height": 304
        },
        "outputId": "1c45c42d-6810-413c-e483-238fbe1c3433"
      },
      "outputs": [
        {
          "output_type": "error",
          "ename": "ValueError",
          "evalue": "numpy.dtype size changed, may indicate binary incompatibility. Expected 96 from C header, got 88 from PyObject",
          "traceback": [
            "\u001b[0;31m---------------------------------------------------------------------------\u001b[0m",
            "\u001b[0;31mValueError\u001b[0m                                Traceback (most recent call last)",
            "\u001b[0;32m<ipython-input-12-4ba70f318b88>\u001b[0m in \u001b[0;36m<cell line: 0>\u001b[0;34m()\u001b[0m\n\u001b[1;32m      4\u001b[0m \u001b[0;32mimport\u001b[0m \u001b[0mjoblib\u001b[0m\u001b[0;34m\u001b[0m\u001b[0;34m\u001b[0m\u001b[0m\n\u001b[1;32m      5\u001b[0m \u001b[0;32mimport\u001b[0m \u001b[0mnumpy\u001b[0m \u001b[0;32mas\u001b[0m \u001b[0mnp\u001b[0m\u001b[0;34m\u001b[0m\u001b[0;34m\u001b[0m\u001b[0m\n\u001b[0;32m----> 6\u001b[0;31m \u001b[0;32mfrom\u001b[0m \u001b[0mtensorflow\u001b[0m\u001b[0;34m.\u001b[0m\u001b[0mkeras\u001b[0m\u001b[0;34m.\u001b[0m\u001b[0mmodels\u001b[0m \u001b[0;32mimport\u001b[0m \u001b[0mmodel_from_json\u001b[0m\u001b[0;34m\u001b[0m\u001b[0;34m\u001b[0m\u001b[0m\n\u001b[0m\u001b[1;32m      7\u001b[0m \u001b[0;32mfrom\u001b[0m \u001b[0msklearn\u001b[0m\u001b[0;34m.\u001b[0m\u001b[0mpreprocessing\u001b[0m \u001b[0;32mimport\u001b[0m \u001b[0mStandardScaler\u001b[0m\u001b[0;34m\u001b[0m\u001b[0;34m\u001b[0m\u001b[0m\n\u001b[1;32m      8\u001b[0m \u001b[0;34m\u001b[0m\u001b[0m\n",
            "\u001b[0;32m/usr/local/lib/python3.11/dist-packages/keras/_tf_keras/keras/__init__.py\u001b[0m in \u001b[0;36m<module>\u001b[0;34m\u001b[0m\n\u001b[1;32m      5\u001b[0m \"\"\"\n\u001b[1;32m      6\u001b[0m \u001b[0;34m\u001b[0m\u001b[0m\n\u001b[0;32m----> 7\u001b[0;31m \u001b[0;32mfrom\u001b[0m \u001b[0mkeras\u001b[0m\u001b[0;34m.\u001b[0m\u001b[0mapi\u001b[0m \u001b[0;32mimport\u001b[0m \u001b[0mactivations\u001b[0m\u001b[0;34m\u001b[0m\u001b[0;34m\u001b[0m\u001b[0m\n\u001b[0m\u001b[1;32m      8\u001b[0m \u001b[0;32mfrom\u001b[0m \u001b[0mkeras\u001b[0m\u001b[0;34m.\u001b[0m\u001b[0mapi\u001b[0m \u001b[0;32mimport\u001b[0m \u001b[0mapplications\u001b[0m\u001b[0;34m\u001b[0m\u001b[0;34m\u001b[0m\u001b[0m\n\u001b[1;32m      9\u001b[0m \u001b[0;32mfrom\u001b[0m \u001b[0mkeras\u001b[0m\u001b[0;34m.\u001b[0m\u001b[0mapi\u001b[0m \u001b[0;32mimport\u001b[0m \u001b[0mcallbacks\u001b[0m\u001b[0;34m\u001b[0m\u001b[0;34m\u001b[0m\u001b[0m\n",
            "\u001b[0;32m/usr/local/lib/python3.11/dist-packages/keras/__init__.py\u001b[0m in \u001b[0;36m<module>\u001b[0;34m\u001b[0m\n\u001b[1;32m      1\u001b[0m \u001b[0;31m# DO NOT EDIT. Generated by api_gen.sh\u001b[0m\u001b[0;34m\u001b[0m\u001b[0;34m\u001b[0m\u001b[0m\n\u001b[0;32m----> 2\u001b[0;31m \u001b[0;32mfrom\u001b[0m \u001b[0mkeras\u001b[0m\u001b[0;34m.\u001b[0m\u001b[0mapi\u001b[0m \u001b[0;32mimport\u001b[0m \u001b[0mDTypePolicy\u001b[0m\u001b[0;34m\u001b[0m\u001b[0;34m\u001b[0m\u001b[0m\n\u001b[0m\u001b[1;32m      3\u001b[0m \u001b[0;32mfrom\u001b[0m \u001b[0mkeras\u001b[0m\u001b[0;34m.\u001b[0m\u001b[0mapi\u001b[0m \u001b[0;32mimport\u001b[0m \u001b[0mFloatDTypePolicy\u001b[0m\u001b[0;34m\u001b[0m\u001b[0;34m\u001b[0m\u001b[0m\n\u001b[1;32m      4\u001b[0m \u001b[0;32mfrom\u001b[0m \u001b[0mkeras\u001b[0m\u001b[0;34m.\u001b[0m\u001b[0mapi\u001b[0m \u001b[0;32mimport\u001b[0m \u001b[0mFunction\u001b[0m\u001b[0;34m\u001b[0m\u001b[0;34m\u001b[0m\u001b[0m\n\u001b[1;32m      5\u001b[0m \u001b[0;32mfrom\u001b[0m \u001b[0mkeras\u001b[0m\u001b[0;34m.\u001b[0m\u001b[0mapi\u001b[0m \u001b[0;32mimport\u001b[0m \u001b[0mInitializer\u001b[0m\u001b[0;34m\u001b[0m\u001b[0;34m\u001b[0m\u001b[0m\n",
            "\u001b[0;32m/usr/local/lib/python3.11/dist-packages/keras/api/__init__.py\u001b[0m in \u001b[0;36m<module>\u001b[0;34m\u001b[0m\n\u001b[1;32m     33\u001b[0m \u001b[0;32mfrom\u001b[0m \u001b[0mkeras\u001b[0m\u001b[0;34m.\u001b[0m\u001b[0mapi\u001b[0m \u001b[0;32mimport\u001b[0m \u001b[0mutils\u001b[0m\u001b[0;34m\u001b[0m\u001b[0;34m\u001b[0m\u001b[0m\n\u001b[1;32m     34\u001b[0m \u001b[0;32mfrom\u001b[0m \u001b[0mkeras\u001b[0m\u001b[0;34m.\u001b[0m\u001b[0mapi\u001b[0m \u001b[0;32mimport\u001b[0m \u001b[0mvisualization\u001b[0m\u001b[0;34m\u001b[0m\u001b[0;34m\u001b[0m\u001b[0m\n\u001b[0;32m---> 35\u001b[0;31m \u001b[0;32mfrom\u001b[0m \u001b[0mkeras\u001b[0m\u001b[0;34m.\u001b[0m\u001b[0mapi\u001b[0m \u001b[0;32mimport\u001b[0m \u001b[0mwrappers\u001b[0m\u001b[0;34m\u001b[0m\u001b[0;34m\u001b[0m\u001b[0m\n\u001b[0m\u001b[1;32m     36\u001b[0m \u001b[0;32mfrom\u001b[0m \u001b[0mkeras\u001b[0m\u001b[0;34m.\u001b[0m\u001b[0msrc\u001b[0m\u001b[0;34m.\u001b[0m\u001b[0mbackend\u001b[0m \u001b[0;32mimport\u001b[0m \u001b[0mVariable\u001b[0m\u001b[0;34m\u001b[0m\u001b[0;34m\u001b[0m\u001b[0m\n\u001b[1;32m     37\u001b[0m \u001b[0;32mfrom\u001b[0m \u001b[0mkeras\u001b[0m\u001b[0;34m.\u001b[0m\u001b[0msrc\u001b[0m\u001b[0;34m.\u001b[0m\u001b[0mbackend\u001b[0m \u001b[0;32mimport\u001b[0m \u001b[0mdevice\u001b[0m\u001b[0;34m\u001b[0m\u001b[0;34m\u001b[0m\u001b[0m\n",
            "\u001b[0;32m/usr/local/lib/python3.11/dist-packages/keras/api/wrappers/__init__.py\u001b[0m in \u001b[0;36m<module>\u001b[0;34m\u001b[0m\n\u001b[1;32m      5\u001b[0m \"\"\"\n\u001b[1;32m      6\u001b[0m \u001b[0;34m\u001b[0m\u001b[0m\n\u001b[0;32m----> 7\u001b[0;31m \u001b[0;32mfrom\u001b[0m \u001b[0mkeras\u001b[0m\u001b[0;34m.\u001b[0m\u001b[0msrc\u001b[0m\u001b[0;34m.\u001b[0m\u001b[0mwrappers\u001b[0m\u001b[0;34m.\u001b[0m\u001b[0msklearn_wrapper\u001b[0m \u001b[0;32mimport\u001b[0m \u001b[0mSKLearnClassifier\u001b[0m\u001b[0;34m\u001b[0m\u001b[0;34m\u001b[0m\u001b[0m\n\u001b[0m\u001b[1;32m      8\u001b[0m \u001b[0;32mfrom\u001b[0m \u001b[0mkeras\u001b[0m\u001b[0;34m.\u001b[0m\u001b[0msrc\u001b[0m\u001b[0;34m.\u001b[0m\u001b[0mwrappers\u001b[0m\u001b[0;34m.\u001b[0m\u001b[0msklearn_wrapper\u001b[0m \u001b[0;32mimport\u001b[0m \u001b[0mSKLearnRegressor\u001b[0m\u001b[0;34m\u001b[0m\u001b[0;34m\u001b[0m\u001b[0m\n\u001b[1;32m      9\u001b[0m \u001b[0;32mfrom\u001b[0m \u001b[0mkeras\u001b[0m\u001b[0;34m.\u001b[0m\u001b[0msrc\u001b[0m\u001b[0;34m.\u001b[0m\u001b[0mwrappers\u001b[0m\u001b[0;34m.\u001b[0m\u001b[0msklearn_wrapper\u001b[0m \u001b[0;32mimport\u001b[0m \u001b[0mSKLearnTransformer\u001b[0m\u001b[0;34m\u001b[0m\u001b[0;34m\u001b[0m\u001b[0m\n",
            "\u001b[0;32m/usr/local/lib/python3.11/dist-packages/keras/src/wrappers/__init__.py\u001b[0m in \u001b[0;36m<module>\u001b[0;34m\u001b[0m\n\u001b[0;32m----> 1\u001b[0;31m \u001b[0;32mfrom\u001b[0m \u001b[0mkeras\u001b[0m\u001b[0;34m.\u001b[0m\u001b[0msrc\u001b[0m\u001b[0;34m.\u001b[0m\u001b[0mwrappers\u001b[0m\u001b[0;34m.\u001b[0m\u001b[0msklearn_wrapper\u001b[0m \u001b[0;32mimport\u001b[0m \u001b[0mSKLearnClassifier\u001b[0m\u001b[0;34m\u001b[0m\u001b[0;34m\u001b[0m\u001b[0m\n\u001b[0m\u001b[1;32m      2\u001b[0m \u001b[0;32mfrom\u001b[0m \u001b[0mkeras\u001b[0m\u001b[0;34m.\u001b[0m\u001b[0msrc\u001b[0m\u001b[0;34m.\u001b[0m\u001b[0mwrappers\u001b[0m\u001b[0;34m.\u001b[0m\u001b[0msklearn_wrapper\u001b[0m \u001b[0;32mimport\u001b[0m \u001b[0mSKLearnRegressor\u001b[0m\u001b[0;34m\u001b[0m\u001b[0;34m\u001b[0m\u001b[0m\n\u001b[1;32m      3\u001b[0m \u001b[0;32mfrom\u001b[0m \u001b[0mkeras\u001b[0m\u001b[0;34m.\u001b[0m\u001b[0msrc\u001b[0m\u001b[0;34m.\u001b[0m\u001b[0mwrappers\u001b[0m\u001b[0;34m.\u001b[0m\u001b[0msklearn_wrapper\u001b[0m \u001b[0;32mimport\u001b[0m \u001b[0mSKLearnTransformer\u001b[0m\u001b[0;34m\u001b[0m\u001b[0;34m\u001b[0m\u001b[0m\n\u001b[1;32m      4\u001b[0m \u001b[0;34m\u001b[0m\u001b[0m\n\u001b[1;32m      5\u001b[0m \u001b[0m__all__\u001b[0m \u001b[0;34m=\u001b[0m \u001b[0;34m[\u001b[0m\u001b[0;34m\"SKLearnClassifier\"\u001b[0m\u001b[0;34m,\u001b[0m \u001b[0;34m\"SKLearnRegressor\"\u001b[0m\u001b[0;34m,\u001b[0m \u001b[0;34m\"SKLearnTransformer\"\u001b[0m\u001b[0;34m]\u001b[0m\u001b[0;34m\u001b[0m\u001b[0;34m\u001b[0m\u001b[0m\n",
            "\u001b[0;32m/usr/local/lib/python3.11/dist-packages/keras/src/wrappers/sklearn_wrapper.py\u001b[0m in \u001b[0;36m<module>\u001b[0;34m\u001b[0m\n\u001b[1;32m      6\u001b[0m \u001b[0;32mfrom\u001b[0m \u001b[0mkeras\u001b[0m\u001b[0;34m.\u001b[0m\u001b[0msrc\u001b[0m\u001b[0;34m.\u001b[0m\u001b[0mmodels\u001b[0m\u001b[0;34m.\u001b[0m\u001b[0mcloning\u001b[0m \u001b[0;32mimport\u001b[0m \u001b[0mclone_model\u001b[0m\u001b[0;34m\u001b[0m\u001b[0;34m\u001b[0m\u001b[0m\n\u001b[1;32m      7\u001b[0m \u001b[0;32mfrom\u001b[0m \u001b[0mkeras\u001b[0m\u001b[0;34m.\u001b[0m\u001b[0msrc\u001b[0m\u001b[0;34m.\u001b[0m\u001b[0mmodels\u001b[0m\u001b[0;34m.\u001b[0m\u001b[0mmodel\u001b[0m \u001b[0;32mimport\u001b[0m \u001b[0mModel\u001b[0m\u001b[0;34m\u001b[0m\u001b[0;34m\u001b[0m\u001b[0m\n\u001b[0;32m----> 8\u001b[0;31m \u001b[0;32mfrom\u001b[0m \u001b[0mkeras\u001b[0m\u001b[0;34m.\u001b[0m\u001b[0msrc\u001b[0m\u001b[0;34m.\u001b[0m\u001b[0mwrappers\u001b[0m\u001b[0;34m.\u001b[0m\u001b[0mfixes\u001b[0m \u001b[0;32mimport\u001b[0m \u001b[0m_routing_enabled\u001b[0m\u001b[0;34m\u001b[0m\u001b[0;34m\u001b[0m\u001b[0m\n\u001b[0m\u001b[1;32m      9\u001b[0m \u001b[0;32mfrom\u001b[0m \u001b[0mkeras\u001b[0m\u001b[0;34m.\u001b[0m\u001b[0msrc\u001b[0m\u001b[0;34m.\u001b[0m\u001b[0mwrappers\u001b[0m\u001b[0;34m.\u001b[0m\u001b[0mfixes\u001b[0m \u001b[0;32mimport\u001b[0m \u001b[0m_validate_data\u001b[0m\u001b[0;34m\u001b[0m\u001b[0;34m\u001b[0m\u001b[0m\n\u001b[1;32m     10\u001b[0m \u001b[0;32mfrom\u001b[0m \u001b[0mkeras\u001b[0m\u001b[0;34m.\u001b[0m\u001b[0msrc\u001b[0m\u001b[0;34m.\u001b[0m\u001b[0mwrappers\u001b[0m\u001b[0;34m.\u001b[0m\u001b[0mfixes\u001b[0m \u001b[0;32mimport\u001b[0m \u001b[0mtype_of_target\u001b[0m\u001b[0;34m\u001b[0m\u001b[0;34m\u001b[0m\u001b[0m\n",
            "\u001b[0;32m/usr/local/lib/python3.11/dist-packages/keras/src/wrappers/fixes.py\u001b[0m in \u001b[0;36m<module>\u001b[0;34m\u001b[0m\n\u001b[1;32m      1\u001b[0m \u001b[0;32mtry\u001b[0m\u001b[0;34m:\u001b[0m\u001b[0;34m\u001b[0m\u001b[0;34m\u001b[0m\u001b[0m\n\u001b[0;32m----> 2\u001b[0;31m     \u001b[0;32mimport\u001b[0m \u001b[0msklearn\u001b[0m\u001b[0;34m\u001b[0m\u001b[0;34m\u001b[0m\u001b[0m\n\u001b[0m\u001b[1;32m      3\u001b[0m \u001b[0;32mexcept\u001b[0m \u001b[0mImportError\u001b[0m\u001b[0;34m:\u001b[0m\u001b[0;34m\u001b[0m\u001b[0;34m\u001b[0m\u001b[0m\n\u001b[1;32m      4\u001b[0m     \u001b[0msklearn\u001b[0m \u001b[0;34m=\u001b[0m \u001b[0;32mNone\u001b[0m\u001b[0;34m\u001b[0m\u001b[0;34m\u001b[0m\u001b[0m\n\u001b[1;32m      5\u001b[0m \u001b[0;34m\u001b[0m\u001b[0m\n",
            "\u001b[0;32m/usr/local/lib/python3.11/dist-packages/sklearn/__init__.py\u001b[0m in \u001b[0;36m<module>\u001b[0;34m\u001b[0m\n\u001b[1;32m     71\u001b[0m     \u001b[0m_distributor_init\u001b[0m\u001b[0;34m,\u001b[0m\u001b[0;34m\u001b[0m\u001b[0;34m\u001b[0m\u001b[0m\n\u001b[1;32m     72\u001b[0m )\n\u001b[0;32m---> 73\u001b[0;31m \u001b[0;32mfrom\u001b[0m \u001b[0;34m.\u001b[0m\u001b[0mbase\u001b[0m \u001b[0;32mimport\u001b[0m \u001b[0mclone\u001b[0m  \u001b[0;31m# noqa: E402\u001b[0m\u001b[0;34m\u001b[0m\u001b[0;34m\u001b[0m\u001b[0m\n\u001b[0m\u001b[1;32m     74\u001b[0m \u001b[0;32mfrom\u001b[0m \u001b[0;34m.\u001b[0m\u001b[0mutils\u001b[0m\u001b[0;34m.\u001b[0m\u001b[0m_show_versions\u001b[0m \u001b[0;32mimport\u001b[0m \u001b[0mshow_versions\u001b[0m  \u001b[0;31m# noqa: E402\u001b[0m\u001b[0;34m\u001b[0m\u001b[0;34m\u001b[0m\u001b[0m\n\u001b[1;32m     75\u001b[0m \u001b[0;34m\u001b[0m\u001b[0m\n",
            "\u001b[0;32m/usr/local/lib/python3.11/dist-packages/sklearn/base.py\u001b[0m in \u001b[0;36m<module>\u001b[0;34m\u001b[0m\n\u001b[1;32m     20\u001b[0m \u001b[0;32mfrom\u001b[0m \u001b[0;34m.\u001b[0m\u001b[0mutils\u001b[0m\u001b[0;34m.\u001b[0m\u001b[0m_metadata_requests\u001b[0m \u001b[0;32mimport\u001b[0m \u001b[0m_MetadataRequester\u001b[0m\u001b[0;34m,\u001b[0m \u001b[0m_routing_enabled\u001b[0m\u001b[0;34m\u001b[0m\u001b[0;34m\u001b[0m\u001b[0m\n\u001b[1;32m     21\u001b[0m \u001b[0;32mfrom\u001b[0m \u001b[0;34m.\u001b[0m\u001b[0mutils\u001b[0m\u001b[0;34m.\u001b[0m\u001b[0m_param_validation\u001b[0m \u001b[0;32mimport\u001b[0m \u001b[0mvalidate_parameter_constraints\u001b[0m\u001b[0;34m\u001b[0m\u001b[0;34m\u001b[0m\u001b[0m\n\u001b[0;32m---> 22\u001b[0;31m \u001b[0;32mfrom\u001b[0m \u001b[0;34m.\u001b[0m\u001b[0mutils\u001b[0m\u001b[0;34m.\u001b[0m\u001b[0m_set_output\u001b[0m \u001b[0;32mimport\u001b[0m \u001b[0m_SetOutputMixin\u001b[0m\u001b[0;34m\u001b[0m\u001b[0;34m\u001b[0m\u001b[0m\n\u001b[0m\u001b[1;32m     23\u001b[0m from .utils._tags import (\n\u001b[1;32m     24\u001b[0m     \u001b[0mClassifierTags\u001b[0m\u001b[0;34m,\u001b[0m\u001b[0;34m\u001b[0m\u001b[0;34m\u001b[0m\u001b[0m\n",
            "\u001b[0;32m/usr/local/lib/python3.11/dist-packages/sklearn/utils/__init__.py\u001b[0m in \u001b[0;36m<module>\u001b[0;34m\u001b[0m\n\u001b[1;32m     40\u001b[0m \u001b[0;32mfrom\u001b[0m \u001b[0;34m.\u001b[0m\u001b[0mdiscovery\u001b[0m \u001b[0;32mimport\u001b[0m \u001b[0mall_estimators\u001b[0m\u001b[0;34m\u001b[0m\u001b[0;34m\u001b[0m\u001b[0m\n\u001b[1;32m     41\u001b[0m \u001b[0;32mfrom\u001b[0m \u001b[0;34m.\u001b[0m\u001b[0mextmath\u001b[0m \u001b[0;32mimport\u001b[0m \u001b[0msafe_sqr\u001b[0m\u001b[0;34m\u001b[0m\u001b[0;34m\u001b[0m\u001b[0m\n\u001b[0;32m---> 42\u001b[0;31m \u001b[0;32mfrom\u001b[0m \u001b[0;34m.\u001b[0m\u001b[0mmurmurhash\u001b[0m \u001b[0;32mimport\u001b[0m \u001b[0mmurmurhash3_32\u001b[0m\u001b[0;34m\u001b[0m\u001b[0;34m\u001b[0m\u001b[0m\n\u001b[0m\u001b[1;32m     43\u001b[0m from .validation import (\n\u001b[1;32m     44\u001b[0m     \u001b[0mas_float_array\u001b[0m\u001b[0;34m,\u001b[0m\u001b[0;34m\u001b[0m\u001b[0;34m\u001b[0m\u001b[0m\n",
            "\u001b[0;32m/usr/local/lib/python3.11/dist-packages/sklearn/utils/murmurhash.pyx\u001b[0m in \u001b[0;36minit sklearn.utils.murmurhash\u001b[0;34m()\u001b[0m\n",
            "\u001b[0;31mValueError\u001b[0m: numpy.dtype size changed, may indicate binary incompatibility. Expected 96 from C header, got 88 from PyObject"
          ]
        }
      ],
      "source": [
        "\n",
        "from fastapi import FastAPI\n",
        "from pydantic import BaseModel\n",
        "import pandas as pd\n",
        "import joblib\n",
        "import numpy as np\n",
        "from tensorflow.keras.models import model_from_json\n",
        "from sklearn.preprocessing import StandardScaler\n",
        "\n",
        "app = FastAPI()\n",
        "\n",
        "# ✅ تحميل النموذج والبيانات مسبقًا\n",
        "#csv_path = '/content/drive/MyDrive/hybrid_IDS/encoder/network/dataset/UNSW_NB15.csv'\n",
        "csv_path = '/content/drive/MyDrive/hybrid_IDS/encoder/network_v.csv'\n",
        "config_path = '/content/drive/MyDrive/hybrid_IDS/encoder/network/model/autoencoder_model/config.json'\n",
        "weights_path = '/content/drive/MyDrive/hybrid_IDS/encoder/network/model/autoencoder_model/model.weights.h5'\n",
        "attack_cat_path = '/content/drive/MyDrive/hybrid_IDS/encoder/network/dataset/attack_cat__encoder.pkl'\n",
        "state_path = '/content/drive/MyDrive/hybrid_IDS/encoder/network/dataset/state__encoder.pkl'\n",
        "threshold = 0.075\n",
        "\n",
        "print(\"📦 تحميل النموذج...\")\n",
        "def predict_with_autoencoder(csv_file_path, config_path, weights_path,\n",
        "                              attack_cat_path, state_path, row_indices, threshold=0.075):\n",
        "    \"\"\"\n",
        "    Uses a trained Autoencoder model to predict whether specified rows in a CSV file\n",
        "    represent normal behavior or attacks based on reconstruction error.\n",
        "\n",
        "    Args:\n",
        "        csv_file_path (str): Path to the CSV file containing the data.\n",
        "        config_path (str): Path to the JSON file describing the Autoencoder architecture.\n",
        "        weights_path (str): Path to the H5 file with trained model weights.\n",
        "        attack_cat_path (str): Path to the saved LabelEncoder for the 'attack_cat' column.\n",
        "        state_path (str): Path to the saved LabelEncoder for the 'state' column.\n",
        "        row_indices (list of int): Row indices to analyze.\n",
        "        threshold (float): MSE threshold to determine if a row is an attack or normal.\n",
        "\n",
        "    Returns:\n",
        "        results (list of dict): Each entry contains the row index, decoded attack category, MSE, and prediction.\n",
        "    \"\"\"\n",
        "\n",
        "    # Load the Autoencoder model architecture\n",
        "    print(\"📦 Loading Autoencoder model...\")\n",
        "    with open(config_path, 'r') as f:\n",
        "        model_json = f.read()\n",
        "    autoencoder = model_from_json(model_json)\n",
        "\n",
        "    # Load the trained weights\n",
        "    autoencoder.load_weights(weights_path)\n",
        "    print(\"✅ Model and weights loaded successfully!\")\n",
        "\n",
        "    # Load label encoders for 'attack_cat' and 'state'\n",
        "    print(\"📦 Loading encoders...\")\n",
        "    attack_cat_encoder = joblib.load(attack_cat_path)\n",
        "    state_encoder = joblib.load(state_path)\n",
        "\n",
        "    # Read the dataset\n",
        "    print(f\"📄 Reading data from: {csv_file_path}\")\n",
        "    df = pd.read_csv(csv_file_path)\n",
        "\n",
        "    # Encode 'attack_cat' column if not already numeric\n",
        "    if not np.issubdtype(df['attack_cat'].dtype, np.number):\n",
        "        print(\"⚠️ Column 'attack_cat' is not encoded. Encoding now...\")\n",
        "        df['attack_cat'] = attack_cat_encoder.transform(df['attack_cat'])\n",
        "\n",
        "    # Encode 'state' column if present and not already numeric\n",
        "    if 'state' in df.columns and not np.issubdtype(df['state'].dtype, np.number):\n",
        "        print(\"⚠️ Column 'state' is not encoded. Encoding now...\")\n",
        "        df['state'] = state_encoder.transform(df['state'])\n",
        "\n",
        "    # Define the features used for prediction\n",
        "    features = ['ct_src_dport_ltm', 'rate', 'dwin', 'dload', 'swin',\n",
        "                'ct_dst_sport_ltm', 'ct_state_ttl', 'id',\n",
        "                'attack_cat', 'sttl', 'label']\n",
        "\n",
        "    # Scale the features\n",
        "    print(\"⚙️ Scaling features...\")\n",
        "    scaler = StandardScaler()\n",
        "    scaler.fit(df[features])\n",
        "\n",
        "    results = []  # To store results for each row\n",
        "\n",
        "    if isinstance(row_indices, int):\n",
        "        row_indices = [row_indices]\n",
        "\n",
        "    # Make predictions for the specified rows\n",
        "    for row_index in row_indices:\n",
        "        input_row = df.iloc[[row_index]].copy()  # Extract the row as a DataFrame\n",
        "        input_scaled = scaler.transform(input_row[features])  # Scale the input row\n",
        "\n",
        "        # Predict using Autoencoder and calculate reconstruction error (MSE)\n",
        "        reconstructed = autoencoder.predict(input_scaled, verbose=0)\n",
        "        mse = np.mean(np.power(input_scaled - reconstructed, 2), axis=1)[0]\n",
        "\n",
        "        # Try decoding the attack category to readable format\n",
        "        try:\n",
        "            attack_cat_label = attack_cat_encoder.inverse_transform(\n",
        "                [int(input_row['attack_cat'].values[0])])[0]\n",
        "        except:\n",
        "            attack_cat_label = input_row['attack_cat'].values[0]  # Use raw value if decoding fails\n",
        "\n",
        "        # Determine the result based on threshold\n",
        "        result = \"NORMAL\" if mse > threshold else \"ATTACK\"\n",
        "\n",
        "        # Print detailed output\n",
        "        print(f\"\\n🔽 Row {row_index}\")\n",
        "        print(f\"   Attack Category: {attack_cat_label}\")\n",
        "        print(f\"   MSE: {mse:.6f}\")\n",
        "        print(f\"   Result: {'🔴 ATTACK' if result == 'ATTACK' else '🟢 NORMAL'}\")\n",
        "\n",
        "        # Save the result for this row\n",
        "        results.append({\n",
        "            'row_index': row_index,\n",
        "            'attack_cat': attack_cat_label,\n",
        "            'mse': mse,\n",
        "            'result': result\n",
        "        })\n",
        "\n",
        "    return results\n",
        "\n",
        "class RowInput(BaseModel):\n",
        "    row_index: int\n",
        "\n",
        "@app.post(\"/predict\")\n",
        "def predict_row(data: RowInput):\n",
        "    row_index = data.row_index\n",
        "    row_indices = [row_index]\n",
        "\n",
        "    result = predict_with_autoencoder(\n",
        "        csv_file_path=csv_path,\n",
        "        config_path=config_path,\n",
        "        weights_path=weights_path,\n",
        "        attack_cat_path=attack_cat_path,\n",
        "        state_path=state_path,\n",
        "        row_indices=row_indices,\n",
        "        threshold=threshold)\n",
        "\n",
        "\n",
        "    return {'result: ':result  }\n"
      ]
    },
    {
      "cell_type": "markdown",
      "metadata": {
        "id": "ucau-IL0oCLf"
      },
      "source": [
        "#packets"
      ]
    },
    {
      "cell_type": "code",
      "source": [
        "pip install scapy"
      ],
      "metadata": {
        "id": "w634RJCz78Vx"
      },
      "execution_count": null,
      "outputs": []
    },
    {
      "cell_type": "code",
      "source": [
        "\n",
        "import time\n",
        "import random\n",
        "import pandas as pd\n",
        "from scapy.all import sniff, IP, TCP, UDP, ICMP, DNS, DNSQR, ARP, OSPF, IGMP, RTP\n",
        "from collections import defaultdict\n",
        "import os\n",
        "\n",
        "OUTPUT_CSV = \"/content/network.csv\"\n",
        "BATCH_INTERVAL = 5  # seconds\n",
        "FLOW_TIMEOUT = 60   # flow expires if no packets for this duration\n",
        "\n",
        "flow_stats = {}\n",
        "src_dport_counter = defaultdict(set)\n",
        "dst_sport_counter = defaultdict(set)\n",
        "state_ttl_counter = defaultdict(int)\n",
        "flow_id_counter = 0\n",
        "\n",
        "attack_categories = [\n",
        "    \"Normal\", \"Generic\", \"Exploits\", \"Fuzzers\", \"DoS\",\n",
        "    \"Reconnaissance\", \"Analysis\", \"Backdoor\", \"Shellcode\", \"Worms\"\n",
        "]\n",
        "attack_weights = [0.5, 0.08, 0.08, 0.06, 0.07, 0.07, 0.03, 0.04, 0.03, 0.04]\n",
        "\n",
        "state_values = [\n",
        "    \"FIN\", \"INT\", \"CON\", \"REQ\", \"RST\",\n",
        "    \"ECO\", \"ACC\", \"PAR\", \"URN\", \"no\", \"CLO\"\n",
        "]\n",
        "\n",
        "proto_values = [\n",
        "    \"tcp\", \"udp\", \"unas\", \"arp\", \"ospf\", \"argus\", \"hmp\", \"igmp\", \"icmp\", \"rtp\"\n",
        "]\n",
        "\n",
        "def get_flow_key(pkt):\n",
        "    proto = None\n",
        "    if IP in pkt:\n",
        "        proto = pkt.proto if hasattr(pkt, 'proto') else None\n",
        "    if TCP in pkt or UDP in pkt:\n",
        "        return (pkt[IP].src, pkt[IP].dst, pkt.sport, pkt.dport, \"tcp\" if TCP in pkt else \"udp\")\n",
        "    elif ICMP in pkt:\n",
        "        return (pkt[IP].src, pkt[IP].dst, 0, 0, \"icmp\")\n",
        "    elif ARP in pkt:\n",
        "        return (pkt[ARP].psrc, pkt[ARP].pdst, 0, 0, \"arp\")\n",
        "    elif OSPF in pkt:\n",
        "        return (pkt[IP].src, pkt[IP].dst, 0, 0, \"ospf\")\n",
        "    elif IGMP in pkt:\n",
        "        return (pkt[IP].src, pkt[IP].dst, 0, 0, \"igmp\")\n",
        "    elif RTP in pkt:\n",
        "        return (pkt[IP].src, pkt[IP].dst, 0, 0, \"rtp\")\n",
        "    elif DNS in pkt:\n",
        "        return (pkt[IP].src, pkt[IP].dst, pkt.sport if hasattr(pkt, 'sport') else 0, pkt.dport if hasattr(pkt, 'dport') else 53, \"unas\")\n",
        "    return None\n",
        "\n",
        "def extract_state(pkt):\n",
        "    # Assign more varied values from the custom state list\n",
        "    if TCP in pkt:\n",
        "        flags = pkt[TCP].flags\n",
        "        if flags == \"F\":\n",
        "            return \"FIN\"\n",
        "        elif flags == \"R\":\n",
        "            return \"RST\"\n",
        "        elif \"A\" in flags:\n",
        "            return \"ACC\"\n",
        "        elif \"P\" in flags:\n",
        "            return \"PAR\"\n",
        "        elif \"S\" in flags:\n",
        "            return \"REQ\"\n",
        "        elif flags == \"FA\":\n",
        "            return \"CLO\"\n",
        "        else:\n",
        "            return random.choice(state_values)\n",
        "    elif ICMP in pkt:\n",
        "        return \"ECO\"\n",
        "    elif DNS in pkt:\n",
        "        return \"CON\"\n",
        "    else:\n",
        "        return random.choice(state_values)\n",
        "\n",
        "def process_packets(packets):\n",
        "    global flow_id_counter\n",
        "    flow_features = []\n",
        "    now = time.time()\n",
        "\n",
        "    for pkt in packets:\n",
        "        if IP not in pkt:\n",
        "            continue\n",
        "\n",
        "        key = get_flow_key(pkt)\n",
        "        if not key:\n",
        "            continue\n",
        "\n",
        "        src, dst, sport, dport, proto = key\n",
        "        state = extract_state(pkt)\n",
        "        ttl = pkt[IP].ttl\n",
        "        window = pkt[TCP].window if TCP in pkt else 0\n",
        "        size = len(pkt)\n",
        "\n",
        "        if key not in flow_stats:\n",
        "            flow_stats[key] = {\n",
        "                \"start\": now,\n",
        "                \"last_seen\": now,\n",
        "                \"bytes\": 0,\n",
        "                \"pkt_count\": 0,\n",
        "                \"swin_vals\": [],\n",
        "                \"dwin_vals\": [],\n",
        "                \"state\": state,\n",
        "                \"sttl\": ttl,\n",
        "                \"id\": flow_id_counter,\n",
        "                \"src\": src,\n",
        "                \"dst\": dst,\n",
        "                \"sport\": sport,\n",
        "                \"dport\": dport,\n",
        "                \"proto\": proto,\n",
        "                \"ct_state_ttl\": 0\n",
        "            }\n",
        "            flow_id_counter += 1\n",
        "\n",
        "        flow = flow_stats[key]\n",
        "        flow[\"last_seen\"] = now\n",
        "        flow[\"bytes\"] += size\n",
        "        flow[\"pkt_count\"] += 1\n",
        "        flow[\"state\"] = state\n",
        "        flow[\"sttl\"] = ttl\n",
        "        flow[\"ct_state_ttl\"] += 1\n",
        "        if TCP in pkt:\n",
        "            if src == pkt[IP].src:\n",
        "                flow[\"swin_vals\"].append(window)\n",
        "            else:\n",
        "                flow[\"dwin_vals\"].append(window)\n",
        "\n",
        "        src_dport_counter[src].add(dport)\n",
        "        dst_sport_counter[dst].add(sport)\n",
        "\n",
        "    expired_keys = [k for k, v in flow_stats.items() if now - v[\"last_seen\"] > FLOW_TIMEOUT]\n",
        "    for key in expired_keys:\n",
        "        flow = flow_stats[key]\n",
        "        duration = flow[\"last_seen\"] - flow[\"start\"]\n",
        "        rate = flow[\"bytes\"] / duration if duration > 0 else 0\n",
        "        swin = sum(flow[\"swin_vals\"]) / len(flow[\"swin_vals\"]) if flow[\"swin_vals\"] else 0\n",
        "        dwin = sum(flow[\"dwin_vals\"]) / len(flow[\"dwin_vals\"]) if flow[\"dwin_vals\"] else 0\n",
        "\n",
        "        row = {\n",
        "            \"timestamp\": time.strftime(\"%Y-%m-%d %H:%M:%S\", time.localtime(flow[\"last_seen\"])),\n",
        "            \"ct_src_dport_ltm\": len(src_dport_counter[flow[\"src\"]]),\n",
        "            \"ct_dst_sport_ltm\": len(dst_sport_counter[flow[\"dst\"]]),\n",
        "            \"rate\": round(rate, 2),\n",
        "            \"swin\": swin,\n",
        "            \"dwin\": dwin,\n",
        "            \"dload\": flow[\"bytes\"],\n",
        "            \"state\": flow[\"state\"],\n",
        "            \"ct_state_ttl\": flow[\"ct_state_ttl\"],\n",
        "            \"sttl\": flow[\"sttl\"],\n",
        "            \"id\": flow[\"id\"],\n",
        "            \"proto\": flow[\"proto\"],\n",
        "        }\n",
        "\n",
        "        attack_cat = random.choices(attack_categories, weights=attack_weights, k=1)[0]\n",
        "        row[\"attack_cat\"] = attack_cat\n",
        "        row[\"label\"] = 0 if attack_cat == \"Normal\" else 1\n",
        "\n",
        "        flow_features.append(row)\n",
        "        del flow_stats[key]\n",
        "\n",
        "    df = pd.DataFrame(flow_features)\n",
        "    if not df.empty:\n",
        "        if not os.path.exists(OUTPUT_CSV):\n",
        "            df.to_csv(OUTPUT_CSV, index=False)\n",
        "        else:\n",
        "            df.to_csv(OUTPUT_CSV, mode='a', header=False, index=False)\n",
        "\n",
        "    if flow_features:\n",
        "        print(f\"[+] Saved {len(flow_features)} expired flows to {OUTPUT_CSV}\")\n",
        "\n",
        "def run_live_capture():\n",
        "    print(\"[*] Starting real-time packet capture with diverse proto + state + attack_cat. Press Ctrl+C to stop.\")\n",
        "    try:\n",
        "        while True:\n",
        "            packets = sniff(timeout=BATCH_INTERVAL)\n",
        "            process_packets(packets)\n",
        "    except KeyboardInterrupt:\n",
        "        print(\"\\n[!] Capture stopped.\")\n",
        "\n",
        "if __name__ == \"__main__\":\n",
        "    run_live_capture()"
      ],
      "metadata": {
        "id": "CNCzw5xO7frc"
      },
      "execution_count": null,
      "outputs": []
    },
    {
      "cell_type": "code",
      "execution_count": null,
      "metadata": {
        "colab": {
          "background_save": true
        },
        "id": "bZVaLcJHoECw",
        "outputId": "dc66ae57-eed2-41ca-d0f2-ba18e61c53f2"
      },
      "outputs": [
        {
          "ename": "ModuleNotFoundError",
          "evalue": "No module named 'scapy'",
          "output_type": "error",
          "traceback": [
            "\u001b[0;31m---------------------------------------------------------------------------\u001b[0m",
            "\u001b[0;31mModuleNotFoundError\u001b[0m                       Traceback (most recent call last)",
            "\u001b[0;32m<ipython-input-1-71993613a7bb>\u001b[0m in \u001b[0;36m<cell line: 0>\u001b[0;34m()\u001b[0m\n\u001b[0;32m----> 1\u001b[0;31m \u001b[0;32mfrom\u001b[0m \u001b[0mscapy\u001b[0m\u001b[0;34m.\u001b[0m\u001b[0mall\u001b[0m \u001b[0;32mimport\u001b[0m \u001b[0;34m*\u001b[0m\u001b[0;34m\u001b[0m\u001b[0;34m\u001b[0m\u001b[0m\n\u001b[0m\u001b[1;32m      2\u001b[0m \u001b[0;32mimport\u001b[0m \u001b[0mpandas\u001b[0m \u001b[0;32mas\u001b[0m \u001b[0mpd\u001b[0m\u001b[0;34m\u001b[0m\u001b[0;34m\u001b[0m\u001b[0m\n\u001b[1;32m      3\u001b[0m \u001b[0;32mimport\u001b[0m \u001b[0mrandom\u001b[0m\u001b[0;34m\u001b[0m\u001b[0;34m\u001b[0m\u001b[0m\n\u001b[1;32m      4\u001b[0m \u001b[0;32mfrom\u001b[0m \u001b[0mdatetime\u001b[0m \u001b[0;32mimport\u001b[0m \u001b[0mdatetime\u001b[0m\u001b[0;34m\u001b[0m\u001b[0;34m\u001b[0m\u001b[0m\n\u001b[1;32m      5\u001b[0m \u001b[0;34m\u001b[0m\u001b[0m\n",
            "\u001b[0;31mModuleNotFoundError\u001b[0m: No module named 'scapy'",
            "",
            "\u001b[0;31m---------------------------------------------------------------------------\u001b[0;32m\nNOTE: If your import is failing due to a missing package, you can\nmanually install dependencies using either !pip or !apt.\n\nTo view examples of installing some common dependencies, click the\n\"Open Examples\" button below.\n\u001b[0;31m---------------------------------------------------------------------------\u001b[0m\n"
          ]
        }
      ],
      "source": [
        "from scapy.all import *\n",
        "import pandas as pd\n",
        "import random\n",
        "from datetime import datetime\n",
        "\n",
        "# Settings\n",
        "target_host = \"192.168.1.10\"\n",
        "target_network = \"192.168.1.0/24\"\n",
        "iface = \"eth0\"  # Replace with your actual interface\n",
        "output_csv = \"simulated_traffic.csv\"\n",
        "\n",
        "# Generate random IPs\n",
        "def random_ip():\n",
        "    return \".\".join(str(random.randint(1, 254)) for _ in range(4))\n",
        "\n",
        "# Extract packet features for logging\n",
        "def extract_features(pkt, label):\n",
        "    return {\n",
        "        \"timestamp\": datetime.now().strftime(\"%Y-%m-%d %H:%M:%S.%f\"),\n",
        "        \"packet_size\": len(pkt),\n",
        "        \"ttl\": pkt[IP].ttl if IP in pkt else \"\",\n",
        "        \"src_ip\": pkt[IP].src if IP in pkt else \"\",\n",
        "        \"dst_ip\": pkt[IP].dst if IP in pkt else \"\",\n",
        "        \"proto\": pkt.proto if IP in pkt else (\"ARP\" if ARP in pkt else \"\"),\n",
        "        \"sport\": pkt[TCP].sport if TCP in pkt else (pkt[UDP].sport if UDP in pkt else 0),\n",
        "        \"dport\": pkt[TCP].dport if TCP in pkt else (pkt[UDP].dport if UDP in pkt else 0),\n",
        "        \"flags\": pkt[TCP].flags if TCP in pkt else \"\",\n",
        "        \"type\": pkt[ICMP].type if ICMP in pkt else \"\",\n",
        "        \"label\": label\n",
        "    }\n",
        "\n",
        "# List to hold all packets\n",
        "packets_data = []\n",
        "\n",
        "# ---- Normal Traffic ----\n",
        "def generate_normal_host_traffic():\n",
        "    pkt = IP(dst=target_host)/ICMP()\n",
        "    packets_data.append(extract_features(pkt, \"normal\"))\n",
        "\n",
        "def generate_normal_network_traffic():\n",
        "    pkt = Ether(dst=\"ff:ff:ff:ff:ff:ff\")/ARP(pdst=target_network)\n",
        "    features = {\n",
        "        \"timestamp\": datetime.now().strftime(\"%Y-%m-%d %H:%M:%S.%f\"),\n",
        "        \"packet_size\": len(pkt),\n",
        "        \"ttl\": \"\",\n",
        "        \"src_ip\": pkt[ARP].psrc,\n",
        "        \"dst_ip\": pkt[ARP].pdst,\n",
        "        \"proto\": \"ARP\",\n",
        "        \"sport\": 0,\n",
        "        \"dport\": 0,\n",
        "        \"flags\": \"\",\n",
        "        \"type\": \"\",\n",
        "        \"label\": \"normal\"\n",
        "    }\n",
        "    packets_data.append(features)\n",
        "\n",
        "# ---- Attack Traffic ----\n",
        "def generate_attack_host_traffic():\n",
        "    for _ in range(5):\n",
        "        pkt = IP(src=random_ip(), dst=target_host)/TCP(dport=22, flags=\"S\")\n",
        "        packets_data.append(extract_features(pkt, \"attack\"))\n",
        "\n",
        "def generate_attack_network_traffic():\n",
        "    for _ in range(10):\n",
        "        pkt = IP(src=random_ip(), dst=target_host)/TCP(dport=random.randint(1, 1024), flags=\"S\")\n",
        "        packets_data.append(extract_features(pkt, \"attack\"))\n",
        "\n",
        "# ---- Run Simulation ----\n",
        "def simulate_and_save():\n",
        "    for _ in range(5):\n",
        "        generate_normal_host_traffic()\n",
        "        generate_normal_network_traffic()\n",
        "    for _ in range(3):\n",
        "        generate_attack_host_traffic()\n",
        "        generate_attack_network_traffic()\n",
        "\n",
        "    # Save to CSV\n",
        "    df = pd.DataFrame(packets_data)\n",
        "    df.to_csv(output_csv, index=False)\n",
        "    print(f\"[+] Saved {len(packets_data)} packets with extended features to {output_csv}\")\n",
        "\n",
        "if __name__ == \"__main__\":\n",
        "    simulate_and_save()\n"
      ]
    }
  ],
  "metadata": {
    "colab": {
      "collapsed_sections": [
        "-R23crxHS0Gg"
      ],
      "provenance": [],
      "mount_file_id": "1FjZNoAuPWdvOu-zjlJFGQqpT_xmd8ZvJ",
      "authorship_tag": "ABX9TyPB5ap1BOK0lXo9RIiiCm27",
      "include_colab_link": true
    },
    "kernelspec": {
      "display_name": "Python 3",
      "name": "python3"
    },
    "language_info": {
      "name": "python"
    }
  },
  "nbformat": 4,
  "nbformat_minor": 0
}