{
  "nbformat": 4,
  "nbformat_minor": 0,
  "metadata": {
    "colab": {
      "provenance": [],
      "collapsed_sections": [
        "-zW0--TET_w0"
      ],
      "include_colab_link": true
    },
    "kernelspec": {
      "name": "python3",
      "display_name": "Python 3"
    },
    "language_info": {
      "name": "python"
    }
  },
  "cells": [
    {
      "cell_type": "markdown",
      "metadata": {
        "id": "view-in-github",
        "colab_type": "text"
      },
      "source": [
        "<a href=\"https://colab.research.google.com/github/hananbahtiti/Hybrid-Intrusion-detection-Systems/blob/main/data_preprocessing.ipynb\" target=\"_parent\"><img src=\"https://colab.research.google.com/assets/colab-badge.svg\" alt=\"Open In Colab\"/></a>"
      ]
    },
    {
      "cell_type": "markdown",
      "source": [
        "#Download Dataset"
      ],
      "metadata": {
        "id": "-zW0--TET_w0"
      }
    },
    {
      "cell_type": "code",
      "execution_count": null,
      "metadata": {
        "colab": {
          "base_uri": "https://localhost:8080/"
        },
        "id": "hDSozQi9-uwW",
        "outputId": "e8456024-0d3f-4db3-edce-10d7c1c76dee",
        "collapsed": true
      },
      "outputs": [
        {
          "output_type": "stream",
          "name": "stdout",
          "text": [
            "--2025-04-26 08:47:38--  https://unsworks.unsw.edu.au/bitstreams/0ac2820a-5131-43ab-90b2-c624c8d73649/download\n",
            "Resolving unsworks.unsw.edu.au (unsworks.unsw.edu.au)... 54.253.215.118\n",
            "Connecting to unsworks.unsw.edu.au (unsworks.unsw.edu.au)|54.253.215.118|:443... connected.\n",
            "HTTP request sent, awaiting response... 302 Found\n",
            "Location: https://unsworks.unsw.edu.au/server/api/core/bitstreams/0ac2820a-5131-43ab-90b2-c624c8d73649/content [following]\n",
            "--2025-04-26 08:47:40--  https://unsworks.unsw.edu.au/server/api/core/bitstreams/0ac2820a-5131-43ab-90b2-c624c8d73649/content\n",
            "Reusing existing connection to unsworks.unsw.edu.au:443.\n",
            "HTTP request sent, awaiting response... 200 200\n",
            "Length: unspecified [application/x-rar-compressed]\n",
            "Saving to: ‘NGIDS-DS.rar’\n",
            "\n",
            "NGIDS-DS.rar            [                <=> ] 941.51M  17.3MB/s    in 56s     \n",
            "\n",
            "2025-04-26 08:48:36 (16.8 MB/s) - ‘NGIDS-DS.rar’ saved [987249484]\n",
            "\n"
          ]
        }
      ],
      "source": [
        "!wget -O NGIDS-DS.rar https://unsworks.unsw.edu.au/bitstreams/0ac2820a-5131-43ab-90b2-c624c8d73649/download"
      ]
    },
    {
      "cell_type": "code",
      "source": [
        "!unrar x /content/NGIDS-DS.rar"
      ],
      "metadata": {
        "collapsed": true,
        "colab": {
          "base_uri": "https://localhost:8080/"
        },
        "id": "9XyP_2zMAbEn",
        "outputId": "1df0d946-b231-460b-8820-934a7f6aed8d"
      },
      "execution_count": null,
      "outputs": [
        {
          "output_type": "stream",
          "name": "stdout",
          "text": [
            "\n",
            "UNRAR 6.11 beta 1 freeware      Copyright (c) 1993-2022 Alexander Roshal\n",
            "\n",
            "\n",
            "Extracting from /content/NGIDS-DS.rar\n",
            "\n",
            "Creating    NGIDS                                                     OK\n",
            "Creating    NGIDS/NGIDS-DS-v1                                         OK\n",
            "Extracting  NGIDS/NGIDS-DS-v1/feature_descr.csv                          \b\b\b\b  0%\b\b\b\b\b  OK \n",
            "Extracting  NGIDS/NGIDS-DS-v1/ground_truth.csv                           \b\b\b\b  0%\b\b\b\b\b  OK \n",
            "Creating    NGIDS/NGIDS-DS-v1/host logs                               OK\n",
            "Extracting  NGIDS/NGIDS-DS-v1/host logs/1.csv                            \b\b\b\b  0%\b\b\b\b\b  OK \n",
            "Extracting  NGIDS/NGIDS-DS-v1/host logs/10.csv                           \b\b\b\b  0%\b\b\b\b  1%\b\b\b\b\b  OK \n",
            "Extracting  NGIDS/NGIDS-DS-v1/host logs/11.csv                           \b\b\b\b  1%\b\b\b\b\b  OK \n",
            "Extracting  NGIDS/NGIDS-DS-v1/host logs/12.csv                           \b\b\b\b  1%\b\b\b\b  2%\b\b\b\b\b  OK \n",
            "Extracting  NGIDS/NGIDS-DS-v1/host logs/13.csv                           \b\b\b\b  2%\b\b\b\b\b  OK \n",
            "Extracting  NGIDS/NGIDS-DS-v1/host logs/14.csv                           \b\b\b\b  2%\b\b\b\b  3%\b\b\b\b\b  OK \n",
            "Extracting  NGIDS/NGIDS-DS-v1/host logs/15.csv                           \b\b\b\b  3%\b\b\b\b\b  OK \n",
            "Extracting  NGIDS/NGIDS-DS-v1/host logs/16.csv                           \b\b\b\b  3%\b\b\b\b\b  OK \n",
            "Extracting  NGIDS/NGIDS-DS-v1/host logs/17.csv                           \b\b\b\b  3%\b\b\b\b  4%\b\b\b\b\b  OK \n",
            "Extracting  NGIDS/NGIDS-DS-v1/host logs/18.csv                           \b\b\b\b  4%\b\b\b\b\b  OK \n",
            "Extracting  NGIDS/NGIDS-DS-v1/host logs/19.csv                           \b\b\b\b  4%\b\b\b\b  5%\b\b\b\b\b  OK \n",
            "Extracting  NGIDS/NGIDS-DS-v1/host logs/2.csv                            \b\b\b\b  5%\b\b\b\b\b  OK \n",
            "Extracting  NGIDS/NGIDS-DS-v1/host logs/20.csv                           \b\b\b\b  5%\b\b\b\b  6%\b\b\b\b\b  OK \n",
            "Extracting  NGIDS/NGIDS-DS-v1/host logs/21.csv                           \b\b\b\b  6%\b\b\b\b\b  OK \n",
            "Extracting  NGIDS/NGIDS-DS-v1/host logs/22.csv                           \b\b\b\b  6%\b\b\b\b\b  OK \n",
            "Extracting  NGIDS/NGIDS-DS-v1/host logs/23.csv                           \b\b\b\b  6%\b\b\b\b  7%\b\b\b\b\b  OK \n",
            "Extracting  NGIDS/NGIDS-DS-v1/host logs/24.csv                           \b\b\b\b  7%\b\b\b\b\b  OK \n",
            "Extracting  NGIDS/NGIDS-DS-v1/host logs/25.csv                           \b\b\b\b  7%\b\b\b\b  8%\b\b\b\b\b  OK \n",
            "Extracting  NGIDS/NGIDS-DS-v1/host logs/26.csv                           \b\b\b\b  8%\b\b\b\b\b  OK \n",
            "Extracting  NGIDS/NGIDS-DS-v1/host logs/27.csv                           \b\b\b\b  8%\b\b\b\b\b  OK \n",
            "Extracting  NGIDS/NGIDS-DS-v1/host logs/28.csv                           \b\b\b\b  8%\b\b\b\b  9%\b\b\b\b\b  OK \n",
            "Extracting  NGIDS/NGIDS-DS-v1/host logs/29.csv                           \b\b\b\b  9%\b\b\b\b\b  OK \n",
            "Extracting  NGIDS/NGIDS-DS-v1/host logs/3.csv                            \b\b\b\b  9%\b\b\b\b 10%\b\b\b\b\b  OK \n",
            "Extracting  NGIDS/NGIDS-DS-v1/host logs/30.csv                           \b\b\b\b 10%\b\b\b\b\b  OK \n",
            "Extracting  NGIDS/NGIDS-DS-v1/host logs/31.csv                           \b\b\b\b 10%\b\b\b\b 11%\b\b\b\b\b  OK \n",
            "Extracting  NGIDS/NGIDS-DS-v1/host logs/32.csv                           \b\b\b\b 11%\b\b\b\b\b  OK \n",
            "Extracting  NGIDS/NGIDS-DS-v1/host logs/33.csv                           \b\b\b\b 11%\b\b\b\b\b  OK \n",
            "Extracting  NGIDS/NGIDS-DS-v1/host logs/34.csv                           \b\b\b\b 11%\b\b\b\b 12%\b\b\b\b\b  OK \n",
            "Extracting  NGIDS/NGIDS-DS-v1/host logs/35.csv                           \b\b\b\b 12%\b\b\b\b\b  OK \n",
            "Extracting  NGIDS/NGIDS-DS-v1/host logs/36.csv                           \b\b\b\b 12%\b\b\b\b 13%\b\b\b\b\b  OK \n",
            "Extracting  NGIDS/NGIDS-DS-v1/host logs/37.csv                           \b\b\b\b 13%\b\b\b\b\b  OK \n",
            "Extracting  NGIDS/NGIDS-DS-v1/host logs/38.csv                           \b\b\b\b 13%\b\b\b\b 14%\b\b\b\b\b  OK \n",
            "Extracting  NGIDS/NGIDS-DS-v1/host logs/39.csv                           \b\b\b\b 14%\b\b\b\b\b  OK \n",
            "Extracting  NGIDS/NGIDS-DS-v1/host logs/4.csv                            \b\b\b\b 14%\b\b\b\b 15%\b\b\b\b\b  OK \n",
            "Extracting  NGIDS/NGIDS-DS-v1/host logs/40.csv                           \b\b\b\b 15%\b\b\b\b\b  OK \n",
            "Extracting  NGIDS/NGIDS-DS-v1/host logs/41.csv                           \b\b\b\b 15%\b\b\b\b\b  OK \n",
            "Extracting  NGIDS/NGIDS-DS-v1/host logs/42.csv                           \b\b\b\b 15%\b\b\b\b 16%\b\b\b\b\b  OK \n",
            "Extracting  NGIDS/NGIDS-DS-v1/host logs/43.csv                           \b\b\b\b 16%\b\b\b\b\b  OK \n",
            "Extracting  NGIDS/NGIDS-DS-v1/host logs/44.csv                           \b\b\b\b 16%\b\b\b\b 17%\b\b\b\b\b  OK \n",
            "Extracting  NGIDS/NGIDS-DS-v1/host logs/45.csv                           \b\b\b\b 17%\b\b\b\b\b  OK \n",
            "Extracting  NGIDS/NGIDS-DS-v1/host logs/46.csv                           \b\b\b\b 17%\b\b\b\b\b  OK \n",
            "Extracting  NGIDS/NGIDS-DS-v1/host logs/47.csv                           \b\b\b\b 17%\b\b\b\b 18%\b\b\b\b\b  OK \n",
            "Extracting  NGIDS/NGIDS-DS-v1/host logs/48.csv                           \b\b\b\b 18%\b\b\b\b\b  OK \n",
            "Extracting  NGIDS/NGIDS-DS-v1/host logs/49.csv                           \b\b\b\b 18%\b\b\b\b 19%\b\b\b\b\b  OK \n",
            "Extracting  NGIDS/NGIDS-DS-v1/host logs/5.csv                            \b\b\b\b 19%\b\b\b\b\b  OK \n",
            "Extracting  NGIDS/NGIDS-DS-v1/host logs/50.csv                           \b\b\b\b 19%\b\b\b\b 20%\b\b\b\b\b  OK \n",
            "Extracting  NGIDS/NGIDS-DS-v1/host logs/51.csv                           \b\b\b\b 20%\b\b\b\b\b  OK \n",
            "Extracting  NGIDS/NGIDS-DS-v1/host logs/52.csv                           \b\b\b\b 20%\b\b\b\b\b  OK \n",
            "Extracting  NGIDS/NGIDS-DS-v1/host logs/53.csv                           \b\b\b\b 20%\b\b\b\b 21%\b\b\b\b\b  OK \n",
            "Extracting  NGIDS/NGIDS-DS-v1/host logs/54.csv                           \b\b\b\b 21%\b\b\b\b\b  OK \n",
            "Extracting  NGIDS/NGIDS-DS-v1/host logs/55.csv                           \b\b\b\b 21%\b\b\b\b 22%\b\b\b\b\b  OK \n",
            "Extracting  NGIDS/NGIDS-DS-v1/host logs/56.csv                           \b\b\b\b 22%\b\b\b\b\b  OK \n",
            "Extracting  NGIDS/NGIDS-DS-v1/host logs/57.csv                           \b\b\b\b 22%\b\b\b\b 23%\b\b\b\b\b  OK \n",
            "Extracting  NGIDS/NGIDS-DS-v1/host logs/58.csv                           \b\b\b\b 23%\b\b\b\b\b  OK \n",
            "Extracting  NGIDS/NGIDS-DS-v1/host logs/59.csv                           \b\b\b\b 23%\b\b\b\b 24%\b\b\b\b\b  OK \n",
            "Extracting  NGIDS/NGIDS-DS-v1/host logs/6.csv                            \b\b\b\b 24%\b\b\b\b\b  OK \n",
            "Extracting  NGIDS/NGIDS-DS-v1/host logs/60.csv                           \b\b\b\b 24%\b\b\b\b 25%\b\b\b\b\b  OK \n",
            "Extracting  NGIDS/NGIDS-DS-v1/host logs/61.csv                           \b\b\b\b 25%\b\b\b\b\b  OK \n",
            "Extracting  NGIDS/NGIDS-DS-v1/host logs/62.csv                           \b\b\b\b 25%\b\b\b\b\b  OK \n",
            "Extracting  NGIDS/NGIDS-DS-v1/host logs/63.csv                           \b\b\b\b 25%\b\b\b\b 26%\b\b\b\b\b  OK \n",
            "Extracting  NGIDS/NGIDS-DS-v1/host logs/64.csv                           \b\b\b\b 26%\b\b\b\b\b  OK \n",
            "Extracting  NGIDS/NGIDS-DS-v1/host logs/65.csv                           \b\b\b\b 26%\b\b\b\b 27%\b\b\b\b\b  OK \n",
            "Extracting  NGIDS/NGIDS-DS-v1/host logs/66.csv                           \b\b\b\b 27%\b\b\b\b\b  OK \n",
            "Extracting  NGIDS/NGIDS-DS-v1/host logs/67.csv                           \b\b\b\b 27%\b\b\b\b 28%\b\b\b\b\b  OK \n",
            "Extracting  NGIDS/NGIDS-DS-v1/host logs/68.csv                           \b\b\b\b 28%\b\b\b\b\b  OK \n",
            "Extracting  NGIDS/NGIDS-DS-v1/host logs/69.csv                           \b\b\b\b 28%\b\b\b\b\b  OK \n",
            "Extracting  NGIDS/NGIDS-DS-v1/host logs/7.csv                            \b\b\b\b 28%\b\b\b\b 29%\b\b\b\b\b  OK \n",
            "Extracting  NGIDS/NGIDS-DS-v1/host logs/70.csv                           \b\b\b\b 29%\b\b\b\b\b  OK \n",
            "Extracting  NGIDS/NGIDS-DS-v1/host logs/71.csv                           \b\b\b\b 29%\b\b\b\b 30%\b\b\b\b\b  OK \n",
            "Extracting  NGIDS/NGIDS-DS-v1/host logs/72.csv                           \b\b\b\b 30%\b\b\b\b\b  OK \n",
            "Extracting  NGIDS/NGIDS-DS-v1/host logs/73.csv                           \b\b\b\b 30%\b\b\b\b\b  OK \n",
            "Extracting  NGIDS/NGIDS-DS-v1/host logs/74.csv                           \b\b\b\b 30%\b\b\b\b 31%\b\b\b\b\b  OK \n",
            "Extracting  NGIDS/NGIDS-DS-v1/host logs/75.csv                           \b\b\b\b 31%\b\b\b\b\b  OK \n",
            "Extracting  NGIDS/NGIDS-DS-v1/host logs/76.csv                           \b\b\b\b 31%\b\b\b\b 32%\b\b\b\b\b  OK \n",
            "Extracting  NGIDS/NGIDS-DS-v1/host logs/77.csv                           \b\b\b\b 32%\b\b\b\b\b  OK \n",
            "Extracting  NGIDS/NGIDS-DS-v1/host logs/78.csv                           \b\b\b\b 32%\b\b\b\b 33%\b\b\b\b\b  OK \n",
            "Extracting  NGIDS/NGIDS-DS-v1/host logs/79.csv                           \b\b\b\b 33%\b\b\b\b\b  OK \n",
            "Extracting  NGIDS/NGIDS-DS-v1/host logs/8.csv                            \b\b\b\b 33%\b\b\b\b 34%\b\b\b\b\b  OK \n",
            "Extracting  NGIDS/NGIDS-DS-v1/host logs/80.csv                           \b\b\b\b 34%\b\b\b\b\b  OK \n",
            "Extracting  NGIDS/NGIDS-DS-v1/host logs/81.csv                           \b\b\b\b 34%\b\b\b\b\b  OK \n",
            "Extracting  NGIDS/NGIDS-DS-v1/host logs/82.csv                           \b\b\b\b 34%\b\b\b\b 35%\b\b\b\b\b  OK \n",
            "Extracting  NGIDS/NGIDS-DS-v1/host logs/83.csv                           \b\b\b\b 35%\b\b\b\b\b  OK \n",
            "Extracting  NGIDS/NGIDS-DS-v1/host logs/84.csv                           \b\b\b\b 35%\b\b\b\b 36%\b\b\b\b\b  OK \n",
            "Extracting  NGIDS/NGIDS-DS-v1/host logs/85.csv                           \b\b\b\b 36%\b\b\b\b\b  OK \n",
            "Extracting  NGIDS/NGIDS-DS-v1/host logs/86.csv                           \b\b\b\b 36%\b\b\b\b 37%\b\b\b\b\b  OK \n",
            "Extracting  NGIDS/NGIDS-DS-v1/host logs/87.csv                           \b\b\b\b 37%\b\b\b\b\b  OK \n",
            "Extracting  NGIDS/NGIDS-DS-v1/host logs/88.csv                           \b\b\b\b 37%\b\b\b\b\b  OK \n",
            "Extracting  NGIDS/NGIDS-DS-v1/host logs/89.csv                           \b\b\b\b 37%\b\b\b\b 38%\b\b\b\b\b  OK \n",
            "Extracting  NGIDS/NGIDS-DS-v1/host logs/9.csv                            \b\b\b\b 38%\b\b\b\b\b  OK \n",
            "Extracting  NGIDS/NGIDS-DS-v1/host logs/90.csv                           \b\b\b\b 38%\b\b\b\b\b  OK \n",
            "Extracting  NGIDS/NGIDS-DS-v1/host logs/91.csv                           \b\b\b\b 38%\b\b\b\b 39%\b\b\b\b\b  OK \n",
            "Extracting  NGIDS/NGIDS-DS-v1/host logs/92.csv                           \b\b\b\b 39%\b\b\b\b\b  OK \n",
            "Extracting  NGIDS/NGIDS-DS-v1/host logs/93.csv                           \b\b\b\b 39%\b\b\b\b\b  OK \n",
            "Extracting  NGIDS/NGIDS-DS-v1/host logs/94.csv                           \b\b\b\b 39%\b\b\b\b 40%\b\b\b\b\b  OK \n",
            "Extracting  NGIDS/NGIDS-DS-v1/host logs/95.csv                           \b\b\b\b 40%\b\b\b\b 41%\b\b\b\b\b  OK \n",
            "Extracting  NGIDS/NGIDS-DS-v1/host logs/96.csv                           \b\b\b\b 41%\b\b\b\b\b  OK \n",
            "Extracting  NGIDS/NGIDS-DS-v1/host logs/97.csv                           \b\b\b\b 41%\b\b\b\b\b  OK \n",
            "Extracting  NGIDS/NGIDS-DS-v1/host logs/98.csv                           \b\b\b\b 41%\b\b\b\b 42%\b\b\b\b\b  OK \n",
            "Extracting  NGIDS/NGIDS-DS-v1/host logs/99.csv                           \b\b\b\b 42%\b\b\b\b\b  OK \n",
            "Extracting  NGIDS/NGIDS-DS-v1/NGIDS.pcap                                 \b\b\b\b 42%\b\b\b\b 43%\b\b\b\b 44%\b\b\b\b\b  OK \n",
            "Extracting  NGIDS/NGIDS-DS-v1/Readme.txt                                 \b\b\b\b 44%\b\b\b\b\b  OK \n",
            "Creating    NGIDS/NGIDS-DS-v2                                         OK\n",
            "Extracting  NGIDS/NGIDS-DS-v2/readme.txt                                 \b\b\b\b 44%\b\b\b\b\b  OK \n",
            "Creating    NGIDS/NGIDS-DS-v2/Test data                               OK\n",
            "Extracting  NGIDS/NGIDS-DS-v2/Test data/0_1.csv                          \b\b\b\b 44%\b\b\b\b 45%\b\b\b\b 46%\b\b\b\b 47%\b\b\b\b\b  OK \n",
            "Extracting  NGIDS/NGIDS-DS-v2/Test data/0_10.csv                         \b\b\b\b 47%\b\b\b\b 48%\b\b\b\b 49%\b\b\b\b\b  OK \n",
            "Extracting  NGIDS/NGIDS-DS-v2/Test data/0_11.csv                         \b\b\b\b 49%\b\b\b\b 50%\b\b\b\b 51%\b\b\b\b\b  OK \n",
            "Extracting  NGIDS/NGIDS-DS-v2/Test data/0_12.csv                         \b\b\b\b 51%\b\b\b\b 52%\b\b\b\b 53%\b\b\b\b\b  OK \n",
            "Extracting  NGIDS/NGIDS-DS-v2/Test data/0_13.csv                         \b\b\b\b 53%\b\b\b\b 54%\b\b\b\b 55%\b\b\b\b 56%\b\b\b\b\b  OK \n",
            "Extracting  NGIDS/NGIDS-DS-v2/Test data/0_14.csv                         \b\b\b\b 56%\b\b\b\b 57%\b\b\b\b 58%\b\b\b\b\b  OK \n",
            "Extracting  NGIDS/NGIDS-DS-v2/Test data/0_15.csv                         \b\b\b\b 58%\b\b\b\b 59%\b\b\b\b 60%\b\b\b\b\b  OK \n",
            "Extracting  NGIDS/NGIDS-DS-v2/Test data/0_16.csv                         \b\b\b\b 60%\b\b\b\b 61%\b\b\b\b 62%\b\b\b\b\b  OK \n",
            "Extracting  NGIDS/NGIDS-DS-v2/Test data/0_2.csv                          \b\b\b\b 62%\b\b\b\b 63%\b\b\b\b 64%\b\b\b\b\b  OK \n",
            "Extracting  NGIDS/NGIDS-DS-v2/Test data/0_3.csv                          \b\b\b\b 64%\b\b\b\b 65%\b\b\b\b 66%\b\b\b\b 67%\b\b\b\b\b  OK \n",
            "Extracting  NGIDS/NGIDS-DS-v2/Test data/0_4.csv                          \b\b\b\b 67%\b\b\b\b 68%\b\b\b\b 69%\b\b\b\b 70%\b\b\b\b 71%\b\b\b\b\b  OK \n",
            "Extracting  NGIDS/NGIDS-DS-v2/Test data/0_5.csv                          \b\b\b\b 71%\b\b\b\b 72%\b\b\b\b 73%\b\b\b\b 74%\b\b\b\b\b  OK \n",
            "Extracting  NGIDS/NGIDS-DS-v2/Test data/0_6.csv                          \b\b\b\b 74%\b\b\b\b 75%\b\b\b\b 76%\b\b\b\b 77%\b\b\b\b 78%\b\b\b\b\b  OK \n",
            "Extracting  NGIDS/NGIDS-DS-v2/Test data/0_7.csv                          \b\b\b\b 78%\b\b\b\b 79%\b\b\b\b 80%\b\b\b\b 81%\b\b\b\b\b  OK \n",
            "Extracting  NGIDS/NGIDS-DS-v2/Test data/0_8.csv                          \b\b\b\b 81%\b\b\b\b 82%\b\b\b\b 83%\b\b\b\b 84%\b\b\b\b 85%\b\b\b\b\b  OK \n",
            "Extracting  NGIDS/NGIDS-DS-v2/Test data/0_9.csv                          \b\b\b\b 85%\b\b\b\b 86%\b\b\b\b 87%\b\b\b\b 88%\b\b\b\b\b  OK \n",
            "Creating    NGIDS/NGIDS-DS-v2/Traing data                             OK\n",
            "Extracting  NGIDS/NGIDS-DS-v2/Traing data/0_1.csv                        \b\b\b\b 88%\b\b\b\b 89%\b\b\b\b 90%\b\b\b\b\b  OK \n",
            "Extracting  NGIDS/NGIDS-DS-v2/Traing data/0_2.csv                        \b\b\b\b 90%\b\b\b\b 91%\b\b\b\b 92%\b\b\b\b 93%\b\b\b\b 94%\b\b\b\b\b  OK \n",
            "Extracting  NGIDS/NGIDS-DS-v2/Traing data/0_3.csv                        \b\b\b\b 94%\b\b\b\b 95%\b\b\b\b 96%\b\b\b\b 97%\b\b\b\b\b  OK \n",
            "Extracting  NGIDS/NGIDS-DS-v2/Traing data/0_4.csv                        \b\b\b\b 97%\b\b\b\b 98%\b\b\b\b 99%\b\b\b\b\b  OK \n",
            "Extracting  NGIDS/Readme.txt                                             \b\b\b\b 99%\b\b\b\b\b  OK \n",
            "All OK\n"
          ]
        }
      ]
    },
    {
      "cell_type": "markdown",
      "source": [
        "#Host data processing"
      ],
      "metadata": {
        "id": "zJg_zDVfT9Go"
      }
    },
    {
      "cell_type": "code",
      "source": [
        "!pip install tqdm"
      ],
      "metadata": {
        "id": "RyP2JfTfXV2w",
        "outputId": "973538b7-05f1-4bcf-aa5f-5d4a630e7dba",
        "colab": {
          "base_uri": "https://localhost:8080/"
        }
      },
      "execution_count": null,
      "outputs": [
        {
          "output_type": "stream",
          "name": "stdout",
          "text": [
            "Requirement already satisfied: tqdm in /usr/local/lib/python3.11/dist-packages (4.67.1)\n"
          ]
        }
      ]
    },
    {
      "cell_type": "code",
      "source": [
        "!rm -rf /content/NGIDS"
      ],
      "metadata": {
        "id": "yjJ1N5X8hknr"
      },
      "execution_count": null,
      "outputs": []
    },
    {
      "cell_type": "code",
      "source": [
        "import pandas as pd\n",
        "import numpy as np\n",
        "import os\n",
        "import glob\n",
        "import math\n",
        "from tqdm import tqdm\n",
        "from sklearn.preprocessing import LabelEncoder"
      ],
      "metadata": {
        "id": "UJ0W3F-qT6Td"
      },
      "execution_count": 1,
      "outputs": []
    },
    {
      "cell_type": "code",
      "source": [
        "class HostPreprocessing():\n",
        "  def __init__(self):\n",
        "    pass\n",
        "\n",
        "  def __file_path_collection(self, folder_path, ends='.csv'):\n",
        "    try:\n",
        "      joined_list = []\n",
        "      for file_name in os.listdir(folder_path):\n",
        "        file_name = os.path.join(folder_path, file_name)\n",
        "        if os.path.isfile(file_name) and file_name.endswith(ends):\n",
        "          joined_list.append(file_name)\n",
        "      return joined_list\n",
        "\n",
        "    except Exception as e:\n",
        "      return f\"An error occurred: {e}\"\n",
        "\n",
        "\n",
        "  def rename_columns(self, folder_path):\n",
        "    files = self.__file_path_collection(folder_path)\n",
        "    try:\n",
        "      for file in tqdm(files, desc=\"Renaming columns\") :\n",
        "        df = pd.read_csv(file)\n",
        "        column_name = df.columns.tolist()\n",
        "        df.rename(columns={\n",
        "            column_name[0]:'Date',\n",
        "            column_name[1]:'Time',\n",
        "            column_name[2]:'Unique_Identification',\n",
        "            column_name[3]:'Execution_Path',\n",
        "            column_name[4]:'System_Calls_Identifiers',\n",
        "            column_name[5]:\"Event's_Unique_Identification\",\n",
        "            column_name[6]:'attacks',\n",
        "            column_name[7]:\"Sub_Type_Attack\",\n",
        "            column_name[8]:\"Label\"\n",
        "            }, inplace=True)\n",
        "        df.to_csv(file, index=False)\n",
        "      return f\"done files...\"\n",
        "\n",
        "    except Exception as e:\n",
        "      return f\"An error occurred: {e}\"\n",
        "\n",
        "\n",
        "  def data_encoding(self, folder_path, column_number : int):\n",
        "    files = self.__file_path_collection(folder_path)\n",
        "    encoder = LabelEncoder()\n",
        "    all_value = []\n",
        "    try:\n",
        "      for file in tqdm(files, desc=\"Extract all values from files\"):\n",
        "        df = pd.read_csv(file)\n",
        "        if column_number < df.shape[1]:\n",
        "                all_value.extend(df.iloc[:, column_number].dropna().unique())\n",
        "        else:\n",
        "            print(f\"❌ Skipped (no column {column_number}): {file}\")\n",
        "\n",
        "        #print( len(df.iloc[:, column_number].dropna().unique()) , file )\n",
        "      encoder.fit(all_value)\n",
        "\n",
        "      for file in tqdm(files, desc=\"encoder data\"):\n",
        "        df = pd.read_csv(file)\n",
        "        df.iloc[:, column_number] = encoder.transform(df.iloc[:, column_number])\n",
        "        #df.drop(columns=[df.columns[column_number]], inplace=True)\n",
        "        #print(len(df.iloc[:, column_number].dropna().unique()), df.iloc[:, column_number].dropna().unique(), file )\n",
        "        df.to_csv(file, index=False)\n",
        "      return f\"done file...\"\n",
        "\n",
        "    except Exception as e:\n",
        "      return f\"An error occurred: {e}\"\n",
        "\n",
        "\n",
        "\n",
        "  def paths_encoding(self, folder_path, column_number: int):\n",
        "    files = self.__file_path_collection(folder_path)\n",
        "    unique_parts_set = set()\n",
        "    max_parts_len = 0\n",
        "\n",
        "    try:\n",
        "        # Step 1: Collect unique path parts and max length\n",
        "        for file in tqdm(files, desc=\"Collecting unique path parts\"):\n",
        "            for chunk in pd.read_csv(file, chunksize=10000):\n",
        "                paths = chunk.iloc[:, column_number].dropna().astype(str)\n",
        "                for path in paths:\n",
        "                    parts = path.strip(\"/\").split(\"/\")\n",
        "                    unique_parts_set.update(parts)\n",
        "                    if len(parts) > max_parts_len:\n",
        "                        max_parts_len = len(parts)\n",
        "\n",
        "        # Step 2: Create a dictionary to map parts to indices\n",
        "        part_to_index = {part: idx for idx, part in enumerate(unique_parts_set)}\n",
        "\n",
        "        # Step 3: Encode paths and write to new files\n",
        "        for file in tqdm(files, desc=\"Encoding and saving data\"):\n",
        "            output_file = file\n",
        "            first = True\n",
        "\n",
        "            for chunk in pd.read_csv(file, chunksize=10000):\n",
        "                paths = chunk.iloc[:, column_number].fillna(\"\").astype(str)\n",
        "\n",
        "                # Encode paths and pad\n",
        "                encoded_matrix = np.full((len(paths), max_parts_len), -1, dtype=int)\n",
        "                for i, path in enumerate(paths):\n",
        "                    parts = path.strip(\"/\").split(\"/\")\n",
        "                    encoded = [part_to_index.get(part, -1) for part in parts]\n",
        "                    encoded_matrix[i, :len(encoded)] = encoded\n",
        "\n",
        "                encoded_df = pd.DataFrame(encoded_matrix, index=chunk.index,\n",
        "                                          columns=[f\"path_part_{i+1}\" for i in range(max_parts_len)])\n",
        "                chunk.drop(chunk.columns[column_number], axis=1, inplace=True)\n",
        "\n",
        "                final_df = pd.concat([chunk.reset_index(drop=True), encoded_df], axis=1)\n",
        "\n",
        "                final_df.to_csv(file, mode='w' if first else 'a', header=first, index=False)\n",
        "                first = False\n",
        "\n",
        "        return \"✅ Path encoding and file saving completed successfully.\"\n",
        "\n",
        "    except Exception as e:\n",
        "        return f\"❌ An error occurred: {e}\"\n",
        "\n",
        "\n",
        "\n",
        "\n",
        "\n",
        "  def extract_datetime_features(self, folder_path, date_col, time_col ):\n",
        "    files = self.__file_path_collection(folder_path) # Assign the output of __file_path_collection to files\n",
        "    try:\n",
        "      for file in tqdm(files, desc=\"read all files\"): # Iterate through the 'files' list, not 'file_paths'\n",
        "        df = pd.read_csv(file) # Read each file into a DataFrame\n",
        "        if date_col in df.columns and time_col in df.columns :\n",
        "          df[date_col] = pd.to_datetime(df[date_col], format='%d/%m/%Y', errors='coerce', dayfirst=True)\n",
        "\n",
        "          df['year'] = df[date_col].dt.year\n",
        "          df['month'] = df[date_col].dt.month\n",
        "          df['day'] = df[date_col].dt.day\n",
        "\n",
        "          # Assuming 'Time' column is string and needs to be converted to datetime\n",
        "          df[time_col] = pd.to_datetime(df[time_col], format='%H:%M:%S', errors='coerce', dayfirst=True)\n",
        "\n",
        "          df['hour'] = df[time_col].dt.hour\n",
        "          df['minute'] = df[time_col].dt.minute\n",
        "          df['second'] = df[time_col].dt.second\n",
        "\n",
        "          df.drop(columns=[date_col, time_col], inplace=True)\n",
        "\n",
        "          df.to_csv(file, index=False) # Save changes back to the original file\n",
        "          print(f\"✅ Processed: {df.head(3)}\")\n",
        "\n",
        "    except Exception as e:\n",
        "        print(f\"❌ Error in {file}: {e}\") # Print the error and the file name\n",
        "\n",
        "\n",
        "\n",
        "  def delete_data(self, folder_path):\n",
        "    file_paths = self.__file_path_collection(folder_path, ends='_encoded.csv')\n",
        "    try:\n",
        "       for file in tqdm(file_paths, desc=\"read all files\"):\n",
        "          df = pd.read_csv(file)\n",
        "          df = df.loc[:, df.nunique() > 1]\n",
        "          df.to_csv(file, index=False)\n",
        "       return f\"Columns containing only one value are deleted...\"\n",
        "    except Exception as e:\n",
        "      return f\"An error occurred: {e}\"\n",
        "\n",
        "\n",
        "\n",
        "  def file_collection(self, folder_path):\n",
        "    try:\n",
        "      file_paths = self.__file_path_collection(folder_path)\n",
        "      if file_paths:\n",
        "        output_folder = os.path.join(os.getcwd(),'files')\n",
        "        os.makedirs(output_folder ,exist_ok=True)\n",
        "        output_file = os.path.join(output_folder,\"final.csv\")\n",
        "\n",
        "        for file in tqdm(file_paths, desc=\"read all files\"):\n",
        "\n",
        "          first = True\n",
        "          chunk = pd.read_csv(file, chunksize=10000)\n",
        "          for part in chunk:\n",
        "            part.to_csv(output_file, mode='a', header=first, index=False)\n",
        "            first = False\n",
        "\n",
        "      return  f\"done file...\"\n",
        "\n",
        "    except Exception as e:\n",
        "      return f\"An error occurred: {e}\"\n",
        "\n",
        "\n",
        "a = HostPreprocessing()\n",
        "#a.file_path_collection(\"/content/NGIDS/NGIDS-DS-v1/host logs\")\n",
        "#a.file_collection(\"/content/NGIDS/NGIDS-DS-v1/host logs\")\n",
        "#a.rename_columns( '/content/NGIDS/NGIDS-DS-v1/host logs')\n",
        "#a.data_encoding('/content/NGIDS/NGIDS-DS-v1/host logs', column_number=6)\n",
        "#a.data_encoding('/content/NGIDS/NGIDS-DS-v1/host logs', column_number=7)\n",
        "\n",
        "#c=a.paths_encoding('/content/NGIDS/NGIDS-DS-v1/host logs', column_number=3)\n",
        "\n",
        "a.extract_datetime_features(  folder_path='/content/NGIDS/NGIDS-DS-v1/host logs'\n",
        "                           ,date_col='Date',\n",
        "                            time_col='Time' )\n",
        "#a.delete_data( folder_path='/content/NGIDS/NGIDS-DS-v1/host logs')"
      ],
      "metadata": {
        "colab": {
          "base_uri": "https://localhost:8080/"
        },
        "id": "iadsIYxGUDEL",
        "outputId": "2b28f22a-ec42-4a91-a85a-7051386a2e09",
        "collapsed": true
      },
      "execution_count": 20,
      "outputs": [
        {
          "output_type": "stream",
          "name": "stderr",
          "text": [
            "read all files:   1%|          | 1/99 [00:05<09:44,  5.97s/it]"
          ]
        },
        {
          "output_type": "stream",
          "name": "stdout",
          "text": [
            "✅ Processed:    Unique_Identification                      Execution_Path  \\\n",
            "0                   1834                /usr/bin/ibus-daemon   \n",
            "1                  16516  /usr/lib/unity/unity-panel-service   \n",
            "2                   2114                     /usr/bin/compiz   \n",
            "\n",
            "   System_Calls_Identifiers  Event's_Unique_Identification  attacks  \\\n",
            "0                       168                       86128462        7   \n",
            "1                       168                       86101141        7   \n",
            "2                       168                       86101227        7   \n",
            "\n",
            "   Sub_Type_Attack  Label  year  month  day  hour  minute  second  \n",
            "0               52      0  2016      3   15    10       8      44  \n",
            "1               52      0  2016      3   15    10      10       0  \n",
            "2               52      0  2016      3   15    10      10       0  \n"
          ]
        },
        {
          "output_type": "stream",
          "name": "stderr",
          "text": [
            "\rread all files:   2%|▏         | 2/99 [00:14<11:42,  7.24s/it]"
          ]
        },
        {
          "output_type": "stream",
          "name": "stdout",
          "text": [
            "✅ Processed:    Unique_Identification     Execution_Path  System_Calls_Identifiers  \\\n",
            "0                   4493  /usr/sbin/apache2                        78   \n",
            "1                   4519  /usr/sbin/apache2                       256   \n",
            "2                   4519  /usr/sbin/apache2                       256   \n",
            "\n",
            "   Event's_Unique_Identification  attacks  Sub_Type_Attack  Label  year  \\\n",
            "0                       38342331        7               52      0  2016   \n",
            "1                       38342112        7               52      0  2016   \n",
            "2                       38342278        7               52      0  2016   \n",
            "\n",
            "   month  day  hour  minute  second  \n",
            "0      3   12    22       3      30  \n",
            "1      3   12    22       3      30  \n",
            "2      3   12    22       3      30  \n"
          ]
        },
        {
          "output_type": "stream",
          "name": "stderr",
          "text": [
            "\rread all files:   3%|▎         | 3/99 [00:17<08:47,  5.50s/it]"
          ]
        },
        {
          "output_type": "stream",
          "name": "stdout",
          "text": [
            "✅ Processed:    Unique_Identification   Execution_Path  System_Calls_Identifiers  \\\n",
            "0                   2110  /usr/bin/compiz                       102   \n",
            "1                   2110  /usr/bin/compiz                       102   \n",
            "2                   2110  /usr/bin/compiz                       146   \n",
            "\n",
            "   Event's_Unique_Identification  attacks  Sub_Type_Attack  Label  year  \\\n",
            "0                       35616550        7               52      0  2016   \n",
            "1                       35616717        7               52      0  2016   \n",
            "2                       35616468        7               52      0  2016   \n",
            "\n",
            "   month  day  hour  minute  second  \n",
            "0      3   12    19      22      29  \n",
            "1      3   12    19      22      29  \n",
            "2      3   12    19      22      29  \n"
          ]
        },
        {
          "output_type": "stream",
          "name": "stderr",
          "text": [
            "\rread all files:   4%|▍         | 4/99 [00:23<09:06,  5.76s/it]"
          ]
        },
        {
          "output_type": "stream",
          "name": "stdout",
          "text": [
            "✅ Processed:    Unique_Identification Execution_Path  System_Calls_Identifiers  \\\n",
            "0                   1081  /usr/bin/Xorg                       102   \n",
            "1                   1081  /usr/bin/Xorg                       102   \n",
            "2                   1081  /usr/bin/Xorg                       104   \n",
            "\n",
            "   Event's_Unique_Identification  attacks  Sub_Type_Attack  Label  year  \\\n",
            "0                       59085296        7               52      0  2016   \n",
            "1                       59085476        7               52      0  2016   \n",
            "2                       59085521        7               52      0  2016   \n",
            "\n",
            "   month  day  hour  minute  second  \n",
            "0      3   13    18      42      44  \n",
            "1      3   13    18      42      44  \n",
            "2      3   13    18      42      44  \n"
          ]
        },
        {
          "output_type": "stream",
          "name": "stderr",
          "text": [
            "\rread all files:   5%|▌         | 5/99 [00:27<08:11,  5.23s/it]"
          ]
        },
        {
          "output_type": "stream",
          "name": "stdout",
          "text": [
            "✅ Processed:    Unique_Identification     Execution_Path  System_Calls_Identifiers  \\\n",
            "0                  11378  /usr/sbin/apache2                        78   \n",
            "1                   2110    /usr/bin/compiz                       102   \n",
            "2                   2110    /usr/bin/compiz                       102   \n",
            "\n",
            "   Event's_Unique_Identification  attacks  Sub_Type_Attack  Label  year  \\\n",
            "0                       85791482        7               52      0  2016   \n",
            "1                       85475717        7               52      0  2016   \n",
            "2                       85475719        7               52      0  2016   \n",
            "\n",
            "   month  day  hour  minute  second  \n",
            "0      3   15     9      32      29  \n",
            "1      3   15     8      52      15  \n",
            "2      3   15     8      52      15  \n"
          ]
        },
        {
          "output_type": "stream",
          "name": "stderr",
          "text": [
            "\rread all files:   6%|▌         | 6/99 [00:33<08:28,  5.47s/it]"
          ]
        },
        {
          "output_type": "stream",
          "name": "stdout",
          "text": [
            "✅ Processed:    Unique_Identification               Execution_Path  \\\n",
            "0                  11378            /usr/sbin/apache2   \n",
            "1                   1520  /usr/lib/rtkit/rtkit-daemon   \n",
            "2                   2110              /usr/bin/compiz   \n",
            "\n",
            "   System_Calls_Identifiers  Event's_Unique_Identification  attacks  \\\n",
            "0                        78                       77328014        7   \n",
            "1                         3                       77328006        7   \n",
            "2                       102                       77327918        7   \n",
            "\n",
            "   Sub_Type_Attack  Label  year  month  day  hour  minute  second  \n",
            "0               52      0  2016      3   14    18       0      51  \n",
            "1               52      0  2016      3   14    18       0      51  \n",
            "2               52      0  2016      3   14    18       0      51  \n"
          ]
        },
        {
          "output_type": "stream",
          "name": "stderr",
          "text": [
            "\rread all files:   7%|▋         | 7/99 [00:39<08:22,  5.46s/it]"
          ]
        },
        {
          "output_type": "stream",
          "name": "stdout",
          "text": [
            "✅ Processed:    Unique_Identification     Execution_Path  System_Calls_Identifiers  \\\n",
            "0                  11364  /usr/sbin/apache2                        78   \n",
            "1                  11378  /usr/sbin/apache2                        78   \n",
            "2                  11378  /usr/sbin/apache2                        78   \n",
            "\n",
            "   Event's_Unique_Identification  attacks  Sub_Type_Attack  Label  year  \\\n",
            "0                       73368656        7               52      0  2016   \n",
            "1                       73368554        7               52      0  2016   \n",
            "2                       73368561        7               52      0  2016   \n",
            "\n",
            "   month  day  hour  minute  second  \n",
            "0      3   14     9      45      12  \n",
            "1      3   14     9      45      12  \n",
            "2      3   14     9      45      12  \n"
          ]
        },
        {
          "output_type": "stream",
          "name": "stderr",
          "text": [
            "\rread all files:   8%|▊         | 8/99 [00:46<09:08,  6.03s/it]"
          ]
        },
        {
          "output_type": "stream",
          "name": "stdout",
          "text": [
            "✅ Processed:    Unique_Identification   Execution_Path  System_Calls_Identifiers  \\\n",
            "0                   2110  /usr/bin/compiz                       265   \n",
            "1                   2110  /usr/bin/compiz                       265   \n",
            "2                   2110  /usr/bin/compiz                       265   \n",
            "\n",
            "   Event's_Unique_Identification  attacks  Sub_Type_Attack  Label  year  \\\n",
            "0                       28801504        7               52      0  2016   \n",
            "1                       28801506        7               52      0  2016   \n",
            "2                       28801517        7               52      0  2016   \n",
            "\n",
            "   month  day  hour  minute  second  \n",
            "0      3   12    12      35       1  \n",
            "1      3   12    12      35       1  \n",
            "2      3   12    12      35       1  \n"
          ]
        },
        {
          "output_type": "stream",
          "name": "stderr",
          "text": [
            "\rread all files:   9%|▉         | 9/99 [00:52<09:12,  6.14s/it]"
          ]
        },
        {
          "output_type": "stream",
          "name": "stdout",
          "text": [
            "✅ Processed:    Unique_Identification     Execution_Path  System_Calls_Identifiers  \\\n",
            "0                  11364  /usr/sbin/apache2                        78   \n",
            "1                  11364  /usr/sbin/apache2                        78   \n",
            "2                  11364  /usr/sbin/apache2                        78   \n",
            "\n",
            "   Event's_Unique_Identification  attacks  Sub_Type_Attack  Label  year  \\\n",
            "0                       99520853        7               52      0  2016   \n",
            "1                       99520896        7               52      0  2016   \n",
            "2                       99520929        7               52      0  2016   \n",
            "\n",
            "   month  day  hour  minute  second  \n",
            "0      3   16    12      33      15  \n",
            "1      3   16    12      33      15  \n",
            "2      3   16    12      33      15  \n"
          ]
        },
        {
          "output_type": "stream",
          "name": "stderr",
          "text": [
            "\rread all files:  10%|█         | 10/99 [01:00<09:33,  6.44s/it]"
          ]
        },
        {
          "output_type": "stream",
          "name": "stdout",
          "text": [
            "✅ Processed:    Unique_Identification                         Execution_Path  \\\n",
            "0                   2365  /usr/lib/i386-linux-gnu/zeitgeist-fts   \n",
            "1                   4493                      /usr/sbin/apache2   \n",
            "2                   4493                      /usr/sbin/apache2   \n",
            "\n",
            "   System_Calls_Identifiers  Event's_Unique_Identification  attacks  \\\n",
            "0                       265                       13998711        7   \n",
            "1                       256                       13998691        7   \n",
            "2                        78                       13998498        7   \n",
            "\n",
            "   Sub_Type_Attack  Label  year  month  day  hour  minute  second  \n",
            "0               52      0  2016      3   11    21      53      46  \n",
            "1               52      0  2016      3   11    21      53      46  \n",
            "2               52      0  2016      3   11    21      53      46  \n"
          ]
        },
        {
          "output_type": "stream",
          "name": "stderr",
          "text": [
            "\rread all files:  11%|█         | 11/99 [01:06<09:12,  6.28s/it]"
          ]
        },
        {
          "output_type": "stream",
          "name": "stdout",
          "text": [
            "✅ Processed:    Unique_Identification Execution_Path  System_Calls_Identifiers  \\\n",
            "0                   1081  /usr/bin/Xorg                       102   \n",
            "1                   1081  /usr/bin/Xorg                       142   \n",
            "2                   1081  /usr/bin/Xorg                       146   \n",
            "\n",
            "   Event's_Unique_Identification  attacks  Sub_Type_Attack  Label  year  \\\n",
            "0                       80266316        7               52      0  2016   \n",
            "1                       80266276        7               52      0  2016   \n",
            "2                       80266429        7               52      0  2016   \n",
            "\n",
            "   month  day  hour  minute  second  \n",
            "0      3   14    23      29      25  \n",
            "1      3   14    23      29      25  \n",
            "2      3   14    23      29      25  \n"
          ]
        },
        {
          "output_type": "stream",
          "name": "stderr",
          "text": [
            "\rread all files:  12%|█▏        | 12/99 [01:13<09:34,  6.60s/it]"
          ]
        },
        {
          "output_type": "stream",
          "name": "stdout",
          "text": [
            "✅ Processed:    Unique_Identification   Execution_Path  System_Calls_Identifiers  \\\n",
            "0                   2110  /usr/bin/compiz                        54   \n",
            "1                   2110  /usr/bin/compiz                        54   \n",
            "2                   2110  /usr/bin/compiz                        54   \n",
            "\n",
            "   Event's_Unique_Identification  attacks  Sub_Type_Attack  Label  year  \\\n",
            "0                       81478023        7               52      0  2016   \n",
            "1                       81478024        7               52      0  2016   \n",
            "2                       81478026        7               52      0  2016   \n",
            "\n",
            "   month  day  hour  minute  second  \n",
            "0      3   15     0      54      40  \n",
            "1      3   15     0      54      40  \n",
            "2      3   15     0      54      40  \n"
          ]
        },
        {
          "output_type": "stream",
          "name": "stderr",
          "text": [
            "\rread all files:  13%|█▎        | 13/99 [01:19<09:10,  6.40s/it]"
          ]
        },
        {
          "output_type": "stream",
          "name": "stdout",
          "text": [
            "✅ Processed:    Unique_Identification Execution_Path  System_Calls_Identifiers  \\\n",
            "0                   1081  /usr/bin/Xorg                       104   \n",
            "1                   1081  /usr/bin/Xorg                       142   \n",
            "2                   1081  /usr/bin/Xorg                       146   \n",
            "\n",
            "   Event's_Unique_Identification  attacks  Sub_Type_Attack  Label  year  \\\n",
            "0                       48286673        7               52      0  2016   \n",
            "1                       48286820        7               52      0  2016   \n",
            "2                       48286496        7               52      0  2016   \n",
            "\n",
            "   month  day  hour  minute  second  \n",
            "0      3   13     7      52      52  \n",
            "1      3   13     7      52      52  \n",
            "2      3   13     7      52      52  \n"
          ]
        },
        {
          "output_type": "stream",
          "name": "stderr",
          "text": [
            "\rread all files:  14%|█▍        | 14/99 [01:24<08:38,  6.10s/it]"
          ]
        },
        {
          "output_type": "stream",
          "name": "stdout",
          "text": [
            "✅ Processed:    Unique_Identification   Execution_Path  System_Calls_Identifiers  \\\n",
            "0                   2110  /usr/bin/compiz                       265   \n",
            "1                   2110  /usr/bin/compiz                       146   \n",
            "2                   1081    /usr/bin/Xorg                       146   \n",
            "\n",
            "   Event's_Unique_Identification  attacks  Sub_Type_Attack  Label  year  \\\n",
            "0                       70928536        7               52      0  2016   \n",
            "1                       70188453        7               52      0  2016   \n",
            "2                       70950378        7               52      0  2016   \n",
            "\n",
            "   month  day  hour  minute  second  \n",
            "0      3   14     6      32      22  \n",
            "1      3   14     5      49       3  \n",
            "2      3   14     6      33      38  \n"
          ]
        },
        {
          "output_type": "stream",
          "name": "stderr",
          "text": [
            "\rread all files:  15%|█▌        | 15/99 [01:27<06:57,  4.97s/it]"
          ]
        },
        {
          "output_type": "stream",
          "name": "stdout",
          "text": [
            "✅ Processed:    Unique_Identification     Execution_Path  System_Calls_Identifiers  \\\n",
            "0                   2110    /usr/bin/compiz                       265   \n",
            "1                   2110    /usr/bin/compiz                       265   \n",
            "2                  11378  /usr/sbin/apache2                        78   \n",
            "\n",
            "   Event's_Unique_Identification  attacks  Sub_Type_Attack  Label  year  \\\n",
            "0                       98120160        7               52      0  2016   \n",
            "1                       98120163        7               52      0  2016   \n",
            "2                       97838597        7               52      0  2016   \n",
            "\n",
            "   month  day  hour  minute  second  \n",
            "0      3   16     9      41      19  \n",
            "1      3   16     9      41      19  \n",
            "2      3   16     9       5      41  \n"
          ]
        },
        {
          "output_type": "stream",
          "name": "stderr",
          "text": [
            "\rread all files:  16%|█▌        | 16/99 [01:33<07:17,  5.28s/it]"
          ]
        },
        {
          "output_type": "stream",
          "name": "stdout",
          "text": [
            "✅ Processed:    Unique_Identification   Execution_Path  System_Calls_Identifiers  \\\n",
            "0                   2110  /usr/bin/compiz                       265   \n",
            "1                   2110  /usr/bin/compiz                       265   \n",
            "2                   1081    /usr/bin/Xorg                       142   \n",
            "\n",
            "   Event's_Unique_Identification  attacks  Sub_Type_Attack  Label  year  \\\n",
            "0                       47289043        7               52      0  2016   \n",
            "1                       47289044        7               52      0  2016   \n",
            "2                       47281836        7               52      0  2016   \n",
            "\n",
            "   month  day  hour  minute  second  \n",
            "0      3   13     6      53      39  \n",
            "1      3   13     6      53      39  \n",
            "2      3   13     6      53      18  \n"
          ]
        },
        {
          "output_type": "stream",
          "name": "stderr",
          "text": [
            "\rread all files:  17%|█▋        | 17/99 [01:41<08:22,  6.13s/it]"
          ]
        },
        {
          "output_type": "stream",
          "name": "stdout",
          "text": [
            "✅ Processed:    Unique_Identification              Execution_Path  \\\n",
            "0                   2110             /usr/bin/compiz   \n",
            "1                   2111             /usr/bin/compiz   \n",
            "2                   2318  /usr/bin/zeitgeist-datahub   \n",
            "\n",
            "   System_Calls_Identifiers  Event's_Unique_Identification  attacks  \\\n",
            "0                       265                      100943061        7   \n",
            "1                       265                      100943036        7   \n",
            "2                       292                      100942995        7   \n",
            "\n",
            "   Sub_Type_Attack  Label  year  month  day  hour  minute  second  \n",
            "0               52      0  2016      3   16    15      30      38  \n",
            "1               52      0  2016      3   16    15      30      38  \n",
            "2               52      0  2016      3   16    15      30      38  \n"
          ]
        },
        {
          "output_type": "stream",
          "name": "stderr",
          "text": [
            "\rread all files:  18%|█▊        | 18/99 [01:47<08:11,  6.07s/it]"
          ]
        },
        {
          "output_type": "stream",
          "name": "stdout",
          "text": [
            "✅ Processed:    Unique_Identification     Execution_Path  System_Calls_Identifiers  \\\n",
            "0                  11378  /usr/sbin/apache2                        78   \n",
            "1                   2110    /usr/bin/compiz                       265   \n",
            "2                   2110    /usr/bin/compiz                       265   \n",
            "\n",
            "   Event's_Unique_Identification  attacks  Sub_Type_Attack  Label  year  \\\n",
            "0                       97295806        7               52      0  2016   \n",
            "1                       97369567        7               52      0  2016   \n",
            "2                       97369571        7               52      0  2016   \n",
            "\n",
            "   month  day  hour  minute  second  \n",
            "0      3   16     8       2      12  \n",
            "1      3   16     8       9      24  \n",
            "2      3   16     8       9      24  \n"
          ]
        },
        {
          "output_type": "stream",
          "name": "stderr",
          "text": [
            "\rread all files:  19%|█▉        | 19/99 [01:54<08:47,  6.59s/it]"
          ]
        },
        {
          "output_type": "stream",
          "name": "stdout",
          "text": [
            "✅ Processed:    Unique_Identification Execution_Path  System_Calls_Identifiers  \\\n",
            "0                   1081  /usr/bin/Xorg                       104   \n",
            "1                   1081  /usr/bin/Xorg                       142   \n",
            "2                   1081  /usr/bin/Xorg                       146   \n",
            "\n",
            "   Event's_Unique_Identification  attacks  Sub_Type_Attack  Label  year  \\\n",
            "0                       26271512        7               52      0  2016   \n",
            "1                       26271666        7               52      0  2016   \n",
            "2                       26271515        7               52      0  2016   \n",
            "\n",
            "   month  day  hour  minute  second  \n",
            "0      3   12    10       0       0  \n",
            "1      3   12    10       0       0  \n",
            "2      3   12    10       0       0  \n"
          ]
        },
        {
          "output_type": "stream",
          "name": "stderr",
          "text": [
            "\rread all files:  20%|██        | 20/99 [02:00<08:29,  6.45s/it]"
          ]
        },
        {
          "output_type": "stream",
          "name": "stdout",
          "text": [
            "✅ Processed:    Unique_Identification Execution_Path  System_Calls_Identifiers  \\\n",
            "0                   1081  /usr/bin/Xorg                       142   \n",
            "1                   1081  /usr/bin/Xorg                       102   \n",
            "2                   1081  /usr/bin/Xorg                       146   \n",
            "\n",
            "   Event's_Unique_Identification  attacks  Sub_Type_Attack  Label  year  \\\n",
            "0                        6073394        7               52      0  2016   \n",
            "1                        6035644        7               52      0  2016   \n",
            "2                        6073265        7               52      0  2016   \n",
            "\n",
            "   month  day  hour  minute  second  \n",
            "0      3   11    12      28       0  \n",
            "1      3   11    12      24       6  \n",
            "2      3   11    12      28       0  \n"
          ]
        },
        {
          "output_type": "stream",
          "name": "stderr",
          "text": [
            "\rread all files:  21%|██        | 21/99 [02:08<08:57,  6.89s/it]"
          ]
        },
        {
          "output_type": "stream",
          "name": "stdout",
          "text": [
            "✅ Processed:    Unique_Identification   Execution_Path  System_Calls_Identifiers  \\\n",
            "0                   2110  /usr/bin/compiz                       265   \n",
            "1                   1081    /usr/bin/Xorg                       142   \n",
            "2                   2110  /usr/bin/compiz                       168   \n",
            "\n",
            "   Event's_Unique_Identification  attacks  Sub_Type_Attack  Label  year  \\\n",
            "0                       52691545        7               52      0  2016   \n",
            "1                       52929878        7               52      0  2016   \n",
            "2                       53029993        7               52      0  2016   \n",
            "\n",
            "   month  day  hour  minute  second  \n",
            "0      3   13    12      14      43  \n",
            "1      3   13    12      28      25  \n",
            "2      3   13    12      34      16  \n"
          ]
        },
        {
          "output_type": "stream",
          "name": "stderr",
          "text": [
            "\rread all files:  22%|██▏       | 22/99 [02:12<07:38,  5.96s/it]"
          ]
        },
        {
          "output_type": "stream",
          "name": "stdout",
          "text": [
            "✅ Processed:    Unique_Identification Execution_Path  System_Calls_Identifiers  \\\n",
            "0                   1081  /usr/bin/Xorg                       104   \n",
            "1                   1081  /usr/bin/Xorg                       104   \n",
            "2                   1081  /usr/bin/Xorg                       142   \n",
            "\n",
            "   Event's_Unique_Identification  attacks  Sub_Type_Attack  Label  year  \\\n",
            "0                       58284099        7               52      0  2016   \n",
            "1                       58284279        7               52      0  2016   \n",
            "2                       58284121        7               52      0  2016   \n",
            "\n",
            "   month  day  hour  minute  second  \n",
            "0      3   13    17      54      28  \n",
            "1      3   13    17      54      28  \n",
            "2      3   13    17      54      28  \n"
          ]
        },
        {
          "output_type": "stream",
          "name": "stderr",
          "text": [
            "\rread all files:  23%|██▎       | 23/99 [02:20<08:15,  6.51s/it]"
          ]
        },
        {
          "output_type": "stream",
          "name": "stdout",
          "text": [
            "✅ Processed:    Unique_Identification     Execution_Path  System_Calls_Identifiers  \\\n",
            "0                  11364  /usr/sbin/apache2                        78   \n",
            "1                  11364  /usr/sbin/apache2                        78   \n",
            "2                  11364  /usr/sbin/apache2                        78   \n",
            "\n",
            "   Event's_Unique_Identification  attacks  Sub_Type_Attack  Label  year  \\\n",
            "0                      102253162        7               52      0  2016   \n",
            "1                      102253207        7               52      0  2016   \n",
            "2                      102253219        7               52      0  2016   \n",
            "\n",
            "   month  day  hour  minute  second  \n",
            "0      3   16    18      15      30  \n",
            "1      3   16    18      15      30  \n",
            "2      3   16    18      15      30  \n"
          ]
        },
        {
          "output_type": "stream",
          "name": "stderr",
          "text": [
            "\rread all files:  24%|██▍       | 24/99 [02:26<07:56,  6.36s/it]"
          ]
        },
        {
          "output_type": "stream",
          "name": "stdout",
          "text": [
            "✅ Processed:    Unique_Identification   Execution_Path  System_Calls_Identifiers  \\\n",
            "0                   2110  /usr/bin/compiz                        54   \n",
            "1                   2110  /usr/bin/compiz                        54   \n",
            "2                   2110  /usr/bin/compiz                        91   \n",
            "\n",
            "   Event's_Unique_Identification  attacks  Sub_Type_Attack  Label  year  \\\n",
            "0                       10791126        7               52      0  2016   \n",
            "1                       10791133        7               52      0  2016   \n",
            "2                       10791130        7               52      0  2016   \n",
            "\n",
            "   month  day  hour  minute  second  \n",
            "0      3   11    18      44       8  \n",
            "1      3   11    18      44       8  \n",
            "2      3   11    18      44       8  \n"
          ]
        },
        {
          "output_type": "stream",
          "name": "stderr",
          "text": [
            "\rread all files:  25%|██▌       | 25/99 [02:30<06:49,  5.53s/it]"
          ]
        },
        {
          "output_type": "stream",
          "name": "stdout",
          "text": [
            "✅ Processed:    Unique_Identification   Execution_Path  System_Calls_Identifiers  \\\n",
            "0                   2110  /usr/bin/compiz                       265   \n",
            "1                   2110  /usr/bin/compiz                       265   \n",
            "2                   2110  /usr/bin/compiz                       168   \n",
            "\n",
            "   Event's_Unique_Identification  attacks  Sub_Type_Attack  Label  year  \\\n",
            "0                        7982839        7               52      0  2016   \n",
            "1                        8248143        7               52      0  2016   \n",
            "2                        8143463        7               52      0  2016   \n",
            "\n",
            "   month  day  hour  minute  second  \n",
            "0      3   11    15      57      26  \n",
            "1      3   11    16      14      22  \n",
            "2      3   11    16       7      24  \n"
          ]
        },
        {
          "output_type": "stream",
          "name": "stderr",
          "text": [
            "\rread all files:  26%|██▋       | 26/99 [02:37<07:28,  6.15s/it]"
          ]
        },
        {
          "output_type": "stream",
          "name": "stdout",
          "text": [
            "✅ Processed:    Unique_Identification     Execution_Path  System_Calls_Identifiers  \\\n",
            "0                   2110    /usr/bin/compiz                       265   \n",
            "1                   2110    /usr/bin/compiz                       265   \n",
            "2                   4519  /usr/sbin/apache2                       256   \n",
            "\n",
            "   Event's_Unique_Identification  attacks  Sub_Type_Attack  Label  year  \\\n",
            "0                        4094310        7               52      0  2016   \n",
            "1                        3690347        7               52      0  2016   \n",
            "2                        4113692        7               52      0  2016   \n",
            "\n",
            "   month  day  hour  minute  second  \n",
            "0      3   11     8      21      57  \n",
            "1      3   11     7      30      32  \n",
            "2      3   11     8      23      56  \n"
          ]
        },
        {
          "output_type": "stream",
          "name": "stderr",
          "text": [
            "\rread all files:  27%|██▋       | 27/99 [02:43<07:20,  6.12s/it]"
          ]
        },
        {
          "output_type": "stream",
          "name": "stdout",
          "text": [
            "✅ Processed:    Unique_Identification     Execution_Path  System_Calls_Identifiers  \\\n",
            "0                   4519  /usr/sbin/apache2                        78   \n",
            "1                   4519  /usr/sbin/apache2                        78   \n",
            "2                   4519  /usr/sbin/apache2                        78   \n",
            "\n",
            "   Event's_Unique_Identification  attacks  Sub_Type_Attack  Label  year  \\\n",
            "0                       24192858        7               52      0  2016   \n",
            "1                       24193011        7               52      0  2016   \n",
            "2                       24193059        7               52      0  2016   \n",
            "\n",
            "   month  day  hour  minute  second  \n",
            "0      3   12     7      55      59  \n",
            "1      3   12     7      55      59  \n",
            "2      3   12     7      55      59  \n"
          ]
        },
        {
          "output_type": "stream",
          "name": "stderr",
          "text": [
            "\rread all files:  28%|██▊       | 28/99 [02:49<07:02,  5.94s/it]"
          ]
        },
        {
          "output_type": "stream",
          "name": "stdout",
          "text": [
            "✅ Processed:    Unique_Identification   Execution_Path  System_Calls_Identifiers  \\\n",
            "0                   2110  /usr/bin/compiz                       265   \n",
            "1                   1081    /usr/bin/Xorg                        54   \n",
            "2                   2110  /usr/bin/compiz                       168   \n",
            "\n",
            "   Event's_Unique_Identification  attacks  Sub_Type_Attack  Label  year  \\\n",
            "0                       13734061        7               52      0  2016   \n",
            "1                       13606861        7               52      0  2016   \n",
            "2                       14862030        7               52      0  2016   \n",
            "\n",
            "   month  day  hour  minute  second  \n",
            "0      3   11    21      37      44  \n",
            "1      3   11    21      30      31  \n",
            "2      3   11    22      44      28  \n"
          ]
        },
        {
          "output_type": "stream",
          "name": "stderr",
          "text": [
            "\rread all files:  29%|██▉       | 29/99 [02:55<06:59,  5.99s/it]"
          ]
        },
        {
          "output_type": "stream",
          "name": "stdout",
          "text": [
            "✅ Processed:    Unique_Identification     Execution_Path  System_Calls_Identifiers  \\\n",
            "0                   4493  /usr/sbin/apache2                        78   \n",
            "1                   2110    /usr/bin/compiz                       265   \n",
            "2                   2110    /usr/bin/compiz                       265   \n",
            "\n",
            "   Event's_Unique_Identification  attacks  Sub_Type_Attack  Label  year  \\\n",
            "0                       20257465        7               52      0  2016   \n",
            "1                       21017395        7               52      0  2016   \n",
            "2                       20841355        7               52      0  2016   \n",
            "\n",
            "   month  day  hour  minute  second  \n",
            "0      3   12     4       2      40  \n",
            "1      3   12     4      48      34  \n",
            "2      3   12     4      37      52  \n"
          ]
        },
        {
          "output_type": "stream",
          "name": "stderr",
          "text": [
            "\rread all files:  30%|███       | 30/99 [03:03<07:37,  6.64s/it]"
          ]
        },
        {
          "output_type": "stream",
          "name": "stdout",
          "text": [
            "✅ Processed:    Unique_Identification                                     Execution_Path  \\\n",
            "0                   2264  /usr/lib/i386-linux-gnu/unity-scope-home/unity...   \n",
            "1                   2133             /usr/lib/i386-linux-gnu/gconf/gconfd-2   \n",
            "2                   1885                 /usr/lib/unity/unity-panel-service   \n",
            "\n",
            "   System_Calls_Identifiers  Event's_Unique_Identification  attacks  \\\n",
            "0                       168                       75218590        7   \n",
            "1                       168                       75184562        7   \n",
            "2                       168                       75185917        7   \n",
            "\n",
            "   Sub_Type_Attack  Label  year  month  day  hour  minute  second  \n",
            "0               52      0  2016      3   14    13      31      48  \n",
            "1               52      0  2016      3   14    13      31      51  \n",
            "2               52      0  2016      3   14    13      32       0  \n"
          ]
        },
        {
          "output_type": "stream",
          "name": "stderr",
          "text": [
            "\rread all files:  31%|███▏      | 31/99 [03:16<09:35,  8.46s/it]"
          ]
        },
        {
          "output_type": "stream",
          "name": "stdout",
          "text": [
            "✅ Processed:    Unique_Identification     Execution_Path  System_Calls_Identifiers  \\\n",
            "0                  11364  /usr/sbin/apache2                        78   \n",
            "1                  11364  /usr/sbin/apache2                        78   \n",
            "2                  11364  /usr/sbin/apache2                        78   \n",
            "\n",
            "   Event's_Unique_Identification  attacks  Sub_Type_Attack  Label  year  \\\n",
            "0                       89038143        7               52      0  2016   \n",
            "1                       89038145        7               52      0  2016   \n",
            "2                       89038293        7               52      0  2016   \n",
            "\n",
            "   month  day  hour  minute  second  \n",
            "0      3   15    14      56      45  \n",
            "1      3   15    14      56      45  \n",
            "2      3   15    14      56      45  \n"
          ]
        },
        {
          "output_type": "stream",
          "name": "stderr",
          "text": [
            "\rread all files:  32%|███▏      | 32/99 [03:23<08:54,  7.98s/it]"
          ]
        },
        {
          "output_type": "stream",
          "name": "stdout",
          "text": [
            "✅ Processed:    Unique_Identification     Execution_Path  System_Calls_Identifiers  \\\n",
            "0                  11378  /usr/sbin/apache2                        78   \n",
            "1                  11378  /usr/sbin/apache2                        78   \n",
            "2                   2110    /usr/bin/compiz                       102   \n",
            "\n",
            "   Event's_Unique_Identification  attacks  Sub_Type_Attack  Label  year  \\\n",
            "0                       64043721        7               52      0  2016   \n",
            "1                       62767356        7               52      0  2016   \n",
            "2                       63134161        7               52      0  2016   \n",
            "\n",
            "   month  day  hour  minute  second  \n",
            "0      3   13    23      38       3  \n",
            "1      3   13    22      22      10  \n",
            "2      3   13    22      44      36  \n"
          ]
        },
        {
          "output_type": "stream",
          "name": "stderr",
          "text": [
            "\rread all files:  33%|███▎      | 33/99 [03:30<08:27,  7.69s/it]"
          ]
        },
        {
          "output_type": "stream",
          "name": "stdout",
          "text": [
            "✅ Processed:    Unique_Identification     Execution_Path  System_Calls_Identifiers  \\\n",
            "0                   2110    /usr/bin/compiz                       265   \n",
            "1                  11364  /usr/sbin/apache2                        78   \n",
            "2                   2110    /usr/bin/compiz                       102   \n",
            "\n",
            "   Event's_Unique_Identification  attacks  Sub_Type_Attack  Label  year  \\\n",
            "0                       94293064        7               52      0  2016   \n",
            "1                       94625313        7               52      0  2016   \n",
            "2                       94276017        7               52      0  2016   \n",
            "\n",
            "   month  day  hour  minute  second  \n",
            "0      3   16     1      52      41  \n",
            "1      3   16     2      33      30  \n",
            "2      3   16     1      49      49  \n"
          ]
        },
        {
          "output_type": "stream",
          "name": "stderr",
          "text": [
            "\rread all files:  34%|███▍      | 34/99 [03:36<08:00,  7.40s/it]"
          ]
        },
        {
          "output_type": "stream",
          "name": "stdout",
          "text": [
            "✅ Processed:    Unique_Identification              Execution_Path  \\\n",
            "0                   2111             /usr/bin/compiz   \n",
            "1                   2318  /usr/bin/zeitgeist-datahub   \n",
            "2                   4493           /usr/sbin/apache2   \n",
            "\n",
            "   System_Calls_Identifiers  Event's_Unique_Identification  attacks  \\\n",
            "0                       168                        8441500        7   \n",
            "1                       168                        8441325        7   \n",
            "2                        78                        8440867        7   \n",
            "\n",
            "   Sub_Type_Attack  Label  year  month  day  hour  minute  second  \n",
            "0               52      0  2016      3   11    16      25      47  \n",
            "1               52      0  2016      3   11    16      25      47  \n",
            "2               52      0  2016      3   11    16      25      49  \n"
          ]
        },
        {
          "output_type": "stream",
          "name": "stderr",
          "text": [
            "\rread all files:  35%|███▌      | 35/99 [03:43<07:42,  7.23s/it]"
          ]
        },
        {
          "output_type": "stream",
          "name": "stdout",
          "text": [
            "✅ Processed:    Unique_Identification     Execution_Path  System_Calls_Identifiers  \\\n",
            "0                  11378  /usr/sbin/apache2                        78   \n",
            "1                  11378  /usr/sbin/apache2                        78   \n",
            "2                   2110    /usr/bin/compiz                       168   \n",
            "\n",
            "   Event's_Unique_Identification  attacks  Sub_Type_Attack  Label  year  \\\n",
            "0                       74675981        7               52      0  2016   \n",
            "1                       74675995        7               52      0  2016   \n",
            "2                       74676059        7               52      0  2016   \n",
            "\n",
            "   month  day  hour  minute  second  \n",
            "0      3   14    12      29      32  \n",
            "1      3   14    12      29      32  \n",
            "2      3   14    12      29      32  \n"
          ]
        },
        {
          "output_type": "stream",
          "name": "stderr",
          "text": [
            "\rread all files:  36%|███▋      | 36/99 [03:50<07:32,  7.18s/it]"
          ]
        },
        {
          "output_type": "stream",
          "name": "stdout",
          "text": [
            "✅ Processed:    Unique_Identification     Execution_Path  System_Calls_Identifiers  \\\n",
            "0                   4493  /usr/sbin/apache2                        78   \n",
            "1                   4493  /usr/sbin/apache2                        78   \n",
            "2                   4493  /usr/sbin/apache2                        78   \n",
            "\n",
            "   Event's_Unique_Identification  attacks  Sub_Type_Attack  Label  year  \\\n",
            "0                       23240994        7               52      0  2016   \n",
            "1                       23241000        7               52      0  2016   \n",
            "2                       23241125        7               52      0  2016   \n",
            "\n",
            "   month  day  hour  minute  second  \n",
            "0      3   12     6      59      38  \n",
            "1      3   12     6      59      38  \n",
            "2      3   12     6      59      38  \n"
          ]
        },
        {
          "output_type": "stream",
          "name": "stderr",
          "text": [
            "\rread all files:  37%|███▋      | 37/99 [03:57<07:12,  6.98s/it]"
          ]
        },
        {
          "output_type": "stream",
          "name": "stdout",
          "text": [
            "✅ Processed:    Unique_Identification               Execution_Path  \\\n",
            "0                   2319  /usr/bin/unity-scope-loader   \n",
            "1                   2319  /usr/bin/unity-scope-loader   \n",
            "2                  11364            /usr/sbin/apache2   \n",
            "\n",
            "   System_Calls_Identifiers  Event's_Unique_Identification  attacks  \\\n",
            "0                       265                       83582900        7   \n",
            "1                       292                       83582899        7   \n",
            "2                       256                       83583076        7   \n",
            "\n",
            "   Sub_Type_Attack  Label  year  month  day  hour  minute  second  \n",
            "0               52      0  2016      3   15     5       2      35  \n",
            "1               52      0  2016      3   15     5       2      35  \n",
            "2               52      0  2016      3   15     5       2      36  \n"
          ]
        },
        {
          "output_type": "stream",
          "name": "stderr",
          "text": [
            "\rread all files:  38%|███▊      | 38/99 [04:04<07:19,  7.20s/it]"
          ]
        },
        {
          "output_type": "stream",
          "name": "stdout",
          "text": [
            "✅ Processed:    Unique_Identification   Execution_Path  System_Calls_Identifiers  \\\n",
            "0                   1081    /usr/bin/Xorg                       265   \n",
            "1                   1081    /usr/bin/Xorg                        54   \n",
            "2                   2110  /usr/bin/compiz                        91   \n",
            "\n",
            "   Event's_Unique_Identification  attacks  Sub_Type_Attack  Label  year  \\\n",
            "0                       34836867        7               52      0  2016   \n",
            "1                       34836679        7               52      0  2016   \n",
            "2                       34532642        7               52      0  2016   \n",
            "\n",
            "   month  day  hour  minute  second  \n",
            "0      3   12    18      35      39  \n",
            "1      3   12    18      35      39  \n",
            "2      3   12    18      17      38  \n"
          ]
        },
        {
          "output_type": "stream",
          "name": "stderr",
          "text": [
            "\rread all files:  39%|███▉      | 39/99 [04:11<06:59,  7.00s/it]"
          ]
        },
        {
          "output_type": "stream",
          "name": "stdout",
          "text": [
            "✅ Processed:    Unique_Identification               Execution_Path  \\\n",
            "0                   1519  /usr/lib/rtkit/rtkit-daemon   \n",
            "1                   1519  /usr/lib/rtkit/rtkit-daemon   \n",
            "2                   2110              /usr/bin/compiz   \n",
            "\n",
            "   System_Calls_Identifiers  Event's_Unique_Identification  attacks  \\\n",
            "0                       265                       93360621        7   \n",
            "1                         4                       93360629        7   \n",
            "2                       102                       93360509        7   \n",
            "\n",
            "   Sub_Type_Attack  Label  year  month  day  hour  minute  second  \n",
            "0               52      0  2016      3   15    23      55      48  \n",
            "1               52      0  2016      3   15    23      55      48  \n",
            "2               52      0  2016      3   15    23      55      48  \n"
          ]
        },
        {
          "output_type": "stream",
          "name": "stderr",
          "text": [
            "\rread all files:  40%|████      | 40/99 [04:18<06:59,  7.11s/it]"
          ]
        },
        {
          "output_type": "stream",
          "name": "stdout",
          "text": [
            "✅ Processed:    Unique_Identification   Execution_Path  System_Calls_Identifiers  \\\n",
            "0                   2110  /usr/bin/compiz                       168   \n",
            "1                   2110  /usr/bin/compiz                        78   \n",
            "2                   1081    /usr/bin/Xorg                       102   \n",
            "\n",
            "   Event's_Unique_Identification  attacks  Sub_Type_Attack  Label  year  \\\n",
            "0                       44685024        7               52      0  2016   \n",
            "1                       44962340        7               52      0  2016   \n",
            "2                       44776582        7               52      0  2016   \n",
            "\n",
            "   month  day  hour  minute  second  \n",
            "0      3   13     4      18      53  \n",
            "1      3   13     4      35      45  \n",
            "2      3   13     4      24      29  \n"
          ]
        },
        {
          "output_type": "stream",
          "name": "stderr",
          "text": [
            "\rread all files:  41%|████▏     | 41/99 [04:24<06:34,  6.81s/it]"
          ]
        },
        {
          "output_type": "stream",
          "name": "stdout",
          "text": [
            "✅ Processed:    Unique_Identification     Execution_Path  System_Calls_Identifiers  \\\n",
            "0                   4461  /usr/sbin/apache2                       142   \n",
            "1                   4461  /usr/sbin/apache2                         7   \n",
            "2                   4493  /usr/sbin/apache2                       256   \n",
            "\n",
            "   Event's_Unique_Identification  attacks  Sub_Type_Attack  Label  year  \\\n",
            "0                       16623125        7               52      0  2016   \n",
            "1                       16622761        7               52      0  2016   \n",
            "2                       16623094        7               52      0  2016   \n",
            "\n",
            "   month  day  hour  minute  second  \n",
            "0      3   12     0      28      57  \n",
            "1      3   12     0      28      57  \n",
            "2      3   12     0      28      57  \n"
          ]
        },
        {
          "output_type": "stream",
          "name": "stderr",
          "text": [
            "\rread all files:  42%|████▏     | 42/99 [04:30<05:58,  6.29s/it]"
          ]
        },
        {
          "output_type": "stream",
          "name": "stdout",
          "text": [
            "✅ Processed:    Unique_Identification   Execution_Path  System_Calls_Identifiers  \\\n",
            "0                   2110  /usr/bin/compiz                       265   \n",
            "1                   2110  /usr/bin/compiz                       265   \n",
            "2                   2110  /usr/bin/compiz                       265   \n",
            "\n",
            "   Event's_Unique_Identification  attacks  Sub_Type_Attack  Label  year  \\\n",
            "0                       25786423        7               52      0  2016   \n",
            "1                       25786428        7               52      0  2016   \n",
            "2                       25786517        7               52      0  2016   \n",
            "\n",
            "   month  day  hour  minute  second  \n",
            "0      3   12     9      30      42  \n",
            "1      3   12     9      30      42  \n",
            "2      3   12     9      30      42  \n"
          ]
        },
        {
          "output_type": "stream",
          "name": "stderr",
          "text": [
            "\rread all files:  43%|████▎     | 43/99 [04:32<04:47,  5.13s/it]"
          ]
        },
        {
          "output_type": "stream",
          "name": "stdout",
          "text": [
            "✅ Processed:    Unique_Identification     Execution_Path  System_Calls_Identifiers  \\\n",
            "0                  11378  /usr/sbin/apache2                       256   \n",
            "1                  11378  /usr/sbin/apache2                        78   \n",
            "2                   2110    /usr/bin/compiz                       265   \n",
            "\n",
            "   Event's_Unique_Identification  attacks  Sub_Type_Attack  Label  year  \\\n",
            "0                       93307128        7               52      0  2016   \n",
            "1                       93306989        7               52      0  2016   \n",
            "2                       93087484        7               52      0  2016   \n",
            "\n",
            "   month  day  hour  minute  second  \n",
            "0      3   15    23      49      10  \n",
            "1      3   15    23      49      10  \n",
            "2      3   15    23      21       2  \n"
          ]
        },
        {
          "output_type": "stream",
          "name": "stderr",
          "text": [
            "\rread all files:  44%|████▍     | 44/99 [04:37<04:35,  5.01s/it]"
          ]
        },
        {
          "output_type": "stream",
          "name": "stdout",
          "text": [
            "✅ Processed:    Unique_Identification   Execution_Path  System_Calls_Identifiers  \\\n",
            "0                   2110  /usr/bin/compiz                       265   \n",
            "1                   2110  /usr/bin/compiz                       265   \n",
            "2                   2110  /usr/bin/compiz                       265   \n",
            "\n",
            "   Event's_Unique_Identification  attacks  Sub_Type_Attack  Label  year  \\\n",
            "0                       88600105        7               52      0  2016   \n",
            "1                       88600108        7               52      0  2016   \n",
            "2                       88600165        7               52      0  2016   \n",
            "\n",
            "   month  day  hour  minute  second  \n",
            "0      3   15    14       1      42  \n",
            "1      3   15    14       1      42  \n",
            "2      3   15    14       1      42  \n"
          ]
        },
        {
          "output_type": "stream",
          "name": "stderr",
          "text": [
            "\rread all files:  45%|████▌     | 45/99 [04:45<05:20,  5.94s/it]"
          ]
        },
        {
          "output_type": "stream",
          "name": "stdout",
          "text": [
            "✅ Processed:    Unique_Identification   Execution_Path  System_Calls_Identifiers  \\\n",
            "0                   1081    /usr/bin/Xorg                       265   \n",
            "1                   1081    /usr/bin/Xorg                       265   \n",
            "2                   2110  /usr/bin/compiz                       168   \n",
            "\n",
            "   Event's_Unique_Identification  attacks  Sub_Type_Attack  Label  year  \\\n",
            "0                       69017227        7               52      0  2016   \n",
            "1                       69017261        7               52      0  2016   \n",
            "2                       69595978        7               52      0  2016   \n",
            "\n",
            "   month  day  hour  minute  second  \n",
            "0      3   14     4      39      38  \n",
            "1      3   14     4      39      38  \n",
            "2      3   14     5      13      24  \n"
          ]
        },
        {
          "output_type": "stream",
          "name": "stderr",
          "text": [
            "\rread all files:  46%|████▋     | 46/99 [04:51<05:17,  6.00s/it]"
          ]
        },
        {
          "output_type": "stream",
          "name": "stdout",
          "text": [
            "✅ Processed:    Unique_Identification     Execution_Path  System_Calls_Identifiers  \\\n",
            "0                   1081      /usr/bin/Xorg                       146   \n",
            "1                   1081      /usr/bin/Xorg                       265   \n",
            "2                   4519  /usr/sbin/apache2                        78   \n",
            "\n",
            "   Event's_Unique_Identification  attacks  Sub_Type_Attack  Label  year  \\\n",
            "0                        7444181        7               52      0  2016   \n",
            "1                        7444191        7               52      0  2016   \n",
            "2                        7445673        7               52      0  2016   \n",
            "\n",
            "   month  day  hour  minute  second  \n",
            "0      3   11    15      19      28  \n",
            "1      3   11    15      19      28  \n",
            "2      3   11    15      19      38  \n"
          ]
        },
        {
          "output_type": "stream",
          "name": "stderr",
          "text": [
            "\rread all files:  47%|████▋     | 47/99 [04:59<05:41,  6.56s/it]"
          ]
        },
        {
          "output_type": "stream",
          "name": "stdout",
          "text": [
            "✅ Processed:    Unique_Identification Execution_Path  System_Calls_Identifiers  \\\n",
            "0                   1081  /usr/bin/Xorg                       142   \n",
            "1                   1081  /usr/bin/Xorg                       265   \n",
            "2                   1081  /usr/bin/Xorg                       265   \n",
            "\n",
            "   Event's_Unique_Identification  attacks  Sub_Type_Attack  Label  year  \\\n",
            "0                       12462137        7               52      0  2016   \n",
            "1                       12462042        7               52      0  2016   \n",
            "2                       12462044        7               52      0  2016   \n",
            "\n",
            "   month  day  hour  minute  second  \n",
            "0      3   11    20      22      56  \n",
            "1      3   11    20      22      56  \n",
            "2      3   11    20      22      56  \n"
          ]
        },
        {
          "output_type": "stream",
          "name": "stderr",
          "text": [
            "\rread all files:  48%|████▊     | 48/99 [05:05<05:26,  6.40s/it]"
          ]
        },
        {
          "output_type": "stream",
          "name": "stdout",
          "text": [
            "✅ Processed:    Unique_Identification Execution_Path  System_Calls_Identifiers  \\\n",
            "0                   1081  /usr/bin/Xorg                       142   \n",
            "1                   1081  /usr/bin/Xorg                       142   \n",
            "2                   1081  /usr/bin/Xorg                       146   \n",
            "\n",
            "   Event's_Unique_Identification  attacks  Sub_Type_Attack  Label  year  \\\n",
            "0                      100042602        7               52      0  2016   \n",
            "1                      100042634        7               52      0  2016   \n",
            "2                      100042560        7               52      0  2016   \n",
            "\n",
            "   month  day  hour  minute  second  \n",
            "0      3   16    13      38       0  \n",
            "1      3   16    13      38       0  \n",
            "2      3   16    13      38       0  \n"
          ]
        },
        {
          "output_type": "stream",
          "name": "stderr",
          "text": [
            "\rread all files:  49%|████▉     | 49/99 [05:13<05:43,  6.88s/it]"
          ]
        },
        {
          "output_type": "stream",
          "name": "stdout",
          "text": [
            "✅ Processed:    Unique_Identification Execution_Path  System_Calls_Identifiers  \\\n",
            "0                   1081  /usr/bin/Xorg                        54   \n",
            "1                   1081  /usr/bin/Xorg                        54   \n",
            "2                   1081  /usr/bin/Xorg                        54   \n",
            "\n",
            "   Event's_Unique_Identification  attacks  Sub_Type_Attack  Label  year  \\\n",
            "0                       66441267        7               52      0  2016   \n",
            "1                       66441270        7               52      0  2016   \n",
            "2                       66441298        7               52      0  2016   \n",
            "\n",
            "   month  day  hour  minute  second  \n",
            "0      3   14     2       6      28  \n",
            "1      3   14     2       6      28  \n",
            "2      3   14     2       6      28  \n"
          ]
        },
        {
          "output_type": "stream",
          "name": "stderr",
          "text": [
            "\rread all files:  51%|█████     | 50/99 [05:19<05:25,  6.65s/it]"
          ]
        },
        {
          "output_type": "stream",
          "name": "stdout",
          "text": [
            "✅ Processed:    Unique_Identification           Execution_Path  System_Calls_Identifiers  \\\n",
            "0                   2110          /usr/bin/compiz                       168   \n",
            "1                   2110          /usr/bin/compiz                       265   \n",
            "2                   2360  /usr/bin/gnome-terminal                       102   \n",
            "\n",
            "   Event's_Unique_Identification  attacks  Sub_Type_Attack  Label  year  \\\n",
            "0                       76043382        7               52      0  2016   \n",
            "1                       76043258        7               52      0  2016   \n",
            "2                       76043288        7               52      0  2016   \n",
            "\n",
            "   month  day  hour  minute  second  \n",
            "0      3   14    15      19      54  \n",
            "1      3   14    15      19      54  \n",
            "2      3   14    15      19      54  \n"
          ]
        },
        {
          "output_type": "stream",
          "name": "stderr",
          "text": [
            "\rread all files:  52%|█████▏    | 51/99 [05:27<05:38,  7.05s/it]"
          ]
        },
        {
          "output_type": "stream",
          "name": "stdout",
          "text": [
            "✅ Processed:    Unique_Identification     Execution_Path  System_Calls_Identifiers  \\\n",
            "0                  11364  /usr/sbin/apache2                       256   \n",
            "1                  11364  /usr/sbin/apache2                       256   \n",
            "2                  11378  /usr/sbin/apache2                        78   \n",
            "\n",
            "   Event's_Unique_Identification  attacks  Sub_Type_Attack  Label  year  \\\n",
            "0                       95502749        7               52      0  2016   \n",
            "1                       95502810        7               52      0  2016   \n",
            "2                       95125819        7               52      0  2016   \n",
            "\n",
            "   month  day  hour  minute  second  \n",
            "0      3   16     4      23      35  \n",
            "1      3   16     4      23      35  \n",
            "2      3   16     3      36       2  \n"
          ]
        },
        {
          "output_type": "stream",
          "name": "stderr",
          "text": [
            "\rread all files:  53%|█████▎    | 52/99 [05:33<05:17,  6.75s/it]"
          ]
        },
        {
          "output_type": "stream",
          "name": "stdout",
          "text": [
            "✅ Processed:    Unique_Identification                                     Execution_Path  \\\n",
            "0                   1951  /usr/lib/i386-linux-gnu/indicator-datetime/ind...   \n",
            "1                   2114                                    /usr/bin/compiz   \n",
            "2                   9000                 /usr/lib/unity/unity-panel-service   \n",
            "\n",
            "   System_Calls_Identifiers  Event's_Unique_Identification  attacks  \\\n",
            "0                       168                       50468627        7   \n",
            "1                       168                       50468880        7   \n",
            "2                       168                       50468656        7   \n",
            "\n",
            "   Sub_Type_Attack  Label  year  month  day  hour  minute  second  \n",
            "0               52      0  2016      3   13    10       2       0  \n",
            "1               52      0  2016      3   13    10       2       0  \n",
            "2               52      0  2016      3   13    10       2       0  \n"
          ]
        },
        {
          "output_type": "stream",
          "name": "stderr",
          "text": [
            "\rread all files:  54%|█████▎    | 53/99 [05:41<05:25,  7.07s/it]"
          ]
        },
        {
          "output_type": "stream",
          "name": "stdout",
          "text": [
            "✅ Processed:    Unique_Identification   Execution_Path  System_Calls_Identifiers  \\\n",
            "0                   2110  /usr/bin/compiz                       102   \n",
            "1                   2110  /usr/bin/compiz                       102   \n",
            "2                   2110  /usr/bin/compiz                       102   \n",
            "\n",
            "   Event's_Unique_Identification  attacks  Sub_Type_Attack  Label  year  \\\n",
            "0                       98285899        7               52      0  2016   \n",
            "1                       98285995        7               52      0  2016   \n",
            "2                       98286012        7               52      0  2016   \n",
            "\n",
            "   month  day  hour  minute  second  \n",
            "0      3   16    10       0      26  \n",
            "1      3   16    10       0      26  \n",
            "2      3   16    10       0      26  \n"
          ]
        },
        {
          "output_type": "stream",
          "name": "stderr",
          "text": [
            "\rread all files:  55%|█████▍    | 54/99 [05:47<05:06,  6.82s/it]"
          ]
        },
        {
          "output_type": "stream",
          "name": "stdout",
          "text": [
            "✅ Processed:    Unique_Identification   Execution_Path  System_Calls_Identifiers  \\\n",
            "0                   2110  /usr/bin/compiz                       265   \n",
            "1                   2110  /usr/bin/compiz                       265   \n",
            "2                   2110  /usr/bin/compiz                       265   \n",
            "\n",
            "   Event's_Unique_Identification  attacks  Sub_Type_Attack  Label  year  \\\n",
            "0                       91133532        7               52      0  2016   \n",
            "1                       91133543        7               52      0  2016   \n",
            "2                       91133615        7               52      0  2016   \n",
            "\n",
            "   month  day  hour  minute  second  \n",
            "0      3   15    19      18      41  \n",
            "1      3   15    19      18      41  \n",
            "2      3   15    19      18      41  \n"
          ]
        },
        {
          "output_type": "stream",
          "name": "stderr",
          "text": [
            "\rread all files:  56%|█████▌    | 55/99 [05:55<05:14,  7.14s/it]"
          ]
        },
        {
          "output_type": "stream",
          "name": "stdout",
          "text": [
            "✅ Processed:    Unique_Identification     Execution_Path  System_Calls_Identifiers  \\\n",
            "0                   4493  /usr/sbin/apache2                        78   \n",
            "1                   2110    /usr/bin/compiz                       102   \n",
            "2                   2110    /usr/bin/compiz                       102   \n",
            "\n",
            "   Event's_Unique_Identification  attacks  Sub_Type_Attack  Label  year  \\\n",
            "0                        1532507        7               52      0  2016   \n",
            "1                        1349760        7               52      0  2016   \n",
            "2                        1451411        7               52      0  2016   \n",
            "\n",
            "   month  day  hour  minute  second  \n",
            "0      3   11     4      16      11  \n",
            "1      3   11     4       4      53  \n",
            "2      3   11     4      10      49  \n"
          ]
        },
        {
          "output_type": "stream",
          "name": "stderr",
          "text": [
            "\rread all files:  57%|█████▋    | 56/99 [06:01<04:52,  6.80s/it]"
          ]
        },
        {
          "output_type": "stream",
          "name": "stdout",
          "text": [
            "✅ Processed:    Unique_Identification     Execution_Path  System_Calls_Identifiers  \\\n",
            "0                   4493  /usr/sbin/apache2                        78   \n",
            "1                   4519  /usr/sbin/apache2                       256   \n",
            "2                   4519  /usr/sbin/apache2                       256   \n",
            "\n",
            "   Event's_Unique_Identification  attacks  Sub_Type_Attack  Label  year  \\\n",
            "0                       27452119        7               52      0  2016   \n",
            "1                       27452095        7               52      0  2016   \n",
            "2                       27452130        7               52      0  2016   \n",
            "\n",
            "   month  day  hour  minute  second  \n",
            "0      3   12    11      14      39  \n",
            "1      3   12    11      14      39  \n",
            "2      3   12    11      14      39  \n"
          ]
        },
        {
          "output_type": "stream",
          "name": "stderr",
          "text": [
            "\rread all files:  58%|█████▊    | 57/99 [06:09<05:00,  7.15s/it]"
          ]
        },
        {
          "output_type": "stream",
          "name": "stdout",
          "text": [
            "✅ Processed:    Unique_Identification     Execution_Path  System_Calls_Identifiers  \\\n",
            "0                  11364  /usr/sbin/apache2                        78   \n",
            "1                   1081      /usr/bin/Xorg                       265   \n",
            "2                   2110    /usr/bin/compiz                       265   \n",
            "\n",
            "   Event's_Unique_Identification  attacks  Sub_Type_Attack  Label  year  \\\n",
            "0                       60283016        7               52      0  2016   \n",
            "1                       59773491        7               52      0  2016   \n",
            "2                       60133037        7               52      0  2016   \n",
            "\n",
            "   month  day  hour  minute  second  \n",
            "0      3   13    19      53      52  \n",
            "1      3   13    19      23      10  \n",
            "2      3   13    19      45      28  \n"
          ]
        },
        {
          "output_type": "stream",
          "name": "stderr",
          "text": [
            "\rread all files:  59%|█████▊    | 58/99 [06:15<04:41,  6.87s/it]"
          ]
        },
        {
          "output_type": "stream",
          "name": "stdout",
          "text": [
            "✅ Processed:    Unique_Identification     Execution_Path  System_Calls_Identifiers  \\\n",
            "0                  11364  /usr/sbin/apache2                        78   \n",
            "1                   2110    /usr/bin/compiz                       265   \n",
            "2                  11364  /usr/sbin/apache2                        78   \n",
            "\n",
            "   Event's_Unique_Identification  attacks  Sub_Type_Attack  Label  year  \\\n",
            "0                       90066970        7               52      0  2016   \n",
            "1                       90066628        7               52      0  2016   \n",
            "2                       90066972        7               52      0  2016   \n",
            "\n",
            "   month  day  hour  minute  second  \n",
            "0      3   15    17       5      47  \n",
            "1      3   15    17       5      46  \n",
            "2      3   15    17       5      47  \n"
          ]
        },
        {
          "output_type": "stream",
          "name": "stderr",
          "text": [
            "\rread all files:  60%|█████▉    | 59/99 [06:23<04:47,  7.19s/it]"
          ]
        },
        {
          "output_type": "stream",
          "name": "stdout",
          "text": [
            "✅ Processed:    Unique_Identification           Execution_Path  System_Calls_Identifiers  \\\n",
            "0                   2360  /usr/bin/gnome-terminal                       265   \n",
            "1                   4461        /usr/sbin/apache2                         7   \n",
            "2                  11364        /usr/sbin/apache2                        78   \n",
            "\n",
            "   Event's_Unique_Identification  attacks  Sub_Type_Attack  Label  year  \\\n",
            "0                       64376342        7               52      0  2016   \n",
            "1                       64376622        7               52      0  2016   \n",
            "2                       64376732        7               52      0  2016   \n",
            "\n",
            "   month  day  hour  minute  second  \n",
            "0      3   13    23      58      56  \n",
            "1      3   13    23      58      56  \n",
            "2      3   13    23      58      57  \n"
          ]
        },
        {
          "output_type": "stream",
          "name": "stderr",
          "text": [
            "\rread all files:  61%|██████    | 60/99 [06:29<04:29,  6.90s/it]"
          ]
        },
        {
          "output_type": "stream",
          "name": "stdout",
          "text": [
            "✅ Processed:    Unique_Identification     Execution_Path  System_Calls_Identifiers  \\\n",
            "0                  11364  /usr/sbin/apache2                       256   \n",
            "1                  11364  /usr/sbin/apache2                        78   \n",
            "2                  11364  /usr/sbin/apache2                        78   \n",
            "\n",
            "   Event's_Unique_Identification  attacks  Sub_Type_Attack  Label  year  \\\n",
            "0                       91891402        7               52      0  2016   \n",
            "1                       91891437        7               52      0  2016   \n",
            "2                       91891474        7               52      0  2016   \n",
            "\n",
            "   month  day  hour  minute  second  \n",
            "0      3   15    20      54      26  \n",
            "1      3   15    20      54      26  \n",
            "2      3   15    20      54      26  \n"
          ]
        },
        {
          "output_type": "stream",
          "name": "stderr",
          "text": [
            "\rread all files:  62%|██████▏   | 61/99 [06:37<04:33,  7.20s/it]"
          ]
        },
        {
          "output_type": "stream",
          "name": "stdout",
          "text": [
            "✅ Processed:    Unique_Identification     Execution_Path  System_Calls_Identifiers  \\\n",
            "0                   2110    /usr/bin/compiz                       265   \n",
            "1                   4519  /usr/sbin/apache2                        78   \n",
            "2                   1081      /usr/bin/Xorg                       265   \n",
            "\n",
            "   Event's_Unique_Identification  attacks  Sub_Type_Attack  Label  year  \\\n",
            "0                       37429856        7               52      0  2016   \n",
            "1                       37213795        7               52      0  2016   \n",
            "2                       37129990        7               52      0  2016   \n",
            "\n",
            "   month  day  hour  minute  second  \n",
            "0      3   12    21       9      13  \n",
            "1      3   12    20      56      39  \n",
            "2      3   12    20      51      25  \n"
          ]
        },
        {
          "output_type": "stream",
          "name": "stderr",
          "text": [
            "\rread all files:  63%|██████▎   | 62/99 [06:43<04:14,  6.87s/it]"
          ]
        },
        {
          "output_type": "stream",
          "name": "stdout",
          "text": [
            "✅ Processed:    Unique_Identification     Execution_Path  System_Calls_Identifiers  \\\n",
            "0                  11378  /usr/sbin/apache2                        78   \n",
            "1                   2110    /usr/bin/compiz                       102   \n",
            "2                   2110    /usr/bin/compiz                       102   \n",
            "\n",
            "   Event's_Unique_Identification  attacks  Sub_Type_Attack  Label  year  \\\n",
            "0                       67489621        7               52      0  2016   \n",
            "1                       67489463        7               52      0  2016   \n",
            "2                       67489559        7               52      0  2016   \n",
            "\n",
            "   month  day  hour  minute  second  \n",
            "0      3   14     3       8      22  \n",
            "1      3   14     3       8      22  \n",
            "2      3   14     3       8      22  \n"
          ]
        },
        {
          "output_type": "stream",
          "name": "stderr",
          "text": [
            "\rread all files:  64%|██████▎   | 63/99 [06:51<04:20,  7.22s/it]"
          ]
        },
        {
          "output_type": "stream",
          "name": "stdout",
          "text": [
            "✅ Processed:    Unique_Identification             Execution_Path  System_Calls_Identifiers  \\\n",
            "0                   2294  /usr/bin/zeitgeist-daemon                       168   \n",
            "1                  11364          /usr/sbin/apache2                       256   \n",
            "2                  11364          /usr/sbin/apache2                       256   \n",
            "\n",
            "   Event's_Unique_Identification  attacks  Sub_Type_Attack  Label  year  \\\n",
            "0                       78494420        7               52      0  2016   \n",
            "1                       78467232        7               52      0  2016   \n",
            "2                       78467334        7               52      0  2016   \n",
            "\n",
            "   month  day  hour  minute  second  \n",
            "0      3   14    20      21      24  \n",
            "1      3   14    20      23      22  \n",
            "2      3   14    20      23      22  \n"
          ]
        },
        {
          "output_type": "stream",
          "name": "stderr",
          "text": [
            "\rread all files:  65%|██████▍   | 64/99 [06:55<03:34,  6.12s/it]"
          ]
        },
        {
          "output_type": "stream",
          "name": "stdout",
          "text": [
            "✅ Processed:    Unique_Identification     Execution_Path  System_Calls_Identifiers  \\\n",
            "0                   2110    /usr/bin/compiz                       102   \n",
            "1                   2110    /usr/bin/compiz                       102   \n",
            "2                  11378  /usr/sbin/apache2                        78   \n",
            "\n",
            "   Event's_Unique_Identification  attacks  Sub_Type_Attack  Label  year  \\\n",
            "0                       49944722        7               52      0  2016   \n",
            "1                       49944775        7               52      0  2016   \n",
            "2                       49906421        7               52      0  2016   \n",
            "\n",
            "   month  day  hour  minute  second  \n",
            "0      3   13     9      31      42  \n",
            "1      3   13     9      31      42  \n",
            "2      3   13     9      28      44  \n"
          ]
        },
        {
          "output_type": "stream",
          "name": "stderr",
          "text": [
            "\rread all files:  66%|██████▌   | 65/99 [06:58<03:01,  5.35s/it]"
          ]
        },
        {
          "output_type": "stream",
          "name": "stdout",
          "text": [
            "✅ Processed:    Unique_Identification   Execution_Path  System_Calls_Identifiers  \\\n",
            "0                   2110  /usr/bin/compiz                       265   \n",
            "1                   2110  /usr/bin/compiz                       265   \n",
            "2                   2110  /usr/bin/compiz                       265   \n",
            "\n",
            "   Event's_Unique_Identification  attacks  Sub_Type_Attack  Label  year  \\\n",
            "0                       51861480        7               52      0  2016   \n",
            "1                       51861567        7               52      0  2016   \n",
            "2                       51861574        7               52      0  2016   \n",
            "\n",
            "   month  day  hour  minute  second  \n",
            "0      3   13    11      25      26  \n",
            "1      3   13    11      25      26  \n",
            "2      3   13    11      25      26  \n"
          ]
        },
        {
          "output_type": "stream",
          "name": "stderr",
          "text": [
            "\rread all files:  67%|██████▋   | 66/99 [07:06<03:21,  6.12s/it]"
          ]
        },
        {
          "output_type": "stream",
          "name": "stdout",
          "text": [
            "✅ Processed:    Unique_Identification     Execution_Path  System_Calls_Identifiers  \\\n",
            "0                   4493  /usr/sbin/apache2                        78   \n",
            "1                   4519  /usr/sbin/apache2                       256   \n",
            "2                   4519  /usr/sbin/apache2                       256   \n",
            "\n",
            "   Event's_Unique_Identification  attacks  Sub_Type_Attack  Label  year  \\\n",
            "0                       17855652        7               52      0  2016   \n",
            "1                       17855410        7               52      0  2016   \n",
            "2                       17855468        7               52      0  2016   \n",
            "\n",
            "   month  day  hour  minute  second  \n",
            "0      3   12     1      40      46  \n",
            "1      3   12     1      40      46  \n",
            "2      3   12     1      40      46  \n"
          ]
        },
        {
          "output_type": "stream",
          "name": "stderr",
          "text": [
            "\rread all files:  68%|██████▊   | 67/99 [07:12<03:15,  6.10s/it]"
          ]
        },
        {
          "output_type": "stream",
          "name": "stdout",
          "text": [
            "✅ Processed:    Unique_Identification               Execution_Path  \\\n",
            "0                   1804             /bin/dbus-daemon   \n",
            "1                   1832    /sbin/upstart-dbus-bridge   \n",
            "2                   1519  /usr/lib/rtkit/rtkit-daemon   \n",
            "\n",
            "   System_Calls_Identifiers  Event's_Unique_Identification  attacks  \\\n",
            "0                       256                       29082731        7   \n",
            "1                       142                       29246138        7   \n",
            "2                       168                       29081803        7   \n",
            "\n",
            "   Sub_Type_Attack  Label  year  month  day  hour  minute  second  \n",
            "0               52      0  2016      3   12    12      51       0  \n",
            "1               52      0  2016      3   12    12      51       8  \n",
            "2               52      0  2016      3   12    12      51      49  \n"
          ]
        },
        {
          "output_type": "stream",
          "name": "stderr",
          "text": [
            "\rread all files:  69%|██████▊   | 68/99 [07:20<03:24,  6.61s/it]"
          ]
        },
        {
          "output_type": "stream",
          "name": "stdout",
          "text": [
            "✅ Processed:    Unique_Identification            Execution_Path  System_Calls_Identifiers  \\\n",
            "0                   9127  /usr/lib/udisks2/udisksd                        85   \n",
            "1                   9127  /usr/lib/udisks2/udisksd                        85   \n",
            "2                   9127  /usr/lib/udisks2/udisksd                        91   \n",
            "\n",
            "   Event's_Unique_Identification  attacks  Sub_Type_Attack  Label  year  \\\n",
            "0                       30527222        7               52      0  2016   \n",
            "1                       30527225        7               52      0  2016   \n",
            "2                       30527182        7               52      0  2016   \n",
            "\n",
            "   month  day  hour  minute  second  \n",
            "0      3   12    14      21       8  \n",
            "1      3   12    14      21       8  \n",
            "2      3   12    14      21       8  \n"
          ]
        },
        {
          "output_type": "stream",
          "name": "stderr",
          "text": [
            "\rread all files:  70%|██████▉   | 69/99 [07:26<03:13,  6.45s/it]"
          ]
        },
        {
          "output_type": "stream",
          "name": "stdout",
          "text": [
            "✅ Processed:    Unique_Identification     Execution_Path  System_Calls_Identifiers  \\\n",
            "0                   1081      /usr/bin/Xorg                       265   \n",
            "1                  11364  /usr/sbin/apache2                        78   \n",
            "2                   1081      /usr/bin/Xorg                       265   \n",
            "\n",
            "   Event's_Unique_Identification  attacks  Sub_Type_Attack  Label  year  \\\n",
            "0                       62208071        7               52      0  2016   \n",
            "1                       61711142        7               52      0  2016   \n",
            "2                       62208081        7               52      0  2016   \n",
            "\n",
            "   month  day  hour  minute  second  \n",
            "0      3   13    21      49      11  \n",
            "1      3   13    21      19      10  \n",
            "2      3   13    21      49      11  \n"
          ]
        },
        {
          "output_type": "stream",
          "name": "stderr",
          "text": [
            "\rread all files:  71%|███████   | 70/99 [07:34<03:18,  6.86s/it]"
          ]
        },
        {
          "output_type": "stream",
          "name": "stdout",
          "text": [
            "✅ Processed:    Unique_Identification                                     Execution_Path  \\\n",
            "0                   2144                           /usr/lib/udisks2/udisksd   \n",
            "1                   1853  /usr/lib/unity-settings-daemon/unity-settings-...   \n",
            "2                   2111                                    /usr/bin/compiz   \n",
            "\n",
            "   System_Calls_Identifiers  Event's_Unique_Identification  attacks  \\\n",
            "0                       168                       15478233        7   \n",
            "1                       168                       15361572        7   \n",
            "2                       168                       15354595        7   \n",
            "\n",
            "   Sub_Type_Attack  Label  year  month  day  hour  minute  second  \n",
            "0               52      0  2016      3   11    23      11       7  \n",
            "1               52      0  2016      3   11    23      13      52  \n",
            "2               52      0  2016      3   11    23      13      58  \n"
          ]
        },
        {
          "output_type": "stream",
          "name": "stderr",
          "text": [
            "\rread all files:  72%|███████▏  | 71/99 [07:40<03:05,  6.62s/it]"
          ]
        },
        {
          "output_type": "stream",
          "name": "stdout",
          "text": [
            "✅ Processed:    Unique_Identification                             Execution_Path  \\\n",
            "0                   2139  /usr/lib/gvfs/gvfs-udisks2-volume-monitor   \n",
            "1                   1081                              /usr/bin/Xorg   \n",
            "2                   2144                   /usr/lib/udisks2/udisksd   \n",
            "\n",
            "   System_Calls_Identifiers  Event's_Unique_Identification  attacks  \\\n",
            "0                       168                       57559776        7   \n",
            "1                       102                       57532982        7   \n",
            "2                       168                       57559509        7   \n",
            "\n",
            "   Sub_Type_Attack  Label  year  month  day  hour  minute  second  \n",
            "0               52      0  2016      3   13    17       1      12  \n",
            "1               52      0  2016      3   13    17       9      55  \n",
            "2               52      0  2016      3   13    17       1      12  \n"
          ]
        },
        {
          "output_type": "stream",
          "name": "stderr",
          "text": [
            "\rread all files:  73%|███████▎  | 72/99 [07:48<03:09,  7.02s/it]"
          ]
        },
        {
          "output_type": "stream",
          "name": "stdout",
          "text": [
            "✅ Processed:    Unique_Identification     Execution_Path  System_Calls_Identifiers  \\\n",
            "0                  11378  /usr/sbin/apache2                       256   \n",
            "1                  11378  /usr/sbin/apache2                        78   \n",
            "2                  11378  /usr/sbin/apache2                        78   \n",
            "\n",
            "   Event's_Unique_Identification  attacks  Sub_Type_Attack  Label  year  \\\n",
            "0                       71878785        7               52      0  2016   \n",
            "1                       71878643        7               52      0  2016   \n",
            "2                       71878780        7               52      0  2016   \n",
            "\n",
            "   month  day  hour  minute  second  \n",
            "0      3   14     7      29       3  \n",
            "1      3   14     7      29       3  \n",
            "2      3   14     7      29       3  \n"
          ]
        },
        {
          "output_type": "stream",
          "name": "stderr",
          "text": [
            "\rread all files:  74%|███████▎  | 73/99 [07:54<02:54,  6.71s/it]"
          ]
        },
        {
          "output_type": "stream",
          "name": "stdout",
          "text": [
            "✅ Processed:    Unique_Identification     Execution_Path  System_Calls_Identifiers  \\\n",
            "0                   4493  /usr/sbin/apache2                        78   \n",
            "1                   4493  /usr/sbin/apache2                        78   \n",
            "2                   1081      /usr/bin/Xorg                       104   \n",
            "\n",
            "   Event's_Unique_Identification  attacks  Sub_Type_Attack  Label  year  \\\n",
            "0                       19109536        7               52      0  2016   \n",
            "1                       19109538        7               52      0  2016   \n",
            "2                       19109814        7               52      0  2016   \n",
            "\n",
            "   month  day  hour  minute  second  \n",
            "0      3   12     2      54      59  \n",
            "1      3   12     2      54      59  \n",
            "2      3   12     2      55       0  \n"
          ]
        },
        {
          "output_type": "stream",
          "name": "stderr",
          "text": [
            "\rread all files:  75%|███████▍  | 74/99 [08:02<02:57,  7.08s/it]"
          ]
        },
        {
          "output_type": "stream",
          "name": "stdout",
          "text": [
            "✅ Processed:    Unique_Identification     Execution_Path  System_Calls_Identifiers  \\\n",
            "0                  11378  /usr/sbin/apache2                        78   \n",
            "1                   1081      /usr/bin/Xorg                       142   \n",
            "2                   1081      /usr/bin/Xorg                       265   \n",
            "\n",
            "   Event's_Unique_Identification  attacks  Sub_Type_Attack  Label  year  \\\n",
            "0                       73482491        7               52      0  2016   \n",
            "1                       73483805        7               52      0  2016   \n",
            "2                       73483026        7               52      0  2016   \n",
            "\n",
            "   month  day  hour  minute  second  \n",
            "0      3   14    10       0      19  \n",
            "1      3   14    10       0      23  \n",
            "2      3   14    10       0      23  \n"
          ]
        },
        {
          "output_type": "stream",
          "name": "stderr",
          "text": [
            "\rread all files:  76%|███████▌  | 75/99 [08:08<02:42,  6.77s/it]"
          ]
        },
        {
          "output_type": "stream",
          "name": "stdout",
          "text": [
            "✅ Processed:    Unique_Identification     Execution_Path  System_Calls_Identifiers  \\\n",
            "0                   2110    /usr/bin/compiz                       265   \n",
            "1                   2121  /usr/bin/nautilus                       102   \n",
            "2                   2121  /usr/bin/nautilus                       168   \n",
            "\n",
            "   Event's_Unique_Identification  attacks  Sub_Type_Attack  Label  year  \\\n",
            "0                       79439552        7               52      0  2016   \n",
            "1                       79439463        7               52      0  2016   \n",
            "2                       79439456        7               52      0  2016   \n",
            "\n",
            "   month  day  hour  minute  second  \n",
            "0      3   14    22      25      28  \n",
            "1      3   14    22      25      28  \n",
            "2      3   14    22      25      28  \n"
          ]
        },
        {
          "output_type": "stream",
          "name": "stderr",
          "text": [
            "\rread all files:  77%|███████▋  | 76/99 [08:16<02:43,  7.10s/it]"
          ]
        },
        {
          "output_type": "stream",
          "name": "stdout",
          "text": [
            "✅ Processed:    Unique_Identification   Execution_Path  System_Calls_Identifiers  \\\n",
            "0                   2110  /usr/bin/compiz                       102   \n",
            "1                   2110  /usr/bin/compiz                       168   \n",
            "2                   2110  /usr/bin/compiz                       265   \n",
            "\n",
            "   Event's_Unique_Identification  attacks  Sub_Type_Attack  Label  year  \\\n",
            "0                       65245086        7               52      0  2016   \n",
            "1                       65245246        7               52      0  2016   \n",
            "2                       65245024        7               52      0  2016   \n",
            "\n",
            "   month  day  hour  minute  second  \n",
            "0      3   14     0      56      12  \n",
            "1      3   14     0      56      12  \n",
            "2      3   14     0      56      12  \n"
          ]
        },
        {
          "output_type": "stream",
          "name": "stderr",
          "text": [
            "\rread all files:  78%|███████▊  | 77/99 [08:22<02:29,  6.79s/it]"
          ]
        },
        {
          "output_type": "stream",
          "name": "stdout",
          "text": [
            "✅ Processed:    Unique_Identification Execution_Path  System_Calls_Identifiers  \\\n",
            "0                   1081  /usr/bin/Xorg                       102   \n",
            "1                   1081  /usr/bin/Xorg                       104   \n",
            "2                   1081  /usr/bin/Xorg                       104   \n",
            "\n",
            "   Event's_Unique_Identification  attacks  Sub_Type_Attack  Label  year  \\\n",
            "0                        4884112        7               52      0  2016   \n",
            "1                        4883722        7               52      0  2016   \n",
            "2                        4883900        7               52      0  2016   \n",
            "\n",
            "   month  day  hour  minute  second  \n",
            "0      3   11    10       0      32  \n",
            "1      3   11    10       0      32  \n",
            "2      3   11    10       0      32  \n"
          ]
        },
        {
          "output_type": "stream",
          "name": "stderr",
          "text": [
            "\rread all files:  79%|███████▉  | 78/99 [08:30<02:29,  7.10s/it]"
          ]
        },
        {
          "output_type": "stream",
          "name": "stdout",
          "text": [
            "✅ Processed:    Unique_Identification   Execution_Path  System_Calls_Identifiers  \\\n",
            "0                   2110  /usr/bin/compiz                       265   \n",
            "1                   2110  /usr/bin/compiz                       265   \n",
            "2                   2110  /usr/bin/compiz                       265   \n",
            "\n",
            "   Event's_Unique_Identification  attacks  Sub_Type_Attack  Label  year  \\\n",
            "0                        9606449        7               52      0  2016   \n",
            "1                        9606498        7               52      0  2016   \n",
            "2                        9606512        7               52      0  2016   \n",
            "\n",
            "   month  day  hour  minute  second  \n",
            "0      3   11    17      34      24  \n",
            "1      3   11    17      34      24  \n",
            "2      3   11    17      34      24  \n"
          ]
        },
        {
          "output_type": "stream",
          "name": "stderr",
          "text": [
            "\rread all files:  80%|███████▉  | 79/99 [08:38<02:26,  7.34s/it]"
          ]
        },
        {
          "output_type": "stream",
          "name": "stdout",
          "text": [
            "✅ Processed:    Unique_Identification                      Execution_Path  \\\n",
            "0                   1872  /usr/lib/unity/unity-panel-service   \n",
            "1                   1872  /usr/lib/unity/unity-panel-service   \n",
            "2                   2110                     /usr/bin/compiz   \n",
            "\n",
            "   System_Calls_Identifiers  Event's_Unique_Identification  attacks  \\\n",
            "0                         5                       45985968        7   \n",
            "1                         6                       45985971        7   \n",
            "2                       102                       45985726        7   \n",
            "\n",
            "   Sub_Type_Attack  Label  year  month  day  hour  minute  second  \n",
            "0               52      0  2016      3   13     5      37       1  \n",
            "1               52      0  2016      3   13     5      37       1  \n",
            "2               52      0  2016      3   13     5      37       1  \n"
          ]
        },
        {
          "output_type": "stream",
          "name": "stderr",
          "text": [
            "\rread all files:  81%|████████  | 80/99 [08:45<02:21,  7.45s/it]"
          ]
        },
        {
          "output_type": "stream",
          "name": "stdout",
          "text": [
            "✅ Processed:    Unique_Identification   Execution_Path  System_Calls_Identifiers  \\\n",
            "0                   1081    /usr/bin/Xorg                       102   \n",
            "1                   2110  /usr/bin/compiz                       265   \n",
            "2                   2110  /usr/bin/compiz                        54   \n",
            "\n",
            "   Event's_Unique_Identification  attacks  Sub_Type_Attack  Label  year  \\\n",
            "0                       51878817        7               52      0  2016   \n",
            "1                       51968320        7               52      0  2016   \n",
            "2                       51729340        7               52      0  2016   \n",
            "\n",
            "   month  day  hour  minute  second  \n",
            "0      3   13    11      26      15  \n",
            "1      3   13    11      31      42  \n",
            "2      3   13    11      17      28  \n"
          ]
        },
        {
          "output_type": "stream",
          "name": "stderr",
          "text": [
            "\rread all files:  82%|████████▏ | 81/99 [08:49<01:50,  6.13s/it]"
          ]
        },
        {
          "output_type": "stream",
          "name": "stdout",
          "text": [
            "✅ Processed:    Unique_Identification     Execution_Path  System_Calls_Identifiers  \\\n",
            "0                   4493  /usr/sbin/apache2                        78   \n",
            "1                   4493  /usr/sbin/apache2                        78   \n",
            "2                   2110    /usr/bin/compiz                       168   \n",
            "\n",
            "   Event's_Unique_Identification  attacks  Sub_Type_Attack  Label  year  \\\n",
            "0                       21466752        7               52      0  2016   \n",
            "1                       21821504        7               52      0  2016   \n",
            "2                       21988590        0               24      1  2016   \n",
            "\n",
            "   month  day  hour  minute  second  \n",
            "0      3   12     5      14      37  \n",
            "1      3   12     5      35      21  \n",
            "2      3   12     5      45      36  \n"
          ]
        },
        {
          "output_type": "stream",
          "name": "stderr",
          "text": [
            "\rread all files:  83%|████████▎ | 82/99 [08:56<01:53,  6.67s/it]"
          ]
        },
        {
          "output_type": "stream",
          "name": "stdout",
          "text": [
            "✅ Processed:    Unique_Identification     Execution_Path  System_Calls_Identifiers  \\\n",
            "0                   1081      /usr/bin/Xorg                       102   \n",
            "1                  11378  /usr/sbin/apache2                       256   \n",
            "2                   1081      /usr/bin/Xorg                        54   \n",
            "\n",
            "   Event's_Unique_Identification  attacks  Sub_Type_Attack  Label  year  \\\n",
            "0                       55713105        7               52      0  2016   \n",
            "1                       54750040        7               52      0  2016   \n",
            "2                       54154666        7               52      0  2016   \n",
            "\n",
            "   month  day  hour  minute  second  \n",
            "0      3   13    15      20      44  \n",
            "1      3   13    14      23      30  \n",
            "2      3   13    13      47      29  \n"
          ]
        },
        {
          "output_type": "stream",
          "name": "stderr",
          "text": [
            "\rread all files:  84%|████████▍ | 83/99 [09:03<01:43,  6.49s/it]"
          ]
        },
        {
          "output_type": "stream",
          "name": "stdout",
          "text": [
            "✅ Processed:    Unique_Identification                      Execution_Path  \\\n",
            "0                   1872  /usr/lib/unity/unity-panel-service   \n",
            "1                   2110                     /usr/bin/compiz   \n",
            "2                   2110                     /usr/bin/compiz   \n",
            "\n",
            "   System_Calls_Identifiers  Event's_Unique_Identification  attacks  \\\n",
            "0                        91                       84538880        7   \n",
            "1                       102                       84538778        7   \n",
            "2                       102                       84538844        7   \n",
            "\n",
            "   Sub_Type_Attack  Label  year  month  day  hour  minute  second  \n",
            "0               52      0  2016      3   15     7       3       1  \n",
            "1               52      0  2016      3   15     7       3       1  \n",
            "2               52      0  2016      3   15     7       3       1  \n"
          ]
        },
        {
          "output_type": "stream",
          "name": "stderr",
          "text": [
            "\rread all files:  85%|████████▍ | 84/99 [09:10<01:43,  6.89s/it]"
          ]
        },
        {
          "output_type": "stream",
          "name": "stdout",
          "text": [
            "✅ Processed:    Unique_Identification               Execution_Path  \\\n",
            "0                   1081                /usr/bin/Xorg   \n",
            "1                   1520  /usr/lib/rtkit/rtkit-daemon   \n",
            "2                   2110              /usr/bin/compiz   \n",
            "\n",
            "   System_Calls_Identifiers  Event's_Unique_Identification  attacks  \\\n",
            "0                        54                       32434693        7   \n",
            "1                       265                       32434576        7   \n",
            "2                       102                       32434378        7   \n",
            "\n",
            "   Sub_Type_Attack  Label  year  month  day  hour  minute  second  \n",
            "0               52      0  2016      3   12    16      13      27  \n",
            "1               52      0  2016      3   12    16      13      27  \n",
            "2               52      0  2016      3   12    16      13      27  \n"
          ]
        },
        {
          "output_type": "stream",
          "name": "stderr",
          "text": [
            "\rread all files:  86%|████████▌ | 85/99 [09:12<01:15,  5.40s/it]"
          ]
        },
        {
          "output_type": "stream",
          "name": "stdout",
          "text": [
            "✅ Processed:    Unique_Identification     Execution_Path  System_Calls_Identifiers  \\\n",
            "0                  11364  /usr/sbin/apache2                       256   \n",
            "1                  11378  /usr/sbin/apache2                        78   \n",
            "2                  11364  /usr/sbin/apache2                       256   \n",
            "\n",
            "   Event's_Unique_Identification  attacks  Sub_Type_Attack  Label  year  \\\n",
            "0                       78407495        7               52      0  2016   \n",
            "1                       77888593        7               52      0  2016   \n",
            "2                       78165943        7               52      0  2016   \n",
            "\n",
            "   month  day  hour  minute  second  \n",
            "0      3   14    20      16       7  \n",
            "1      3   14    19      10      40  \n",
            "2      3   14    19      45      52  \n"
          ]
        },
        {
          "output_type": "stream",
          "name": "stderr",
          "text": [
            "\rread all files:  87%|████████▋ | 86/99 [09:18<01:12,  5.58s/it]"
          ]
        },
        {
          "output_type": "stream",
          "name": "stdout",
          "text": [
            "✅ Processed:    Unique_Identification     Execution_Path  System_Calls_Identifiers  \\\n",
            "0                   4519  /usr/sbin/apache2                        78   \n",
            "1                   4519  /usr/sbin/apache2                        78   \n",
            "2                   4519  /usr/sbin/apache2                        78   \n",
            "\n",
            "   Event's_Unique_Identification  attacks  Sub_Type_Attack  Label  year  \\\n",
            "0                       41664164        7               52      0  2016   \n",
            "1                       41664165        7               52      0  2016   \n",
            "2                       41664205        7               52      0  2016   \n",
            "\n",
            "   month  day  hour  minute  second  \n",
            "0      3   13     1      19      12  \n",
            "1      3   13     1      19      12  \n",
            "2      3   13     1      19      12  \n"
          ]
        },
        {
          "output_type": "stream",
          "name": "stderr",
          "text": [
            "\rread all files:  88%|████████▊ | 87/99 [09:19<00:49,  4.17s/it]"
          ]
        },
        {
          "output_type": "stream",
          "name": "stdout",
          "text": [
            "✅ Processed:    Unique_Identification     Execution_Path  System_Calls_Identifiers  \\\n",
            "0                   4519  /usr/sbin/apache2                        78   \n",
            "1                   4519  /usr/sbin/apache2                        78   \n",
            "2                   4519  /usr/sbin/apache2                        78   \n",
            "\n",
            "   Event's_Unique_Identification  attacks  Sub_Type_Attack  Label  year  \\\n",
            "0                        3528225        7               52      0  2016   \n",
            "1                        3528229        7               52      0  2016   \n",
            "2                        3528261        7               52      0  2016   \n",
            "\n",
            "   month  day  hour  minute  second  \n",
            "0      3   11     7      10      56  \n",
            "1      3   11     7      10      56  \n",
            "2      3   11     7      10      56  \n"
          ]
        },
        {
          "output_type": "stream",
          "name": "stderr",
          "text": [
            "\rread all files:  89%|████████▉ | 88/99 [09:27<00:57,  5.24s/it]"
          ]
        },
        {
          "output_type": "stream",
          "name": "stdout",
          "text": [
            "✅ Processed:    Unique_Identification     Execution_Path  System_Calls_Identifiers  \\\n",
            "0                   4519  /usr/sbin/apache2                        78   \n",
            "1                   2110    /usr/bin/compiz                       265   \n",
            "2                   2110    /usr/bin/compiz                       102   \n",
            "\n",
            "   Event's_Unique_Identification  attacks  Sub_Type_Attack  Label  year  \\\n",
            "0                        2877607        7               52      0  2016   \n",
            "1                        2799449        7               52      0  2016   \n",
            "2                        2906064        7               52      0  2016   \n",
            "\n",
            "   month  day  hour  minute  second  \n",
            "0      3   11     5      49      52  \n",
            "1      3   11     5      40      49  \n",
            "2      3   11     5      53      55  \n"
          ]
        },
        {
          "output_type": "stream",
          "name": "stderr",
          "text": [
            "\rread all files:  90%|████████▉ | 89/99 [09:33<00:55,  5.52s/it]"
          ]
        },
        {
          "output_type": "stream",
          "name": "stdout",
          "text": [
            "✅ Processed:    Unique_Identification   Execution_Path  System_Calls_Identifiers  \\\n",
            "0                   2110  /usr/bin/compiz                       265   \n",
            "1                   2110  /usr/bin/compiz                       168   \n",
            "2                   2110  /usr/bin/compiz                       265   \n",
            "\n",
            "   Event's_Unique_Identification  attacks  Sub_Type_Attack  Label  year  \\\n",
            "0                       55277144        7               52      0  2016   \n",
            "1                       56078168        7               52      0  2016   \n",
            "2                       55277145        7               52      0  2016   \n",
            "\n",
            "   month  day  hour  minute  second  \n",
            "0      3   13    14      54      59  \n",
            "1      3   13    15      43      12  \n",
            "2      3   13    14      54      59  \n"
          ]
        },
        {
          "output_type": "stream",
          "name": "stderr",
          "text": [
            "\rread all files:  91%|█████████ | 90/99 [09:41<00:55,  6.22s/it]"
          ]
        },
        {
          "output_type": "stream",
          "name": "stdout",
          "text": [
            "✅ Processed:    Unique_Identification                      Execution_Path  \\\n",
            "0                   1830           /sbin/upstart-dbus-bridge   \n",
            "1                   9000  /usr/lib/unity/unity-panel-service   \n",
            "2                   2110                     /usr/bin/compiz   \n",
            "\n",
            "   System_Calls_Identifiers  Event's_Unique_Identification  attacks  \\\n",
            "0                       142                       35925908        7   \n",
            "1                       168                       35925898        7   \n",
            "2                       102                       35911365        7   \n",
            "\n",
            "   Sub_Type_Attack  Label  year  month  day  hour  minute  second  \n",
            "0               52      0  2016      3   12    19      40       0  \n",
            "1               52      0  2016      3   12    19      40       0  \n",
            "2               52      0  2016      3   12    19      40      17  \n"
          ]
        },
        {
          "output_type": "stream",
          "name": "stderr",
          "text": [
            "\rread all files:  92%|█████████▏| 91/99 [09:47<00:49,  6.19s/it]"
          ]
        },
        {
          "output_type": "stream",
          "name": "stdout",
          "text": [
            "✅ Processed:    Unique_Identification   Execution_Path  System_Calls_Identifiers  \\\n",
            "0                   2110  /usr/bin/compiz                       168   \n",
            "1                   2110  /usr/bin/compiz                       168   \n",
            "2                   2110  /usr/bin/compiz                       265   \n",
            "\n",
            "   Event's_Unique_Identification  attacks  Sub_Type_Attack  Label  year  \\\n",
            "0                       39670117        7               52      0  2016   \n",
            "1                       39670274        7               52      0  2016   \n",
            "2                       39670014        7               52      0  2016   \n",
            "\n",
            "   month  day  hour  minute  second  \n",
            "0      3   12    23      21      17  \n",
            "1      3   12    23      21      17  \n",
            "2      3   12    23      21      17  \n"
          ]
        },
        {
          "output_type": "stream",
          "name": "stderr",
          "text": [
            "\rread all files:  93%|█████████▎| 92/99 [09:55<00:46,  6.70s/it]"
          ]
        },
        {
          "output_type": "stream",
          "name": "stdout",
          "text": [
            "✅ Processed:    Unique_Identification                      Execution_Path  \\\n",
            "0                   2114                     /usr/bin/compiz   \n",
            "1                   2110                     /usr/bin/compiz   \n",
            "2                   1872  /usr/lib/unity/unity-panel-service   \n",
            "\n",
            "   System_Calls_Identifiers  Event's_Unique_Identification  attacks  \\\n",
            "0                         4                       86015801        7   \n",
            "1                         3                       86015852        7   \n",
            "2                       168                       86016682        7   \n",
            "\n",
            "   Sub_Type_Attack  Label  year  month  day  hour  minute  second  \n",
            "0               52      0  2016      3   15    10       0       0  \n",
            "1               52      0  2016      3   15    10       0       0  \n",
            "2               52      0  2016      3   15    10       0       1  \n"
          ]
        },
        {
          "output_type": "stream",
          "name": "stderr",
          "text": [
            "\rread all files:  94%|█████████▍| 93/99 [10:01<00:39,  6.52s/it]"
          ]
        },
        {
          "output_type": "stream",
          "name": "stdout",
          "text": [
            "✅ Processed:    Unique_Identification   Execution_Path  System_Calls_Identifiers  \\\n",
            "0                   2110  /usr/bin/compiz                       102   \n",
            "1                   2110  /usr/bin/compiz                       265   \n",
            "2                  12038  /usr/bin/compiz                         6   \n",
            "\n",
            "   Event's_Unique_Identification  attacks  Sub_Type_Attack  Label  year  \\\n",
            "0                       53358394        7               52      0  2016   \n",
            "1                       54337827        7               52      0  2016   \n",
            "2                       53038014        7               52      0  2016   \n",
            "\n",
            "   month  day  hour  minute  second  \n",
            "0      3   13    12      59       6  \n",
            "1      3   13    13      58      53  \n",
            "2      3   13    12      34      34  \n"
          ]
        },
        {
          "output_type": "stream",
          "name": "stderr",
          "text": [
            "\rread all files:  95%|█████████▍| 94/99 [10:09<00:34,  6.96s/it]"
          ]
        },
        {
          "output_type": "stream",
          "name": "stdout",
          "text": [
            "✅ Processed:    Unique_Identification   Execution_Path  System_Calls_Identifiers  \\\n",
            "0                   2110  /usr/bin/compiz                       265   \n",
            "1                   2110  /usr/bin/compiz                       265   \n",
            "2                   2110  /usr/bin/compiz                       265   \n",
            "\n",
            "   Event's_Unique_Identification  attacks  Sub_Type_Attack  Label  year  \\\n",
            "0                       31106169        7               52      0  2016   \n",
            "1                       31106172        7               52      0  2016   \n",
            "2                       31106210        7               52      0  2016   \n",
            "\n",
            "   month  day  hour  minute  second  \n",
            "0      3   12    14      56       6  \n",
            "1      3   12    14      56       6  \n",
            "2      3   12    14      56       6  \n"
          ]
        },
        {
          "output_type": "stream",
          "name": "stderr",
          "text": [
            "\rread all files:  96%|█████████▌| 95/99 [10:11<00:21,  5.46s/it]"
          ]
        },
        {
          "output_type": "stream",
          "name": "stdout",
          "text": [
            "✅ Processed:    Unique_Identification     Execution_Path  System_Calls_Identifiers  \\\n",
            "0                   2110    /usr/bin/compiz                         3   \n",
            "1                  11364  /usr/sbin/apache2                       256   \n",
            "2                  11364  /usr/sbin/apache2                        78   \n",
            "\n",
            "   Event's_Unique_Identification  attacks  Sub_Type_Attack  Label  year  \\\n",
            "0                       96271783        7               52      0  2016   \n",
            "1                       96271958        7               52      0  2016   \n",
            "2                       96181288        7               52      0  2016   \n",
            "\n",
            "   month  day  hour  minute  second  \n",
            "0      3   16     5      59      20  \n",
            "1      3   16     5      59      21  \n",
            "2      3   16     5      48      58  \n"
          ]
        },
        {
          "output_type": "stream",
          "name": "stderr",
          "text": [
            "\rread all files:  97%|█████████▋| 96/99 [10:18<00:17,  5.80s/it]"
          ]
        },
        {
          "output_type": "stream",
          "name": "stdout",
          "text": [
            "✅ Processed:    Unique_Identification   Execution_Path  System_Calls_Identifiers  \\\n",
            "0                   2110  /usr/bin/compiz                        54   \n",
            "1                   2110  /usr/bin/compiz                        54   \n",
            "2                   2110  /usr/bin/compiz                        54   \n",
            "\n",
            "   Event's_Unique_Identification  attacks  Sub_Type_Attack  Label  year  \\\n",
            "0                       41268430        7               52      0  2016   \n",
            "1                       41268431        7               52      0  2016   \n",
            "2                       41268433        7               52      0  2016   \n",
            "\n",
            "   month  day  hour  minute  second  \n",
            "0      3   13     0      56      42  \n",
            "1      3   13     0      56      42  \n",
            "2      3   13     0      56      42  \n"
          ]
        },
        {
          "output_type": "stream",
          "name": "stderr",
          "text": [
            "\rread all files:  98%|█████████▊| 97/99 [10:21<00:10,  5.19s/it]"
          ]
        },
        {
          "output_type": "stream",
          "name": "stdout",
          "text": [
            "✅ Processed:    Unique_Identification     Execution_Path  System_Calls_Identifiers  \\\n",
            "0                   2111    /usr/bin/compiz                       265   \n",
            "1                   4519  /usr/sbin/apache2                        78   \n",
            "2                   1081      /usr/bin/Xorg                        54   \n",
            "\n",
            "   Event's_Unique_Identification  attacks  Sub_Type_Attack  Label  year  \\\n",
            "0                       43704600        7               52      0  2016   \n",
            "1                       43740996        7               52      0  2016   \n",
            "2                       43142317        7               52      0  2016   \n",
            "\n",
            "   month  day  hour  minute  second  \n",
            "0      3   13     3      21       7  \n",
            "1      3   13     3      22      53  \n",
            "2      3   13     2      48       6  \n"
          ]
        },
        {
          "output_type": "stream",
          "name": "stderr",
          "text": [
            "\rread all files:  99%|█████████▉| 98/99 [10:27<00:05,  5.48s/it]"
          ]
        },
        {
          "output_type": "stream",
          "name": "stdout",
          "text": [
            "✅ Processed:    Unique_Identification     Execution_Path  System_Calls_Identifiers  \\\n",
            "0                   2110    /usr/bin/compiz                       265   \n",
            "1                  11364  /usr/sbin/apache2                        78   \n",
            "2                   2110    /usr/bin/compiz                        54   \n",
            "\n",
            "   Event's_Unique_Identification  attacks  Sub_Type_Attack  Label  year  \\\n",
            "0                       87003500        7               52      0  2016   \n",
            "1                       87437695        7               52      0  2016   \n",
            "2                       87003179        7               52      0  2016   \n",
            "\n",
            "   month  day  hour  minute  second  \n",
            "0      3   15    11      45      42  \n",
            "1      3   15    12      10      56  \n",
            "2      3   15    11      45      42  \n"
          ]
        },
        {
          "output_type": "stream",
          "name": "stderr",
          "text": [
            "read all files: 100%|██████████| 99/99 [10:35<00:00,  6.42s/it]"
          ]
        },
        {
          "output_type": "stream",
          "name": "stdout",
          "text": [
            "✅ Processed:    Unique_Identification                          Execution_Path  \\\n",
            "0                   1804                        /bin/dbus-daemon   \n",
            "1                   2133  /usr/lib/i386-linux-gnu/gconf/gconfd-2   \n",
            "2                   4528                      /usr/bin/python3.4   \n",
            "\n",
            "   System_Calls_Identifiers  Event's_Unique_Identification  attacks  \\\n",
            "0                       256                          45352        7   \n",
            "1                       168                          45372        7   \n",
            "2                         3                          39459        7   \n",
            "\n",
            "   Sub_Type_Attack  Label  year  month  day  hour  minute  second  \n",
            "0               52      0  2016      3   11     2      45       6  \n",
            "1               52      0  2016      3   11     2      45       6  \n",
            "2               52      0  2016      3   11     2      45      35  \n"
          ]
        },
        {
          "output_type": "stream",
          "name": "stderr",
          "text": [
            "\n"
          ]
        }
      ]
    },
    {
      "cell_type": "code",
      "source": [
        "\n",
        "file = '/content/NGIDS/NGIDS-DS-v1/host logs/1.csv'\n",
        "\n",
        "df = pd.read_csv(file)\n",
        "\n",
        "df.info()\n",
        "df.head(3)"
      ],
      "metadata": {
        "collapsed": true,
        "id": "7u3D4T--XQ86",
        "colab": {
          "base_uri": "https://localhost:8080/",
          "height": 545
        },
        "outputId": "23b2e950-6bc2-43c5-e580-b960283d4a97"
      },
      "execution_count": 21,
      "outputs": [
        {
          "output_type": "stream",
          "name": "stdout",
          "text": [
            "<class 'pandas.core.frame.DataFrame'>\n",
            "RangeIndex: 1000000 entries, 0 to 999999\n",
            "Data columns (total 13 columns):\n",
            " #   Column                         Non-Null Count    Dtype \n",
            "---  ------                         --------------    ----- \n",
            " 0   Unique_Identification          1000000 non-null  int64 \n",
            " 1   Execution_Path                 1000000 non-null  object\n",
            " 2   System_Calls_Identifiers       1000000 non-null  int64 \n",
            " 3   Event's_Unique_Identification  1000000 non-null  int64 \n",
            " 4   attacks                        1000000 non-null  int64 \n",
            " 5   Sub_Type_Attack                1000000 non-null  int64 \n",
            " 6   Label                          1000000 non-null  int64 \n",
            " 7   year                           1000000 non-null  int64 \n",
            " 8   month                          1000000 non-null  int64 \n",
            " 9   day                            1000000 non-null  int64 \n",
            " 10  hour                           1000000 non-null  int64 \n",
            " 11  minute                         1000000 non-null  int64 \n",
            " 12  second                         1000000 non-null  int64 \n",
            "dtypes: int64(12), object(1)\n",
            "memory usage: 99.2+ MB\n"
          ]
        },
        {
          "output_type": "execute_result",
          "data": {
            "text/plain": [
              "   Unique_Identification                          Execution_Path  \\\n",
              "0                   1804                        /bin/dbus-daemon   \n",
              "1                   2133  /usr/lib/i386-linux-gnu/gconf/gconfd-2   \n",
              "2                   4528                      /usr/bin/python3.4   \n",
              "\n",
              "   System_Calls_Identifiers  Event's_Unique_Identification  attacks  \\\n",
              "0                       256                          45352        7   \n",
              "1                       168                          45372        7   \n",
              "2                         3                          39459        7   \n",
              "\n",
              "   Sub_Type_Attack  Label  year  month  day  hour  minute  second  \n",
              "0               52      0  2016      3   11     2      45       6  \n",
              "1               52      0  2016      3   11     2      45       6  \n",
              "2               52      0  2016      3   11     2      45      35  "
            ],
            "text/html": [
              "\n",
              "  <div id=\"df-60cd4454-49ef-41d2-aed5-8d2a257a484b\" class=\"colab-df-container\">\n",
              "    <div>\n",
              "<style scoped>\n",
              "    .dataframe tbody tr th:only-of-type {\n",
              "        vertical-align: middle;\n",
              "    }\n",
              "\n",
              "    .dataframe tbody tr th {\n",
              "        vertical-align: top;\n",
              "    }\n",
              "\n",
              "    .dataframe thead th {\n",
              "        text-align: right;\n",
              "    }\n",
              "</style>\n",
              "<table border=\"1\" class=\"dataframe\">\n",
              "  <thead>\n",
              "    <tr style=\"text-align: right;\">\n",
              "      <th></th>\n",
              "      <th>Unique_Identification</th>\n",
              "      <th>Execution_Path</th>\n",
              "      <th>System_Calls_Identifiers</th>\n",
              "      <th>Event's_Unique_Identification</th>\n",
              "      <th>attacks</th>\n",
              "      <th>Sub_Type_Attack</th>\n",
              "      <th>Label</th>\n",
              "      <th>year</th>\n",
              "      <th>month</th>\n",
              "      <th>day</th>\n",
              "      <th>hour</th>\n",
              "      <th>minute</th>\n",
              "      <th>second</th>\n",
              "    </tr>\n",
              "  </thead>\n",
              "  <tbody>\n",
              "    <tr>\n",
              "      <th>0</th>\n",
              "      <td>1804</td>\n",
              "      <td>/bin/dbus-daemon</td>\n",
              "      <td>256</td>\n",
              "      <td>45352</td>\n",
              "      <td>7</td>\n",
              "      <td>52</td>\n",
              "      <td>0</td>\n",
              "      <td>2016</td>\n",
              "      <td>3</td>\n",
              "      <td>11</td>\n",
              "      <td>2</td>\n",
              "      <td>45</td>\n",
              "      <td>6</td>\n",
              "    </tr>\n",
              "    <tr>\n",
              "      <th>1</th>\n",
              "      <td>2133</td>\n",
              "      <td>/usr/lib/i386-linux-gnu/gconf/gconfd-2</td>\n",
              "      <td>168</td>\n",
              "      <td>45372</td>\n",
              "      <td>7</td>\n",
              "      <td>52</td>\n",
              "      <td>0</td>\n",
              "      <td>2016</td>\n",
              "      <td>3</td>\n",
              "      <td>11</td>\n",
              "      <td>2</td>\n",
              "      <td>45</td>\n",
              "      <td>6</td>\n",
              "    </tr>\n",
              "    <tr>\n",
              "      <th>2</th>\n",
              "      <td>4528</td>\n",
              "      <td>/usr/bin/python3.4</td>\n",
              "      <td>3</td>\n",
              "      <td>39459</td>\n",
              "      <td>7</td>\n",
              "      <td>52</td>\n",
              "      <td>0</td>\n",
              "      <td>2016</td>\n",
              "      <td>3</td>\n",
              "      <td>11</td>\n",
              "      <td>2</td>\n",
              "      <td>45</td>\n",
              "      <td>35</td>\n",
              "    </tr>\n",
              "  </tbody>\n",
              "</table>\n",
              "</div>\n",
              "    <div class=\"colab-df-buttons\">\n",
              "\n",
              "  <div class=\"colab-df-container\">\n",
              "    <button class=\"colab-df-convert\" onclick=\"convertToInteractive('df-60cd4454-49ef-41d2-aed5-8d2a257a484b')\"\n",
              "            title=\"Convert this dataframe to an interactive table.\"\n",
              "            style=\"display:none;\">\n",
              "\n",
              "  <svg xmlns=\"http://www.w3.org/2000/svg\" height=\"24px\" viewBox=\"0 -960 960 960\">\n",
              "    <path d=\"M120-120v-720h720v720H120Zm60-500h600v-160H180v160Zm220 220h160v-160H400v160Zm0 220h160v-160H400v160ZM180-400h160v-160H180v160Zm440 0h160v-160H620v160ZM180-180h160v-160H180v160Zm440 0h160v-160H620v160Z\"/>\n",
              "  </svg>\n",
              "    </button>\n",
              "\n",
              "  <style>\n",
              "    .colab-df-container {\n",
              "      display:flex;\n",
              "      gap: 12px;\n",
              "    }\n",
              "\n",
              "    .colab-df-convert {\n",
              "      background-color: #E8F0FE;\n",
              "      border: none;\n",
              "      border-radius: 50%;\n",
              "      cursor: pointer;\n",
              "      display: none;\n",
              "      fill: #1967D2;\n",
              "      height: 32px;\n",
              "      padding: 0 0 0 0;\n",
              "      width: 32px;\n",
              "    }\n",
              "\n",
              "    .colab-df-convert:hover {\n",
              "      background-color: #E2EBFA;\n",
              "      box-shadow: 0px 1px 2px rgba(60, 64, 67, 0.3), 0px 1px 3px 1px rgba(60, 64, 67, 0.15);\n",
              "      fill: #174EA6;\n",
              "    }\n",
              "\n",
              "    .colab-df-buttons div {\n",
              "      margin-bottom: 4px;\n",
              "    }\n",
              "\n",
              "    [theme=dark] .colab-df-convert {\n",
              "      background-color: #3B4455;\n",
              "      fill: #D2E3FC;\n",
              "    }\n",
              "\n",
              "    [theme=dark] .colab-df-convert:hover {\n",
              "      background-color: #434B5C;\n",
              "      box-shadow: 0px 1px 3px 1px rgba(0, 0, 0, 0.15);\n",
              "      filter: drop-shadow(0px 1px 2px rgba(0, 0, 0, 0.3));\n",
              "      fill: #FFFFFF;\n",
              "    }\n",
              "  </style>\n",
              "\n",
              "    <script>\n",
              "      const buttonEl =\n",
              "        document.querySelector('#df-60cd4454-49ef-41d2-aed5-8d2a257a484b button.colab-df-convert');\n",
              "      buttonEl.style.display =\n",
              "        google.colab.kernel.accessAllowed ? 'block' : 'none';\n",
              "\n",
              "      async function convertToInteractive(key) {\n",
              "        const element = document.querySelector('#df-60cd4454-49ef-41d2-aed5-8d2a257a484b');\n",
              "        const dataTable =\n",
              "          await google.colab.kernel.invokeFunction('convertToInteractive',\n",
              "                                                    [key], {});\n",
              "        if (!dataTable) return;\n",
              "\n",
              "        const docLinkHtml = 'Like what you see? Visit the ' +\n",
              "          '<a target=\"_blank\" href=https://colab.research.google.com/notebooks/data_table.ipynb>data table notebook</a>'\n",
              "          + ' to learn more about interactive tables.';\n",
              "        element.innerHTML = '';\n",
              "        dataTable['output_type'] = 'display_data';\n",
              "        await google.colab.output.renderOutput(dataTable, element);\n",
              "        const docLink = document.createElement('div');\n",
              "        docLink.innerHTML = docLinkHtml;\n",
              "        element.appendChild(docLink);\n",
              "      }\n",
              "    </script>\n",
              "  </div>\n",
              "\n",
              "\n",
              "    <div id=\"df-b700560a-6b26-4e65-9048-99013a0be277\">\n",
              "      <button class=\"colab-df-quickchart\" onclick=\"quickchart('df-b700560a-6b26-4e65-9048-99013a0be277')\"\n",
              "                title=\"Suggest charts\"\n",
              "                style=\"display:none;\">\n",
              "\n",
              "<svg xmlns=\"http://www.w3.org/2000/svg\" height=\"24px\"viewBox=\"0 0 24 24\"\n",
              "     width=\"24px\">\n",
              "    <g>\n",
              "        <path d=\"M19 3H5c-1.1 0-2 .9-2 2v14c0 1.1.9 2 2 2h14c1.1 0 2-.9 2-2V5c0-1.1-.9-2-2-2zM9 17H7v-7h2v7zm4 0h-2V7h2v10zm4 0h-2v-4h2v4z\"/>\n",
              "    </g>\n",
              "</svg>\n",
              "      </button>\n",
              "\n",
              "<style>\n",
              "  .colab-df-quickchart {\n",
              "      --bg-color: #E8F0FE;\n",
              "      --fill-color: #1967D2;\n",
              "      --hover-bg-color: #E2EBFA;\n",
              "      --hover-fill-color: #174EA6;\n",
              "      --disabled-fill-color: #AAA;\n",
              "      --disabled-bg-color: #DDD;\n",
              "  }\n",
              "\n",
              "  [theme=dark] .colab-df-quickchart {\n",
              "      --bg-color: #3B4455;\n",
              "      --fill-color: #D2E3FC;\n",
              "      --hover-bg-color: #434B5C;\n",
              "      --hover-fill-color: #FFFFFF;\n",
              "      --disabled-bg-color: #3B4455;\n",
              "      --disabled-fill-color: #666;\n",
              "  }\n",
              "\n",
              "  .colab-df-quickchart {\n",
              "    background-color: var(--bg-color);\n",
              "    border: none;\n",
              "    border-radius: 50%;\n",
              "    cursor: pointer;\n",
              "    display: none;\n",
              "    fill: var(--fill-color);\n",
              "    height: 32px;\n",
              "    padding: 0;\n",
              "    width: 32px;\n",
              "  }\n",
              "\n",
              "  .colab-df-quickchart:hover {\n",
              "    background-color: var(--hover-bg-color);\n",
              "    box-shadow: 0 1px 2px rgba(60, 64, 67, 0.3), 0 1px 3px 1px rgba(60, 64, 67, 0.15);\n",
              "    fill: var(--button-hover-fill-color);\n",
              "  }\n",
              "\n",
              "  .colab-df-quickchart-complete:disabled,\n",
              "  .colab-df-quickchart-complete:disabled:hover {\n",
              "    background-color: var(--disabled-bg-color);\n",
              "    fill: var(--disabled-fill-color);\n",
              "    box-shadow: none;\n",
              "  }\n",
              "\n",
              "  .colab-df-spinner {\n",
              "    border: 2px solid var(--fill-color);\n",
              "    border-color: transparent;\n",
              "    border-bottom-color: var(--fill-color);\n",
              "    animation:\n",
              "      spin 1s steps(1) infinite;\n",
              "  }\n",
              "\n",
              "  @keyframes spin {\n",
              "    0% {\n",
              "      border-color: transparent;\n",
              "      border-bottom-color: var(--fill-color);\n",
              "      border-left-color: var(--fill-color);\n",
              "    }\n",
              "    20% {\n",
              "      border-color: transparent;\n",
              "      border-left-color: var(--fill-color);\n",
              "      border-top-color: var(--fill-color);\n",
              "    }\n",
              "    30% {\n",
              "      border-color: transparent;\n",
              "      border-left-color: var(--fill-color);\n",
              "      border-top-color: var(--fill-color);\n",
              "      border-right-color: var(--fill-color);\n",
              "    }\n",
              "    40% {\n",
              "      border-color: transparent;\n",
              "      border-right-color: var(--fill-color);\n",
              "      border-top-color: var(--fill-color);\n",
              "    }\n",
              "    60% {\n",
              "      border-color: transparent;\n",
              "      border-right-color: var(--fill-color);\n",
              "    }\n",
              "    80% {\n",
              "      border-color: transparent;\n",
              "      border-right-color: var(--fill-color);\n",
              "      border-bottom-color: var(--fill-color);\n",
              "    }\n",
              "    90% {\n",
              "      border-color: transparent;\n",
              "      border-bottom-color: var(--fill-color);\n",
              "    }\n",
              "  }\n",
              "</style>\n",
              "\n",
              "      <script>\n",
              "        async function quickchart(key) {\n",
              "          const quickchartButtonEl =\n",
              "            document.querySelector('#' + key + ' button');\n",
              "          quickchartButtonEl.disabled = true;  // To prevent multiple clicks.\n",
              "          quickchartButtonEl.classList.add('colab-df-spinner');\n",
              "          try {\n",
              "            const charts = await google.colab.kernel.invokeFunction(\n",
              "                'suggestCharts', [key], {});\n",
              "          } catch (error) {\n",
              "            console.error('Error during call to suggestCharts:', error);\n",
              "          }\n",
              "          quickchartButtonEl.classList.remove('colab-df-spinner');\n",
              "          quickchartButtonEl.classList.add('colab-df-quickchart-complete');\n",
              "        }\n",
              "        (() => {\n",
              "          let quickchartButtonEl =\n",
              "            document.querySelector('#df-b700560a-6b26-4e65-9048-99013a0be277 button');\n",
              "          quickchartButtonEl.style.display =\n",
              "            google.colab.kernel.accessAllowed ? 'block' : 'none';\n",
              "        })();\n",
              "      </script>\n",
              "    </div>\n",
              "    </div>\n",
              "  </div>\n"
            ],
            "application/vnd.google.colaboratory.intrinsic+json": {
              "type": "dataframe",
              "variable_name": "df"
            }
          },
          "metadata": {},
          "execution_count": 21
        }
      ]
    },
    {
      "cell_type": "code",
      "source": [
        "!cp -r \"/content/drive/MyDrive/hybrid_IDS/dataset/host logs\" /content/NGIDS/NGIDS-DS-v1/"
      ],
      "metadata": {
        "id": "Lvhaii6LdcUT"
      },
      "execution_count": 19,
      "outputs": []
    },
    {
      "cell_type": "code",
      "source": [
        "!rm -rf \"/content/NGIDS/NGIDS-DS-v1/host logs\""
      ],
      "metadata": {
        "id": "x8AA6SaonWm0"
      },
      "execution_count": 18,
      "outputs": []
    },
    {
      "cell_type": "code",
      "source": [
        "\n",
        "import pandas as pd\n",
        "import seaborn as sns\n",
        "import matplotlib.pyplot as plt\n",
        "\n",
        "file = '/content/NGIDS/NGIDS-DS-v1/host logs/61.csv'\n",
        "\n",
        "\n",
        "# 1. تحميل البيانات\n",
        "df = pd.read_csv(file)  # ← غيّر اسم الملف\n",
        "\n",
        "# 2. اختيار الأعمدة الرقمية فقط\n",
        "numeric_df = df.select_dtypes(include=['number'])\n",
        "\n",
        "# 3. التأكد من وجود العمود الهدف\n",
        "target_col = 'Label'\n",
        "if target_col not in numeric_df.columns:\n",
        "    raise ValueError(f\"العمود '{target_col}' غير موجود في البيانات!\")\n",
        "\n",
        "# 4. حساب الارتباط مع العمود الهدف فقط\n",
        "correlation_with_target = numeric_df.corr()[target_col].drop(target_col).sort_values(ascending=False)\n",
        "\n",
        "# 5. عرض النتائج بالرسم\n",
        "plt.figure(figsize=(10, 6))\n",
        "sns.barplot(x=correlation_with_target.values, y=correlation_with_target.index, palette='coolwarm')\n",
        "plt.title(f'Correlation with \"{target_col}\"')\n",
        "plt.xlabel('Correlation Coefficient')\n",
        "plt.ylabel('Feature')\n",
        "plt.tight_layout()\n",
        "plt.show()"
      ],
      "metadata": {
        "colab": {
          "base_uri": "https://localhost:8080/",
          "height": 211
        },
        "id": "0tmghzdQvW47",
        "outputId": "b16a74d3-1f5a-4dab-e980-422337e5fc69"
      },
      "execution_count": null,
      "outputs": [
        {
          "output_type": "error",
          "ename": "ValueError",
          "evalue": "العمود 'Label' غير موجود في البيانات!",
          "traceback": [
            "\u001b[0;31m---------------------------------------------------------------------------\u001b[0m",
            "\u001b[0;31mValueError\u001b[0m                                Traceback (most recent call last)",
            "\u001b[0;32m<ipython-input-6-ba5a0815049d>\u001b[0m in \u001b[0;36m<cell line: 0>\u001b[0;34m()\u001b[0m\n\u001b[1;32m     15\u001b[0m \u001b[0mtarget_col\u001b[0m \u001b[0;34m=\u001b[0m \u001b[0;34m'Label'\u001b[0m\u001b[0;34m\u001b[0m\u001b[0;34m\u001b[0m\u001b[0m\n\u001b[1;32m     16\u001b[0m \u001b[0;32mif\u001b[0m \u001b[0mtarget_col\u001b[0m \u001b[0;32mnot\u001b[0m \u001b[0;32min\u001b[0m \u001b[0mnumeric_df\u001b[0m\u001b[0;34m.\u001b[0m\u001b[0mcolumns\u001b[0m\u001b[0;34m:\u001b[0m\u001b[0;34m\u001b[0m\u001b[0;34m\u001b[0m\u001b[0m\n\u001b[0;32m---> 17\u001b[0;31m     \u001b[0;32mraise\u001b[0m \u001b[0mValueError\u001b[0m\u001b[0;34m(\u001b[0m\u001b[0;34mf\"العمود '{target_col}' غير موجود في البيانات!\"\u001b[0m\u001b[0;34m)\u001b[0m\u001b[0;34m\u001b[0m\u001b[0;34m\u001b[0m\u001b[0m\n\u001b[0m\u001b[1;32m     18\u001b[0m \u001b[0;34m\u001b[0m\u001b[0m\n\u001b[1;32m     19\u001b[0m \u001b[0;31m# 4. حساب الارتباط مع العمود الهدف فقط\u001b[0m\u001b[0;34m\u001b[0m\u001b[0;34m\u001b[0m\u001b[0m\n",
            "\u001b[0;31mValueError\u001b[0m: العمود 'Label' غير موجود في البيانات!"
          ]
        }
      ]
    },
    {
      "cell_type": "code",
      "source": [
        "correlation_with_target = numeric_df.corr()[target_col].drop(target_col).sort_values(ascending=False)\n",
        "correlation_with_target"
      ],
      "metadata": {
        "colab": {
          "base_uri": "https://localhost:8080/",
          "height": 491
        },
        "id": "TnUgJlQ0hKWG",
        "outputId": "83c903be-c4dd-4e39-c3b7-38b0d99a26fd"
      },
      "execution_count": null,
      "outputs": [
        {
          "output_type": "execute_result",
          "data": {
            "text/plain": [
              "path_part_4                      0.259518\n",
              "path_part_5                      0.128456\n",
              "path_part_2                      0.122674\n",
              "hour                             0.010651\n",
              "path_part_1                      0.008840\n",
              "Event's_Unique_Identification    0.005089\n",
              "Unique_Identification            0.002967\n",
              "second                           0.001407\n",
              "System_Calls_Identifiers        -0.001347\n",
              "minute                          -0.011156\n",
              "path_part_3                     -0.100076\n",
              "Sub_Type_Attack                 -0.868641\n",
              "attacks                         -0.983979\n",
              "Name: Label, dtype: float64"
            ],
            "text/html": [
              "<div>\n",
              "<style scoped>\n",
              "    .dataframe tbody tr th:only-of-type {\n",
              "        vertical-align: middle;\n",
              "    }\n",
              "\n",
              "    .dataframe tbody tr th {\n",
              "        vertical-align: top;\n",
              "    }\n",
              "\n",
              "    .dataframe thead th {\n",
              "        text-align: right;\n",
              "    }\n",
              "</style>\n",
              "<table border=\"1\" class=\"dataframe\">\n",
              "  <thead>\n",
              "    <tr style=\"text-align: right;\">\n",
              "      <th></th>\n",
              "      <th>Label</th>\n",
              "    </tr>\n",
              "  </thead>\n",
              "  <tbody>\n",
              "    <tr>\n",
              "      <th>path_part_4</th>\n",
              "      <td>0.259518</td>\n",
              "    </tr>\n",
              "    <tr>\n",
              "      <th>path_part_5</th>\n",
              "      <td>0.128456</td>\n",
              "    </tr>\n",
              "    <tr>\n",
              "      <th>path_part_2</th>\n",
              "      <td>0.122674</td>\n",
              "    </tr>\n",
              "    <tr>\n",
              "      <th>hour</th>\n",
              "      <td>0.010651</td>\n",
              "    </tr>\n",
              "    <tr>\n",
              "      <th>path_part_1</th>\n",
              "      <td>0.008840</td>\n",
              "    </tr>\n",
              "    <tr>\n",
              "      <th>Event's_Unique_Identification</th>\n",
              "      <td>0.005089</td>\n",
              "    </tr>\n",
              "    <tr>\n",
              "      <th>Unique_Identification</th>\n",
              "      <td>0.002967</td>\n",
              "    </tr>\n",
              "    <tr>\n",
              "      <th>second</th>\n",
              "      <td>0.001407</td>\n",
              "    </tr>\n",
              "    <tr>\n",
              "      <th>System_Calls_Identifiers</th>\n",
              "      <td>-0.001347</td>\n",
              "    </tr>\n",
              "    <tr>\n",
              "      <th>minute</th>\n",
              "      <td>-0.011156</td>\n",
              "    </tr>\n",
              "    <tr>\n",
              "      <th>path_part_3</th>\n",
              "      <td>-0.100076</td>\n",
              "    </tr>\n",
              "    <tr>\n",
              "      <th>Sub_Type_Attack</th>\n",
              "      <td>-0.868641</td>\n",
              "    </tr>\n",
              "    <tr>\n",
              "      <th>attacks</th>\n",
              "      <td>-0.983979</td>\n",
              "    </tr>\n",
              "  </tbody>\n",
              "</table>\n",
              "</div><br><label><b>dtype:</b> float64</label>"
            ]
          },
          "metadata": {},
          "execution_count": 31
        }
      ]
    },
    {
      "cell_type": "code",
      "source": [
        "import pandas as pd\n",
        "\n",
        "\n",
        "file = '/content/NGIDS/NGIDS-DS-v1/host logs/21.csv'\n",
        "# Load the data\n",
        "data = pd.read_csv(file)\n",
        "data.info()"
      ],
      "metadata": {
        "colab": {
          "base_uri": "https://localhost:8080/"
        },
        "id": "SkA_iFJnU5UY",
        "outputId": "133b695a-4fa6-49e6-f4ed-255a8f2edb4b"
      },
      "execution_count": null,
      "outputs": [
        {
          "output_type": "stream",
          "name": "stdout",
          "text": [
            "<class 'pandas.core.frame.DataFrame'>\n",
            "RangeIndex: 521304 entries, 0 to 521303\n",
            "Data columns (total 9 columns):\n",
            " #   Column                         Non-Null Count   Dtype \n",
            "---  ------                         --------------   ----- \n",
            " 0   Date                           521304 non-null  object\n",
            " 1   Time                           521304 non-null  object\n",
            " 2   Unique_Identification          521304 non-null  int64 \n",
            " 3   Execution_Path                 521304 non-null  object\n",
            " 4   System_Calls_Identifiers       521304 non-null  int64 \n",
            " 5   Event's_Unique_Identification  521304 non-null  int64 \n",
            " 6   attacks                        521304 non-null  object\n",
            " 7   Sub_Type_Attack                521304 non-null  object\n",
            " 8   Label                          521304 non-null  int64 \n",
            "dtypes: int64(4), object(5)\n",
            "memory usage: 35.8+ MB\n"
          ]
        }
      ]
    },
    {
      "cell_type": "code",
      "source": [
        "df['year'].value_counts()"
      ],
      "metadata": {
        "colab": {
          "base_uri": "https://localhost:8080/",
          "height": 147
        },
        "id": "gZ5LeI5wU4ft",
        "outputId": "cde89f40-1be8-4a4f-9a43-6102728fed37"
      },
      "execution_count": null,
      "outputs": [
        {
          "output_type": "execute_result",
          "data": {
            "text/plain": [
              "year\n",
              "2016.0    1000000\n",
              "Name: count, dtype: int64"
            ],
            "text/html": [
              "<div>\n",
              "<style scoped>\n",
              "    .dataframe tbody tr th:only-of-type {\n",
              "        vertical-align: middle;\n",
              "    }\n",
              "\n",
              "    .dataframe tbody tr th {\n",
              "        vertical-align: top;\n",
              "    }\n",
              "\n",
              "    .dataframe thead th {\n",
              "        text-align: right;\n",
              "    }\n",
              "</style>\n",
              "<table border=\"1\" class=\"dataframe\">\n",
              "  <thead>\n",
              "    <tr style=\"text-align: right;\">\n",
              "      <th></th>\n",
              "      <th>count</th>\n",
              "    </tr>\n",
              "    <tr>\n",
              "      <th>year</th>\n",
              "      <th></th>\n",
              "    </tr>\n",
              "  </thead>\n",
              "  <tbody>\n",
              "    <tr>\n",
              "      <th>2016.0</th>\n",
              "      <td>1000000</td>\n",
              "    </tr>\n",
              "  </tbody>\n",
              "</table>\n",
              "</div><br><label><b>dtype:</b> int64</label>"
            ]
          },
          "metadata": {},
          "execution_count": 22
        }
      ]
    },
    {
      "cell_type": "code",
      "source": [
        "file = '/content/NGIDS/NGIDS-DS-v1/host logs/10_encoded.csv'\n",
        "df = pd.read_csv(file)\n",
        "df.info()\n",
        "df.head()"
      ],
      "metadata": {
        "colab": {
          "base_uri": "https://localhost:8080/",
          "height": 642
        },
        "id": "UeD8kcuSskXq",
        "outputId": "61880d87-4349-473d-f728-955ef2a976b8"
      },
      "execution_count": null,
      "outputs": [
        {
          "output_type": "stream",
          "name": "stdout",
          "text": [
            "<class 'pandas.core.frame.DataFrame'>\n",
            "RangeIndex: 1990000 entries, 0 to 1989999\n",
            "Data columns (total 17 columns):\n",
            " #   Column                         Dtype  \n",
            "---  ------                         -----  \n",
            " 0   Unique_Identification          float64\n",
            " 1   System_Calls_Identifiers       float64\n",
            " 2   Event's_Unique_Identification  float64\n",
            " 3   attacks                        float64\n",
            " 4   Sub_Type_Attack                float64\n",
            " 5   Label                          float64\n",
            " 6   path_part_1                    float64\n",
            " 7   path_part_2                    float64\n",
            " 8   path_part_3                    float64\n",
            " 9   path_part_4                    float64\n",
            " 10  path_part_5                    float64\n",
            " 11  year                           float64\n",
            " 12  month                          float64\n",
            " 13  day                            float64\n",
            " 14  hour                           float64\n",
            " 15  minute                         float64\n",
            " 16  second                         float64\n",
            "dtypes: float64(17)\n",
            "memory usage: 258.1 MB\n"
          ]
        },
        {
          "output_type": "execute_result",
          "data": {
            "text/plain": [
              "   Unique_Identification  System_Calls_Identifiers  \\\n",
              "0                 2111.0                     168.0   \n",
              "1                 2318.0                     168.0   \n",
              "2                 4493.0                      78.0   \n",
              "3                 4493.0                      78.0   \n",
              "4                 4519.0                      78.0   \n",
              "\n",
              "   Event's_Unique_Identification  attacks  Sub_Type_Attack  Label  \\\n",
              "0                      8441500.0      7.0             52.0    0.0   \n",
              "1                      8441325.0      7.0             52.0    0.0   \n",
              "2                      8440867.0      7.0             52.0    0.0   \n",
              "3                      8440875.0      7.0             52.0    0.0   \n",
              "4                      8440865.0      7.0             52.0    0.0   \n",
              "\n",
              "   path_part_1  path_part_2  path_part_3  path_part_4  path_part_5    year  \\\n",
              "0        102.0         87.0         76.0         -1.0         -1.0  2016.0   \n",
              "1        102.0         87.0         49.0         -1.0         -1.0  2016.0   \n",
              "2        102.0        104.0         60.0         -1.0         -1.0  2016.0   \n",
              "3        102.0        104.0         60.0         -1.0         -1.0  2016.0   \n",
              "4        102.0        104.0         60.0         -1.0         -1.0  2016.0   \n",
              "\n",
              "   month   day  hour  minute  second  \n",
              "0    3.0  11.0  16.0    25.0    47.0  \n",
              "1    3.0  11.0  16.0    25.0    47.0  \n",
              "2    3.0  11.0  16.0    25.0    49.0  \n",
              "3    3.0  11.0  16.0    25.0    49.0  \n",
              "4    3.0  11.0  16.0    25.0    49.0  "
            ],
            "text/html": [
              "\n",
              "  <div id=\"df-650d268a-4051-47b0-a679-23dd96b32bc9\" class=\"colab-df-container\">\n",
              "    <div>\n",
              "<style scoped>\n",
              "    .dataframe tbody tr th:only-of-type {\n",
              "        vertical-align: middle;\n",
              "    }\n",
              "\n",
              "    .dataframe tbody tr th {\n",
              "        vertical-align: top;\n",
              "    }\n",
              "\n",
              "    .dataframe thead th {\n",
              "        text-align: right;\n",
              "    }\n",
              "</style>\n",
              "<table border=\"1\" class=\"dataframe\">\n",
              "  <thead>\n",
              "    <tr style=\"text-align: right;\">\n",
              "      <th></th>\n",
              "      <th>Unique_Identification</th>\n",
              "      <th>System_Calls_Identifiers</th>\n",
              "      <th>Event's_Unique_Identification</th>\n",
              "      <th>attacks</th>\n",
              "      <th>Sub_Type_Attack</th>\n",
              "      <th>Label</th>\n",
              "      <th>path_part_1</th>\n",
              "      <th>path_part_2</th>\n",
              "      <th>path_part_3</th>\n",
              "      <th>path_part_4</th>\n",
              "      <th>path_part_5</th>\n",
              "      <th>year</th>\n",
              "      <th>month</th>\n",
              "      <th>day</th>\n",
              "      <th>hour</th>\n",
              "      <th>minute</th>\n",
              "      <th>second</th>\n",
              "    </tr>\n",
              "  </thead>\n",
              "  <tbody>\n",
              "    <tr>\n",
              "      <th>0</th>\n",
              "      <td>2111.0</td>\n",
              "      <td>168.0</td>\n",
              "      <td>8441500.0</td>\n",
              "      <td>7.0</td>\n",
              "      <td>52.0</td>\n",
              "      <td>0.0</td>\n",
              "      <td>102.0</td>\n",
              "      <td>87.0</td>\n",
              "      <td>76.0</td>\n",
              "      <td>-1.0</td>\n",
              "      <td>-1.0</td>\n",
              "      <td>2016.0</td>\n",
              "      <td>3.0</td>\n",
              "      <td>11.0</td>\n",
              "      <td>16.0</td>\n",
              "      <td>25.0</td>\n",
              "      <td>47.0</td>\n",
              "    </tr>\n",
              "    <tr>\n",
              "      <th>1</th>\n",
              "      <td>2318.0</td>\n",
              "      <td>168.0</td>\n",
              "      <td>8441325.0</td>\n",
              "      <td>7.0</td>\n",
              "      <td>52.0</td>\n",
              "      <td>0.0</td>\n",
              "      <td>102.0</td>\n",
              "      <td>87.0</td>\n",
              "      <td>49.0</td>\n",
              "      <td>-1.0</td>\n",
              "      <td>-1.0</td>\n",
              "      <td>2016.0</td>\n",
              "      <td>3.0</td>\n",
              "      <td>11.0</td>\n",
              "      <td>16.0</td>\n",
              "      <td>25.0</td>\n",
              "      <td>47.0</td>\n",
              "    </tr>\n",
              "    <tr>\n",
              "      <th>2</th>\n",
              "      <td>4493.0</td>\n",
              "      <td>78.0</td>\n",
              "      <td>8440867.0</td>\n",
              "      <td>7.0</td>\n",
              "      <td>52.0</td>\n",
              "      <td>0.0</td>\n",
              "      <td>102.0</td>\n",
              "      <td>104.0</td>\n",
              "      <td>60.0</td>\n",
              "      <td>-1.0</td>\n",
              "      <td>-1.0</td>\n",
              "      <td>2016.0</td>\n",
              "      <td>3.0</td>\n",
              "      <td>11.0</td>\n",
              "      <td>16.0</td>\n",
              "      <td>25.0</td>\n",
              "      <td>49.0</td>\n",
              "    </tr>\n",
              "    <tr>\n",
              "      <th>3</th>\n",
              "      <td>4493.0</td>\n",
              "      <td>78.0</td>\n",
              "      <td>8440875.0</td>\n",
              "      <td>7.0</td>\n",
              "      <td>52.0</td>\n",
              "      <td>0.0</td>\n",
              "      <td>102.0</td>\n",
              "      <td>104.0</td>\n",
              "      <td>60.0</td>\n",
              "      <td>-1.0</td>\n",
              "      <td>-1.0</td>\n",
              "      <td>2016.0</td>\n",
              "      <td>3.0</td>\n",
              "      <td>11.0</td>\n",
              "      <td>16.0</td>\n",
              "      <td>25.0</td>\n",
              "      <td>49.0</td>\n",
              "    </tr>\n",
              "    <tr>\n",
              "      <th>4</th>\n",
              "      <td>4519.0</td>\n",
              "      <td>78.0</td>\n",
              "      <td>8440865.0</td>\n",
              "      <td>7.0</td>\n",
              "      <td>52.0</td>\n",
              "      <td>0.0</td>\n",
              "      <td>102.0</td>\n",
              "      <td>104.0</td>\n",
              "      <td>60.0</td>\n",
              "      <td>-1.0</td>\n",
              "      <td>-1.0</td>\n",
              "      <td>2016.0</td>\n",
              "      <td>3.0</td>\n",
              "      <td>11.0</td>\n",
              "      <td>16.0</td>\n",
              "      <td>25.0</td>\n",
              "      <td>49.0</td>\n",
              "    </tr>\n",
              "  </tbody>\n",
              "</table>\n",
              "</div>\n",
              "    <div class=\"colab-df-buttons\">\n",
              "\n",
              "  <div class=\"colab-df-container\">\n",
              "    <button class=\"colab-df-convert\" onclick=\"convertToInteractive('df-650d268a-4051-47b0-a679-23dd96b32bc9')\"\n",
              "            title=\"Convert this dataframe to an interactive table.\"\n",
              "            style=\"display:none;\">\n",
              "\n",
              "  <svg xmlns=\"http://www.w3.org/2000/svg\" height=\"24px\" viewBox=\"0 -960 960 960\">\n",
              "    <path d=\"M120-120v-720h720v720H120Zm60-500h600v-160H180v160Zm220 220h160v-160H400v160Zm0 220h160v-160H400v160ZM180-400h160v-160H180v160Zm440 0h160v-160H620v160ZM180-180h160v-160H180v160Zm440 0h160v-160H620v160Z\"/>\n",
              "  </svg>\n",
              "    </button>\n",
              "\n",
              "  <style>\n",
              "    .colab-df-container {\n",
              "      display:flex;\n",
              "      gap: 12px;\n",
              "    }\n",
              "\n",
              "    .colab-df-convert {\n",
              "      background-color: #E8F0FE;\n",
              "      border: none;\n",
              "      border-radius: 50%;\n",
              "      cursor: pointer;\n",
              "      display: none;\n",
              "      fill: #1967D2;\n",
              "      height: 32px;\n",
              "      padding: 0 0 0 0;\n",
              "      width: 32px;\n",
              "    }\n",
              "\n",
              "    .colab-df-convert:hover {\n",
              "      background-color: #E2EBFA;\n",
              "      box-shadow: 0px 1px 2px rgba(60, 64, 67, 0.3), 0px 1px 3px 1px rgba(60, 64, 67, 0.15);\n",
              "      fill: #174EA6;\n",
              "    }\n",
              "\n",
              "    .colab-df-buttons div {\n",
              "      margin-bottom: 4px;\n",
              "    }\n",
              "\n",
              "    [theme=dark] .colab-df-convert {\n",
              "      background-color: #3B4455;\n",
              "      fill: #D2E3FC;\n",
              "    }\n",
              "\n",
              "    [theme=dark] .colab-df-convert:hover {\n",
              "      background-color: #434B5C;\n",
              "      box-shadow: 0px 1px 3px 1px rgba(0, 0, 0, 0.15);\n",
              "      filter: drop-shadow(0px 1px 2px rgba(0, 0, 0, 0.3));\n",
              "      fill: #FFFFFF;\n",
              "    }\n",
              "  </style>\n",
              "\n",
              "    <script>\n",
              "      const buttonEl =\n",
              "        document.querySelector('#df-650d268a-4051-47b0-a679-23dd96b32bc9 button.colab-df-convert');\n",
              "      buttonEl.style.display =\n",
              "        google.colab.kernel.accessAllowed ? 'block' : 'none';\n",
              "\n",
              "      async function convertToInteractive(key) {\n",
              "        const element = document.querySelector('#df-650d268a-4051-47b0-a679-23dd96b32bc9');\n",
              "        const dataTable =\n",
              "          await google.colab.kernel.invokeFunction('convertToInteractive',\n",
              "                                                    [key], {});\n",
              "        if (!dataTable) return;\n",
              "\n",
              "        const docLinkHtml = 'Like what you see? Visit the ' +\n",
              "          '<a target=\"_blank\" href=https://colab.research.google.com/notebooks/data_table.ipynb>data table notebook</a>'\n",
              "          + ' to learn more about interactive tables.';\n",
              "        element.innerHTML = '';\n",
              "        dataTable['output_type'] = 'display_data';\n",
              "        await google.colab.output.renderOutput(dataTable, element);\n",
              "        const docLink = document.createElement('div');\n",
              "        docLink.innerHTML = docLinkHtml;\n",
              "        element.appendChild(docLink);\n",
              "      }\n",
              "    </script>\n",
              "  </div>\n",
              "\n",
              "\n",
              "<div id=\"df-f951e6e1-3d6a-4be5-a7f8-84525a447ae3\">\n",
              "  <button class=\"colab-df-quickchart\" onclick=\"quickchart('df-f951e6e1-3d6a-4be5-a7f8-84525a447ae3')\"\n",
              "            title=\"Suggest charts\"\n",
              "            style=\"display:none;\">\n",
              "\n",
              "<svg xmlns=\"http://www.w3.org/2000/svg\" height=\"24px\"viewBox=\"0 0 24 24\"\n",
              "     width=\"24px\">\n",
              "    <g>\n",
              "        <path d=\"M19 3H5c-1.1 0-2 .9-2 2v14c0 1.1.9 2 2 2h14c1.1 0 2-.9 2-2V5c0-1.1-.9-2-2-2zM9 17H7v-7h2v7zm4 0h-2V7h2v10zm4 0h-2v-4h2v4z\"/>\n",
              "    </g>\n",
              "</svg>\n",
              "  </button>\n",
              "\n",
              "<style>\n",
              "  .colab-df-quickchart {\n",
              "      --bg-color: #E8F0FE;\n",
              "      --fill-color: #1967D2;\n",
              "      --hover-bg-color: #E2EBFA;\n",
              "      --hover-fill-color: #174EA6;\n",
              "      --disabled-fill-color: #AAA;\n",
              "      --disabled-bg-color: #DDD;\n",
              "  }\n",
              "\n",
              "  [theme=dark] .colab-df-quickchart {\n",
              "      --bg-color: #3B4455;\n",
              "      --fill-color: #D2E3FC;\n",
              "      --hover-bg-color: #434B5C;\n",
              "      --hover-fill-color: #FFFFFF;\n",
              "      --disabled-bg-color: #3B4455;\n",
              "      --disabled-fill-color: #666;\n",
              "  }\n",
              "\n",
              "  .colab-df-quickchart {\n",
              "    background-color: var(--bg-color);\n",
              "    border: none;\n",
              "    border-radius: 50%;\n",
              "    cursor: pointer;\n",
              "    display: none;\n",
              "    fill: var(--fill-color);\n",
              "    height: 32px;\n",
              "    padding: 0;\n",
              "    width: 32px;\n",
              "  }\n",
              "\n",
              "  .colab-df-quickchart:hover {\n",
              "    background-color: var(--hover-bg-color);\n",
              "    box-shadow: 0 1px 2px rgba(60, 64, 67, 0.3), 0 1px 3px 1px rgba(60, 64, 67, 0.15);\n",
              "    fill: var(--button-hover-fill-color);\n",
              "  }\n",
              "\n",
              "  .colab-df-quickchart-complete:disabled,\n",
              "  .colab-df-quickchart-complete:disabled:hover {\n",
              "    background-color: var(--disabled-bg-color);\n",
              "    fill: var(--disabled-fill-color);\n",
              "    box-shadow: none;\n",
              "  }\n",
              "\n",
              "  .colab-df-spinner {\n",
              "    border: 2px solid var(--fill-color);\n",
              "    border-color: transparent;\n",
              "    border-bottom-color: var(--fill-color);\n",
              "    animation:\n",
              "      spin 1s steps(1) infinite;\n",
              "  }\n",
              "\n",
              "  @keyframes spin {\n",
              "    0% {\n",
              "      border-color: transparent;\n",
              "      border-bottom-color: var(--fill-color);\n",
              "      border-left-color: var(--fill-color);\n",
              "    }\n",
              "    20% {\n",
              "      border-color: transparent;\n",
              "      border-left-color: var(--fill-color);\n",
              "      border-top-color: var(--fill-color);\n",
              "    }\n",
              "    30% {\n",
              "      border-color: transparent;\n",
              "      border-left-color: var(--fill-color);\n",
              "      border-top-color: var(--fill-color);\n",
              "      border-right-color: var(--fill-color);\n",
              "    }\n",
              "    40% {\n",
              "      border-color: transparent;\n",
              "      border-right-color: var(--fill-color);\n",
              "      border-top-color: var(--fill-color);\n",
              "    }\n",
              "    60% {\n",
              "      border-color: transparent;\n",
              "      border-right-color: var(--fill-color);\n",
              "    }\n",
              "    80% {\n",
              "      border-color: transparent;\n",
              "      border-right-color: var(--fill-color);\n",
              "      border-bottom-color: var(--fill-color);\n",
              "    }\n",
              "    90% {\n",
              "      border-color: transparent;\n",
              "      border-bottom-color: var(--fill-color);\n",
              "    }\n",
              "  }\n",
              "</style>\n",
              "\n",
              "  <script>\n",
              "    async function quickchart(key) {\n",
              "      const quickchartButtonEl =\n",
              "        document.querySelector('#' + key + ' button');\n",
              "      quickchartButtonEl.disabled = true;  // To prevent multiple clicks.\n",
              "      quickchartButtonEl.classList.add('colab-df-spinner');\n",
              "      try {\n",
              "        const charts = await google.colab.kernel.invokeFunction(\n",
              "            'suggestCharts', [key], {});\n",
              "      } catch (error) {\n",
              "        console.error('Error during call to suggestCharts:', error);\n",
              "      }\n",
              "      quickchartButtonEl.classList.remove('colab-df-spinner');\n",
              "      quickchartButtonEl.classList.add('colab-df-quickchart-complete');\n",
              "    }\n",
              "    (() => {\n",
              "      let quickchartButtonEl =\n",
              "        document.querySelector('#df-f951e6e1-3d6a-4be5-a7f8-84525a447ae3 button');\n",
              "      quickchartButtonEl.style.display =\n",
              "        google.colab.kernel.accessAllowed ? 'block' : 'none';\n",
              "    })();\n",
              "  </script>\n",
              "</div>\n",
              "\n",
              "    </div>\n",
              "  </div>\n"
            ],
            "application/vnd.google.colaboratory.intrinsic+json": {
              "type": "dataframe",
              "variable_name": "df"
            }
          },
          "metadata": {},
          "execution_count": 19
        }
      ]
    },
    {
      "cell_type": "code",
      "source": [
        "df = pd.read_csv('/content/NGIDS/NGIDS-DS-v1/host logs/21_encoded.csv')\n",
        "df['Time'].value_counts() # Changed 'vaule_counts()' to 'value_counts()'"
      ],
      "metadata": {
        "colab": {
          "base_uri": "https://localhost:8080/",
          "height": 490
        },
        "id": "pL2jMyxxFubh",
        "outputId": "5289433e-a46a-4af5-a39a-0b4f187ee39e"
      },
      "execution_count": null,
      "outputs": [
        {
          "output_type": "execute_result",
          "data": {
            "text/plain": [
              "Time\n",
              "6:00:00    748\n",
              "5:46:00    622\n",
              "5:57:00    585\n",
              "5:48:00    551\n",
              "5:52:00    541\n",
              "          ... \n",
              "4:42:00      1\n",
              "4:24:15      1\n",
              "4:24:00      1\n",
              "5:31:07      1\n",
              "5:31:22      1\n",
              "Name: count, Length: 5291, dtype: int64"
            ],
            "text/html": [
              "<div>\n",
              "<style scoped>\n",
              "    .dataframe tbody tr th:only-of-type {\n",
              "        vertical-align: middle;\n",
              "    }\n",
              "\n",
              "    .dataframe tbody tr th {\n",
              "        vertical-align: top;\n",
              "    }\n",
              "\n",
              "    .dataframe thead th {\n",
              "        text-align: right;\n",
              "    }\n",
              "</style>\n",
              "<table border=\"1\" class=\"dataframe\">\n",
              "  <thead>\n",
              "    <tr style=\"text-align: right;\">\n",
              "      <th></th>\n",
              "      <th>count</th>\n",
              "    </tr>\n",
              "    <tr>\n",
              "      <th>Time</th>\n",
              "      <th></th>\n",
              "    </tr>\n",
              "  </thead>\n",
              "  <tbody>\n",
              "    <tr>\n",
              "      <th>6:00:00</th>\n",
              "      <td>748</td>\n",
              "    </tr>\n",
              "    <tr>\n",
              "      <th>5:46:00</th>\n",
              "      <td>622</td>\n",
              "    </tr>\n",
              "    <tr>\n",
              "      <th>5:57:00</th>\n",
              "      <td>585</td>\n",
              "    </tr>\n",
              "    <tr>\n",
              "      <th>5:48:00</th>\n",
              "      <td>551</td>\n",
              "    </tr>\n",
              "    <tr>\n",
              "      <th>5:52:00</th>\n",
              "      <td>541</td>\n",
              "    </tr>\n",
              "    <tr>\n",
              "      <th>...</th>\n",
              "      <td>...</td>\n",
              "    </tr>\n",
              "    <tr>\n",
              "      <th>4:42:00</th>\n",
              "      <td>1</td>\n",
              "    </tr>\n",
              "    <tr>\n",
              "      <th>4:24:15</th>\n",
              "      <td>1</td>\n",
              "    </tr>\n",
              "    <tr>\n",
              "      <th>4:24:00</th>\n",
              "      <td>1</td>\n",
              "    </tr>\n",
              "    <tr>\n",
              "      <th>5:31:07</th>\n",
              "      <td>1</td>\n",
              "    </tr>\n",
              "    <tr>\n",
              "      <th>5:31:22</th>\n",
              "      <td>1</td>\n",
              "    </tr>\n",
              "  </tbody>\n",
              "</table>\n",
              "<p>5291 rows × 1 columns</p>\n",
              "</div><br><label><b>dtype:</b> int64</label>"
            ]
          },
          "metadata": {},
          "execution_count": 22
        }
      ]
    },
    {
      "cell_type": "markdown",
      "source": [
        "#network\n",
        "\n",
        "\n"
      ],
      "metadata": {
        "id": "yP5t2mKKWsNg"
      }
    },
    {
      "cell_type": "code",
      "source": [
        "pip install scapy"
      ],
      "metadata": {
        "collapsed": true,
        "colab": {
          "base_uri": "https://localhost:8080/"
        },
        "id": "G4kD82xplN91",
        "outputId": "1b79c674-9fb5-4563-d4e8-4c0f88f014c6"
      },
      "execution_count": null,
      "outputs": [
        {
          "output_type": "stream",
          "name": "stdout",
          "text": [
            "Collecting scapy\n",
            "  Downloading scapy-2.6.1-py3-none-any.whl.metadata (5.6 kB)\n",
            "Downloading scapy-2.6.1-py3-none-any.whl (2.4 MB)\n",
            "\u001b[2K   \u001b[90m━━━━━━━━━━━━━━━━━━━━━━━━━━━━━━━━━━━━━━━━\u001b[0m \u001b[32m2.4/2.4 MB\u001b[0m \u001b[31m14.3 MB/s\u001b[0m eta \u001b[36m0:00:00\u001b[0m\n",
            "\u001b[?25hInstalling collected packages: scapy\n",
            "Successfully installed scapy-2.6.1\n"
          ]
        }
      ]
    },
    {
      "cell_type": "code",
      "source": [
        "import csv\n",
        "import json\n",
        "import os\n",
        "import re\n",
        "from tqdm import tqdm\n",
        "from scapy.all import PcapReader"
      ],
      "metadata": {
        "id": "7EZjcRDSWvNI",
        "collapsed": true
      },
      "execution_count": null,
      "outputs": []
    },
    {
      "cell_type": "code",
      "source": [
        "class NetworkPreprocessing:\n",
        "  def __init__(self):\n",
        "    pass\n",
        "\n",
        "\n",
        "  def extract_tcp_option(self, option, key):\n",
        "    for opt in option:\n",
        "      if opt[0] == key:\n",
        "        return opt[1]\n",
        "    return None\n",
        "\n",
        "\n",
        "  def delete_data(self, file_path):\n",
        "    df = pd.read_csv(file_path)\n",
        "    df = df.loc[:, df.nunique() > 1]\n",
        "    df.to_csv(file_path, index=False)\n",
        "    return f\"Columns containing only one value are deleted...\"\n",
        "\n",
        "  def convert_pcap_csv(self, pcap_file, csv_file):\n",
        "    try:\n",
        "      print(\"Countig packages...\")\n",
        "      with PcapReader(pcap_file) as count_reader:\n",
        "        total_packets = sum(1 for _ in count_reader)\n",
        "        print(f\"Total number of packages: {total_packets}\")\n",
        "\n",
        "      print(\"Start converting to csv file...\")\n",
        "      with PcapReader(pcap_file) as packets:\n",
        "        with open(csv_file, mode='w', newline=\"\") as file:\n",
        "          writer = csv.writer(file)\n",
        "          writer.writerow([\n",
        "              \"Packet Number\", \"Ethernet DST\", \"Ethernet SRC\", \"Ethernet Type\",\n",
        "              \"IP Version\", \"IP IHL\", \"IP TOS\", \"IP Length\", \"IP ID\", \"IP Flags\",\n",
        "              \"IP Fragmentation\", \"IP TTL\", \"IP Proto\", \"IP Checksum\",\n",
        "              \"IP Src\", \"IP Dst\", \"TCP Src Port\", \"TCP Dst Port\", \"TCP Seq\",\n",
        "              \"TCP Ack\", \"TCP Data Offset\", \"TCP Reserved\", \"TCP Flags\",\n",
        "              \"TCP Window\", \"TCP Checksum\", \"TCP Urgent Pointer\", \"TCP Options MSS\",\n",
        "              \"TCP Options WScale\", \"TCP Options NOP\",\"Hexdump\"\n",
        "          ])\n",
        "\n",
        "          for i, packet in enumerate(tqdm(packets,total=total_packets, desc=\"Packet processing\")):\n",
        "            if packet.haslayer('Ethernet'):\n",
        "              eth_dst = packet['Ethernet'].dst\n",
        "              eth_src = packet['Ethernet'].src\n",
        "              eth_type = packet['Ethernet'].type\n",
        "            else:\n",
        "              eth_dst = eth_src = eth_type = None\n",
        "\n",
        "            if packet.haslayer('IP'):\n",
        "              ip_version = packet['IP'].version\n",
        "              ip_ihl = packet['IP'].ihl\n",
        "              ip_tos = packet['IP'].tos\n",
        "              ip_len = packet['IP'].len\n",
        "              ip_id = packet['IP'].id\n",
        "              ip_flags = packet['IP'].flags\n",
        "              ip_frag = packet['IP'].frag\n",
        "              ip_ttl = packet['IP'].ttl\n",
        "              ip_proto = packet['IP'].proto\n",
        "              ip_chksum = packet['IP'].chksum\n",
        "              ip_src = packet['IP'].src\n",
        "              ip_dst = packet['IP'].dst\n",
        "            else:\n",
        "              ip_version = ip_ihl = ip_tos = ip_len = ip_id = ip_flags = ip_frag = ip_ttl = ip_proto = ip_chksum = ip_src = ip_dst = None\n",
        "\n",
        "            if packet.haslayer('TCP'):\n",
        "              tcp_sport = packet['TCP'].sport\n",
        "              tcp_dport = packet['TCP'].dport\n",
        "              tcp_seq = packet['TCP'].seq\n",
        "              tcp_ack = packet['TCP'].ack\n",
        "              tcp_dataofs = packet['TCP'].dataofs\n",
        "              tcp_reserved = packet['TCP'].reserved\n",
        "              tcp_flags = packet['TCP'].flags\n",
        "              tcp_window = packet['TCP'].window\n",
        "              tcp_chksum = packet['TCP'].chksum\n",
        "              tcp_urgptr = packet['TCP'].urgptr\n",
        "              tcp_options = packet['TCP'].options\n",
        "\n",
        "              tcp_mss = self.extract_tcp_option(tcp_options, 'MSS')\n",
        "              tcp_wscale = self.extract_tcp_option(tcp_options, 'WScale')\n",
        "              tcp_nop_count = self.extract_tcp_option(tcp_options, 'NOP')\n",
        "\n",
        "            else:\n",
        "              tcp_sport = tcp_dport = tcp_seq = tcp_ack = tcp_dataofs = tcp_reserved = tcp_flags = tcp_window = tcp_chksum = tcp_urgptr = tcp_mss = tcp_wscale = tcp_nop_count = None\n",
        "\n",
        "            raw_data = packet.original.hex()\n",
        "            writer.writerow([\n",
        "                i + 1, eth_dst, eth_src, eth_type,\n",
        "                  ip_version, ip_ihl, ip_tos, ip_len, ip_id, ip_flags,\n",
        "                  ip_frag, ip_ttl, ip_proto, ip_chksum,\n",
        "                  ip_src, ip_dst, tcp_sport, tcp_dport, tcp_seq,\n",
        "                  tcp_ack, tcp_dataofs, tcp_reserved, tcp_flags,\n",
        "                  tcp_window, tcp_chksum, tcp_urgptr, tcp_mss, tcp_wscale, tcp_nop_count,\n",
        "                  raw_data\n",
        "            ])\n",
        "\n",
        "      return f\"The file has been converted to csv successfully.\"\n",
        "    except Exception as e:\n",
        "      return f\"An error occurred: {e}\"\n",
        "\n",
        "a = NetworkPreprocessing()\n",
        "#a.convert_pcap_csv(pcap_file='/content/NGIDS/NGIDS-DS-v1/NGIDS.pcap',\n",
        "#                   csv_file='/content/drive/MyDrive/hybrid_IDS/network.csv')\n",
        "#a.delete_data(file_path='/content/drive/MyDrive/hybrid_IDS/network.csv')"
      ],
      "metadata": {
        "colab": {
          "base_uri": "https://localhost:8080/",
          "height": 35
        },
        "id": "bJW0krgnXThk",
        "outputId": "c6ab4c5e-07c8-46cd-a10f-263ed88555ff"
      },
      "execution_count": null,
      "outputs": [
        {
          "output_type": "execute_result",
          "data": {
            "text/plain": [
              "'Columns containing only one value are deleted...'"
            ],
            "application/vnd.google.colaboratory.intrinsic+json": {
              "type": "string"
            }
          },
          "metadata": {},
          "execution_count": 28
        }
      ]
    },
    {
      "cell_type": "code",
      "source": [
        "class PcapFileProcessing:\n",
        "  def __init__(self) -> None:\n",
        "    pass\n",
        "\n",
        "\n",
        "\n",
        "  def delete_data(self, file_path):\n",
        "    df = pd.read_csv(file_path)\n",
        "    df = df.loc[:, df.nunique() > 1]\n",
        "    df.to_csv(file_path, index=False)\n",
        "    return f\"Columns containing only one value are deleted...\"\n",
        "\n",
        "\n",
        "  def date_time_columns(self, file_path, csv_file):\n",
        "    try:\n",
        "        df = pd.read_csv(file_path, dtype=str)\n",
        "        df.columns = df.columns.str.strip()\n",
        "        if 'timestamp' not in df.columns:\n",
        "            return \"Error: The 'timestamp' column is missing from the file.\"\n",
        "\n",
        "        df['timestamp'] = df['timestamp'].astype(str).str.strip()\n",
        "\n",
        "        df['timestamp'] = pd.to_datetime(df['timestamp'], errors='coerce', dayfirst=True)\n",
        "\n",
        "        if df['timestamp'].isnull().all():\n",
        "            return \"All values in 'timestamp' are invalid and could not be converted.\"\n",
        "\n",
        "        # Extract date and time\n",
        "        df['date'] = df['timestamp'].dt.strftime('%d/%m/%Y')\n",
        "        df['time'] = df['timestamp'].dt.strftime('%H:%M:%S')\n",
        "\n",
        "        # Save the result\n",
        "        df.to_csv(csv_file, index=False)\n",
        "\n",
        "        return \"Successfully converted 'timestamp' to 'date' and 'time'.\"\n",
        "\n",
        "    except Exception as e:\n",
        "        return f\"An error occurred during conversion: {e}\"\n",
        "\n",
        "\n",
        "\n",
        "\n",
        "\n",
        "  def convert_log_csv(self, log_file, csv_file):\n",
        "    try:\n",
        "      print(\"Start converting to csv file...\")\n",
        "      with open(log_file, \"r\") as logfile:\n",
        "        log_data = logfile.read()\n",
        "      pattern = re.compile(\n",
        "          r'(?P<timestamp>\\d{2}/\\d{2}/\\d{4}-\\d{2}:\\d{2}:\\d{2}\\.\\d+)\\s+\\[\\*\\*\\]\\s+\\[(?P<sid>[^]]+)\\]\\s+(?P<signature>.*?)\\s+\\[\\*\\*\\]\\s+\\[Classification:\\s+(?P<classification>.*?)\\]\\s+\\[Priority:\\s+(?P<priority>\\d+)\\]\\s+\\{(?P<protocol>\\w+)\\}\\s+(?P<src_ip>\\d+\\.\\d+\\.\\d+\\.\\d+):(?P<src_port>\\d+)\\s+->\\s+(?P<dst_ip>\\d+\\.\\d+\\.\\d+\\.\\d+):(?P<dst_port>\\d+)'\n",
        "          )\n",
        "      with open(csv_file, \"w\", newline=\"\") as csvfile:\n",
        "        fieldnames = ['timestamp', 'sid', 'signature', 'classification',\n",
        "                      'priority', 'protocol','src_ip', 'src_port', 'dst_ip', 'dst_port']\n",
        "        writer = csv.DictWriter(csvfile, fieldnames=fieldnames)\n",
        "        writer.writeheader()\n",
        "\n",
        "        for match in pattern.finditer(log_data):\n",
        "          writer.writerow(match.groupdict())\n",
        "\n",
        "      return f\"The file has been converted to csv successfully.\"\n",
        "\n",
        "    except Exception as e:\n",
        "      return f\"An error occurred: {e}\"\n",
        "\n",
        "\n",
        "  def convert_json_csv(self, json_file, csv_file):\n",
        "    try:\n",
        "      print(\"Start converting JSON to CSV...\")\n",
        "      with open(json_file, 'r') as f:\n",
        "        data = [json.loads(line) for line in f if line.strip()]\n",
        "\n",
        "      fieldnames = set()\n",
        "      for row in data:\n",
        "          fieldnames.update(row.keys())\n",
        "\n",
        "      fieldnames = list(fieldnames)\n",
        "\n",
        "      with open(csv_file, 'w', newline='') as csvfile:\n",
        "        writer = csv.writer(csvfile)\n",
        "        writer.writerow(fieldnames)\n",
        "\n",
        "        for row in data:\n",
        "          writer.writerow(row.get(field, '') for field in fieldnames)\n",
        "\n",
        "      return f\"The file has been converted to csv successfully.\"\n",
        "\n",
        "    except Exception as e:\n",
        "      return f\"An error occurred: {e}\"\n",
        "\n",
        "\n",
        "\n",
        "a = PcapFileProcessing()\n",
        "#a.convert_log_csv( log_file=\"/content/drive/MyDrive/hybrid_IDS/fast.log\",\n",
        "#                  csv_file=\"/content/drive/MyDrive/hybrid_IDS/alerts.csv\")\n",
        "\n",
        "#a.convert_json_csv(json_file='/content/drive/MyDrive/hybrid_IDS/eve.json',\n",
        "#                   csv_file='/content/drive/MyDrive/hybrid_IDS/eve.csv')\n",
        "\n",
        "#a.delete_data( file_path='/content/drive/MyDrive/hybrid_IDS/eve.csv')\n",
        "a.date_time_columns(file_path='/content/drive/MyDrive/hybrid_IDS/eve.csv',\n",
        "                    csv_file='/content/drive/MyDrive/hybrid_IDS/dataset/eve.csv')"
      ],
      "metadata": {
        "colab": {
          "base_uri": "https://localhost:8080/",
          "height": 35
        },
        "id": "s_LHnGmW20vr",
        "outputId": "9b5a8e67-06a8-4cbb-af83-2173bbed7543"
      },
      "execution_count": null,
      "outputs": [
        {
          "output_type": "execute_result",
          "data": {
            "text/plain": [
              "'تم تحويل timestamp بنجاح إلى date و time.'"
            ],
            "application/vnd.google.colaboratory.intrinsic+json": {
              "type": "string"
            }
          },
          "metadata": {},
          "execution_count": 39
        }
      ]
    }
  ]
}