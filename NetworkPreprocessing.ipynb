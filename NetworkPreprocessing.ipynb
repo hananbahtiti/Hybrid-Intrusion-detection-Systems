{
  "cells": [
    {
      "cell_type": "markdown",
      "metadata": {
        "id": "view-in-github",
        "colab_type": "text"
      },
      "source": [
        "<a href=\"https://colab.research.google.com/github/hananbahtiti/Hybrid-Intrusion-detection-Systems/blob/main/NetworkPreprocessing.ipynb\" target=\"_parent\"><img src=\"https://colab.research.google.com/assets/colab-badge.svg\" alt=\"Open In Colab\"/></a>"
      ]
    },
    {
      "cell_type": "code",
      "execution_count": null,
      "metadata": {
        "collapsed": true,
        "id": "NFX9RSeDfiVY",
        "outputId": "046d4fa0-837e-4861-e747-0b2dbf8dc3d0",
        "colab": {
          "base_uri": "https://localhost:8080/"
        }
      },
      "outputs": [
        {
          "output_type": "stream",
          "name": "stdout",
          "text": [
            "Collecting scapy\n",
            "  Downloading scapy-2.6.1-py3-none-any.whl.metadata (5.6 kB)\n",
            "Downloading scapy-2.6.1-py3-none-any.whl (2.4 MB)\n",
            "\u001b[2K   \u001b[90m━━━━━━━━━━━━━━━━━━━━━━━━━━━━━━━━━━━━━━━━\u001b[0m \u001b[32m2.4/2.4 MB\u001b[0m \u001b[31m22.1 MB/s\u001b[0m eta \u001b[36m0:00:00\u001b[0m\n",
            "\u001b[?25hInstalling collected packages: scapy\n",
            "Successfully installed scapy-2.6.1\n"
          ]
        }
      ],
      "source": [
        "!pip install scapy"
      ]
    },
    {
      "cell_type": "code",
      "source": [
        "!cp /content/eve_tag.csv /content/drive/MyDrive/hybrid_IDS/dataset/"
      ],
      "metadata": {
        "id": "LBZjWIJjDPvx"
      },
      "execution_count": null,
      "outputs": []
    },
    {
      "cell_type": "code",
      "execution_count": 88,
      "metadata": {
        "colab": {
          "base_uri": "https://localhost:8080/",
          "height": 580
        },
        "id": "NSXj-h-NqUET",
        "outputId": "3fd8a06e-c3d4-4cc6-ae6b-27aabd2a6d7f",
        "collapsed": true
      },
      "outputs": [
        {
          "output_type": "stream",
          "name": "stdout",
          "text": [
            "<class 'pandas.core.frame.DataFrame'>\n",
            "RangeIndex: 286150 entries, 0 to 286149\n",
            "Data columns (total 17 columns):\n",
            " #   Column          Non-Null Count   Dtype  \n",
            "---  ------          --------------   -----  \n",
            " 0   proto           286148 non-null  object \n",
            " 1   event_type      286150 non-null  object \n",
            " 2   flow_id         286048 non-null  float64\n",
            " 3   Date            286150 non-null  int64  \n",
            " 4   hour            137399 non-null  float64\n",
            " 5   minute          137399 non-null  float64\n",
            " 6   second          137399 non-null  float64\n",
            " 7   pkts_toclient   284361 non-null  float64\n",
            " 8   bytes_toserver  284361 non-null  float64\n",
            " 9   bytes_toclient  284361 non-null  float64\n",
            " 10  tcp_flags       270253 non-null  float64\n",
            " 11  alerted         279361 non-null  object \n",
            " 12  age             279361 non-null  float64\n",
            " 13  reason          279361 non-null  object \n",
            " 14  pkts_toserver   284361 non-null  float64\n",
            " 15  tcp_flags_ts    270253 non-null  float64\n",
            " 16  state           279361 non-null  object \n",
            "dtypes: float64(11), int64(1), object(5)\n",
            "memory usage: 37.1+ MB\n"
          ]
        },
        {
          "output_type": "execute_result",
          "data": {
            "text/plain": [
              "  proto event_type       flow_id  Date  hour  minute  second  pkts_toclient  \\\n",
              "0   TCP      alert           NaN     0  17.0    49.0    10.0            NaN   \n",
              "1   TCP      alert  2.558362e+14     0  17.0    49.0    44.0            0.0   \n",
              "2   TCP      alert  2.558362e+14     0  17.0    49.0    44.0            0.0   \n",
              "\n",
              "   bytes_toserver  bytes_toclient  tcp_flags alerted  age reason  \\\n",
              "0             NaN             NaN        NaN     NaN  NaN    NaN   \n",
              "1            62.0             0.0        NaN     NaN  NaN    NaN   \n",
              "2            62.0             0.0        NaN     NaN  NaN    NaN   \n",
              "\n",
              "   pkts_toserver  tcp_flags_ts state  \n",
              "0            NaN           NaN   NaN  \n",
              "1            1.0           NaN   NaN  \n",
              "2            1.0           NaN   NaN  "
            ],
            "text/html": [
              "\n",
              "  <div id=\"df-4637f769-c994-4dde-812c-98d2d51ab16d\" class=\"colab-df-container\">\n",
              "    <div>\n",
              "<style scoped>\n",
              "    .dataframe tbody tr th:only-of-type {\n",
              "        vertical-align: middle;\n",
              "    }\n",
              "\n",
              "    .dataframe tbody tr th {\n",
              "        vertical-align: top;\n",
              "    }\n",
              "\n",
              "    .dataframe thead th {\n",
              "        text-align: right;\n",
              "    }\n",
              "</style>\n",
              "<table border=\"1\" class=\"dataframe\">\n",
              "  <thead>\n",
              "    <tr style=\"text-align: right;\">\n",
              "      <th></th>\n",
              "      <th>proto</th>\n",
              "      <th>event_type</th>\n",
              "      <th>flow_id</th>\n",
              "      <th>Date</th>\n",
              "      <th>hour</th>\n",
              "      <th>minute</th>\n",
              "      <th>second</th>\n",
              "      <th>pkts_toclient</th>\n",
              "      <th>bytes_toserver</th>\n",
              "      <th>bytes_toclient</th>\n",
              "      <th>tcp_flags</th>\n",
              "      <th>alerted</th>\n",
              "      <th>age</th>\n",
              "      <th>reason</th>\n",
              "      <th>pkts_toserver</th>\n",
              "      <th>tcp_flags_ts</th>\n",
              "      <th>state</th>\n",
              "    </tr>\n",
              "  </thead>\n",
              "  <tbody>\n",
              "    <tr>\n",
              "      <th>0</th>\n",
              "      <td>TCP</td>\n",
              "      <td>alert</td>\n",
              "      <td>NaN</td>\n",
              "      <td>0</td>\n",
              "      <td>17.0</td>\n",
              "      <td>49.0</td>\n",
              "      <td>10.0</td>\n",
              "      <td>NaN</td>\n",
              "      <td>NaN</td>\n",
              "      <td>NaN</td>\n",
              "      <td>NaN</td>\n",
              "      <td>NaN</td>\n",
              "      <td>NaN</td>\n",
              "      <td>NaN</td>\n",
              "      <td>NaN</td>\n",
              "      <td>NaN</td>\n",
              "      <td>NaN</td>\n",
              "    </tr>\n",
              "    <tr>\n",
              "      <th>1</th>\n",
              "      <td>TCP</td>\n",
              "      <td>alert</td>\n",
              "      <td>2.558362e+14</td>\n",
              "      <td>0</td>\n",
              "      <td>17.0</td>\n",
              "      <td>49.0</td>\n",
              "      <td>44.0</td>\n",
              "      <td>0.0</td>\n",
              "      <td>62.0</td>\n",
              "      <td>0.0</td>\n",
              "      <td>NaN</td>\n",
              "      <td>NaN</td>\n",
              "      <td>NaN</td>\n",
              "      <td>NaN</td>\n",
              "      <td>1.0</td>\n",
              "      <td>NaN</td>\n",
              "      <td>NaN</td>\n",
              "    </tr>\n",
              "    <tr>\n",
              "      <th>2</th>\n",
              "      <td>TCP</td>\n",
              "      <td>alert</td>\n",
              "      <td>2.558362e+14</td>\n",
              "      <td>0</td>\n",
              "      <td>17.0</td>\n",
              "      <td>49.0</td>\n",
              "      <td>44.0</td>\n",
              "      <td>0.0</td>\n",
              "      <td>62.0</td>\n",
              "      <td>0.0</td>\n",
              "      <td>NaN</td>\n",
              "      <td>NaN</td>\n",
              "      <td>NaN</td>\n",
              "      <td>NaN</td>\n",
              "      <td>1.0</td>\n",
              "      <td>NaN</td>\n",
              "      <td>NaN</td>\n",
              "    </tr>\n",
              "  </tbody>\n",
              "</table>\n",
              "</div>\n",
              "    <div class=\"colab-df-buttons\">\n",
              "\n",
              "  <div class=\"colab-df-container\">\n",
              "    <button class=\"colab-df-convert\" onclick=\"convertToInteractive('df-4637f769-c994-4dde-812c-98d2d51ab16d')\"\n",
              "            title=\"Convert this dataframe to an interactive table.\"\n",
              "            style=\"display:none;\">\n",
              "\n",
              "  <svg xmlns=\"http://www.w3.org/2000/svg\" height=\"24px\" viewBox=\"0 -960 960 960\">\n",
              "    <path d=\"M120-120v-720h720v720H120Zm60-500h600v-160H180v160Zm220 220h160v-160H400v160Zm0 220h160v-160H400v160ZM180-400h160v-160H180v160Zm440 0h160v-160H620v160ZM180-180h160v-160H180v160Zm440 0h160v-160H620v160Z\"/>\n",
              "  </svg>\n",
              "    </button>\n",
              "\n",
              "  <style>\n",
              "    .colab-df-container {\n",
              "      display:flex;\n",
              "      gap: 12px;\n",
              "    }\n",
              "\n",
              "    .colab-df-convert {\n",
              "      background-color: #E8F0FE;\n",
              "      border: none;\n",
              "      border-radius: 50%;\n",
              "      cursor: pointer;\n",
              "      display: none;\n",
              "      fill: #1967D2;\n",
              "      height: 32px;\n",
              "      padding: 0 0 0 0;\n",
              "      width: 32px;\n",
              "    }\n",
              "\n",
              "    .colab-df-convert:hover {\n",
              "      background-color: #E2EBFA;\n",
              "      box-shadow: 0px 1px 2px rgba(60, 64, 67, 0.3), 0px 1px 3px 1px rgba(60, 64, 67, 0.15);\n",
              "      fill: #174EA6;\n",
              "    }\n",
              "\n",
              "    .colab-df-buttons div {\n",
              "      margin-bottom: 4px;\n",
              "    }\n",
              "\n",
              "    [theme=dark] .colab-df-convert {\n",
              "      background-color: #3B4455;\n",
              "      fill: #D2E3FC;\n",
              "    }\n",
              "\n",
              "    [theme=dark] .colab-df-convert:hover {\n",
              "      background-color: #434B5C;\n",
              "      box-shadow: 0px 1px 3px 1px rgba(0, 0, 0, 0.15);\n",
              "      filter: drop-shadow(0px 1px 2px rgba(0, 0, 0, 0.3));\n",
              "      fill: #FFFFFF;\n",
              "    }\n",
              "  </style>\n",
              "\n",
              "    <script>\n",
              "      const buttonEl =\n",
              "        document.querySelector('#df-4637f769-c994-4dde-812c-98d2d51ab16d button.colab-df-convert');\n",
              "      buttonEl.style.display =\n",
              "        google.colab.kernel.accessAllowed ? 'block' : 'none';\n",
              "\n",
              "      async function convertToInteractive(key) {\n",
              "        const element = document.querySelector('#df-4637f769-c994-4dde-812c-98d2d51ab16d');\n",
              "        const dataTable =\n",
              "          await google.colab.kernel.invokeFunction('convertToInteractive',\n",
              "                                                    [key], {});\n",
              "        if (!dataTable) return;\n",
              "\n",
              "        const docLinkHtml = 'Like what you see? Visit the ' +\n",
              "          '<a target=\"_blank\" href=https://colab.research.google.com/notebooks/data_table.ipynb>data table notebook</a>'\n",
              "          + ' to learn more about interactive tables.';\n",
              "        element.innerHTML = '';\n",
              "        dataTable['output_type'] = 'display_data';\n",
              "        await google.colab.output.renderOutput(dataTable, element);\n",
              "        const docLink = document.createElement('div');\n",
              "        docLink.innerHTML = docLinkHtml;\n",
              "        element.appendChild(docLink);\n",
              "      }\n",
              "    </script>\n",
              "  </div>\n",
              "\n",
              "\n",
              "    <div id=\"df-9f5770b9-8f0b-413a-a07f-8cd17e135712\">\n",
              "      <button class=\"colab-df-quickchart\" onclick=\"quickchart('df-9f5770b9-8f0b-413a-a07f-8cd17e135712')\"\n",
              "                title=\"Suggest charts\"\n",
              "                style=\"display:none;\">\n",
              "\n",
              "<svg xmlns=\"http://www.w3.org/2000/svg\" height=\"24px\"viewBox=\"0 0 24 24\"\n",
              "     width=\"24px\">\n",
              "    <g>\n",
              "        <path d=\"M19 3H5c-1.1 0-2 .9-2 2v14c0 1.1.9 2 2 2h14c1.1 0 2-.9 2-2V5c0-1.1-.9-2-2-2zM9 17H7v-7h2v7zm4 0h-2V7h2v10zm4 0h-2v-4h2v4z\"/>\n",
              "    </g>\n",
              "</svg>\n",
              "      </button>\n",
              "\n",
              "<style>\n",
              "  .colab-df-quickchart {\n",
              "      --bg-color: #E8F0FE;\n",
              "      --fill-color: #1967D2;\n",
              "      --hover-bg-color: #E2EBFA;\n",
              "      --hover-fill-color: #174EA6;\n",
              "      --disabled-fill-color: #AAA;\n",
              "      --disabled-bg-color: #DDD;\n",
              "  }\n",
              "\n",
              "  [theme=dark] .colab-df-quickchart {\n",
              "      --bg-color: #3B4455;\n",
              "      --fill-color: #D2E3FC;\n",
              "      --hover-bg-color: #434B5C;\n",
              "      --hover-fill-color: #FFFFFF;\n",
              "      --disabled-bg-color: #3B4455;\n",
              "      --disabled-fill-color: #666;\n",
              "  }\n",
              "\n",
              "  .colab-df-quickchart {\n",
              "    background-color: var(--bg-color);\n",
              "    border: none;\n",
              "    border-radius: 50%;\n",
              "    cursor: pointer;\n",
              "    display: none;\n",
              "    fill: var(--fill-color);\n",
              "    height: 32px;\n",
              "    padding: 0;\n",
              "    width: 32px;\n",
              "  }\n",
              "\n",
              "  .colab-df-quickchart:hover {\n",
              "    background-color: var(--hover-bg-color);\n",
              "    box-shadow: 0 1px 2px rgba(60, 64, 67, 0.3), 0 1px 3px 1px rgba(60, 64, 67, 0.15);\n",
              "    fill: var(--button-hover-fill-color);\n",
              "  }\n",
              "\n",
              "  .colab-df-quickchart-complete:disabled,\n",
              "  .colab-df-quickchart-complete:disabled:hover {\n",
              "    background-color: var(--disabled-bg-color);\n",
              "    fill: var(--disabled-fill-color);\n",
              "    box-shadow: none;\n",
              "  }\n",
              "\n",
              "  .colab-df-spinner {\n",
              "    border: 2px solid var(--fill-color);\n",
              "    border-color: transparent;\n",
              "    border-bottom-color: var(--fill-color);\n",
              "    animation:\n",
              "      spin 1s steps(1) infinite;\n",
              "  }\n",
              "\n",
              "  @keyframes spin {\n",
              "    0% {\n",
              "      border-color: transparent;\n",
              "      border-bottom-color: var(--fill-color);\n",
              "      border-left-color: var(--fill-color);\n",
              "    }\n",
              "    20% {\n",
              "      border-color: transparent;\n",
              "      border-left-color: var(--fill-color);\n",
              "      border-top-color: var(--fill-color);\n",
              "    }\n",
              "    30% {\n",
              "      border-color: transparent;\n",
              "      border-left-color: var(--fill-color);\n",
              "      border-top-color: var(--fill-color);\n",
              "      border-right-color: var(--fill-color);\n",
              "    }\n",
              "    40% {\n",
              "      border-color: transparent;\n",
              "      border-right-color: var(--fill-color);\n",
              "      border-top-color: var(--fill-color);\n",
              "    }\n",
              "    60% {\n",
              "      border-color: transparent;\n",
              "      border-right-color: var(--fill-color);\n",
              "    }\n",
              "    80% {\n",
              "      border-color: transparent;\n",
              "      border-right-color: var(--fill-color);\n",
              "      border-bottom-color: var(--fill-color);\n",
              "    }\n",
              "    90% {\n",
              "      border-color: transparent;\n",
              "      border-bottom-color: var(--fill-color);\n",
              "    }\n",
              "  }\n",
              "</style>\n",
              "\n",
              "      <script>\n",
              "        async function quickchart(key) {\n",
              "          const quickchartButtonEl =\n",
              "            document.querySelector('#' + key + ' button');\n",
              "          quickchartButtonEl.disabled = true;  // To prevent multiple clicks.\n",
              "          quickchartButtonEl.classList.add('colab-df-spinner');\n",
              "          try {\n",
              "            const charts = await google.colab.kernel.invokeFunction(\n",
              "                'suggestCharts', [key], {});\n",
              "          } catch (error) {\n",
              "            console.error('Error during call to suggestCharts:', error);\n",
              "          }\n",
              "          quickchartButtonEl.classList.remove('colab-df-spinner');\n",
              "          quickchartButtonEl.classList.add('colab-df-quickchart-complete');\n",
              "        }\n",
              "        (() => {\n",
              "          let quickchartButtonEl =\n",
              "            document.querySelector('#df-9f5770b9-8f0b-413a-a07f-8cd17e135712 button');\n",
              "          quickchartButtonEl.style.display =\n",
              "            google.colab.kernel.accessAllowed ? 'block' : 'none';\n",
              "        })();\n",
              "      </script>\n",
              "    </div>\n",
              "\n",
              "    </div>\n",
              "  </div>\n"
            ],
            "application/vnd.google.colaboratory.intrinsic+json": {
              "type": "dataframe",
              "repr_error": "Out of range float values are not JSON compliant: nan"
            }
          },
          "metadata": {},
          "execution_count": 88
        }
      ],
      "source": [
        "df = pd.read_csv('/content/eve.csv')\n",
        "df.info()\n",
        "df.head(3)\n",
        "#df['alert'].value_counts()"
      ]
    },
    {
      "cell_type": "code",
      "execution_count": 77,
      "metadata": {
        "colab": {
          "base_uri": "https://localhost:8080/",
          "height": 730
        },
        "id": "zFbcrLXbhOSk",
        "outputId": "5774c794-cecb-452d-d9b8-8c6e161c6e40",
        "collapsed": true
      },
      "outputs": [
        {
          "output_type": "stream",
          "name": "stdout",
          "text": [
            "<class 'pandas.core.frame.DataFrame'>\n",
            "RangeIndex: 286150 entries, 0 to 286149\n",
            "Data columns (total 19 columns):\n",
            " #   Column          Non-Null Count   Dtype  \n",
            "---  ------          --------------   -----  \n",
            " 0   proto           286148 non-null  object \n",
            " 1   event_type      286150 non-null  object \n",
            " 2   flow_id         286048 non-null  float64\n",
            " 3   Date            286150 non-null  int64  \n",
            " 4   hour            137399 non-null  float64\n",
            " 5   minute          137399 non-null  float64\n",
            " 6   second          137399 non-null  float64\n",
            " 7   pkts_toclient   284361 non-null  float64\n",
            " 8   end             279361 non-null  object \n",
            " 9   bytes_toserver  284361 non-null  float64\n",
            " 10  bytes_toclient  284361 non-null  float64\n",
            " 11  tcp_flags       270253 non-null  float64\n",
            " 12  alerted         279361 non-null  object \n",
            " 13  start           284361 non-null  object \n",
            " 14  age             279361 non-null  float64\n",
            " 15  reason          279361 non-null  object \n",
            " 16  pkts_toserver   284361 non-null  float64\n",
            " 17  tcp_flags_ts    270253 non-null  float64\n",
            " 18  state           279361 non-null  object \n",
            "dtypes: float64(11), int64(1), object(7)\n",
            "memory usage: 41.5+ MB\n"
          ]
        },
        {
          "output_type": "execute_result",
          "data": {
            "text/plain": [
              "  proto event_type       flow_id  Date  hour  minute  second  pkts_toclient  \\\n",
              "0   TCP      alert           NaN     0  17.0    49.0    10.0            NaN   \n",
              "1   TCP      alert  2.558362e+14     0  17.0    49.0    44.0            0.0   \n",
              "2   TCP      alert  2.558362e+14     0  17.0    49.0    44.0            0.0   \n",
              "3   UDP       tftp  5.620575e+13     0  17.0    49.0    36.0            NaN   \n",
              "4   TCP       flow  8.582737e+14     0  17.0    48.0    59.0            0.0   \n",
              "\n",
              "                               end  bytes_toserver  bytes_toclient  tcp_flags  \\\n",
              "0                              NaN             NaN             NaN        NaN   \n",
              "1                              NaN            62.0             0.0        NaN   \n",
              "2                              NaN            62.0             0.0        NaN   \n",
              "3                              NaN             NaN             NaN        NaN   \n",
              "4  2016-03-10T17:49:15.789656+0200            60.0             0.0        0.0   \n",
              "\n",
              "  alerted                            start  age   reason  pkts_toserver  \\\n",
              "0     NaN                              NaN  NaN      NaN            NaN   \n",
              "1     NaN  2016-03-10T17:49:44.321710+0200  NaN      NaN            1.0   \n",
              "2     NaN  2016-03-10T17:49:44.321710+0200  NaN      NaN            1.0   \n",
              "3     NaN                              NaN  NaN      NaN            NaN   \n",
              "4   False  2016-03-10T17:49:15.789656+0200  0.0  timeout            1.0   \n",
              "\n",
              "   tcp_flags_ts state  \n",
              "0           NaN   NaN  \n",
              "1           NaN   NaN  \n",
              "2           NaN   NaN  \n",
              "3           NaN   NaN  \n",
              "4           0.0   new  "
            ],
            "text/html": [
              "\n",
              "  <div id=\"df-57b95306-5102-49a1-ad33-b3fa4eabcc9d\" class=\"colab-df-container\">\n",
              "    <div>\n",
              "<style scoped>\n",
              "    .dataframe tbody tr th:only-of-type {\n",
              "        vertical-align: middle;\n",
              "    }\n",
              "\n",
              "    .dataframe tbody tr th {\n",
              "        vertical-align: top;\n",
              "    }\n",
              "\n",
              "    .dataframe thead th {\n",
              "        text-align: right;\n",
              "    }\n",
              "</style>\n",
              "<table border=\"1\" class=\"dataframe\">\n",
              "  <thead>\n",
              "    <tr style=\"text-align: right;\">\n",
              "      <th></th>\n",
              "      <th>proto</th>\n",
              "      <th>event_type</th>\n",
              "      <th>flow_id</th>\n",
              "      <th>Date</th>\n",
              "      <th>hour</th>\n",
              "      <th>minute</th>\n",
              "      <th>second</th>\n",
              "      <th>pkts_toclient</th>\n",
              "      <th>end</th>\n",
              "      <th>bytes_toserver</th>\n",
              "      <th>bytes_toclient</th>\n",
              "      <th>tcp_flags</th>\n",
              "      <th>alerted</th>\n",
              "      <th>start</th>\n",
              "      <th>age</th>\n",
              "      <th>reason</th>\n",
              "      <th>pkts_toserver</th>\n",
              "      <th>tcp_flags_ts</th>\n",
              "      <th>state</th>\n",
              "    </tr>\n",
              "  </thead>\n",
              "  <tbody>\n",
              "    <tr>\n",
              "      <th>0</th>\n",
              "      <td>TCP</td>\n",
              "      <td>alert</td>\n",
              "      <td>NaN</td>\n",
              "      <td>0</td>\n",
              "      <td>17.0</td>\n",
              "      <td>49.0</td>\n",
              "      <td>10.0</td>\n",
              "      <td>NaN</td>\n",
              "      <td>NaN</td>\n",
              "      <td>NaN</td>\n",
              "      <td>NaN</td>\n",
              "      <td>NaN</td>\n",
              "      <td>NaN</td>\n",
              "      <td>NaN</td>\n",
              "      <td>NaN</td>\n",
              "      <td>NaN</td>\n",
              "      <td>NaN</td>\n",
              "      <td>NaN</td>\n",
              "      <td>NaN</td>\n",
              "    </tr>\n",
              "    <tr>\n",
              "      <th>1</th>\n",
              "      <td>TCP</td>\n",
              "      <td>alert</td>\n",
              "      <td>2.558362e+14</td>\n",
              "      <td>0</td>\n",
              "      <td>17.0</td>\n",
              "      <td>49.0</td>\n",
              "      <td>44.0</td>\n",
              "      <td>0.0</td>\n",
              "      <td>NaN</td>\n",
              "      <td>62.0</td>\n",
              "      <td>0.0</td>\n",
              "      <td>NaN</td>\n",
              "      <td>NaN</td>\n",
              "      <td>2016-03-10T17:49:44.321710+0200</td>\n",
              "      <td>NaN</td>\n",
              "      <td>NaN</td>\n",
              "      <td>1.0</td>\n",
              "      <td>NaN</td>\n",
              "      <td>NaN</td>\n",
              "    </tr>\n",
              "    <tr>\n",
              "      <th>2</th>\n",
              "      <td>TCP</td>\n",
              "      <td>alert</td>\n",
              "      <td>2.558362e+14</td>\n",
              "      <td>0</td>\n",
              "      <td>17.0</td>\n",
              "      <td>49.0</td>\n",
              "      <td>44.0</td>\n",
              "      <td>0.0</td>\n",
              "      <td>NaN</td>\n",
              "      <td>62.0</td>\n",
              "      <td>0.0</td>\n",
              "      <td>NaN</td>\n",
              "      <td>NaN</td>\n",
              "      <td>2016-03-10T17:49:44.321710+0200</td>\n",
              "      <td>NaN</td>\n",
              "      <td>NaN</td>\n",
              "      <td>1.0</td>\n",
              "      <td>NaN</td>\n",
              "      <td>NaN</td>\n",
              "    </tr>\n",
              "    <tr>\n",
              "      <th>3</th>\n",
              "      <td>UDP</td>\n",
              "      <td>tftp</td>\n",
              "      <td>5.620575e+13</td>\n",
              "      <td>0</td>\n",
              "      <td>17.0</td>\n",
              "      <td>49.0</td>\n",
              "      <td>36.0</td>\n",
              "      <td>NaN</td>\n",
              "      <td>NaN</td>\n",
              "      <td>NaN</td>\n",
              "      <td>NaN</td>\n",
              "      <td>NaN</td>\n",
              "      <td>NaN</td>\n",
              "      <td>NaN</td>\n",
              "      <td>NaN</td>\n",
              "      <td>NaN</td>\n",
              "      <td>NaN</td>\n",
              "      <td>NaN</td>\n",
              "      <td>NaN</td>\n",
              "    </tr>\n",
              "    <tr>\n",
              "      <th>4</th>\n",
              "      <td>TCP</td>\n",
              "      <td>flow</td>\n",
              "      <td>8.582737e+14</td>\n",
              "      <td>0</td>\n",
              "      <td>17.0</td>\n",
              "      <td>48.0</td>\n",
              "      <td>59.0</td>\n",
              "      <td>0.0</td>\n",
              "      <td>2016-03-10T17:49:15.789656+0200</td>\n",
              "      <td>60.0</td>\n",
              "      <td>0.0</td>\n",
              "      <td>0.0</td>\n",
              "      <td>False</td>\n",
              "      <td>2016-03-10T17:49:15.789656+0200</td>\n",
              "      <td>0.0</td>\n",
              "      <td>timeout</td>\n",
              "      <td>1.0</td>\n",
              "      <td>0.0</td>\n",
              "      <td>new</td>\n",
              "    </tr>\n",
              "  </tbody>\n",
              "</table>\n",
              "</div>\n",
              "    <div class=\"colab-df-buttons\">\n",
              "\n",
              "  <div class=\"colab-df-container\">\n",
              "    <button class=\"colab-df-convert\" onclick=\"convertToInteractive('df-57b95306-5102-49a1-ad33-b3fa4eabcc9d')\"\n",
              "            title=\"Convert this dataframe to an interactive table.\"\n",
              "            style=\"display:none;\">\n",
              "\n",
              "  <svg xmlns=\"http://www.w3.org/2000/svg\" height=\"24px\" viewBox=\"0 -960 960 960\">\n",
              "    <path d=\"M120-120v-720h720v720H120Zm60-500h600v-160H180v160Zm220 220h160v-160H400v160Zm0 220h160v-160H400v160ZM180-400h160v-160H180v160Zm440 0h160v-160H620v160ZM180-180h160v-160H180v160Zm440 0h160v-160H620v160Z\"/>\n",
              "  </svg>\n",
              "    </button>\n",
              "\n",
              "  <style>\n",
              "    .colab-df-container {\n",
              "      display:flex;\n",
              "      gap: 12px;\n",
              "    }\n",
              "\n",
              "    .colab-df-convert {\n",
              "      background-color: #E8F0FE;\n",
              "      border: none;\n",
              "      border-radius: 50%;\n",
              "      cursor: pointer;\n",
              "      display: none;\n",
              "      fill: #1967D2;\n",
              "      height: 32px;\n",
              "      padding: 0 0 0 0;\n",
              "      width: 32px;\n",
              "    }\n",
              "\n",
              "    .colab-df-convert:hover {\n",
              "      background-color: #E2EBFA;\n",
              "      box-shadow: 0px 1px 2px rgba(60, 64, 67, 0.3), 0px 1px 3px 1px rgba(60, 64, 67, 0.15);\n",
              "      fill: #174EA6;\n",
              "    }\n",
              "\n",
              "    .colab-df-buttons div {\n",
              "      margin-bottom: 4px;\n",
              "    }\n",
              "\n",
              "    [theme=dark] .colab-df-convert {\n",
              "      background-color: #3B4455;\n",
              "      fill: #D2E3FC;\n",
              "    }\n",
              "\n",
              "    [theme=dark] .colab-df-convert:hover {\n",
              "      background-color: #434B5C;\n",
              "      box-shadow: 0px 1px 3px 1px rgba(0, 0, 0, 0.15);\n",
              "      filter: drop-shadow(0px 1px 2px rgba(0, 0, 0, 0.3));\n",
              "      fill: #FFFFFF;\n",
              "    }\n",
              "  </style>\n",
              "\n",
              "    <script>\n",
              "      const buttonEl =\n",
              "        document.querySelector('#df-57b95306-5102-49a1-ad33-b3fa4eabcc9d button.colab-df-convert');\n",
              "      buttonEl.style.display =\n",
              "        google.colab.kernel.accessAllowed ? 'block' : 'none';\n",
              "\n",
              "      async function convertToInteractive(key) {\n",
              "        const element = document.querySelector('#df-57b95306-5102-49a1-ad33-b3fa4eabcc9d');\n",
              "        const dataTable =\n",
              "          await google.colab.kernel.invokeFunction('convertToInteractive',\n",
              "                                                    [key], {});\n",
              "        if (!dataTable) return;\n",
              "\n",
              "        const docLinkHtml = 'Like what you see? Visit the ' +\n",
              "          '<a target=\"_blank\" href=https://colab.research.google.com/notebooks/data_table.ipynb>data table notebook</a>'\n",
              "          + ' to learn more about interactive tables.';\n",
              "        element.innerHTML = '';\n",
              "        dataTable['output_type'] = 'display_data';\n",
              "        await google.colab.output.renderOutput(dataTable, element);\n",
              "        const docLink = document.createElement('div');\n",
              "        docLink.innerHTML = docLinkHtml;\n",
              "        element.appendChild(docLink);\n",
              "      }\n",
              "    </script>\n",
              "  </div>\n",
              "\n",
              "\n",
              "    <div id=\"df-9f2334dd-2bf2-4f2a-a316-9a654c93d22d\">\n",
              "      <button class=\"colab-df-quickchart\" onclick=\"quickchart('df-9f2334dd-2bf2-4f2a-a316-9a654c93d22d')\"\n",
              "                title=\"Suggest charts\"\n",
              "                style=\"display:none;\">\n",
              "\n",
              "<svg xmlns=\"http://www.w3.org/2000/svg\" height=\"24px\"viewBox=\"0 0 24 24\"\n",
              "     width=\"24px\">\n",
              "    <g>\n",
              "        <path d=\"M19 3H5c-1.1 0-2 .9-2 2v14c0 1.1.9 2 2 2h14c1.1 0 2-.9 2-2V5c0-1.1-.9-2-2-2zM9 17H7v-7h2v7zm4 0h-2V7h2v10zm4 0h-2v-4h2v4z\"/>\n",
              "    </g>\n",
              "</svg>\n",
              "      </button>\n",
              "\n",
              "<style>\n",
              "  .colab-df-quickchart {\n",
              "      --bg-color: #E8F0FE;\n",
              "      --fill-color: #1967D2;\n",
              "      --hover-bg-color: #E2EBFA;\n",
              "      --hover-fill-color: #174EA6;\n",
              "      --disabled-fill-color: #AAA;\n",
              "      --disabled-bg-color: #DDD;\n",
              "  }\n",
              "\n",
              "  [theme=dark] .colab-df-quickchart {\n",
              "      --bg-color: #3B4455;\n",
              "      --fill-color: #D2E3FC;\n",
              "      --hover-bg-color: #434B5C;\n",
              "      --hover-fill-color: #FFFFFF;\n",
              "      --disabled-bg-color: #3B4455;\n",
              "      --disabled-fill-color: #666;\n",
              "  }\n",
              "\n",
              "  .colab-df-quickchart {\n",
              "    background-color: var(--bg-color);\n",
              "    border: none;\n",
              "    border-radius: 50%;\n",
              "    cursor: pointer;\n",
              "    display: none;\n",
              "    fill: var(--fill-color);\n",
              "    height: 32px;\n",
              "    padding: 0;\n",
              "    width: 32px;\n",
              "  }\n",
              "\n",
              "  .colab-df-quickchart:hover {\n",
              "    background-color: var(--hover-bg-color);\n",
              "    box-shadow: 0 1px 2px rgba(60, 64, 67, 0.3), 0 1px 3px 1px rgba(60, 64, 67, 0.15);\n",
              "    fill: var(--button-hover-fill-color);\n",
              "  }\n",
              "\n",
              "  .colab-df-quickchart-complete:disabled,\n",
              "  .colab-df-quickchart-complete:disabled:hover {\n",
              "    background-color: var(--disabled-bg-color);\n",
              "    fill: var(--disabled-fill-color);\n",
              "    box-shadow: none;\n",
              "  }\n",
              "\n",
              "  .colab-df-spinner {\n",
              "    border: 2px solid var(--fill-color);\n",
              "    border-color: transparent;\n",
              "    border-bottom-color: var(--fill-color);\n",
              "    animation:\n",
              "      spin 1s steps(1) infinite;\n",
              "  }\n",
              "\n",
              "  @keyframes spin {\n",
              "    0% {\n",
              "      border-color: transparent;\n",
              "      border-bottom-color: var(--fill-color);\n",
              "      border-left-color: var(--fill-color);\n",
              "    }\n",
              "    20% {\n",
              "      border-color: transparent;\n",
              "      border-left-color: var(--fill-color);\n",
              "      border-top-color: var(--fill-color);\n",
              "    }\n",
              "    30% {\n",
              "      border-color: transparent;\n",
              "      border-left-color: var(--fill-color);\n",
              "      border-top-color: var(--fill-color);\n",
              "      border-right-color: var(--fill-color);\n",
              "    }\n",
              "    40% {\n",
              "      border-color: transparent;\n",
              "      border-right-color: var(--fill-color);\n",
              "      border-top-color: var(--fill-color);\n",
              "    }\n",
              "    60% {\n",
              "      border-color: transparent;\n",
              "      border-right-color: var(--fill-color);\n",
              "    }\n",
              "    80% {\n",
              "      border-color: transparent;\n",
              "      border-right-color: var(--fill-color);\n",
              "      border-bottom-color: var(--fill-color);\n",
              "    }\n",
              "    90% {\n",
              "      border-color: transparent;\n",
              "      border-bottom-color: var(--fill-color);\n",
              "    }\n",
              "  }\n",
              "</style>\n",
              "\n",
              "      <script>\n",
              "        async function quickchart(key) {\n",
              "          const quickchartButtonEl =\n",
              "            document.querySelector('#' + key + ' button');\n",
              "          quickchartButtonEl.disabled = true;  // To prevent multiple clicks.\n",
              "          quickchartButtonEl.classList.add('colab-df-spinner');\n",
              "          try {\n",
              "            const charts = await google.colab.kernel.invokeFunction(\n",
              "                'suggestCharts', [key], {});\n",
              "          } catch (error) {\n",
              "            console.error('Error during call to suggestCharts:', error);\n",
              "          }\n",
              "          quickchartButtonEl.classList.remove('colab-df-spinner');\n",
              "          quickchartButtonEl.classList.add('colab-df-quickchart-complete');\n",
              "        }\n",
              "        (() => {\n",
              "          let quickchartButtonEl =\n",
              "            document.querySelector('#df-9f2334dd-2bf2-4f2a-a316-9a654c93d22d button');\n",
              "          quickchartButtonEl.style.display =\n",
              "            google.colab.kernel.accessAllowed ? 'block' : 'none';\n",
              "        })();\n",
              "      </script>\n",
              "    </div>\n",
              "\n",
              "    </div>\n",
              "  </div>\n"
            ],
            "application/vnd.google.colaboratory.intrinsic+json": {
              "type": "dataframe",
              "variable_name": "df"
            }
          },
          "metadata": {},
          "execution_count": 77
        }
      ],
      "source": [
        "df = pd.read_csv('/content/eve_tag_no_constant.csv')\n",
        "df.info()\n",
        "df.head()"
      ]
    },
    {
      "cell_type": "code",
      "execution_count": null,
      "metadata": {
        "id": "ZCP9zxIaglIA"
      },
      "outputs": [],
      "source": [
        "import pandas as pd\n",
        "import numpy as np\n",
        "import os\n",
        "import glob\n",
        "import math\n",
        "import ast\n",
        "from tqdm import tqdm\n",
        "from sklearn.preprocessing import LabelEncoder"
      ]
    },
    {
      "cell_type": "code",
      "source": [
        "try:\n",
        "    from tqdm import tqdm\n",
        "    TQDM_AVAILABLE = True\n",
        "except ImportError:\n",
        "    TQDM_AVAILABLE = False"
      ],
      "metadata": {
        "id": "xqC3EGR9hY_k"
      },
      "execution_count": null,
      "outputs": []
    },
    {
      "cell_type": "code",
      "execution_count": null,
      "metadata": {
        "colab": {
          "base_uri": "https://localhost:8080/"
        },
        "id": "aK3sW0cEkbB_",
        "outputId": "d61faeb5-ff55-4f99-af8c-c1816b1f2c84",
        "collapsed": true
      },
      "outputs": [
        {
          "output_type": "stream",
          "name": "stderr",
          "text": [
            "  0%|          | 65/286150 [00:00<13:15, 359.59it/s]"
          ]
        },
        {
          "output_type": "stream",
          "name": "stdout",
          "text": [
            "Encoding proto...\rEncoding proto...\rEncoding proto...\rEncoding proto...\rEncoding proto...\rEncoding proto...\rEncoding proto...\rEncoding proto...\rEncoding proto...\rEncoding proto...\rEncoding proto...\rEncoding proto...\rEncoding proto...\rEncoding proto...\rEncoding proto...\rEncoding proto...\rEncoding proto...\rEncoding proto...\rEncoding proto...\rEncoding proto...\rEncoding proto...\rEncoding proto...\rEncoding proto...\rEncoding proto...\rEncoding proto...\rEncoding proto...\rEncoding proto...\rEncoding proto...\rEncoding proto...\rEncoding proto...\rEncoding proto...\rEncoding proto...\rEncoding proto...\rEncoding proto...\rEncoding proto...\rEncoding proto...\rEncoding proto...\rEncoding proto...\rEncoding proto...\rEncoding proto...\rEncoding proto...\rEncoding proto...\rEncoding proto...\rEncoding proto...\rEncoding proto...\rEncoding proto...\rEncoding proto...\rEncoding proto...\rEncoding proto...\rEncoding proto...\rEncoding proto...\rEncoding proto...\rEncoding proto...\rEncoding proto...\rEncoding proto...\rEncoding proto...\rEncoding proto...\rEncoding proto...\rEncoding proto...\rEncoding proto...\rEncoding proto...\rEncoding proto...\rEncoding proto...\rEncoding proto...\rEncoding proto...\r"
          ]
        },
        {
          "output_type": "stream",
          "name": "stderr",
          "text": []
        },
        {
          "output_type": "stream",
          "name": "stdout",
          "text": [
            "Encoding proto...\rEncoding proto...\rEncoding proto...\rEncoding proto...\rEncoding proto...\rEncoding proto...\rEncoding proto...\rEncoding proto...\rEncoding proto...\rEncoding proto...\rEncoding proto...\rEncoding proto...\rEncoding proto...\rEncoding proto...\rEncoding proto...\rEncoding proto...\rEncoding proto...\rEncoding proto...\rEncoding proto...\rEncoding proto...\rEncoding proto...\rEncoding proto...\rEncoding proto...\rEncoding proto...\rEncoding proto...\rEncoding proto...\rEncoding proto...\rEncoding proto...\rEncoding proto...\rEncoding proto...\rEncoding proto...\rEncoding proto...\rEncoding proto...\rEncoding proto...\rEncoding proto...\rEncoding proto...\rEncoding proto...\rEncoding proto...\rEncoding proto...\rEncoding proto...\rEncoding proto...\rEncoding proto...\rEncoding proto...\rEncoding proto...\rEncoding proto...\rEncoding proto...\rEncoding proto...\rEncoding proto...\rEncoding proto...\rEncoding proto...\rEncoding proto...\rEncoding proto...\rEncoding proto...\rEncoding proto...\rEncoding proto...\rEncoding proto...\rEncoding proto...\rEncoding proto...\rEncoding proto...\rEncoding proto...\rEncoding proto...\rEncoding proto...\rEncoding proto...\rEncoding proto...\rEncoding proto...\rEncoding proto...\rEncoding proto...\r"
          ]
        },
        {
          "output_type": "stream",
          "name": "stderr",
          "text": []
        },
        {
          "output_type": "stream",
          "name": "stdout",
          "text": [
            "Encoding proto...\rEncoding proto...\rEncoding proto...\rEncoding proto...\rEncoding proto...\rEncoding proto...\rEncoding proto...\rEncoding proto...\rEncoding proto...\rEncoding proto...\rEncoding proto...\rEncoding proto...\rEncoding proto...\rEncoding proto...\rEncoding proto...\rEncoding proto...\rEncoding proto...\rEncoding proto...\rEncoding proto...\rEncoding proto...\rEncoding proto...\rEncoding proto...\rEncoding proto...\rEncoding proto...\rEncoding proto...\rEncoding proto...\rEncoding proto...\rEncoding proto...\rEncoding proto...\rEncoding proto...\rEncoding proto...\rEncoding proto...\rEncoding proto...\rEncoding proto...\rEncoding proto...\rEncoding proto...\rEncoding proto...\rEncoding proto...\rEncoding proto...\rEncoding proto...\rEncoding proto...\rEncoding proto...\rEncoding proto...\rEncoding proto...\rEncoding proto...\rEncoding proto...\rEncoding proto...\rEncoding proto...\rEncoding proto...\rEncoding proto...\rEncoding proto...\rEncoding proto...\rEncoding proto...\rEncoding proto...\rEncoding proto...\rEncoding proto...\rEncoding proto...\rEncoding proto...\rEncoding proto...\rEncoding proto...\rEncoding proto...\rEncoding proto...\rEncoding proto...\rEncoding proto...\rEncoding proto...\rEncoding proto...\rEncoding proto...\rEncoding proto...\rEncoding proto...\rEncoding proto...\rEncoding proto...\rEncoding proto...\rEncoding proto...\rEncoding proto...\rEncoding proto...\rEncoding proto...\rEncoding proto...\rEncoding proto...\rEncoding proto...\rEncoding proto...\rEncoding proto...\r"
          ]
        },
        {
          "output_type": "stream",
          "name": "stderr",
          "text": [
            "  0%|          | 295/286150 [00:00<12:11, 390.62it/s]"
          ]
        },
        {
          "output_type": "stream",
          "name": "stdout",
          "text": [
            "Encoding proto...\rEncoding proto...\rEncoding proto...\rEncoding proto...\rEncoding proto...\rEncoding proto...\rEncoding proto...\rEncoding proto...\rEncoding proto...\rEncoding proto...\rEncoding proto...\rEncoding proto...\rEncoding proto...\rEncoding proto...\rEncoding proto...\rEncoding proto...\rEncoding proto...\rEncoding proto...\rEncoding proto...\rEncoding proto...\rEncoding proto...\rEncoding proto...\rEncoding proto...\rEncoding proto...\rEncoding proto...\rEncoding proto...\rEncoding proto...\rEncoding proto...\rEncoding proto...\rEncoding proto...\rEncoding proto...\rEncoding proto...\rEncoding proto...\rEncoding proto...\rEncoding proto...\rEncoding proto...\rEncoding proto...\rEncoding proto...\rEncoding proto...\rEncoding proto...\rEncoding proto...\rEncoding proto...\rEncoding proto...\rEncoding proto...\rEncoding proto...\rEncoding proto...\rEncoding proto...\rEncoding proto...\rEncoding proto...\rEncoding proto...\rEncoding proto...\rEncoding proto...\rEncoding proto...\rEncoding proto...\rEncoding proto...\rEncoding proto...\rEncoding proto...\rEncoding proto...\rEncoding proto...\rEncoding proto...\rEncoding proto...\rEncoding proto...\rEncoding proto...\rEncoding proto...\rEncoding proto...\rEncoding proto...\rEncoding proto...\rEncoding proto...\rEncoding proto...\rEncoding proto...\rEncoding proto...\rEncoding proto...\rEncoding proto...\rEncoding proto...\rEncoding proto...\rEncoding proto...\rEncoding proto...\rEncoding proto...\rEncoding proto...\rEncoding proto...\rEncoding proto...\rEncoding proto...\r"
          ]
        },
        {
          "output_type": "stream",
          "name": "stderr",
          "text": [
            "  0%|          | 378/286150 [00:01<11:58, 397.75it/s]"
          ]
        },
        {
          "output_type": "stream",
          "name": "stdout",
          "text": [
            "Encoding proto...\rEncoding proto...\rEncoding proto...\rEncoding proto...\rEncoding proto...\rEncoding proto...\rEncoding proto...\rEncoding proto...\rEncoding proto...\rEncoding proto...\rEncoding proto...\rEncoding proto...\rEncoding proto...\rEncoding proto...\rEncoding proto...\rEncoding proto...\rEncoding proto...\rEncoding proto...\rEncoding proto...\rEncoding proto...\rEncoding proto...\rEncoding proto...\rEncoding proto...\rEncoding proto...\rEncoding proto...\rEncoding proto...\rEncoding proto...\rEncoding proto...\rEncoding proto...\rEncoding proto...\rEncoding proto...\rEncoding proto...\rEncoding proto...\rEncoding proto...\rEncoding proto...\rEncoding proto...\rEncoding proto...\rEncoding proto...\rEncoding proto...\rEncoding proto...\rEncoding proto...\rEncoding proto...\rEncoding proto...\rEncoding proto...\rEncoding proto...\rEncoding proto...\rEncoding proto...\rEncoding proto...\rEncoding proto...\rEncoding proto...\rEncoding proto...\rEncoding proto...\rEncoding proto...\rEncoding proto...\rEncoding proto...\rEncoding proto...\rEncoding proto...\rEncoding proto...\rEncoding proto...\rEncoding proto...\rEncoding proto...\rEncoding proto...\rEncoding proto...\rEncoding proto...\rEncoding proto...\rEncoding proto...\rEncoding proto...\rEncoding proto...\rEncoding proto...\rEncoding proto...\rEncoding proto...\rEncoding proto...\rEncoding proto...\rEncoding proto...\rEncoding proto...\rEncoding proto...\rEncoding proto...\rEncoding proto...\rEncoding proto...\rEncoding proto...\rEncoding proto...\rEncoding proto...\rEncoding proto...\r"
          ]
        },
        {
          "output_type": "stream",
          "name": "stderr",
          "text": [
            "                                                     "
          ]
        },
        {
          "output_type": "stream",
          "name": "stdout",
          "text": [
            "Encoding proto...\rEncoding proto...\rEncoding proto...\rEncoding proto...\rEncoding proto...\rEncoding proto...\rEncoding proto...\rEncoding proto...\rEncoding proto...\rEncoding proto...\rEncoding proto...\rEncoding proto...\rEncoding proto...\rEncoding proto...\rEncoding proto...\rEncoding proto...\rEncoding proto...\rEncoding proto...\rEncoding proto...\rEncoding proto...\rEncoding proto...\rEncoding proto...\rEncoding proto...\rEncoding proto...\rEncoding proto...\rEncoding proto...\rEncoding proto...\rEncoding proto...\rEncoding proto...\rEncoding proto...\rEncoding proto...\rEncoding proto...\rEncoding proto...\rEncoding proto...\rEncoding proto...\rEncoding proto...\rEncoding proto...\rEncoding proto...\rEncoding proto...\rEncoding proto...\rEncoding proto...\rEncoding proto...\rEncoding proto...\rEncoding proto...\rEncoding proto...\rEncoding proto...\rEncoding proto...\rEncoding proto...\rEncoding proto...\rEncoding proto...\rEncoding proto...\rEncoding proto...\rEncoding proto...\rEncoding proto...\rEncoding proto...\rEncoding proto...\rEncoding proto...\rEncoding proto...\rEncoding proto...\rEncoding proto...\rEncoding proto...\rEncoding proto...\rEncoding proto...\rEncoding proto...\rEncoding proto...\rEncoding proto...\rEncoding proto...\rEncoding proto...\rEncoding proto...\rEncoding proto...\rEncoding proto...\rEncoding proto...\rEncoding proto...\rEncoding proto...\rEncoding proto...\rEncoding proto...\rEncoding proto...\rEncoding proto...\rEncoding proto...\rEncoding proto...\rEncoding proto...\rEncoding proto...\rEncoding proto...\rEncoding proto...\rEncoding proto...\rEncoding proto...\rEncoding proto...\rEncoding proto...\r"
          ]
        },
        {
          "output_type": "stream",
          "name": "stderr",
          "text": [
            "  0%|          | 555/286150 [00:01<11:09, 426.72it/s]"
          ]
        },
        {
          "output_type": "stream",
          "name": "stdout",
          "text": [
            "Encoding proto...\rEncoding proto...\rEncoding proto...\rEncoding proto...\rEncoding proto...\rEncoding proto...\rEncoding proto...\rEncoding proto...\rEncoding proto...\rEncoding proto...\rEncoding proto...\rEncoding proto...\rEncoding proto...\rEncoding proto...\rEncoding proto...\rEncoding proto...\rEncoding proto...\rEncoding proto...\rEncoding proto...\rEncoding proto...\rEncoding proto...\rEncoding proto...\rEncoding proto...\rEncoding proto...\rEncoding proto...\rEncoding proto...\rEncoding proto...\rEncoding proto...\rEncoding proto...\rEncoding proto...\rEncoding proto...\rEncoding proto...\rEncoding proto...\rEncoding proto...\rEncoding proto...\rEncoding proto...\rEncoding proto...\rEncoding proto...\rEncoding proto...\rEncoding proto...\rEncoding proto...\rEncoding proto...\rEncoding proto...\rEncoding proto...\rEncoding proto...\rEncoding proto...\rEncoding proto...\rEncoding proto...\rEncoding proto...\rEncoding proto...\rEncoding proto...\rEncoding proto...\rEncoding proto...\rEncoding proto...\rEncoding proto...\rEncoding proto...\rEncoding proto...\rEncoding proto...\rEncoding proto...\rEncoding proto...\rEncoding proto...\rEncoding proto...\rEncoding proto...\rEncoding proto...\rEncoding proto...\rEncoding proto...\rEncoding proto...\rEncoding proto...\rEncoding proto...\rEncoding proto...\rEncoding proto...\rEncoding proto...\rEncoding proto...\rEncoding proto...\rEncoding proto...\rEncoding proto...\rEncoding proto...\rEncoding proto...\rEncoding proto...\rEncoding proto...\rEncoding proto...\rEncoding proto...\rEncoding proto...\rEncoding proto...\rEncoding proto...\rEncoding proto...\rEncoding proto...\rEncoding proto...\rEncoding proto...\r"
          ]
        },
        {
          "output_type": "stream",
          "name": "stderr",
          "text": [
            "  0%|          | 643/286150 [00:01<10:58, 433.36it/s]"
          ]
        },
        {
          "output_type": "stream",
          "name": "stdout",
          "text": [
            "Encoding proto...\rEncoding proto...\rEncoding proto...\rEncoding proto...\rEncoding proto...\rEncoding proto...\rEncoding proto...\rEncoding proto...\rEncoding proto...\rEncoding proto...\rEncoding proto...\rEncoding proto...\rEncoding proto...\rEncoding proto...\rEncoding proto...\rEncoding proto...\rEncoding proto...\rEncoding proto...\rEncoding proto...\rEncoding proto...\rEncoding proto...\rEncoding proto...\rEncoding proto...\rEncoding proto...\rEncoding proto...\rEncoding proto...\rEncoding proto...\rEncoding proto...\rEncoding proto...\rEncoding proto...\rEncoding proto...\rEncoding proto...\rEncoding proto...\rEncoding proto...\rEncoding proto...\rEncoding proto...\rEncoding proto...\rEncoding proto...\rEncoding proto...\rEncoding proto...\rEncoding proto...\rEncoding proto...\rEncoding proto...\rEncoding proto...\rEncoding proto...\rEncoding proto...\rEncoding proto...\rEncoding proto...\rEncoding proto...\rEncoding proto...\rEncoding proto...\rEncoding proto...\rEncoding proto...\rEncoding proto...\rEncoding proto...\rEncoding proto...\rEncoding proto...\rEncoding proto...\rEncoding proto...\rEncoding proto...\rEncoding proto...\rEncoding proto...\rEncoding proto...\rEncoding proto...\rEncoding proto...\rEncoding proto...\rEncoding proto...\rEncoding proto...\rEncoding proto...\rEncoding proto...\rEncoding proto...\rEncoding proto...\rEncoding proto...\rEncoding proto...\rEncoding proto...\rEncoding proto...\rEncoding proto...\rEncoding proto...\rEncoding proto...\rEncoding proto...\rEncoding proto...\rEncoding proto...\rEncoding proto...\rEncoding proto...\rEncoding proto...\rEncoding proto...\rEncoding proto...\rEncoding proto...\r"
          ]
        },
        {
          "output_type": "stream",
          "name": "stderr",
          "text": [
            "  0%|          | 726/286150 [00:01<11:17, 421.44it/s]"
          ]
        },
        {
          "output_type": "stream",
          "name": "stdout",
          "text": [
            "Encoding proto...\rEncoding proto...\rEncoding proto...\rEncoding proto...\rEncoding proto...\rEncoding proto...\rEncoding proto...\rEncoding proto...\rEncoding proto...\rEncoding proto...\rEncoding proto...\rEncoding proto...\rEncoding proto...\rEncoding proto...\rEncoding proto...\rEncoding proto...\rEncoding proto...\rEncoding proto...\rEncoding proto...\rEncoding proto...\rEncoding proto...\rEncoding proto...\rEncoding proto...\rEncoding proto...\rEncoding proto...\rEncoding proto...\rEncoding proto...\rEncoding proto...\rEncoding proto...\rEncoding proto...\rEncoding proto...\rEncoding proto...\rEncoding proto...\rEncoding proto...\rEncoding proto...\rEncoding proto...\rEncoding proto...\rEncoding proto...\rEncoding proto...\rEncoding proto...\rEncoding proto...\rEncoding proto...\rEncoding proto...\rEncoding proto...\rEncoding proto...\rEncoding proto...\rEncoding proto...\rEncoding proto...\rEncoding proto...\rEncoding proto...\rEncoding proto...\rEncoding proto...\rEncoding proto...\rEncoding proto...\rEncoding proto...\rEncoding proto...\rEncoding proto...\rEncoding proto...\rEncoding proto...\rEncoding proto...\rEncoding proto...\rEncoding proto...\rEncoding proto...\rEncoding proto...\rEncoding proto...\rEncoding proto...\rEncoding proto...\rEncoding proto...\rEncoding proto...\rEncoding proto...\rEncoding proto...\rEncoding proto...\rEncoding proto...\rEncoding proto...\rEncoding proto...\rEncoding proto...\rEncoding proto...\rEncoding proto...\rEncoding proto...\rEncoding proto...\rEncoding proto...\rEncoding proto...\rEncoding proto...\r"
          ]
        },
        {
          "output_type": "stream",
          "name": "stderr",
          "text": [
            "  0%|          | 818/286150 [00:02<11:09, 426.47it/s]"
          ]
        },
        {
          "output_type": "stream",
          "name": "stdout",
          "text": [
            "Encoding proto...\rEncoding proto...\rEncoding proto...\rEncoding proto...\rEncoding proto...\rEncoding proto...\rEncoding proto...\rEncoding proto...\rEncoding proto...\rEncoding proto...\rEncoding proto...\rEncoding proto...\rEncoding proto...\rEncoding proto...\rEncoding proto...\rEncoding proto...\rEncoding proto...\rEncoding proto...\rEncoding proto...\rEncoding proto...\rEncoding proto...\rEncoding proto...\rEncoding proto...\rEncoding proto...\rEncoding proto...\rEncoding proto...\rEncoding proto...\rEncoding proto...\rEncoding proto...\rEncoding proto...\rEncoding proto...\rEncoding proto...\rEncoding proto...\rEncoding proto...\rEncoding proto...\rEncoding proto...\rEncoding proto...\rEncoding proto...\rEncoding proto...\rEncoding proto...\rEncoding proto...\rEncoding proto...\rEncoding proto...\rEncoding proto...\rEncoding proto...\rEncoding proto...\rEncoding proto...\rEncoding proto...\rEncoding proto...\rEncoding proto...\rEncoding proto...\rEncoding proto...\rEncoding proto...\rEncoding proto...\rEncoding proto...\rEncoding proto...\rEncoding proto...\rEncoding proto...\rEncoding proto...\rEncoding proto...\rEncoding proto...\rEncoding proto...\rEncoding proto...\rEncoding proto...\rEncoding proto...\rEncoding proto...\rEncoding proto...\rEncoding proto...\rEncoding proto...\rEncoding proto...\rEncoding proto...\rEncoding proto...\rEncoding proto...\rEncoding proto...\rEncoding proto...\rEncoding proto...\rEncoding proto...\rEncoding proto...\rEncoding proto...\rEncoding proto...\rEncoding proto...\rEncoding proto...\rEncoding proto...\rEncoding proto...\rEncoding proto...\rEncoding proto...\rEncoding proto...\rEncoding proto...\rEncoding proto...\rEncoding proto...\rEncoding proto...\rEncoding proto...\r"
          ]
        },
        {
          "output_type": "stream",
          "name": "stderr",
          "text": [
            "                                                     "
          ]
        },
        {
          "output_type": "stream",
          "name": "stdout",
          "text": [
            "Encoding proto...\rEncoding proto...\rEncoding proto...\rEncoding proto...\rEncoding proto...\rEncoding proto...\rEncoding proto...\rEncoding proto...\rEncoding proto...\rEncoding proto...\rEncoding proto...\rEncoding proto...\rEncoding proto...\rEncoding proto...\rEncoding proto...\rEncoding proto...\rEncoding proto...\rEncoding proto...\rEncoding proto...\rEncoding proto...\rEncoding proto...\rEncoding proto...\rEncoding proto...\rEncoding proto...\rEncoding proto...\rEncoding proto...\rEncoding proto...\rEncoding proto...\rEncoding proto...\rEncoding proto...\rEncoding proto...\rEncoding proto...\rEncoding proto...\rEncoding proto...\rEncoding proto...\rEncoding proto...\rEncoding proto...\rEncoding proto...\rEncoding proto...\rEncoding proto...\rEncoding proto...\rEncoding proto...\rEncoding proto...\rEncoding proto...\rEncoding proto...\rEncoding proto...\rEncoding proto...\rEncoding proto...\rEncoding proto...\rEncoding proto...\rEncoding proto...\rEncoding proto...\rEncoding proto...\rEncoding proto...\rEncoding proto...\rEncoding proto...\rEncoding proto...\rEncoding proto...\rEncoding proto...\rEncoding proto...\rEncoding proto...\rEncoding proto...\rEncoding proto...\rEncoding proto...\rEncoding proto...\rEncoding proto...\rEncoding proto...\rEncoding proto...\rEncoding proto...\rEncoding proto...\rEncoding proto...\rEncoding proto...\rEncoding proto...\rEncoding proto...\rEncoding proto...\rEncoding proto...\rEncoding proto...\rEncoding proto...\rEncoding proto...\rEncoding proto...\rEncoding proto...\rEncoding proto...\rEncoding proto...\rEncoding proto...\rEncoding proto...\rEncoding proto...\rEncoding proto...\rEncoding proto...\r"
          ]
        },
        {
          "output_type": "stream",
          "name": "stderr",
          "text": []
        },
        {
          "output_type": "stream",
          "name": "stdout",
          "text": [
            "Encoding proto...\rEncoding proto...\rEncoding proto...\rEncoding proto...\rEncoding proto...\rEncoding proto...\rEncoding proto...\rEncoding proto...\rEncoding proto...\rEncoding proto...\rEncoding proto...\rEncoding proto...\rEncoding proto...\rEncoding proto...\rEncoding proto...\rEncoding proto...\rEncoding proto...\rEncoding proto...\rEncoding proto...\rEncoding proto...\rEncoding proto...\rEncoding proto...\rEncoding proto...\rEncoding proto...\rEncoding proto...\rEncoding proto...\rEncoding proto...\rEncoding proto...\rEncoding proto...\rEncoding proto...\rEncoding proto...\rEncoding proto...\rEncoding proto...\rEncoding proto...\rEncoding proto...\rEncoding proto...\rEncoding proto...\rEncoding proto...\rEncoding proto...\rEncoding proto...\rEncoding proto...\rEncoding proto...\rEncoding proto...\rEncoding proto...\rEncoding proto...\rEncoding proto...\rEncoding proto...\rEncoding proto...\rEncoding proto...\rEncoding proto...\rEncoding proto...\rEncoding proto...\rEncoding proto...\rEncoding proto...\rEncoding proto...\rEncoding proto...\rEncoding proto...\rEncoding proto...\rEncoding proto...\rEncoding proto...\rEncoding proto...\rEncoding proto...\rEncoding proto...\rEncoding proto...\rEncoding proto...\rEncoding proto...\rEncoding proto...\rEncoding proto...\rEncoding proto...\rEncoding proto...\rEncoding proto...\rEncoding proto...\rEncoding proto...\rEncoding proto...\rEncoding proto...\rEncoding proto...\rEncoding proto...\rEncoding proto...\rEncoding proto...\r"
          ]
        },
        {
          "output_type": "stream",
          "name": "stderr",
          "text": [
            "  0%|          | 1023/286150 [00:02<14:52, 319.43it/s]"
          ]
        },
        {
          "output_type": "stream",
          "name": "stdout",
          "text": [
            "Encoding proto...\rEncoding proto...\rEncoding proto...\rEncoding proto...\rEncoding proto...\rEncoding proto...\rEncoding proto...\rEncoding proto...\rEncoding proto...\rEncoding proto...\rEncoding proto...\rEncoding proto...\rEncoding proto...\rEncoding proto...\rEncoding proto...\rEncoding proto...\rEncoding proto...\rEncoding proto...\rEncoding proto...\rEncoding proto...\rEncoding proto...\rEncoding proto...\rEncoding proto...\rEncoding proto...\rEncoding proto...\rEncoding proto...\rEncoding proto...\rEncoding proto...\rEncoding proto...\rEncoding proto...\rEncoding proto...\rEncoding proto...\rEncoding proto...\rEncoding proto...\rEncoding proto...\rEncoding proto...\rEncoding proto...\rEncoding proto...\r"
          ]
        },
        {
          "output_type": "stream",
          "name": "stderr",
          "text": [
            "                                                      "
          ]
        },
        {
          "output_type": "stream",
          "name": "stdout",
          "text": [
            "Encoding proto...\rEncoding proto...\rEncoding proto...\rEncoding proto...\rEncoding proto...\rEncoding proto...\rEncoding proto...\rEncoding proto...\rEncoding proto...\rEncoding proto...\rEncoding proto...\rEncoding proto...\rEncoding proto...\rEncoding proto...\rEncoding proto...\rEncoding proto...\rEncoding proto...\rEncoding proto...\rEncoding proto...\rEncoding proto...\rEncoding proto...\rEncoding proto...\rEncoding proto...\rEncoding proto...\rEncoding proto...\rEncoding proto...\rEncoding proto...\rEncoding proto...\rEncoding proto...\rEncoding proto...\rEncoding proto...\r"
          ]
        },
        {
          "output_type": "stream",
          "name": "stderr",
          "text": [
            "  0%|          | 1064/286150 [00:03<19:31, 243.42it/s]"
          ]
        },
        {
          "output_type": "stream",
          "name": "stdout",
          "text": [
            "Encoding proto...\rEncoding proto...\rEncoding proto...\rEncoding proto...\rEncoding proto...\rEncoding proto...\rEncoding proto...\rEncoding proto...\rEncoding proto...\rEncoding proto...\r"
          ]
        },
        {
          "output_type": "stream",
          "name": "stderr",
          "text": []
        },
        {
          "output_type": "stream",
          "name": "stdout",
          "text": [
            "Encoding proto...\rEncoding proto...\rEncoding proto...\rEncoding proto...\rEncoding proto...\rEncoding proto...\rEncoding proto...\rEncoding proto...\rEncoding proto...\rEncoding proto...\rEncoding proto...\rEncoding proto...\rEncoding proto...\rEncoding proto...\rEncoding proto...\rEncoding proto...\rEncoding proto...\rEncoding proto...\rEncoding proto...\r"
          ]
        },
        {
          "output_type": "stream",
          "name": "stderr",
          "text": []
        },
        {
          "output_type": "stream",
          "name": "stdout",
          "text": [
            "Encoding proto...\rEncoding proto...\rEncoding proto...\rEncoding proto...\rEncoding proto...\rEncoding proto...\rEncoding proto...\rEncoding proto...\rEncoding proto...\rEncoding proto...\rEncoding proto...\rEncoding proto...\rEncoding proto...\rEncoding proto...\rEncoding proto...\rEncoding proto...\rEncoding proto...\rEncoding proto...\rEncoding proto...\rEncoding proto...\rEncoding proto...\rEncoding proto...\rEncoding proto...\rEncoding proto...\rEncoding proto...\rEncoding proto...\rEncoding proto...\rEncoding proto...\rEncoding proto...\rEncoding proto...\r"
          ]
        },
        {
          "output_type": "stream",
          "name": "stderr",
          "text": [
            "  0%|          | 1148/286150 [00:03<28:28, 166.83it/s]"
          ]
        },
        {
          "output_type": "stream",
          "name": "stdout",
          "text": [
            "Encoding proto...\rEncoding proto...\rEncoding proto...\rEncoding proto...\rEncoding proto...\rEncoding proto...\rEncoding proto...\rEncoding proto...\rEncoding proto...\rEncoding proto...\rEncoding proto...\rEncoding proto...\rEncoding proto...\rEncoding proto...\rEncoding proto...\rEncoding proto...\rEncoding proto...\rEncoding proto...\rEncoding proto...\rEncoding proto...\rEncoding proto...\rEncoding proto...\rEncoding proto...\rEncoding proto...\rEncoding proto...\rEncoding proto...\rEncoding proto...\rEncoding proto...\rEncoding proto...\rEncoding proto...\rEncoding proto...\rEncoding proto...\rEncoding proto...\rEncoding proto...\rEncoding proto...\r"
          ]
        },
        {
          "output_type": "stream",
          "name": "stderr",
          "text": []
        },
        {
          "output_type": "stream",
          "name": "stdout",
          "text": [
            "Encoding proto...\rEncoding proto...\rEncoding proto...\rEncoding proto...\rEncoding proto...\rEncoding proto...\rEncoding proto...\rEncoding proto...\rEncoding proto...\rEncoding proto...\rEncoding proto...\rEncoding proto...\rEncoding proto...\rEncoding proto...\rEncoding proto...\rEncoding proto...\r"
          ]
        },
        {
          "output_type": "stream",
          "name": "stderr",
          "text": []
        },
        {
          "output_type": "stream",
          "name": "stdout",
          "text": [
            "Encoding proto...\rEncoding proto...\rEncoding proto...\rEncoding proto...\rEncoding proto...\rEncoding proto...\rEncoding proto...\rEncoding proto...\rEncoding proto...\rEncoding proto...\rEncoding proto...\rEncoding proto...\rEncoding proto...\rEncoding proto...\rEncoding proto...\rEncoding proto...\rEncoding proto...\rEncoding proto...\rEncoding proto...\rEncoding proto...\rEncoding proto...\rEncoding proto...\rEncoding proto...\rEncoding proto...\rEncoding proto...\r"
          ]
        },
        {
          "output_type": "stream",
          "name": "stderr",
          "text": [
            "  0%|          | 1197/286150 [00:04<41:17, 115.02it/s]"
          ]
        },
        {
          "output_type": "stream",
          "name": "stdout",
          "text": [
            "Encoding proto...\rEncoding proto...\rEncoding proto...\rEncoding proto...\rEncoding proto...\rEncoding proto...\rEncoding proto...\rEncoding proto...\r"
          ]
        },
        {
          "output_type": "stream",
          "name": "stderr",
          "text": [
            "  0%|          | 1214/286150 [00:04<59:57, 79.19it/s]"
          ]
        },
        {
          "output_type": "stream",
          "name": "stdout",
          "text": [
            "Encoding proto...\rEncoding proto...\rEncoding proto...\rEncoding proto...\rEncoding proto...\rEncoding proto...\rEncoding proto...\rEncoding proto...\rEncoding proto...\rEncoding proto...\rEncoding proto...\rEncoding proto...\rEncoding proto...\rEncoding proto...\rEncoding proto...\rEncoding proto...\rEncoding proto...\r"
          ]
        },
        {
          "output_type": "stream",
          "name": "stderr",
          "text": [
            "  0%|          | 1234/286150 [00:04<58:17, 81.45it/s]"
          ]
        },
        {
          "output_type": "stream",
          "name": "stdout",
          "text": [
            "Encoding proto...\rEncoding proto...\rEncoding proto...\rEncoding proto...\rEncoding proto...\rEncoding proto...\rEncoding proto...\rEncoding proto...\rEncoding proto...\rEncoding proto...\rEncoding proto...\rEncoding proto...\rEncoding proto...\rEncoding proto...\rEncoding proto...\rEncoding proto...\rEncoding proto...\rEncoding proto...\rEncoding proto...\rEncoding proto...\r"
          ]
        },
        {
          "output_type": "stream",
          "name": "stderr",
          "text": []
        },
        {
          "output_type": "stream",
          "name": "stdout",
          "text": [
            "Encoding proto...\rEncoding proto...\rEncoding proto...\rEncoding proto...\rEncoding proto...\rEncoding proto...\rEncoding proto...\rEncoding proto...\rEncoding proto...\rEncoding proto...\rEncoding proto...\rEncoding proto...\rEncoding proto...\rEncoding proto...\rEncoding proto...\rEncoding proto...\rEncoding proto...\rEncoding proto...\rEncoding proto...\rEncoding proto...\rEncoding proto...\rEncoding proto...\rEncoding proto...\rEncoding proto...\rEncoding proto...\rEncoding proto...\rEncoding proto...\rEncoding proto...\rEncoding proto...\rEncoding proto...\rEncoding proto...\rEncoding proto...\rEncoding proto...\rEncoding proto...\rEncoding proto...\rEncoding proto...\rEncoding proto...\rEncoding proto...\r"
          ]
        },
        {
          "output_type": "stream",
          "name": "stderr",
          "text": [
            "  0%|          | 1316/286150 [00:05<29:58, 158.41it/s]"
          ]
        },
        {
          "output_type": "stream",
          "name": "stdout",
          "text": [
            "Encoding proto...\rEncoding proto...\rEncoding proto...\rEncoding proto...\rEncoding proto...\rEncoding proto...\rEncoding proto...\rEncoding proto...\rEncoding proto...\rEncoding proto...\rEncoding proto...\rEncoding proto...\rEncoding proto...\rEncoding proto...\rEncoding proto...\rEncoding proto...\rEncoding proto...\rEncoding proto...\rEncoding proto...\rEncoding proto...\rEncoding proto...\rEncoding proto...\rEncoding proto...\rEncoding proto...\rEncoding proto...\rEncoding proto...\rEncoding proto...\rEncoding proto...\rEncoding proto...\rEncoding proto...\rEncoding proto...\rEncoding proto...\rEncoding proto...\rEncoding proto...\rEncoding proto...\rEncoding proto...\rEncoding proto...\rEncoding proto...\rEncoding proto...\rEncoding proto...\rEncoding proto...\rEncoding proto...\rEncoding proto...\rEncoding proto...\r"
          ]
        },
        {
          "output_type": "stream",
          "name": "stderr",
          "text": [
            "  0%|          | 1348/286150 [00:05<30:43, 154.53it/s]"
          ]
        },
        {
          "output_type": "stream",
          "name": "stdout",
          "text": [
            "Encoding proto...\rEncoding proto...\rEncoding proto...\rEncoding proto...\rEncoding proto...\rEncoding proto...\rEncoding proto...\rEncoding proto...\rEncoding proto...\rEncoding proto...\rEncoding proto...\rEncoding proto...\rEncoding proto...\rEncoding proto...\rEncoding proto...\rEncoding proto...\rEncoding proto...\rEncoding proto...\rEncoding proto...\rEncoding proto...\rEncoding proto...\rEncoding proto...\rEncoding proto...\rEncoding proto...\rEncoding proto...\rEncoding proto...\rEncoding proto...\rEncoding proto...\rEncoding proto...\rEncoding proto...\rEncoding proto...\rEncoding proto...\r"
          ]
        },
        {
          "output_type": "stream",
          "name": "stderr",
          "text": [
            "  0%|          | 1392/286150 [00:05<25:40, 184.88it/s]"
          ]
        },
        {
          "output_type": "stream",
          "name": "stdout",
          "text": [
            "Encoding proto...\rEncoding proto...\rEncoding proto...\rEncoding proto...\rEncoding proto...\rEncoding proto...\rEncoding proto...\rEncoding proto...\rEncoding proto...\rEncoding proto...\rEncoding proto...\rEncoding proto...\rEncoding proto...\rEncoding proto...\rEncoding proto...\rEncoding proto...\rEncoding proto...\rEncoding proto...\rEncoding proto...\rEncoding proto...\rEncoding proto...\rEncoding proto...\rEncoding proto...\rEncoding proto...\rEncoding proto...\rEncoding proto...\rEncoding proto...\rEncoding proto...\rEncoding proto...\rEncoding proto...\rEncoding proto...\rEncoding proto...\rEncoding proto...\rEncoding proto...\rEncoding proto...\rEncoding proto...\rEncoding proto...\rEncoding proto...\rEncoding proto...\rEncoding proto...\rEncoding proto...\rEncoding proto...\rEncoding proto...\rEncoding proto...\r"
          ]
        },
        {
          "output_type": "stream",
          "name": "stderr",
          "text": [
            "                                                      "
          ]
        },
        {
          "output_type": "stream",
          "name": "stdout",
          "text": [
            "Encoding proto...\rEncoding proto...\rEncoding proto...\rEncoding proto...\rEncoding proto...\rEncoding proto...\rEncoding proto...\rEncoding proto...\rEncoding proto...\rEncoding proto...\rEncoding proto...\rEncoding proto...\rEncoding proto...\rEncoding proto...\rEncoding proto...\rEncoding proto...\rEncoding proto...\rEncoding proto...\rEncoding proto...\rEncoding proto...\rEncoding proto...\rEncoding proto...\rEncoding proto...\rEncoding proto...\rEncoding proto...\rEncoding proto...\rEncoding proto...\rEncoding proto...\rEncoding proto...\rEncoding proto...\rEncoding proto...\rEncoding proto...\rEncoding proto...\rEncoding proto...\rEncoding proto...\rEncoding proto...\rEncoding proto...\rEncoding proto...\rEncoding proto...\rEncoding proto...\rEncoding proto...\rEncoding proto...\rEncoding proto...\rEncoding proto...\rEncoding proto...\rEncoding proto...\rEncoding proto...\rEncoding proto...\rEncoding proto...\rEncoding proto...\rEncoding proto...\rEncoding proto...\rEncoding proto...\r"
          ]
        },
        {
          "output_type": "stream",
          "name": "stderr",
          "text": [
            "  1%|          | 1473/286150 [00:06<26:34, 178.57it/s]"
          ]
        },
        {
          "output_type": "stream",
          "name": "stdout",
          "text": [
            "Encoding proto...\rEncoding proto...\rEncoding proto...\rEncoding proto...\rEncoding proto...\rEncoding proto...\rEncoding proto...\rEncoding proto...\rEncoding proto...\rEncoding proto...\rEncoding proto...\rEncoding proto...\rEncoding proto...\rEncoding proto...\rEncoding proto...\rEncoding proto...\rEncoding proto...\rEncoding proto...\rEncoding proto...\rEncoding proto...\rEncoding proto...\rEncoding proto...\rEncoding proto...\rEncoding proto...\rEncoding proto...\rEncoding proto...\rEncoding proto...\rEncoding proto...\r"
          ]
        },
        {
          "output_type": "stream",
          "name": "stderr",
          "text": [
            "  1%|          | 1482/286150 [00:06<26:34, 178.57it/s]"
          ]
        },
        {
          "output_type": "stream",
          "name": "stdout",
          "text": [
            "Encoding proto...\rEncoding proto...\rEncoding proto...\rEncoding proto...\rEncoding proto...\rEncoding proto...\rEncoding proto...\rEncoding proto...\rEncoding proto...\r"
          ]
        },
        {
          "output_type": "stream",
          "name": "stderr",
          "text": [
            "  1%|          | 1522/286150 [00:06<40:57, 115.82it/s]"
          ]
        },
        {
          "output_type": "stream",
          "name": "stdout",
          "text": [
            "Encoding proto...\rEncoding proto...\rEncoding proto...\rEncoding proto...\rEncoding proto...\rEncoding proto...\rEncoding proto...\rEncoding proto...\rEncoding proto...\rEncoding proto...\rEncoding proto...\rEncoding proto...\rEncoding proto...\rEncoding proto...\rEncoding proto...\rEncoding proto...\rEncoding proto...\rEncoding proto...\rEncoding proto...\rEncoding proto...\rEncoding proto...\rEncoding proto...\rEncoding proto...\rEncoding proto...\rEncoding proto...\rEncoding proto...\rEncoding proto...\rEncoding proto...\rEncoding proto...\rEncoding proto...\rEncoding proto...\rEncoding proto...\rEncoding proto...\rEncoding proto...\rEncoding proto...\rEncoding proto...\rEncoding proto...\rEncoding proto...\rEncoding proto...\rEncoding proto...\r"
          ]
        },
        {
          "output_type": "stream",
          "name": "stderr",
          "text": [
            "                                                      "
          ]
        },
        {
          "output_type": "stream",
          "name": "stdout",
          "text": [
            "Encoding proto...\rEncoding proto...\rEncoding proto...\rEncoding proto...\rEncoding proto...\rEncoding proto...\rEncoding proto...\rEncoding proto...\rEncoding proto...\rEncoding proto...\rEncoding proto...\rEncoding proto...\rEncoding proto...\rEncoding proto...\rEncoding proto...\rEncoding proto...\rEncoding proto...\rEncoding proto...\rEncoding proto...\rEncoding proto...\rEncoding proto...\rEncoding proto...\rEncoding proto...\rEncoding proto...\rEncoding proto...\rEncoding proto...\rEncoding proto...\rEncoding proto...\rEncoding proto...\rEncoding proto...\r"
          ]
        },
        {
          "output_type": "stream",
          "name": "stderr",
          "text": [
            "  1%|          | 1606/286150 [00:07<26:02, 182.09it/s]"
          ]
        },
        {
          "output_type": "stream",
          "name": "stdout",
          "text": [
            "Encoding proto...\rEncoding proto...\rEncoding proto...\rEncoding proto...\rEncoding proto...\rEncoding proto...\rEncoding proto...\rEncoding proto...\rEncoding proto...\rEncoding proto...\rEncoding proto...\rEncoding proto...\rEncoding proto...\rEncoding proto...\rEncoding proto...\rEncoding proto...\rEncoding proto...\rEncoding proto...\rEncoding proto...\rEncoding proto...\rEncoding proto...\rEncoding proto...\rEncoding proto...\rEncoding proto...\rEncoding proto...\rEncoding proto...\rEncoding proto...\rEncoding proto...\rEncoding proto...\rEncoding proto...\rEncoding proto...\rEncoding proto...\rEncoding proto...\rEncoding proto...\rEncoding proto...\rEncoding proto...\rEncoding proto...\rEncoding proto...\rEncoding proto...\rEncoding proto...\rEncoding proto...\rEncoding proto...\rEncoding proto...\rEncoding proto...\rEncoding proto...\rEncoding proto...\rEncoding proto...\rEncoding proto...\rEncoding proto...\rEncoding proto...\rEncoding proto...\rEncoding proto...\rEncoding proto...\rEncoding proto...\r"
          ]
        },
        {
          "output_type": "stream",
          "name": "stderr",
          "text": [
            "  1%|          | 1667/286150 [00:07<20:47, 227.97it/s]"
          ]
        },
        {
          "output_type": "stream",
          "name": "stdout",
          "text": [
            "Encoding proto...\rEncoding proto...\rEncoding proto...\rEncoding proto...\rEncoding proto...\rEncoding proto...\rEncoding proto...\rEncoding proto...\rEncoding proto...\rEncoding proto...\rEncoding proto...\rEncoding proto...\rEncoding proto...\rEncoding proto...\rEncoding proto...\rEncoding proto...\rEncoding proto...\rEncoding proto...\rEncoding proto...\rEncoding proto...\rEncoding proto...\rEncoding proto...\rEncoding proto...\rEncoding proto...\rEncoding proto...\rEncoding proto...\rEncoding proto...\rEncoding proto...\rEncoding proto...\rEncoding proto...\rEncoding proto...\rEncoding proto...\rEncoding proto...\rEncoding proto...\rEncoding proto...\rEncoding proto...\rEncoding proto...\rEncoding proto...\rEncoding proto...\rEncoding proto...\rEncoding proto...\rEncoding proto...\rEncoding proto...\rEncoding proto...\rEncoding proto...\rEncoding proto...\rEncoding proto...\rEncoding proto...\rEncoding proto...\rEncoding proto...\rEncoding proto...\rEncoding proto...\rEncoding proto...\rEncoding proto...\rEncoding proto...\rEncoding proto...\rEncoding proto...\rEncoding proto...\rEncoding proto...\rEncoding proto...\rEncoding proto...\r"
          ]
        },
        {
          "output_type": "stream",
          "name": "stderr",
          "text": [
            "                                                      "
          ]
        },
        {
          "output_type": "stream",
          "name": "stdout",
          "text": [
            "Encoding proto...\rEncoding proto...\rEncoding proto...\rEncoding proto...\rEncoding proto...\rEncoding proto...\rEncoding proto...\rEncoding proto...\rEncoding proto...\rEncoding proto...\rEncoding proto...\rEncoding proto...\rEncoding proto...\rEncoding proto...\rEncoding proto...\rEncoding proto...\rEncoding proto...\rEncoding proto...\rEncoding proto...\rEncoding proto...\rEncoding proto...\rEncoding proto...\rEncoding proto...\rEncoding proto...\rEncoding proto...\rEncoding proto...\rEncoding proto...\rEncoding proto...\rEncoding proto...\rEncoding proto...\rEncoding proto...\rEncoding proto...\rEncoding proto...\rEncoding proto...\rEncoding proto...\rEncoding proto...\rEncoding proto...\rEncoding proto...\rEncoding proto...\rEncoding proto...\rEncoding proto...\rEncoding proto...\rEncoding proto...\rEncoding proto...\rEncoding proto...\rEncoding proto...\rEncoding proto...\rEncoding proto...\rEncoding proto...\rEncoding proto...\rEncoding proto...\rEncoding proto...\rEncoding proto...\rEncoding proto...\rEncoding proto...\rEncoding proto...\rEncoding proto...\rEncoding proto...\rEncoding proto...\rEncoding proto...\rEncoding proto...\rEncoding proto...\rEncoding proto...\rEncoding proto...\rEncoding proto...\rEncoding proto...\rEncoding proto...\rEncoding proto...\r"
          ]
        },
        {
          "output_type": "stream",
          "name": "stderr",
          "text": []
        },
        {
          "output_type": "stream",
          "name": "stdout",
          "text": [
            "Encoding proto...\rEncoding proto...\rEncoding proto...\rEncoding proto...\rEncoding proto...\rEncoding proto...\rEncoding proto...\rEncoding proto...\rEncoding proto...\rEncoding proto...\rEncoding proto...\rEncoding proto...\rEncoding proto...\rEncoding proto...\rEncoding proto...\rEncoding proto...\rEncoding proto...\rEncoding proto...\rEncoding proto...\rEncoding proto...\rEncoding proto...\rEncoding proto...\rEncoding proto...\rEncoding proto...\rEncoding proto...\rEncoding proto...\rEncoding proto...\rEncoding proto...\rEncoding proto...\rEncoding proto...\rEncoding proto...\rEncoding proto...\rEncoding proto...\rEncoding proto...\rEncoding proto...\rEncoding proto...\rEncoding proto...\rEncoding proto...\rEncoding proto...\rEncoding proto...\rEncoding proto...\rEncoding proto...\rEncoding proto...\rEncoding proto...\rEncoding proto...\rEncoding proto...\rEncoding proto...\rEncoding proto...\rEncoding proto...\rEncoding proto...\rEncoding proto...\rEncoding proto...\rEncoding proto...\rEncoding proto...\rEncoding proto...\rEncoding proto...\r"
          ]
        },
        {
          "output_type": "stream",
          "name": "stderr",
          "text": [
            "                                                      "
          ]
        },
        {
          "output_type": "stream",
          "name": "stdout",
          "text": [
            "Encoding proto...\rEncoding proto...\rEncoding proto...\rEncoding proto...\rEncoding proto...\rEncoding proto...\rEncoding proto...\rEncoding proto...\rEncoding proto...\rEncoding proto...\r"
          ]
        },
        {
          "output_type": "stream",
          "name": "stderr",
          "text": [
            "  1%|          | 1804/286150 [00:08<16:41, 284.02it/s]"
          ]
        },
        {
          "output_type": "stream",
          "name": "stdout",
          "text": [
            "Encoding proto...\rEncoding proto...\rEncoding proto...\r"
          ]
        },
        {
          "output_type": "stream",
          "name": "stderr",
          "text": [
            "  1%|          | 1807/286150 [00:08<16:41, 284.02it/s]"
          ]
        },
        {
          "output_type": "stream",
          "name": "stdout",
          "text": [
            "Encoding proto...\rEncoding proto...\rEncoding proto...\r"
          ]
        },
        {
          "output_type": "stream",
          "name": "stderr",
          "text": [
            "  1%|          | 1811/286150 [00:08<16:41, 284.02it/s]"
          ]
        },
        {
          "output_type": "stream",
          "name": "stdout",
          "text": [
            "Encoding proto...\rEncoding proto...\rEncoding proto...\rEncoding proto...\r"
          ]
        },
        {
          "output_type": "stream",
          "name": "stderr",
          "text": [
            "  1%|          | 1814/286150 [00:09<16:41, 284.02it/s]"
          ]
        },
        {
          "output_type": "stream",
          "name": "stdout",
          "text": [
            "Encoding proto...\rEncoding proto...\rEncoding proto...\r"
          ]
        },
        {
          "output_type": "stream",
          "name": "stderr",
          "text": [
            "  1%|          | 1817/286150 [00:09<1:12:12, 65.63it/s]"
          ]
        },
        {
          "output_type": "stream",
          "name": "stdout",
          "text": [
            "Encoding proto...\rEncoding proto...\rEncoding proto...\r"
          ]
        },
        {
          "output_type": "stream",
          "name": "stderr",
          "text": [
            "  1%|          | 1822/286150 [00:09<1:12:12, 65.63it/s]"
          ]
        },
        {
          "output_type": "stream",
          "name": "stdout",
          "text": [
            "Encoding proto...\rEncoding proto...\rEncoding proto...\rEncoding proto...\rEncoding proto...\r"
          ]
        },
        {
          "output_type": "stream",
          "name": "stderr",
          "text": [
            "  1%|          | 1827/286150 [00:09<1:12:12, 65.63it/s]"
          ]
        },
        {
          "output_type": "stream",
          "name": "stdout",
          "text": [
            "Encoding proto...\rEncoding proto...\rEncoding proto...\rEncoding proto...\rEncoding proto...\r"
          ]
        },
        {
          "output_type": "stream",
          "name": "stderr",
          "text": []
        },
        {
          "output_type": "stream",
          "name": "stdout",
          "text": [
            "Encoding proto...\rEncoding proto...\rEncoding proto...\r"
          ]
        },
        {
          "output_type": "stream",
          "name": "stderr",
          "text": [
            "  1%|          | 1853/286150 [00:10<1:38:19, 48.19it/s]"
          ]
        },
        {
          "output_type": "stream",
          "name": "stdout",
          "text": [
            "Encoding proto...\rEncoding proto...\rEncoding proto...\rEncoding proto...\rEncoding proto...\rEncoding proto...\rEncoding proto...\rEncoding proto...\rEncoding proto...\rEncoding proto...\rEncoding proto...\rEncoding proto...\rEncoding proto...\rEncoding proto...\rEncoding proto...\rEncoding proto...\rEncoding proto...\rEncoding proto...\rEncoding proto...\rEncoding proto...\rEncoding proto...\rEncoding proto...\rEncoding proto...\r"
          ]
        },
        {
          "output_type": "stream",
          "name": "stderr",
          "text": [
            "                                                       "
          ]
        },
        {
          "output_type": "stream",
          "name": "stdout",
          "text": [
            "Encoding proto...\rEncoding proto...\rEncoding proto...\rEncoding proto...\rEncoding proto...\rEncoding proto...\rEncoding proto...\rEncoding proto...\rEncoding proto...\rEncoding proto...\rEncoding proto...\rEncoding proto...\rEncoding proto...\rEncoding proto...\rEncoding proto...\rEncoding proto...\rEncoding proto...\rEncoding proto...\r"
          ]
        },
        {
          "output_type": "stream",
          "name": "stderr",
          "text": [
            "  1%|          | 1900/286150 [00:10<1:06:57, 70.76it/s]"
          ]
        },
        {
          "output_type": "stream",
          "name": "stdout",
          "text": [
            "Encoding proto...\rEncoding proto...\rEncoding proto...\rEncoding proto...\rEncoding proto...\rEncoding proto...\rEncoding proto...\rEncoding proto...\rEncoding proto...\rEncoding proto...\rEncoding proto...\rEncoding proto...\rEncoding proto...\rEncoding proto...\rEncoding proto...\rEncoding proto...\rEncoding proto...\rEncoding proto...\rEncoding proto...\rEncoding proto...\rEncoding proto...\rEncoding proto...\rEncoding proto...\rEncoding proto...\rEncoding proto...\rEncoding proto...\rEncoding proto...\rEncoding proto...\rEncoding proto...\r"
          ]
        },
        {
          "output_type": "stream",
          "name": "stderr",
          "text": [
            "  1%|          | 1919/286150 [00:10<1:02:17, 76.04it/s]"
          ]
        },
        {
          "output_type": "stream",
          "name": "stdout",
          "text": [
            "Encoding proto...\rEncoding proto...\rEncoding proto...\rEncoding proto...\rEncoding proto...\rEncoding proto...\rEncoding proto...\rEncoding proto...\rEncoding proto...\rEncoding proto...\rEncoding proto...\rEncoding proto...\rEncoding proto...\rEncoding proto...\rEncoding proto...\rEncoding proto...\rEncoding proto...\rEncoding proto...\rEncoding proto...\r"
          ]
        },
        {
          "output_type": "stream",
          "name": "stderr",
          "text": [
            "  1%|          | 1936/286150 [00:11<58:50, 80.50it/s]"
          ]
        },
        {
          "output_type": "stream",
          "name": "stdout",
          "text": [
            "Encoding proto...\rEncoding proto...\rEncoding proto...\rEncoding proto...\rEncoding proto...\rEncoding proto...\rEncoding proto...\rEncoding proto...\rEncoding proto...\rEncoding proto...\rEncoding proto...\rEncoding proto...\rEncoding proto...\rEncoding proto...\rEncoding proto...\rEncoding proto...\rEncoding proto...\r"
          ]
        },
        {
          "output_type": "stream",
          "name": "stderr",
          "text": []
        },
        {
          "output_type": "stream",
          "name": "stdout",
          "text": [
            "Encoding proto...\rEncoding proto...\rEncoding proto...\rEncoding proto...\rEncoding proto...\rEncoding proto...\rEncoding proto...\rEncoding proto...\rEncoding proto...\rEncoding proto...\rEncoding proto...\rEncoding proto...\rEncoding proto...\rEncoding proto...\rEncoding proto...\rEncoding proto...\rEncoding proto...\rEncoding proto...\rEncoding proto...\rEncoding proto...\r"
          ]
        },
        {
          "output_type": "stream",
          "name": "stderr",
          "text": [
            "                                                       "
          ]
        },
        {
          "output_type": "stream",
          "name": "stdout",
          "text": [
            "Encoding proto...\rEncoding proto...\rEncoding proto...\rEncoding proto...\rEncoding proto...\rEncoding proto...\rEncoding proto...\rEncoding proto...\rEncoding proto...\rEncoding proto...\rEncoding proto...\r"
          ]
        },
        {
          "output_type": "stream",
          "name": "stderr",
          "text": [
            "  1%|          | 1985/286150 [00:11<1:02:29, 75.79it/s]"
          ]
        },
        {
          "output_type": "stream",
          "name": "stdout",
          "text": [
            "Encoding proto...\rEncoding proto...\rEncoding proto...\rEncoding proto...\rEncoding proto...\rEncoding proto...\rEncoding proto...\rEncoding proto...\rEncoding proto...\rEncoding proto...\rEncoding proto...\rEncoding proto...\rEncoding proto...\rEncoding proto...\rEncoding proto...\rEncoding proto...\rEncoding proto...\rEncoding proto...\r"
          ]
        },
        {
          "output_type": "stream",
          "name": "stderr",
          "text": [
            "                                                       "
          ]
        },
        {
          "output_type": "stream",
          "name": "stdout",
          "text": [
            "Encoding proto...\rEncoding proto...\rEncoding proto...\rEncoding proto...\rEncoding proto...\rEncoding proto...\rEncoding proto...\rEncoding proto...\rEncoding proto...\rEncoding proto...\rEncoding proto...\rEncoding proto...\rEncoding proto...\rEncoding proto...\r"
          ]
        },
        {
          "output_type": "stream",
          "name": "stderr",
          "text": [
            "                                                       "
          ]
        },
        {
          "output_type": "stream",
          "name": "stdout",
          "text": [
            "Encoding proto...\rEncoding proto...\rEncoding proto...\rEncoding proto...\rEncoding proto...\rEncoding proto...\rEncoding proto...\rEncoding proto...\rEncoding proto...\rEncoding proto...\rEncoding proto...\rEncoding proto...\rEncoding proto...\rEncoding proto...\rEncoding proto...\rEncoding proto...\rEncoding proto...\r"
          ]
        },
        {
          "output_type": "stream",
          "name": "stderr",
          "text": []
        },
        {
          "output_type": "stream",
          "name": "stdout",
          "text": [
            "Encoding proto...\rEncoding proto...\rEncoding proto...\rEncoding proto...\rEncoding proto...\rEncoding proto...\rEncoding proto...\rEncoding proto...\rEncoding proto...\rEncoding proto...\rEncoding proto...\rEncoding proto...\rEncoding proto...\rEncoding proto...\rEncoding proto...\rEncoding proto...\rEncoding proto...\rEncoding proto...\rEncoding proto...\r"
          ]
        },
        {
          "output_type": "stream",
          "name": "stderr",
          "text": []
        },
        {
          "output_type": "stream",
          "name": "stdout",
          "text": [
            "Encoding proto...\rEncoding proto...\rEncoding proto...\rEncoding proto...\rEncoding proto...\rEncoding proto...\rEncoding proto...\rEncoding proto...\rEncoding proto...\rEncoding proto...\rEncoding proto...\rEncoding proto...\rEncoding proto...\rEncoding proto...\rEncoding proto...\rEncoding proto...\rEncoding proto...\rEncoding proto...\rEncoding proto...\r"
          ]
        },
        {
          "output_type": "stream",
          "name": "stderr",
          "text": []
        },
        {
          "output_type": "stream",
          "name": "stdout",
          "text": [
            "Encoding proto...\rEncoding proto...\rEncoding proto...\rEncoding proto...\rEncoding proto...\rEncoding proto...\rEncoding proto...\rEncoding proto...\rEncoding proto...\rEncoding proto...\rEncoding proto...\rEncoding proto...\rEncoding proto...\rEncoding proto...\rEncoding proto...\rEncoding proto...\rEncoding proto...\rEncoding proto...\rEncoding proto...\rEncoding proto...\rEncoding proto...\rEncoding proto...\rEncoding proto...\rEncoding proto...\rEncoding proto...\r"
          ]
        },
        {
          "output_type": "stream",
          "name": "stderr",
          "text": []
        },
        {
          "output_type": "stream",
          "name": "stdout",
          "text": [
            "Encoding proto...\rEncoding proto...\rEncoding proto...\rEncoding proto...\rEncoding proto...\rEncoding proto...\rEncoding proto...\rEncoding proto...\rEncoding proto...\rEncoding proto...\rEncoding proto...\rEncoding proto...\rEncoding proto...\rEncoding proto...\rEncoding proto...\rEncoding proto...\rEncoding proto...\rEncoding proto...\rEncoding proto...\rEncoding proto...\rEncoding proto...\rEncoding proto...\rEncoding proto...\rEncoding proto...\rEncoding proto...\rEncoding proto...\rEncoding proto...\rEncoding proto...\rEncoding proto...\rEncoding proto...\rEncoding proto...\r"
          ]
        },
        {
          "output_type": "stream",
          "name": "stderr",
          "text": [
            "  1%|          | 2149/286150 [00:13<30:32, 154.95it/s]"
          ]
        },
        {
          "output_type": "stream",
          "name": "stdout",
          "text": [
            "Encoding proto...\rEncoding proto...\rEncoding proto...\rEncoding proto...\rEncoding proto...\rEncoding proto...\rEncoding proto...\rEncoding proto...\rEncoding proto...\rEncoding proto...\rEncoding proto...\rEncoding proto...\rEncoding proto...\rEncoding proto...\rEncoding proto...\rEncoding proto...\rEncoding proto...\rEncoding proto...\rEncoding proto...\rEncoding proto...\rEncoding proto...\rEncoding proto...\rEncoding proto...\rEncoding proto...\rEncoding proto...\rEncoding proto...\rEncoding proto...\rEncoding proto...\rEncoding proto...\rEncoding proto...\rEncoding proto...\rEncoding proto...\rEncoding proto...\rEncoding proto...\rEncoding proto...\rEncoding proto...\rEncoding proto...\rEncoding proto...\rEncoding proto...\r"
          ]
        },
        {
          "output_type": "stream",
          "name": "stderr",
          "text": [
            "                                                      "
          ]
        },
        {
          "output_type": "stream",
          "name": "stdout",
          "text": [
            "Encoding proto...\rEncoding proto...\rEncoding proto...\rEncoding proto...\rEncoding proto...\rEncoding proto...\rEncoding proto...\rEncoding proto...\rEncoding proto...\rEncoding proto...\rEncoding proto...\rEncoding proto...\rEncoding proto...\rEncoding proto...\rEncoding proto...\rEncoding proto...\rEncoding proto...\rEncoding proto...\rEncoding proto...\rEncoding proto...\rEncoding proto...\rEncoding proto...\rEncoding proto...\rEncoding proto...\rEncoding proto...\rEncoding proto...\rEncoding proto...\rEncoding proto...\rEncoding proto...\rEncoding proto...\rEncoding proto...\rEncoding proto...\rEncoding proto...\rEncoding proto...\rEncoding proto...\rEncoding proto...\rEncoding proto...\rEncoding proto...\rEncoding proto...\rEncoding proto...\rEncoding proto...\r"
          ]
        },
        {
          "output_type": "stream",
          "name": "stderr",
          "text": []
        },
        {
          "output_type": "stream",
          "name": "stdout",
          "text": [
            "Encoding proto...\rEncoding proto...\rEncoding proto...\rEncoding proto...\rEncoding proto...\rEncoding proto...\rEncoding proto...\rEncoding proto...\rEncoding proto...\rEncoding proto...\rEncoding proto...\rEncoding proto...\rEncoding proto...\rEncoding proto...\rEncoding proto...\rEncoding proto...\rEncoding proto...\rEncoding proto...\rEncoding proto...\r"
          ]
        },
        {
          "output_type": "stream",
          "name": "stderr",
          "text": [
            "  1%|          | 2260/286150 [00:13<30:01, 157.61it/s]"
          ]
        },
        {
          "output_type": "stream",
          "name": "stdout",
          "text": [
            "Encoding proto...\rEncoding proto...\rEncoding proto...\rEncoding proto...\rEncoding proto...\rEncoding proto...\rEncoding proto...\rEncoding proto...\rEncoding proto...\rEncoding proto...\rEncoding proto...\rEncoding proto...\rEncoding proto...\rEncoding proto...\rEncoding proto...\rEncoding proto...\rEncoding proto...\rEncoding proto...\rEncoding proto...\rEncoding proto...\rEncoding proto...\rEncoding proto...\rEncoding proto...\rEncoding proto...\rEncoding proto...\rEncoding proto...\rEncoding proto...\rEncoding proto...\rEncoding proto...\rEncoding proto...\rEncoding proto...\rEncoding proto...\rEncoding proto...\rEncoding proto...\rEncoding proto...\rEncoding proto...\rEncoding proto...\rEncoding proto...\rEncoding proto...\rEncoding proto...\rEncoding proto...\rEncoding proto...\rEncoding proto...\rEncoding proto...\rEncoding proto...\rEncoding proto...\rEncoding proto...\rEncoding proto...\rEncoding proto...\rEncoding proto...\rEncoding proto...\r"
          ]
        },
        {
          "output_type": "stream",
          "name": "stderr",
          "text": [
            "  1%|          | 2287/286150 [00:14<29:13, 161.89it/s]"
          ]
        },
        {
          "output_type": "stream",
          "name": "stdout",
          "text": [
            "Encoding proto...\rEncoding proto...\rEncoding proto...\rEncoding proto...\rEncoding proto...\rEncoding proto...\rEncoding proto...\rEncoding proto...\rEncoding proto...\rEncoding proto...\rEncoding proto...\rEncoding proto...\rEncoding proto...\rEncoding proto...\rEncoding proto...\rEncoding proto...\rEncoding proto...\rEncoding proto...\rEncoding proto...\rEncoding proto...\rEncoding proto...\rEncoding proto...\rEncoding proto...\rEncoding proto...\rEncoding proto...\rEncoding proto...\rEncoding proto...\r"
          ]
        },
        {
          "output_type": "stream",
          "name": "stderr",
          "text": []
        },
        {
          "output_type": "stream",
          "name": "stdout",
          "text": [
            "Encoding proto...\rEncoding proto...\rEncoding proto...\rEncoding proto...\rEncoding proto...\rEncoding proto...\rEncoding proto...\rEncoding proto...\rEncoding proto...\rEncoding proto...\rEncoding proto...\rEncoding proto...\rEncoding proto...\rEncoding proto...\rEncoding proto...\rEncoding proto...\r"
          ]
        },
        {
          "output_type": "stream",
          "name": "stderr",
          "text": [
            "  1%|          | 2336/286150 [00:14<42:11, 112.13it/s]"
          ]
        },
        {
          "output_type": "stream",
          "name": "stdout",
          "text": [
            "Encoding proto...\rEncoding proto...\rEncoding proto...\rEncoding proto...\rEncoding proto...\rEncoding proto...\rEncoding proto...\rEncoding proto...\rEncoding proto...\rEncoding proto...\rEncoding proto...\rEncoding proto...\rEncoding proto...\rEncoding proto...\rEncoding proto...\rEncoding proto...\rEncoding proto...\rEncoding proto...\rEncoding proto...\rEncoding proto...\rEncoding proto...\rEncoding proto...\rEncoding proto...\rEncoding proto...\rEncoding proto...\rEncoding proto...\rEncoding proto...\rEncoding proto...\rEncoding proto...\rEncoding proto...\rEncoding proto...\rEncoding proto...\rEncoding proto...\r"
          ]
        },
        {
          "output_type": "stream",
          "name": "stderr",
          "text": [
            "  1%|          | 2387/286150 [00:14<26:59, 175.27it/s]"
          ]
        },
        {
          "output_type": "stream",
          "name": "stdout",
          "text": [
            "Encoding proto...\rEncoding proto...\rEncoding proto...\rEncoding proto...\rEncoding proto...\rEncoding proto...\rEncoding proto...\rEncoding proto...\rEncoding proto...\rEncoding proto...\rEncoding proto...\rEncoding proto...\rEncoding proto...\rEncoding proto...\rEncoding proto...\rEncoding proto...\rEncoding proto...\rEncoding proto...\rEncoding proto...\rEncoding proto...\rEncoding proto...\rEncoding proto...\rEncoding proto...\rEncoding proto...\rEncoding proto...\rEncoding proto...\rEncoding proto...\rEncoding proto...\rEncoding proto...\rEncoding proto...\rEncoding proto...\rEncoding proto...\rEncoding proto...\rEncoding proto...\rEncoding proto...\rEncoding proto...\rEncoding proto...\rEncoding proto...\rEncoding proto...\rEncoding proto...\rEncoding proto...\rEncoding proto...\rEncoding proto...\rEncoding proto...\rEncoding proto...\rEncoding proto...\rEncoding proto...\rEncoding proto...\rEncoding proto...\rEncoding proto...\rEncoding proto...\r"
          ]
        },
        {
          "output_type": "stream",
          "name": "stderr",
          "text": [
            "  1%|          | 2433/286150 [00:14<23:02, 205.24it/s]"
          ]
        },
        {
          "output_type": "stream",
          "name": "stdout",
          "text": [
            "Encoding proto...\rEncoding proto...\rEncoding proto...\rEncoding proto...\rEncoding proto...\rEncoding proto...\rEncoding proto...\rEncoding proto...\rEncoding proto...\rEncoding proto...\rEncoding proto...\rEncoding proto...\rEncoding proto...\rEncoding proto...\rEncoding proto...\rEncoding proto...\rEncoding proto...\rEncoding proto...\rEncoding proto...\rEncoding proto...\rEncoding proto...\rEncoding proto...\rEncoding proto...\rEncoding proto...\rEncoding proto...\rEncoding proto...\rEncoding proto...\rEncoding proto...\rEncoding proto...\rEncoding proto...\rEncoding proto...\rEncoding proto...\rEncoding proto...\rEncoding proto...\rEncoding proto...\rEncoding proto...\rEncoding proto...\rEncoding proto...\rEncoding proto...\rEncoding proto...\rEncoding proto...\rEncoding proto...\rEncoding proto...\rEncoding proto...\rEncoding proto...\rEncoding proto...\r"
          ]
        },
        {
          "output_type": "stream",
          "name": "stderr",
          "text": [
            "                                                      "
          ]
        },
        {
          "output_type": "stream",
          "name": "stdout",
          "text": [
            "Encoding proto...\rEncoding proto...\rEncoding proto...\rEncoding proto...\rEncoding proto...\rEncoding proto...\rEncoding proto...\rEncoding proto...\rEncoding proto...\rEncoding proto...\rEncoding proto...\rEncoding proto...\rEncoding proto...\rEncoding proto...\rEncoding proto...\rEncoding proto...\rEncoding proto...\rEncoding proto...\rEncoding proto...\rEncoding proto...\rEncoding proto...\rEncoding proto...\rEncoding proto...\rEncoding proto...\rEncoding proto...\rEncoding proto...\rEncoding proto...\rEncoding proto...\rEncoding proto...\rEncoding proto...\rEncoding proto...\rEncoding proto...\rEncoding proto...\rEncoding proto...\rEncoding proto...\rEncoding proto...\rEncoding proto...\rEncoding proto...\rEncoding proto...\rEncoding proto...\rEncoding proto...\rEncoding proto...\rEncoding proto...\rEncoding proto...\rEncoding proto...\rEncoding proto...\rEncoding proto...\rEncoding proto...\rEncoding proto...\rEncoding proto...\rEncoding proto...\rEncoding proto...\rEncoding proto...\r"
          ]
        },
        {
          "output_type": "stream",
          "name": "stderr",
          "text": []
        },
        {
          "output_type": "stream",
          "name": "stdout",
          "text": [
            "Encoding proto...\rEncoding proto...\rEncoding proto...\rEncoding proto...\rEncoding proto...\rEncoding proto...\rEncoding proto...\rEncoding proto...\rEncoding proto...\rEncoding proto...\rEncoding proto...\rEncoding proto...\rEncoding proto...\rEncoding proto...\rEncoding proto...\rEncoding proto...\rEncoding proto...\rEncoding proto...\rEncoding proto...\rEncoding proto...\rEncoding proto...\rEncoding proto...\rEncoding proto...\rEncoding proto...\rEncoding proto...\rEncoding proto...\rEncoding proto...\rEncoding proto...\rEncoding proto...\rEncoding proto...\rEncoding proto...\rEncoding proto...\rEncoding proto...\rEncoding proto...\rEncoding proto...\rEncoding proto...\rEncoding proto...\rEncoding proto...\rEncoding proto...\rEncoding proto...\rEncoding proto...\rEncoding proto...\rEncoding proto...\rEncoding proto...\r"
          ]
        },
        {
          "output_type": "stream",
          "name": "stderr",
          "text": [
            "  1%|          | 2554/286150 [00:15<26:39, 177.29it/s]"
          ]
        },
        {
          "output_type": "stream",
          "name": "stdout",
          "text": [
            "Encoding proto...\rEncoding proto...\rEncoding proto...\rEncoding proto...\rEncoding proto...\rEncoding proto...\rEncoding proto...\rEncoding proto...\rEncoding proto...\rEncoding proto...\rEncoding proto...\rEncoding proto...\rEncoding proto...\rEncoding proto...\rEncoding proto...\rEncoding proto...\rEncoding proto...\rEncoding proto...\rEncoding proto...\rEncoding proto...\rEncoding proto...\rEncoding proto...\rEncoding proto...\rEncoding proto...\r"
          ]
        },
        {
          "output_type": "stream",
          "name": "stderr",
          "text": [
            "  1%|          | 2590/286150 [00:15<29:17, 161.38it/s]"
          ]
        },
        {
          "output_type": "stream",
          "name": "stdout",
          "text": [
            "Encoding proto...\rEncoding proto...\rEncoding proto...\rEncoding proto...\rEncoding proto...\rEncoding proto...\rEncoding proto...\rEncoding proto...\rEncoding proto...\rEncoding proto...\rEncoding proto...\rEncoding proto...\rEncoding proto...\rEncoding proto...\rEncoding proto...\rEncoding proto...\rEncoding proto...\rEncoding proto...\rEncoding proto...\rEncoding proto...\rEncoding proto...\rEncoding proto...\rEncoding proto...\rEncoding proto...\rEncoding proto...\rEncoding proto...\rEncoding proto...\rEncoding proto...\rEncoding proto...\rEncoding proto...\rEncoding proto...\rEncoding proto...\rEncoding proto...\rEncoding proto...\rEncoding proto...\rEncoding proto...\r"
          ]
        },
        {
          "output_type": "stream",
          "name": "stderr",
          "text": [
            "  1%|          | 2626/286150 [00:15<26:46, 176.47it/s]"
          ]
        },
        {
          "output_type": "stream",
          "name": "stdout",
          "text": [
            "Encoding proto...\rEncoding proto...\rEncoding proto...\rEncoding proto...\rEncoding proto...\rEncoding proto...\rEncoding proto...\rEncoding proto...\rEncoding proto...\rEncoding proto...\rEncoding proto...\rEncoding proto...\rEncoding proto...\rEncoding proto...\rEncoding proto...\rEncoding proto...\rEncoding proto...\rEncoding proto...\rEncoding proto...\rEncoding proto...\rEncoding proto...\rEncoding proto...\rEncoding proto...\rEncoding proto...\rEncoding proto...\rEncoding proto...\rEncoding proto...\rEncoding proto...\rEncoding proto...\rEncoding proto...\rEncoding proto...\rEncoding proto...\rEncoding proto...\rEncoding proto...\rEncoding proto...\rEncoding proto...\r"
          ]
        },
        {
          "output_type": "stream",
          "name": "stderr",
          "text": [
            "                                                      "
          ]
        },
        {
          "output_type": "stream",
          "name": "stdout",
          "text": [
            "Encoding proto...\rEncoding proto...\rEncoding proto...\rEncoding proto...\rEncoding proto...\rEncoding proto...\rEncoding proto...\rEncoding proto...\rEncoding proto...\rEncoding proto...\rEncoding proto...\rEncoding proto...\rEncoding proto...\rEncoding proto...\rEncoding proto...\rEncoding proto...\rEncoding proto...\rEncoding proto...\rEncoding proto...\rEncoding proto...\rEncoding proto...\rEncoding proto...\rEncoding proto...\rEncoding proto...\rEncoding proto...\rEncoding proto...\rEncoding proto...\rEncoding proto...\rEncoding proto...\rEncoding proto...\rEncoding proto...\rEncoding proto...\rEncoding proto...\rEncoding proto...\rEncoding proto...\rEncoding proto...\r"
          ]
        },
        {
          "output_type": "stream",
          "name": "stderr",
          "text": [
            "  1%|          | 2708/286150 [00:16<23:37, 200.01it/s]"
          ]
        },
        {
          "output_type": "stream",
          "name": "stdout",
          "text": [
            "Encoding proto...\rEncoding proto...\rEncoding proto...\rEncoding proto...\rEncoding proto...\rEncoding proto...\rEncoding proto...\rEncoding proto...\rEncoding proto...\rEncoding proto...\rEncoding proto...\rEncoding proto...\rEncoding proto...\rEncoding proto...\rEncoding proto...\rEncoding proto...\rEncoding proto...\rEncoding proto...\rEncoding proto...\rEncoding proto...\rEncoding proto...\rEncoding proto...\rEncoding proto...\rEncoding proto...\rEncoding proto...\rEncoding proto...\rEncoding proto...\rEncoding proto...\rEncoding proto...\rEncoding proto...\rEncoding proto...\rEncoding proto...\rEncoding proto...\rEncoding proto...\rEncoding proto...\rEncoding proto...\rEncoding proto...\rEncoding proto...\rEncoding proto...\rEncoding proto...\rEncoding proto...\rEncoding proto...\rEncoding proto...\rEncoding proto...\rEncoding proto...\rEncoding proto...\r"
          ]
        },
        {
          "output_type": "stream",
          "name": "stderr",
          "text": []
        },
        {
          "output_type": "stream",
          "name": "stdout",
          "text": [
            "Encoding proto...\rEncoding proto...\rEncoding proto...\rEncoding proto...\rEncoding proto...\rEncoding proto...\rEncoding proto...\rEncoding proto...\rEncoding proto...\rEncoding proto...\rEncoding proto...\rEncoding proto...\rEncoding proto...\rEncoding proto...\r"
          ]
        },
        {
          "output_type": "stream",
          "name": "stderr",
          "text": [
            "                                                      "
          ]
        },
        {
          "output_type": "stream",
          "name": "stdout",
          "text": [
            "Encoding proto...\rEncoding proto...\rEncoding proto...\r"
          ]
        },
        {
          "output_type": "stream",
          "name": "stderr",
          "text": [
            "  1%|          | 2750/286150 [00:17<56:50, 83.10it/s]"
          ]
        },
        {
          "output_type": "stream",
          "name": "stdout",
          "text": [
            "Encoding proto...\rEncoding proto...\rEncoding proto...\rEncoding proto...\rEncoding proto...\rEncoding proto...\rEncoding proto...\rEncoding proto...\rEncoding proto...\rEncoding proto...\rEncoding proto...\rEncoding proto...\rEncoding proto...\rEncoding proto...\rEncoding proto...\rEncoding proto...\rEncoding proto...\rEncoding proto...\rEncoding proto...\rEncoding proto...\rEncoding proto...\rEncoding proto...\rEncoding proto...\rEncoding proto...\rEncoding proto...\r"
          ]
        },
        {
          "output_type": "stream",
          "name": "stderr",
          "text": [
            "  1%|          | 2774/286150 [00:17<49:04, 96.24it/s]"
          ]
        },
        {
          "output_type": "stream",
          "name": "stdout",
          "text": [
            "Encoding proto...\rEncoding proto...\rEncoding proto...\rEncoding proto...\rEncoding proto...\rEncoding proto...\rEncoding proto...\rEncoding proto...\rEncoding proto...\rEncoding proto...\rEncoding proto...\rEncoding proto...\rEncoding proto...\rEncoding proto...\rEncoding proto...\rEncoding proto...\rEncoding proto...\rEncoding proto...\rEncoding proto...\rEncoding proto...\rEncoding proto...\rEncoding proto...\rEncoding proto...\rEncoding proto...\r"
          ]
        },
        {
          "output_type": "stream",
          "name": "stderr",
          "text": [
            "  1%|          | 2808/286150 [00:17<41:14, 114.50it/s]"
          ]
        },
        {
          "output_type": "stream",
          "name": "stdout",
          "text": [
            "Encoding proto...\rEncoding proto...\rEncoding proto...\rEncoding proto...\rEncoding proto...\rEncoding proto...\rEncoding proto...\rEncoding proto...\rEncoding proto...\rEncoding proto...\rEncoding proto...\rEncoding proto...\rEncoding proto...\rEncoding proto...\rEncoding proto...\rEncoding proto...\rEncoding proto...\rEncoding proto...\rEncoding proto...\rEncoding proto...\rEncoding proto...\rEncoding proto...\rEncoding proto...\rEncoding proto...\rEncoding proto...\rEncoding proto...\rEncoding proto...\rEncoding proto...\rEncoding proto...\rEncoding proto...\rEncoding proto...\rEncoding proto...\rEncoding proto...\rEncoding proto...\r"
          ]
        },
        {
          "output_type": "stream",
          "name": "stderr",
          "text": [
            "  1%|          | 2841/286150 [00:17<34:46, 135.78it/s]"
          ]
        },
        {
          "output_type": "stream",
          "name": "stdout",
          "text": [
            "Encoding proto...\rEncoding proto...\rEncoding proto...\rEncoding proto...\rEncoding proto...\rEncoding proto...\rEncoding proto...\rEncoding proto...\rEncoding proto...\rEncoding proto...\rEncoding proto...\rEncoding proto...\rEncoding proto...\rEncoding proto...\rEncoding proto...\rEncoding proto...\rEncoding proto...\rEncoding proto...\rEncoding proto...\rEncoding proto...\rEncoding proto...\rEncoding proto...\rEncoding proto...\rEncoding proto...\rEncoding proto...\rEncoding proto...\rEncoding proto...\rEncoding proto...\rEncoding proto...\rEncoding proto...\rEncoding proto...\rEncoding proto...\rEncoding proto...\r"
          ]
        },
        {
          "output_type": "stream",
          "name": "stderr",
          "text": [
            "  1%|          | 2880/286150 [00:17<29:59, 157.45it/s]"
          ]
        },
        {
          "output_type": "stream",
          "name": "stdout",
          "text": [
            "Encoding proto...\rEncoding proto...\rEncoding proto...\rEncoding proto...\rEncoding proto...\rEncoding proto...\rEncoding proto...\rEncoding proto...\rEncoding proto...\rEncoding proto...\rEncoding proto...\rEncoding proto...\rEncoding proto...\rEncoding proto...\rEncoding proto...\rEncoding proto...\rEncoding proto...\rEncoding proto...\rEncoding proto...\rEncoding proto...\rEncoding proto...\rEncoding proto...\rEncoding proto...\rEncoding proto...\rEncoding proto...\rEncoding proto...\rEncoding proto...\rEncoding proto...\rEncoding proto...\rEncoding proto...\rEncoding proto...\rEncoding proto...\rEncoding proto...\rEncoding proto...\rEncoding proto...\rEncoding proto...\rEncoding proto...\rEncoding proto...\rEncoding proto...\r"
          ]
        },
        {
          "output_type": "stream",
          "name": "stderr",
          "text": []
        },
        {
          "output_type": "stream",
          "name": "stdout",
          "text": [
            "Encoding proto...\rEncoding proto...\rEncoding proto...\rEncoding proto...\rEncoding proto...\rEncoding proto...\rEncoding proto...\rEncoding proto...\rEncoding proto...\rEncoding proto...\rEncoding proto...\rEncoding proto...\rEncoding proto...\rEncoding proto...\rEncoding proto...\rEncoding proto...\rEncoding proto...\rEncoding proto...\rEncoding proto...\rEncoding proto...\rEncoding proto...\rEncoding proto...\rEncoding proto...\rEncoding proto...\rEncoding proto...\rEncoding proto...\rEncoding proto...\rEncoding proto...\rEncoding proto...\rEncoding proto...\rEncoding proto...\rEncoding proto...\rEncoding proto...\rEncoding proto...\rEncoding proto...\rEncoding proto...\rEncoding proto...\rEncoding proto...\rEncoding proto...\rEncoding proto...\r"
          ]
        },
        {
          "output_type": "stream",
          "name": "stderr",
          "text": [
            "  1%|          | 2948/286150 [00:18<26:59, 174.88it/s]"
          ]
        },
        {
          "output_type": "stream",
          "name": "stdout",
          "text": [
            "Encoding proto...\rEncoding proto...\rEncoding proto...\rEncoding proto...\rEncoding proto...\rEncoding proto...\rEncoding proto...\rEncoding proto...\rEncoding proto...\rEncoding proto...\rEncoding proto...\rEncoding proto...\rEncoding proto...\rEncoding proto...\rEncoding proto...\rEncoding proto...\rEncoding proto...\rEncoding proto...\rEncoding proto...\rEncoding proto...\rEncoding proto...\rEncoding proto...\rEncoding proto...\rEncoding proto...\rEncoding proto...\rEncoding proto...\rEncoding proto...\rEncoding proto...\r"
          ]
        },
        {
          "output_type": "stream",
          "name": "stderr",
          "text": [
            "                                                      "
          ]
        },
        {
          "output_type": "stream",
          "name": "stdout",
          "text": [
            "Encoding proto...\rEncoding proto...\rEncoding proto...\rEncoding proto...\rEncoding proto...\r"
          ]
        },
        {
          "output_type": "stream",
          "name": "stderr",
          "text": [
            "                                                      "
          ]
        },
        {
          "output_type": "stream",
          "name": "stdout",
          "text": [
            "Encoding proto...\rEncoding proto...\rEncoding proto...\rEncoding proto...\rEncoding proto...\rEncoding proto...\rEncoding proto...\rEncoding proto...\rEncoding proto...\rEncoding proto...\rEncoding proto...\rEncoding proto...\rEncoding proto...\rEncoding proto...\rEncoding proto...\rEncoding proto...\rEncoding proto...\rEncoding proto...\rEncoding proto...\rEncoding proto...\rEncoding proto...\rEncoding proto...\rEncoding proto...\rEncoding proto...\rEncoding proto...\rEncoding proto...\rEncoding proto...\rEncoding proto...\rEncoding proto...\r"
          ]
        },
        {
          "output_type": "stream",
          "name": "stderr",
          "text": [
            "  1%|          | 3011/286150 [00:19<37:42, 125.13it/s]"
          ]
        },
        {
          "output_type": "stream",
          "name": "stdout",
          "text": [
            "Encoding proto...\rEncoding proto...\rEncoding proto...\rEncoding proto...\rEncoding proto...\rEncoding proto...\rEncoding proto...\rEncoding proto...\rEncoding proto...\rEncoding proto...\rEncoding proto...\rEncoding proto...\rEncoding proto...\rEncoding proto...\rEncoding proto...\rEncoding proto...\rEncoding proto...\rEncoding proto...\rEncoding proto...\rEncoding proto...\rEncoding proto...\rEncoding proto...\rEncoding proto...\rEncoding proto...\rEncoding proto...\rEncoding proto...\rEncoding proto...\rEncoding proto...\rEncoding proto...\r"
          ]
        },
        {
          "output_type": "stream",
          "name": "stderr",
          "text": [
            "                                                      "
          ]
        },
        {
          "output_type": "stream",
          "name": "stdout",
          "text": [
            "Encoding proto...\rEncoding proto...\rEncoding proto...\rEncoding proto...\rEncoding proto...\rEncoding proto...\rEncoding proto...\rEncoding proto...\rEncoding proto...\rEncoding proto...\rEncoding proto...\rEncoding proto...\rEncoding proto...\rEncoding proto...\rEncoding proto...\rEncoding proto...\rEncoding proto...\rEncoding proto...\rEncoding proto...\rEncoding proto...\rEncoding proto...\rEncoding proto...\rEncoding proto...\rEncoding proto...\rEncoding proto...\rEncoding proto...\rEncoding proto...\rEncoding proto...\rEncoding proto...\rEncoding proto...\rEncoding proto...\rEncoding proto...\rEncoding proto...\rEncoding proto...\rEncoding proto...\rEncoding proto...\r"
          ]
        },
        {
          "output_type": "stream",
          "name": "stderr",
          "text": [
            "  1%|          | 3082/286150 [00:19<31:03, 151.93it/s]"
          ]
        },
        {
          "output_type": "stream",
          "name": "stdout",
          "text": [
            "Encoding proto...\rEncoding proto...\rEncoding proto...\rEncoding proto...\rEncoding proto...\rEncoding proto...\rEncoding proto...\rEncoding proto...\rEncoding proto...\rEncoding proto...\rEncoding proto...\rEncoding proto...\rEncoding proto...\rEncoding proto...\rEncoding proto...\rEncoding proto...\rEncoding proto...\rEncoding proto...\rEncoding proto...\rEncoding proto...\rEncoding proto...\rEncoding proto...\rEncoding proto...\rEncoding proto...\rEncoding proto...\rEncoding proto...\rEncoding proto...\rEncoding proto...\rEncoding proto...\rEncoding proto...\rEncoding proto...\rEncoding proto...\rEncoding proto...\rEncoding proto...\rEncoding proto...\r"
          ]
        },
        {
          "output_type": "stream",
          "name": "stderr",
          "text": [
            "                                                      "
          ]
        },
        {
          "output_type": "stream",
          "name": "stdout",
          "text": [
            "Encoding proto...\rEncoding proto...\rEncoding proto...\rEncoding proto...\rEncoding proto...\rEncoding proto...\rEncoding proto...\rEncoding proto...\rEncoding proto...\rEncoding proto...\rEncoding proto...\rEncoding proto...\rEncoding proto...\rEncoding proto...\rEncoding proto...\rEncoding proto...\rEncoding proto...\rEncoding proto...\rEncoding proto...\rEncoding proto...\rEncoding proto...\rEncoding proto...\rEncoding proto...\rEncoding proto...\rEncoding proto...\r"
          ]
        },
        {
          "output_type": "stream",
          "name": "stderr",
          "text": [
            "  1%|          | 3122/286150 [00:19<34:09, 138.12it/s]"
          ]
        },
        {
          "output_type": "stream",
          "name": "stdout",
          "text": [
            "Encoding proto...\rEncoding proto...\rEncoding proto...\rEncoding proto...\rEncoding proto...\rEncoding proto...\rEncoding proto...\rEncoding proto...\rEncoding proto...\rEncoding proto...\rEncoding proto...\rEncoding proto...\rEncoding proto...\rEncoding proto...\rEncoding proto...\r"
          ]
        },
        {
          "output_type": "stream",
          "name": "stderr",
          "text": []
        },
        {
          "output_type": "stream",
          "name": "stdout",
          "text": [
            "Encoding proto...\rEncoding proto...\rEncoding proto...\rEncoding proto...\rEncoding proto...\rEncoding proto...\rEncoding proto...\rEncoding proto...\rEncoding proto...\rEncoding proto...\rEncoding proto...\rEncoding proto...\rEncoding proto...\rEncoding proto...\rEncoding proto...\rEncoding proto...\rEncoding proto...\rEncoding proto...\rEncoding proto...\rEncoding proto...\rEncoding proto...\rEncoding proto...\rEncoding proto...\rEncoding proto...\rEncoding proto...\rEncoding proto...\rEncoding proto...\rEncoding proto...\rEncoding proto...\rEncoding proto...\r"
          ]
        },
        {
          "output_type": "stream",
          "name": "stderr",
          "text": [
            "  1%|          | 3187/286150 [00:20<33:33, 140.54it/s]"
          ]
        },
        {
          "output_type": "stream",
          "name": "stdout",
          "text": [
            "Encoding proto...\rEncoding proto...\rEncoding proto...\rEncoding proto...\rEncoding proto...\rEncoding proto...\rEncoding proto...\rEncoding proto...\rEncoding proto...\rEncoding proto...\rEncoding proto...\rEncoding proto...\rEncoding proto...\rEncoding proto...\rEncoding proto...\rEncoding proto...\rEncoding proto...\rEncoding proto...\rEncoding proto...\rEncoding proto...\rEncoding proto...\rEncoding proto...\rEncoding proto...\rEncoding proto...\rEncoding proto...\rEncoding proto...\rEncoding proto...\rEncoding proto...\rEncoding proto...\rEncoding proto...\rEncoding proto...\rEncoding proto...\rEncoding proto...\rEncoding proto...\rEncoding proto...\r"
          ]
        },
        {
          "output_type": "stream",
          "name": "stderr",
          "text": [
            "  1%|          | 3218/286150 [00:20<32:22, 145.68it/s]"
          ]
        },
        {
          "output_type": "stream",
          "name": "stdout",
          "text": [
            "Encoding proto...\rEncoding proto...\rEncoding proto...\rEncoding proto...\rEncoding proto...\rEncoding proto...\rEncoding proto...\rEncoding proto...\rEncoding proto...\rEncoding proto...\rEncoding proto...\rEncoding proto...\rEncoding proto...\rEncoding proto...\rEncoding proto...\rEncoding proto...\rEncoding proto...\rEncoding proto...\rEncoding proto...\rEncoding proto...\rEncoding proto...\rEncoding proto...\rEncoding proto...\rEncoding proto...\rEncoding proto...\rEncoding proto...\rEncoding proto...\rEncoding proto...\rEncoding proto...\rEncoding proto...\rEncoding proto...\r"
          ]
        },
        {
          "output_type": "stream",
          "name": "stderr",
          "text": [
            "  1%|          | 3250/286150 [00:20<31:48, 148.20it/s]"
          ]
        },
        {
          "output_type": "stream",
          "name": "stdout",
          "text": [
            "Encoding proto...\rEncoding proto...\rEncoding proto...\rEncoding proto...\rEncoding proto...\rEncoding proto...\rEncoding proto...\rEncoding proto...\rEncoding proto...\rEncoding proto...\rEncoding proto...\rEncoding proto...\rEncoding proto...\rEncoding proto...\rEncoding proto...\rEncoding proto...\rEncoding proto...\rEncoding proto...\rEncoding proto...\rEncoding proto...\rEncoding proto...\rEncoding proto...\rEncoding proto...\rEncoding proto...\rEncoding proto...\rEncoding proto...\rEncoding proto...\rEncoding proto...\rEncoding proto...\rEncoding proto...\rEncoding proto...\rEncoding proto...\r"
          ]
        },
        {
          "output_type": "stream",
          "name": "stderr",
          "text": [
            "  1%|          | 3279/286150 [00:20<34:12, 137.82it/s]"
          ]
        },
        {
          "output_type": "stream",
          "name": "stdout",
          "text": [
            "Encoding proto...\rEncoding proto...\rEncoding proto...\rEncoding proto...\rEncoding proto...\rEncoding proto...\rEncoding proto...\rEncoding proto...\rEncoding proto...\rEncoding proto...\rEncoding proto...\rEncoding proto...\rEncoding proto...\rEncoding proto...\rEncoding proto...\rEncoding proto...\rEncoding proto...\rEncoding proto...\rEncoding proto...\rEncoding proto...\rEncoding proto...\rEncoding proto...\rEncoding proto...\rEncoding proto...\rEncoding proto...\rEncoding proto...\rEncoding proto...\rEncoding proto...\rEncoding proto...\r"
          ]
        },
        {
          "output_type": "stream",
          "name": "stderr",
          "text": [
            "  1%|          | 3287/286150 [00:21<34:12, 137.82it/s]"
          ]
        },
        {
          "output_type": "stream",
          "name": "stdout",
          "text": [
            "Encoding proto...\rEncoding proto...\rEncoding proto...\rEncoding proto...\rEncoding proto...\rEncoding proto...\rEncoding proto...\rEncoding proto...\r"
          ]
        },
        {
          "output_type": "stream",
          "name": "stderr",
          "text": [
            "                                                       "
          ]
        },
        {
          "output_type": "stream",
          "name": "stdout",
          "text": [
            "Encoding proto...\rEncoding proto...\rEncoding proto...\rEncoding proto...\r"
          ]
        },
        {
          "output_type": "stream",
          "name": "stderr",
          "text": [
            "  1%|          | 3301/286150 [00:21<1:02:54, 74.93it/s]"
          ]
        },
        {
          "output_type": "stream",
          "name": "stdout",
          "text": [
            "Encoding proto...\rEncoding proto...\rEncoding proto...\rEncoding proto...\rEncoding proto...\rEncoding proto...\rEncoding proto...\rEncoding proto...\rEncoding proto...\rEncoding proto...\r"
          ]
        },
        {
          "output_type": "stream",
          "name": "stderr",
          "text": [
            "  1%|          | 3318/286150 [00:21<1:16:58, 61.24it/s]"
          ]
        },
        {
          "output_type": "stream",
          "name": "stdout",
          "text": [
            "Encoding proto...\rEncoding proto...\rEncoding proto...\rEncoding proto...\rEncoding proto...\rEncoding proto...\rEncoding proto...\rEncoding proto...\rEncoding proto...\rEncoding proto...\rEncoding proto...\rEncoding proto...\rEncoding proto...\rEncoding proto...\rEncoding proto...\rEncoding proto...\rEncoding proto...\r"
          ]
        },
        {
          "output_type": "stream",
          "name": "stderr",
          "text": [
            "  1%|          | 3344/286150 [00:22<54:27, 86.56it/s]"
          ]
        },
        {
          "output_type": "stream",
          "name": "stdout",
          "text": [
            "Encoding proto...\rEncoding proto...\rEncoding proto...\rEncoding proto...\rEncoding proto...\rEncoding proto...\rEncoding proto...\rEncoding proto...\rEncoding proto...\rEncoding proto...\rEncoding proto...\rEncoding proto...\rEncoding proto...\rEncoding proto...\rEncoding proto...\rEncoding proto...\rEncoding proto...\rEncoding proto...\rEncoding proto...\rEncoding proto...\rEncoding proto...\rEncoding proto...\rEncoding proto...\rEncoding proto...\rEncoding proto...\rEncoding proto...\r"
          ]
        },
        {
          "output_type": "stream",
          "name": "stderr",
          "text": [
            "  1%|          | 3373/286150 [00:22<49:45, 94.71it/s]"
          ]
        },
        {
          "output_type": "stream",
          "name": "stdout",
          "text": [
            "Encoding proto...\rEncoding proto...\rEncoding proto...\rEncoding proto...\rEncoding proto...\rEncoding proto...\rEncoding proto...\rEncoding proto...\rEncoding proto...\rEncoding proto...\rEncoding proto...\rEncoding proto...\rEncoding proto...\rEncoding proto...\rEncoding proto...\rEncoding proto...\rEncoding proto...\rEncoding proto...\rEncoding proto...\rEncoding proto...\rEncoding proto...\rEncoding proto...\rEncoding proto...\rEncoding proto...\rEncoding proto...\rEncoding proto...\rEncoding proto...\rEncoding proto...\rEncoding proto...\r"
          ]
        },
        {
          "output_type": "stream",
          "name": "stderr",
          "text": [
            "  1%|          | 3382/286150 [00:22<42:47, 110.14it/s]"
          ]
        },
        {
          "output_type": "stream",
          "name": "stdout",
          "text": [
            "Encoding proto...\rEncoding proto...\rEncoding proto...\rEncoding proto...\rEncoding proto...\rEncoding proto...\rEncoding proto...\rEncoding proto...\rEncoding proto...\r"
          ]
        },
        {
          "output_type": "stream",
          "name": "stderr",
          "text": [
            "  1%|          | 3386/286150 [00:22<42:47, 110.14it/s]"
          ]
        },
        {
          "output_type": "stream",
          "name": "stdout",
          "text": [
            "Encoding proto...\rEncoding proto...\rEncoding proto...\rEncoding proto...\r"
          ]
        },
        {
          "output_type": "stream",
          "name": "stderr",
          "text": [
            "  1%|          | 3390/286150 [00:23<42:47, 110.14it/s]"
          ]
        },
        {
          "output_type": "stream",
          "name": "stdout",
          "text": [
            "Encoding proto...\rEncoding proto...\rEncoding proto...\rEncoding proto...\r"
          ]
        },
        {
          "output_type": "stream",
          "name": "stderr",
          "text": [
            "                                                       "
          ]
        },
        {
          "output_type": "stream",
          "name": "stdout",
          "text": [
            "Encoding proto...\rEncoding proto...\rEncoding proto...\rEncoding proto...\r"
          ]
        },
        {
          "output_type": "stream",
          "name": "stderr",
          "text": [
            "  1%|          | 3398/286150 [00:23<2:02:18, 38.53it/s]"
          ]
        },
        {
          "output_type": "stream",
          "name": "stdout",
          "text": [
            "Encoding proto...\rEncoding proto...\rEncoding proto...\rEncoding proto...\r"
          ]
        },
        {
          "output_type": "stream",
          "name": "stderr",
          "text": [
            "  1%|          | 3403/286150 [00:23<2:02:18, 38.53it/s]"
          ]
        },
        {
          "output_type": "stream",
          "name": "stdout",
          "text": [
            "Encoding proto...\rEncoding proto...\rEncoding proto...\rEncoding proto...\rEncoding proto...\r"
          ]
        },
        {
          "output_type": "stream",
          "name": "stderr",
          "text": [
            "                                                       "
          ]
        },
        {
          "output_type": "stream",
          "name": "stdout",
          "text": [
            "Encoding proto...\rEncoding proto...\rEncoding proto...\rEncoding proto...\rEncoding proto...\rEncoding proto...\rEncoding proto...\rEncoding proto...\r"
          ]
        },
        {
          "output_type": "stream",
          "name": "stderr",
          "text": []
        },
        {
          "output_type": "stream",
          "name": "stdout",
          "text": [
            "Encoding proto...\rEncoding proto...\rEncoding proto...\rEncoding proto...\rEncoding proto...\rEncoding proto...\rEncoding proto...\rEncoding proto...\rEncoding proto...\rEncoding proto...\rEncoding proto...\rEncoding proto...\rEncoding proto...\rEncoding proto...\rEncoding proto...\rEncoding proto...\rEncoding proto...\rEncoding proto...\rEncoding proto...\rEncoding proto...\rEncoding proto...\rEncoding proto...\rEncoding proto...\rEncoding proto...\rEncoding proto...\rEncoding proto...\rEncoding proto...\r"
          ]
        },
        {
          "output_type": "stream",
          "name": "stderr",
          "text": [
            "                                                       "
          ]
        },
        {
          "output_type": "stream",
          "name": "stdout",
          "text": [
            "Encoding proto...\rEncoding proto...\rEncoding proto...\rEncoding proto...\rEncoding proto...\rEncoding proto...\rEncoding proto...\rEncoding proto...\rEncoding proto...\rEncoding proto...\rEncoding proto...\rEncoding proto...\rEncoding proto...\rEncoding proto...\rEncoding proto...\rEncoding proto...\rEncoding proto...\rEncoding proto...\rEncoding proto...\rEncoding proto...\rEncoding proto...\rEncoding proto...\rEncoding proto...\rEncoding proto...\rEncoding proto...\rEncoding proto...\rEncoding proto...\rEncoding proto...\rEncoding proto...\rEncoding proto...\rEncoding proto...\r"
          ]
        },
        {
          "output_type": "stream",
          "name": "stderr",
          "text": [
            "  1%|          | 3508/286150 [00:24<43:17, 108.83it/s]"
          ]
        },
        {
          "output_type": "stream",
          "name": "stdout",
          "text": [
            "Encoding proto...\rEncoding proto...\rEncoding proto...\rEncoding proto...\rEncoding proto...\rEncoding proto...\rEncoding proto...\rEncoding proto...\rEncoding proto...\rEncoding proto...\rEncoding proto...\rEncoding proto...\rEncoding proto...\rEncoding proto...\rEncoding proto...\rEncoding proto...\rEncoding proto...\rEncoding proto...\rEncoding proto...\rEncoding proto...\rEncoding proto...\rEncoding proto...\rEncoding proto...\rEncoding proto...\rEncoding proto...\rEncoding proto...\rEncoding proto...\rEncoding proto...\rEncoding proto...\rEncoding proto...\rEncoding proto...\rEncoding proto...\rEncoding proto...\rEncoding proto...\rEncoding proto...\rEncoding proto...\rEncoding proto...\rEncoding proto...\rEncoding proto...\r"
          ]
        },
        {
          "output_type": "stream",
          "name": "stderr",
          "text": [
            "                                                      "
          ]
        },
        {
          "output_type": "stream",
          "name": "stdout",
          "text": [
            "Encoding proto...\rEncoding proto...\rEncoding proto...\rEncoding proto...\rEncoding proto...\rEncoding proto...\rEncoding proto...\rEncoding proto...\rEncoding proto...\rEncoding proto...\rEncoding proto...\rEncoding proto...\rEncoding proto...\rEncoding proto...\rEncoding proto...\rEncoding proto...\rEncoding proto...\rEncoding proto...\rEncoding proto...\rEncoding proto...\rEncoding proto...\rEncoding proto...\rEncoding proto...\rEncoding proto...\rEncoding proto...\rEncoding proto...\rEncoding proto...\rEncoding proto...\rEncoding proto...\rEncoding proto...\rEncoding proto...\rEncoding proto...\rEncoding proto...\r"
          ]
        },
        {
          "output_type": "stream",
          "name": "stderr",
          "text": []
        },
        {
          "output_type": "stream",
          "name": "stdout",
          "text": [
            "Encoding proto...\rEncoding proto...\rEncoding proto...\rEncoding proto...\rEncoding proto...\rEncoding proto...\rEncoding proto...\rEncoding proto...\rEncoding proto...\rEncoding proto...\rEncoding proto...\rEncoding proto...\rEncoding proto...\rEncoding proto...\rEncoding proto...\rEncoding proto...\rEncoding proto...\rEncoding proto...\rEncoding proto...\rEncoding proto...\rEncoding proto...\rEncoding proto...\rEncoding proto...\rEncoding proto...\rEncoding proto...\rEncoding proto...\rEncoding proto...\rEncoding proto...\rEncoding proto...\rEncoding proto...\rEncoding proto...\rEncoding proto...\rEncoding proto...\rEncoding proto...\rEncoding proto...\rEncoding proto...\rEncoding proto...\rEncoding proto...\rEncoding proto...\rEncoding proto...\r"
          ]
        },
        {
          "output_type": "stream",
          "name": "stderr",
          "text": []
        },
        {
          "output_type": "stream",
          "name": "stdout",
          "text": [
            "Encoding proto...\rEncoding proto...\rEncoding proto...\rEncoding proto...\rEncoding proto...\rEncoding proto...\rEncoding proto...\rEncoding proto...\rEncoding proto...\rEncoding proto...\rEncoding proto...\rEncoding proto...\rEncoding proto...\rEncoding proto...\rEncoding proto...\rEncoding proto...\rEncoding proto...\rEncoding proto...\rEncoding proto...\rEncoding proto...\rEncoding proto...\rEncoding proto...\rEncoding proto...\rEncoding proto...\rEncoding proto...\rEncoding proto...\r"
          ]
        },
        {
          "output_type": "stream",
          "name": "stderr",
          "text": [
            "  1%|▏         | 3631/286150 [00:25<36:22, 129.46it/s]"
          ]
        },
        {
          "output_type": "stream",
          "name": "stdout",
          "text": [
            "Encoding proto...\rEncoding proto...\rEncoding proto...\rEncoding proto...\rEncoding proto...\rEncoding proto...\rEncoding proto...\rEncoding proto...\rEncoding proto...\rEncoding proto...\rEncoding proto...\rEncoding proto...\rEncoding proto...\rEncoding proto...\rEncoding proto...\rEncoding proto...\rEncoding proto...\rEncoding proto...\rEncoding proto...\rEncoding proto...\rEncoding proto...\rEncoding proto...\rEncoding proto...\rEncoding proto...\r"
          ]
        },
        {
          "output_type": "stream",
          "name": "stderr",
          "text": []
        },
        {
          "output_type": "stream",
          "name": "stdout",
          "text": [
            "Encoding proto...\rEncoding proto...\rEncoding proto...\rEncoding proto...\rEncoding proto...\rEncoding proto...\rEncoding proto...\rEncoding proto...\rEncoding proto...\rEncoding proto...\rEncoding proto...\rEncoding proto...\rEncoding proto...\rEncoding proto...\rEncoding proto...\rEncoding proto...\rEncoding proto...\rEncoding proto...\rEncoding proto...\rEncoding proto...\rEncoding proto...\rEncoding proto...\rEncoding proto...\rEncoding proto...\rEncoding proto...\rEncoding proto...\rEncoding proto...\rEncoding proto...\rEncoding proto...\rEncoding proto...\rEncoding proto...\rEncoding proto...\rEncoding proto...\rEncoding proto...\r"
          ]
        },
        {
          "output_type": "stream",
          "name": "stderr",
          "text": [
            "  1%|▏         | 3701/286150 [00:26<36:10, 130.13it/s]"
          ]
        },
        {
          "output_type": "stream",
          "name": "stdout",
          "text": [
            "Encoding proto...\rEncoding proto...\rEncoding proto...\rEncoding proto...\rEncoding proto...\rEncoding proto...\rEncoding proto...\rEncoding proto...\rEncoding proto...\rEncoding proto...\rEncoding proto...\rEncoding proto...\rEncoding proto...\rEncoding proto...\rEncoding proto...\rEncoding proto...\rEncoding proto...\rEncoding proto...\rEncoding proto...\rEncoding proto...\rEncoding proto...\rEncoding proto...\rEncoding proto...\rEncoding proto...\rEncoding proto...\rEncoding proto...\rEncoding proto...\rEncoding proto...\rEncoding proto...\rEncoding proto...\rEncoding proto...\rEncoding proto...\rEncoding proto...\rEncoding proto...\rEncoding proto...\rEncoding proto...\r"
          ]
        },
        {
          "output_type": "stream",
          "name": "stderr",
          "text": []
        },
        {
          "output_type": "stream",
          "name": "stdout",
          "text": [
            "Encoding proto...\rEncoding proto...\rEncoding proto...\rEncoding proto...\rEncoding proto...\rEncoding proto...\rEncoding proto...\rEncoding proto...\rEncoding proto...\rEncoding proto...\rEncoding proto...\rEncoding proto...\rEncoding proto...\rEncoding proto...\rEncoding proto...\rEncoding proto...\rEncoding proto...\rEncoding proto...\rEncoding proto...\rEncoding proto...\rEncoding proto...\rEncoding proto...\rEncoding proto...\rEncoding proto...\rEncoding proto...\rEncoding proto...\rEncoding proto...\rEncoding proto...\rEncoding proto...\rEncoding proto...\rEncoding proto...\rEncoding proto...\rEncoding proto...\rEncoding proto...\rEncoding proto...\rEncoding proto...\rEncoding proto...\rEncoding proto...\r"
          ]
        },
        {
          "output_type": "stream",
          "name": "stderr",
          "text": []
        },
        {
          "output_type": "stream",
          "name": "stdout",
          "text": [
            "Encoding proto...\rEncoding proto...\rEncoding proto...\rEncoding proto...\rEncoding proto...\rEncoding proto...\rEncoding proto...\rEncoding proto...\rEncoding proto...\rEncoding proto...\rEncoding proto...\rEncoding proto...\rEncoding proto...\rEncoding proto...\rEncoding proto...\rEncoding proto...\rEncoding proto...\rEncoding proto...\rEncoding proto...\rEncoding proto...\rEncoding proto...\rEncoding proto...\rEncoding proto...\rEncoding proto...\rEncoding proto...\rEncoding proto...\rEncoding proto...\rEncoding proto...\rEncoding proto...\rEncoding proto...\rEncoding proto...\rEncoding proto...\rEncoding proto...\rEncoding proto...\rEncoding proto...\rEncoding proto...\rEncoding proto...\rEncoding proto...\rEncoding proto...\rEncoding proto...\r"
          ]
        },
        {
          "output_type": "stream",
          "name": "stderr",
          "text": []
        },
        {
          "output_type": "stream",
          "name": "stdout",
          "text": [
            "Encoding proto...\rEncoding proto...\rEncoding proto...\rEncoding proto...\rEncoding proto...\rEncoding proto...\rEncoding proto...\rEncoding proto...\rEncoding proto...\rEncoding proto...\rEncoding proto...\rEncoding proto...\rEncoding proto...\rEncoding proto...\rEncoding proto...\rEncoding proto...\rEncoding proto...\rEncoding proto...\rEncoding proto...\rEncoding proto...\rEncoding proto...\rEncoding proto...\rEncoding proto...\rEncoding proto...\rEncoding proto...\rEncoding proto...\rEncoding proto...\rEncoding proto...\rEncoding proto...\rEncoding proto...\rEncoding proto...\rEncoding proto...\rEncoding proto...\rEncoding proto...\rEncoding proto...\rEncoding proto...\rEncoding proto...\rEncoding proto...\rEncoding proto...\rEncoding proto...\rEncoding proto...\rEncoding proto...\r"
          ]
        },
        {
          "output_type": "stream",
          "name": "stderr",
          "text": [
            "  1%|▏         | 3831/286150 [00:27<27:29, 171.16it/s]"
          ]
        },
        {
          "output_type": "stream",
          "name": "stdout",
          "text": [
            "Encoding proto...\rEncoding proto...\rEncoding proto...\rEncoding proto...\rEncoding proto...\rEncoding proto...\rEncoding proto...\rEncoding proto...\rEncoding proto...\rEncoding proto...\r"
          ]
        },
        {
          "output_type": "stream",
          "name": "stderr",
          "text": [
            "  1%|▏         | 3839/286150 [00:27<27:29, 171.16it/s]"
          ]
        },
        {
          "output_type": "stream",
          "name": "stdout",
          "text": [
            "Encoding proto...\rEncoding proto...\rEncoding proto...\rEncoding proto...\rEncoding proto...\rEncoding proto...\rEncoding proto...\rEncoding proto...\r"
          ]
        },
        {
          "output_type": "stream",
          "name": "stderr",
          "text": []
        },
        {
          "output_type": "stream",
          "name": "stdout",
          "text": [
            "Encoding proto...\rEncoding proto...\rEncoding proto...\rEncoding proto...\r"
          ]
        },
        {
          "output_type": "stream",
          "name": "stderr",
          "text": [
            "  1%|▏         | 3859/286150 [00:27<1:18:44, 59.74it/s]"
          ]
        },
        {
          "output_type": "stream",
          "name": "stdout",
          "text": [
            "Encoding proto...\rEncoding proto...\rEncoding proto...\rEncoding proto...\rEncoding proto...\rEncoding proto...\rEncoding proto...\rEncoding proto...\rEncoding proto...\rEncoding proto...\rEncoding proto...\rEncoding proto...\rEncoding proto...\rEncoding proto...\rEncoding proto...\rEncoding proto...\r"
          ]
        },
        {
          "output_type": "stream",
          "name": "stderr",
          "text": [
            "  1%|▏         | 3917/286150 [00:28<42:18, 111.16it/s]"
          ]
        },
        {
          "output_type": "stream",
          "name": "stdout",
          "text": [
            "Encoding proto...\rEncoding proto...\rEncoding proto...\rEncoding proto...\rEncoding proto...\rEncoding proto...\rEncoding proto...\rEncoding proto...\rEncoding proto...\rEncoding proto...\rEncoding proto...\rEncoding proto...\rEncoding proto...\rEncoding proto...\rEncoding proto...\rEncoding proto...\rEncoding proto...\rEncoding proto...\rEncoding proto...\rEncoding proto...\rEncoding proto...\rEncoding proto...\rEncoding proto...\rEncoding proto...\rEncoding proto...\rEncoding proto...\rEncoding proto...\rEncoding proto...\rEncoding proto...\rEncoding proto...\rEncoding proto...\rEncoding proto...\rEncoding proto...\rEncoding proto...\rEncoding proto...\rEncoding proto...\rEncoding proto...\rEncoding proto...\rEncoding proto...\rEncoding proto...\rEncoding proto...\rEncoding proto...\rEncoding proto...\rEncoding proto...\rEncoding proto...\rEncoding proto...\rEncoding proto...\rEncoding proto...\rEncoding proto...\rEncoding proto...\rEncoding proto...\rEncoding proto...\rEncoding proto...\rEncoding proto...\rEncoding proto...\rEncoding proto...\rEncoding proto...\rEncoding proto...\r"
          ]
        },
        {
          "output_type": "stream",
          "name": "stderr",
          "text": [
            "  1%|▏         | 3954/286150 [00:28<34:23, 136.76it/s]"
          ]
        },
        {
          "output_type": "stream",
          "name": "stdout",
          "text": [
            "Encoding proto...\rEncoding proto...\rEncoding proto...\rEncoding proto...\rEncoding proto...\rEncoding proto...\rEncoding proto...\rEncoding proto...\rEncoding proto...\rEncoding proto...\rEncoding proto...\rEncoding proto...\rEncoding proto...\rEncoding proto...\rEncoding proto...\rEncoding proto...\rEncoding proto...\rEncoding proto...\rEncoding proto...\rEncoding proto...\rEncoding proto...\rEncoding proto...\rEncoding proto...\rEncoding proto...\rEncoding proto...\rEncoding proto...\rEncoding proto...\rEncoding proto...\rEncoding proto...\rEncoding proto...\rEncoding proto...\rEncoding proto...\rEncoding proto...\rEncoding proto...\rEncoding proto...\rEncoding proto...\rEncoding proto...\r"
          ]
        },
        {
          "output_type": "stream",
          "name": "stderr",
          "text": [
            "                                                      "
          ]
        },
        {
          "output_type": "stream",
          "name": "stdout",
          "text": [
            "Encoding proto...\rEncoding proto...\r"
          ]
        },
        {
          "output_type": "stream",
          "name": "stderr",
          "text": [
            "  1%|▏         | 3968/286150 [00:29<1:12:22, 64.99it/s]"
          ]
        },
        {
          "output_type": "stream",
          "name": "stdout",
          "text": [
            "Encoding proto...\rEncoding proto...\rEncoding proto...\rEncoding proto...\rEncoding proto...\rEncoding proto...\rEncoding proto...\rEncoding proto...\rEncoding proto...\rEncoding proto...\rEncoding proto...\rEncoding proto...\r"
          ]
        },
        {
          "output_type": "stream",
          "name": "stderr",
          "text": []
        },
        {
          "output_type": "stream",
          "name": "stdout",
          "text": [
            "Encoding proto...\rEncoding proto...\rEncoding proto...\rEncoding proto...\rEncoding proto...\rEncoding proto...\rEncoding proto...\rEncoding proto...\rEncoding proto...\rEncoding proto...\rEncoding proto...\rEncoding proto...\rEncoding proto...\rEncoding proto...\rEncoding proto...\rEncoding proto...\rEncoding proto...\rEncoding proto...\rEncoding proto...\rEncoding proto...\rEncoding proto...\rEncoding proto...\rEncoding proto...\rEncoding proto...\rEncoding proto...\rEncoding proto...\rEncoding proto...\rEncoding proto...\rEncoding proto...\rEncoding proto...\rEncoding proto...\rEncoding proto...\rEncoding proto...\rEncoding proto...\rEncoding proto...\rEncoding proto...\rEncoding proto...\rEncoding proto...\rEncoding proto...\rEncoding proto...\rEncoding proto...\rEncoding proto...\rEncoding proto...\rEncoding proto...\rEncoding proto...\rEncoding proto...\rEncoding proto...\rEncoding proto...\rEncoding proto...\rEncoding proto...\rEncoding proto...\rEncoding proto...\rEncoding proto...\rEncoding proto...\rEncoding proto...\rEncoding proto...\rEncoding proto...\rEncoding proto...\rEncoding proto...\r"
          ]
        },
        {
          "output_type": "stream",
          "name": "stderr",
          "text": []
        }
      ],
      "source": [
        "class Preprocessing:\n",
        "  def __init__(self):\n",
        "    pass\n",
        "\n",
        "  def clean_and_save(self, file_path: str, output_path: str, threshold=80):\n",
        "    try:\n",
        "        df = pd.read_csv(file_path)\n",
        "        total_rows = len(df)\n",
        "        missing_ratios = (df.isnull().sum() / total_rows) * 100\n",
        "\n",
        "        columns_to_drop = [col for col, ratio in missing_ratios.items() if ratio > threshold]\n",
        "\n",
        "        print(f\"Columns to drop: {columns_to_drop}\")\n",
        "\n",
        "        df = df.drop(columns=columns_to_drop, axis=1)\n",
        "        df.to_csv(output_path, index=False)\n",
        "        return f\"Saved cleaned data to {output_path}\"\n",
        "    except Exception as e:\n",
        "      return f\"An error occurred: {e}\"\n",
        "\n",
        "\n",
        "  def columns_drop(self, file_path: str, columns_names: list, output_path: str):\n",
        "    try:\n",
        "        df = pd.read_csv(file_path)\n",
        "        df = df.drop(columns=columns_names, axis=1)  # Drop columns once\n",
        "        df.to_csv(output_path, index=False)\n",
        "        return f\"Saved cleaned data to {output_path}\"\n",
        "    except Exception as e:\n",
        "        return f\"An error occurred: {e}\"\n",
        "\n",
        "\n",
        "  def data_encoding(self, file_path, columns_names: list):\n",
        "    encoder = LabelEncoder()\n",
        "    tqdm.pandas()\n",
        "\n",
        "    try:\n",
        "        df = pd.read_csv(file_path)  # قراءة الملف مرة واحدة فقط\n",
        "\n",
        "        def encoding_function(x, col_name):\n",
        "            tqdm.write(f\"Encoding {col_name}...\", end='\\r')\n",
        "            return encoder.transform([x])[0] if pd.notna(x) else -1\n",
        "\n",
        "        for col in columns_names:\n",
        "            df.loc[:, col] = df.loc[:, col].fillna(\"-1\").astype(str)\n",
        "\n",
        "            encoder.fit(df.loc[:, col])\n",
        "\n",
        "            df.loc[:, col] = df.loc[:, col].progress_apply(\n",
        "                lambda x: encoding_function(x, col)\n",
        "            )\n",
        "\n",
        "        output_path = file_path.replace(\".csv\", \"_encoded.csv\")\n",
        "        df.to_csv(output_path, index=False)\n",
        "        return f\"Done. Encoded file saved to: {output_path}\"\n",
        "\n",
        "    except Exception as e:\n",
        "        return f\"An error occurred: {e}\"\n",
        "\n",
        "\n",
        "\n",
        "  def drop_constant_columns(self, file_path, output_path=None):\n",
        "    try:\n",
        "        df = pd.read_csv(file_path)\n",
        "        constant_columns = [col for col in df.columns if df[col].nunique(dropna=True) == 1]\n",
        "        print(f\"Columns with constant value: {constant_columns}\")\n",
        "\n",
        "        df = df.drop(columns=constant_columns)\n",
        "        if output_path is None:\n",
        "          output_path = file_path.replace('.csv', '_no_constant.csv')\n",
        "        df.to_csv(output_path, index=False)\n",
        "\n",
        "        return f\"Saved cleaned file to {output_path}\"\n",
        "\n",
        "    except Exception as e:\n",
        "      return f\"An error occurred: {e}\"\n",
        "\n",
        "\n",
        "\n",
        "  def show_column_types(self, file_path):\n",
        "    try:\n",
        "      columns_names = []\n",
        "      df = pd.read_csv(file_path)\n",
        "      [columns_names.append(col)  for col in df.columns if df[col].dtype == 'object']\n",
        "\n",
        "      return columns_names\n",
        "    except Exception as e:\n",
        "      return f\"An error occurred: {e}\"\n",
        "\n",
        "\n",
        "\n",
        "\n",
        "  @staticmethod\n",
        "  def expand_dict_columns( file_path, column_names: list, output_file_path: str = None):\n",
        "      try:\n",
        "          df = pd.read_csv(file_path)\n",
        "\n",
        "          all_keys = set()\n",
        "\n",
        "          # Step 1: Extract all keys\n",
        "          def extract_keys(value):\n",
        "              if pd.notna(value):\n",
        "                  try:\n",
        "                      return ast.literal_eval(value).keys()\n",
        "                  except (SyntaxError, ValueError):\n",
        "                      return []\n",
        "              return []\n",
        "\n",
        "          print(\"🔍 Extracting all keys...\")\n",
        "\n",
        "          for column_name in column_names:\n",
        "              if column_name in df.columns:\n",
        "                  all_keys.update(df[column_name].apply(extract_keys).explode().dropna().unique())\n",
        "\n",
        "          print(f\"✅ Extracted {len(all_keys)} unique keys.\")\n",
        "\n",
        "          # Step 2: Create new columns and fill values\n",
        "          if TQDM_AVAILABLE:\n",
        "              progress_bar = tqdm(all_keys, desc=\"🚀 Expanding values\", ncols=80)\n",
        "          else:\n",
        "              progress_bar = all_keys\n",
        "\n",
        "          for idx, key in enumerate(progress_bar):\n",
        "              df[key] = np.nan\n",
        "              for column_name in column_names:\n",
        "                  if column_name in df.columns:\n",
        "                      df[key] = df[key].combine_first(\n",
        "                          df[column_name].apply(lambda x: Preprocessing.expand_dict_column(x, key))\n",
        "                      )\n",
        "\n",
        "              # Print manual progress if tqdm is not available\n",
        "              if not TQDM_AVAILABLE and idx % max(1, len(all_keys)//10) == 0:\n",
        "                  print(f\"📈 Progress: {idx}/{len(all_keys)} keys expanded...\")\n",
        "\n",
        "          # Step 3: Drop original dictionary columns\n",
        "          df = df.drop(columns=column_names, axis=1)\n",
        "\n",
        "          # Step 4: Save the new file\n",
        "          output_file_path = output_file_path or file_path.replace(\".csv\", \"_expanded.csv\")\n",
        "          df.to_csv(output_file_path, index=False)\n",
        "\n",
        "          return f\"✅ Columns expanded and file saved successfully at: {output_file_path}\"\n",
        "\n",
        "      except Exception as e:\n",
        "          return f\"❌ An error occurred: {e}\"\n",
        "\n",
        "  @staticmethod\n",
        "  def expand_dict_column( value, column_name):\n",
        "      if pd.notna(value):\n",
        "          try:\n",
        "              dictionary = ast.literal_eval(value)\n",
        "              return dictionary.get(column_name, np.nan)\n",
        "          except (SyntaxError, ValueError):\n",
        "              return np.nan\n",
        "      return np.nan\n",
        "\n",
        "\n",
        "a = Preprocessing()\n",
        "#a.data_encoding('/content/drive/MyDrive/hybrid_IDS/dataset/eve.csv',\n",
        "#                column_number=19)\n",
        "\n",
        "#a.clean_and_save(file_path='/content/eve_del_expanded.csv',\n",
        " #                output_path='/content/eve_tag.csv', threshold=80)\n",
        "#a.expand_dict_columns( file_path='/content/eve_del.csv',\n",
        " #                    column_names=['tcp' , 'flow'])\n",
        "#a.drop_constant_columns(file_path='/content/eve_tag.csv')\n",
        "\n",
        "c= a.show_column_types( file_path='/content/eve.csv')\n",
        "a.data_encoding(file_path='/content/eve.csv',\n",
        "               columns_names=c)"
      ]
    },
    {
      "cell_type": "code",
      "source": [
        "a.columns_drop( file_path='/content/eve_tag_no_constant.csv',\n",
        "               columns_names=['start', 'end'], output_path='/content/eve.csv')"
      ],
      "metadata": {
        "colab": {
          "base_uri": "https://localhost:8080/",
          "height": 35
        },
        "id": "L1WQG0rZFQKb",
        "outputId": "46fb61cf-59c6-41ae-cb44-6d17ca52c477"
      },
      "execution_count": 87,
      "outputs": [
        {
          "output_type": "execute_result",
          "data": {
            "text/plain": [
              "'Saved cleaned data to /content/eve.csv'"
            ],
            "application/vnd.google.colaboratory.intrinsic+json": {
              "type": "string"
            }
          },
          "metadata": {},
          "execution_count": 87
        }
      ]
    },
    {
      "cell_type": "code",
      "source": [
        "c"
      ],
      "metadata": {
        "colab": {
          "base_uri": "https://localhost:8080/"
        },
        "id": "uz1DjfWQ-TdV",
        "outputId": "f9836210-6cce-4202-d5cb-61089cccef8e"
      },
      "execution_count": 81,
      "outputs": [
        {
          "output_type": "execute_result",
          "data": {
            "text/plain": [
              "['proto', 'event_type', 'end', 'alerted', 'start', 'reason', 'state']"
            ]
          },
          "metadata": {},
          "execution_count": 81
        }
      ]
    },
    {
      "cell_type": "code",
      "execution_count": null,
      "metadata": {
        "id": "NA4up3e0gunz"
      },
      "outputs": [],
      "source": [
        "class NetworkPreprocessing:\n",
        "  def __init__(self):\n",
        "    pass\n",
        "\n",
        "\n",
        "  def extract_tcp_option(self, option, key):\n",
        "    for opt in option:\n",
        "      if opt[0] == key:\n",
        "        return opt[1]\n",
        "    return None\n",
        "\n",
        "\n",
        "  def delete_data(self, file_path):\n",
        "    df = pd.read_csv(file_path)\n",
        "    df = df.loc[:, df.nunique() > 1]\n",
        "    df.to_csv(file_path, index=False)\n",
        "    return f\"Columns containing only one value are deleted...\"\n",
        "\n",
        "  def convert_pcap_csv(self, pcap_file, csv_file):\n",
        "    try:\n",
        "      print(\"Countig packages...\")\n",
        "      with PcapReader(pcap_file) as count_reader:\n",
        "        total_packets = sum(1 for _ in count_reader)\n",
        "        print(f\"Total number of packages: {total_packets}\")\n",
        "\n",
        "      print(\"Start converting to csv file...\")\n",
        "      with PcapReader(pcap_file) as packets:\n",
        "        with open(csv_file, mode='w', newline=\"\") as file:\n",
        "          writer = csv.writer(file)\n",
        "          writer.writerow([\n",
        "              \"Packet Number\", \"Ethernet DST\", \"Ethernet SRC\", \"Ethernet Type\",\n",
        "              \"IP Version\", \"IP IHL\", \"IP TOS\", \"IP Length\", \"IP ID\", \"IP Flags\",\n",
        "              \"IP Fragmentation\", \"IP TTL\", \"IP Proto\", \"IP Checksum\",\n",
        "              \"IP Src\", \"IP Dst\", \"TCP Src Port\", \"TCP Dst Port\", \"TCP Seq\",\n",
        "              \"TCP Ack\", \"TCP Data Offset\", \"TCP Reserved\", \"TCP Flags\",\n",
        "              \"TCP Window\", \"TCP Checksum\", \"TCP Urgent Pointer\", \"TCP Options MSS\",\n",
        "              \"TCP Options WScale\", \"TCP Options NOP\",\"Hexdump\"\n",
        "          ])\n",
        "\n",
        "          for i, packet in enumerate(tqdm(packets,total=total_packets, desc=\"Packet processing\")):\n",
        "            if packet.haslayer('Ethernet'):\n",
        "              eth_dst = packet['Ethernet'].dst\n",
        "              eth_src = packet['Ethernet'].src\n",
        "              eth_type = packet['Ethernet'].type\n",
        "            else:\n",
        "              eth_dst = eth_src = eth_type = None\n",
        "\n",
        "            if packet.haslayer('IP'):\n",
        "              ip_version = packet['IP'].version\n",
        "              ip_ihl = packet['IP'].ihl\n",
        "              ip_tos = packet['IP'].tos\n",
        "              ip_len = packet['IP'].len\n",
        "              ip_id = packet['IP'].id\n",
        "              ip_flags = packet['IP'].flags\n",
        "              ip_frag = packet['IP'].frag\n",
        "              ip_ttl = packet['IP'].ttl\n",
        "              ip_proto = packet['IP'].proto\n",
        "              ip_chksum = packet['IP'].chksum\n",
        "              ip_src = packet['IP'].src\n",
        "              ip_dst = packet['IP'].dst\n",
        "            else:\n",
        "              ip_version = ip_ihl = ip_tos = ip_len = ip_id = ip_flags = ip_frag = ip_ttl = ip_proto = ip_chksum = ip_src = ip_dst = None\n",
        "\n",
        "            if packet.haslayer('TCP'):\n",
        "              tcp_sport = packet['TCP'].sport\n",
        "              tcp_dport = packet['TCP'].dport\n",
        "              tcp_seq = packet['TCP'].seq\n",
        "              tcp_ack = packet['TCP'].ack\n",
        "              tcp_dataofs = packet['TCP'].dataofs\n",
        "              tcp_reserved = packet['TCP'].reserved\n",
        "              tcp_flags = packet['TCP'].flags\n",
        "              tcp_window = packet['TCP'].window\n",
        "              tcp_chksum = packet['TCP'].chksum\n",
        "              tcp_urgptr = packet['TCP'].urgptr\n",
        "              tcp_options = packet['TCP'].options\n",
        "\n",
        "              tcp_mss = self.extract_tcp_option(tcp_options, 'MSS')\n",
        "              tcp_wscale = self.extract_tcp_option(tcp_options, 'WScale')\n",
        "              tcp_nop_count = self.extract_tcp_option(tcp_options, 'NOP')\n",
        "\n",
        "            else:\n",
        "              tcp_sport = tcp_dport = tcp_seq = tcp_ack = tcp_dataofs = tcp_reserved = tcp_flags = tcp_window = tcp_chksum = tcp_urgptr = tcp_mss = tcp_wscale = tcp_nop_count = None\n",
        "\n",
        "            raw_data = packet.original.hex()\n",
        "            writer.writerow([\n",
        "                i + 1, eth_dst, eth_src, eth_type,\n",
        "                  ip_version, ip_ihl, ip_tos, ip_len, ip_id, ip_flags,\n",
        "                  ip_frag, ip_ttl, ip_proto, ip_chksum,\n",
        "                  ip_src, ip_dst, tcp_sport, tcp_dport, tcp_seq,\n",
        "                  tcp_ack, tcp_dataofs, tcp_reserved, tcp_flags,\n",
        "                  tcp_window, tcp_chksum, tcp_urgptr, tcp_mss, tcp_wscale, tcp_nop_count,\n",
        "                  raw_data\n",
        "            ])\n",
        "\n",
        "      return f\"The file has been converted to csv successfully.\"\n",
        "    except Exception as e:\n",
        "      return f\"An error occurred: {e}\"\n",
        "\n",
        "a = NetworkPreprocessing()\n",
        "#a.convert_pcap_csv(pcap_file='/content/NGIDS/NGIDS-DS-v1/NGIDS.pcap',\n",
        "#                   csv_file='/content/drive/MyDrive/hybrid_IDS/network.csv')\n",
        "#a.delete_data(file_path='/content/drive/MyDrive/hybrid_IDS/network.csv')"
      ]
    },
    {
      "cell_type": "code",
      "execution_count": null,
      "metadata": {
        "id": "d0gugEuMgvIQ"
      },
      "outputs": [],
      "source": [
        "class PcapFileProcessing:\n",
        "  def __init__(self) -> None:\n",
        "    pass\n",
        "\n",
        "\n",
        "\n",
        "  def delete_data(self, file_path):\n",
        "    df = pd.read_csv(file_path)\n",
        "    df = df.loc[:, df.nunique() > 1]\n",
        "    df.to_csv(file_path, index=False)\n",
        "    return f\"Columns containing only one value are deleted...\"\n",
        "\n",
        "\n",
        "  def date_time_columns(self, file_path, csv_file):\n",
        "    try:\n",
        "        df = pd.read_csv(file_path, dtype=str)\n",
        "        df.columns = df.columns.str.strip()\n",
        "        if 'timestamp' not in df.columns:\n",
        "            return \"Error: The 'timestamp' column is missing from the file.\"\n",
        "\n",
        "        df['timestamp'] = df['timestamp'].astype(str).str.strip()\n",
        "\n",
        "        df['timestamp'] = pd.to_datetime(df['timestamp'], errors='coerce', dayfirst=True)\n",
        "\n",
        "        if df['timestamp'].isnull().all():\n",
        "            return \"All values in 'timestamp' are invalid and could not be converted.\"\n",
        "\n",
        "        # Extract date and time\n",
        "        df['date'] = df['timestamp'].dt.strftime('%d/%m/%Y')\n",
        "        df['time'] = df['timestamp'].dt.strftime('%H:%M:%S')\n",
        "\n",
        "        # Save the result\n",
        "        df.to_csv(csv_file, index=False)\n",
        "\n",
        "        return \"Successfully converted 'timestamp' to 'date' and 'time'.\"\n",
        "\n",
        "    except Exception as e:\n",
        "        return f\"An error occurred during conversion: {e}\"\n",
        "\n",
        "\n",
        "\n",
        "\n",
        "\n",
        "  def convert_log_csv(self, log_file, csv_file):\n",
        "    try:\n",
        "      print(\"Start converting to csv file...\")\n",
        "      with open(log_file, \"r\") as logfile:\n",
        "        log_data = logfile.read()\n",
        "      pattern = re.compile(\n",
        "          r'(?P<timestamp>\\d{2}/\\d{2}/\\d{4}-\\d{2}:\\d{2}:\\d{2}\\.\\d+)\\s+\\[\\*\\*\\]\\s+\\[(?P<sid>[^]]+)\\]\\s+(?P<signature>.*?)\\s+\\[\\*\\*\\]\\s+\\[Classification:\\s+(?P<classification>.*?)\\]\\s+\\[Priority:\\s+(?P<priority>\\d+)\\]\\s+\\{(?P<protocol>\\w+)\\}\\s+(?P<src_ip>\\d+\\.\\d+\\.\\d+\\.\\d+):(?P<src_port>\\d+)\\s+->\\s+(?P<dst_ip>\\d+\\.\\d+\\.\\d+\\.\\d+):(?P<dst_port>\\d+)'\n",
        "          )\n",
        "      with open(csv_file, \"w\", newline=\"\") as csvfile:\n",
        "        fieldnames = ['timestamp', 'sid', 'signature', 'classification',\n",
        "                      'priority', 'protocol','src_ip', 'src_port', 'dst_ip', 'dst_port']\n",
        "        writer = csv.DictWriter(csvfile, fieldnames=fieldnames)\n",
        "        writer.writeheader()\n",
        "\n",
        "        for match in pattern.finditer(log_data):\n",
        "          writer.writerow(match.groupdict())\n",
        "\n",
        "      return f\"The file has been converted to csv successfully.\"\n",
        "\n",
        "    except Exception as e:\n",
        "      return f\"An error occurred: {e}\"\n",
        "\n",
        "\n",
        "  def convert_json_csv(self, json_file, csv_file):\n",
        "    try:\n",
        "      print(\"Start converting JSON to CSV...\")\n",
        "      with open(json_file, 'r') as f:\n",
        "        data = [json.loads(line) for line in f if line.strip()]\n",
        "\n",
        "      fieldnames = set()\n",
        "      for row in data:\n",
        "          fieldnames.update(row.keys())\n",
        "\n",
        "      fieldnames = list(fieldnames)\n",
        "\n",
        "      with open(csv_file, 'w', newline='') as csvfile:\n",
        "        writer = csv.writer(csvfile)\n",
        "        writer.writerow(fieldnames)\n",
        "\n",
        "        for row in data:\n",
        "          writer.writerow(row.get(field, '') for field in fieldnames)\n",
        "\n",
        "      return f\"The file has been converted to csv successfully.\"\n",
        "\n",
        "    except Exception as e:\n",
        "      return f\"An error occurred: {e}\"\n",
        "\n",
        "\n",
        "\n",
        "a = PcapFileProcessing()\n",
        "#a.convert_log_csv( log_file=\"/content/drive/MyDrive/hybrid_IDS/fast.log\",\n",
        "#                  csv_file=\"/content/drive/MyDrive/hybrid_IDS/alerts.csv\")\n",
        "\n",
        "#a.convert_json_csv(json_file='/content/drive/MyDrive/hybrid_IDS/eve.json',\n",
        "#                   csv_file='/content/drive/MyDrive/hybrid_IDS/eve.csv')\n",
        "\n",
        "#a.delete_data( file_path='/content/drive/MyDrive/hybrid_IDS/eve.csv')\n",
        "a.date_time_columns(file_path='/content/drive/MyDrive/hybrid_IDS/eve.csv',\n",
        "                    csv_file='/content/drive/MyDrive/hybrid_IDS/dataset/eve.csv')"
      ]
    }
  ],
  "metadata": {
    "colab": {
      "provenance": [],
      "mount_file_id": "https://github.com/hananbahtiti/Hybrid-Intrusion-detection-Systems/blob/main/NetworkPreprocessing.ipynb",
      "authorship_tag": "ABX9TyM/TYUvjP2UPhWdPonrSNGh",
      "include_colab_link": true
    },
    "kernelspec": {
      "display_name": "Python 3",
      "name": "python3"
    },
    "language_info": {
      "name": "python"
    }
  },
  "nbformat": 4,
  "nbformat_minor": 0
}